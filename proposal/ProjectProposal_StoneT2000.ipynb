{
 "cells": [
  {
   "cell_type": "markdown",
   "metadata": {},
   "source": [
    "# COGS 108 - Project Proposal"
   ]
  },
  {
   "cell_type": "markdown",
   "metadata": {},
   "source": [
    "# Names & GitHub ID\n",
    "\n",
    "- Name: Stone Tao\n",
    "- GitHub Username: StoneT2000"
   ]
  },
  {
   "cell_type": "markdown",
   "metadata": {},
   "source": [
    "# Research Question"
   ]
  },
  {
   "cell_type": "markdown",
   "metadata": {},
   "source": [
    "How has the number of COVID-19 infections and population density in areas in San Diego impacted the usage / foot traffic of parks?"
   ]
  },
  {
   "cell_type": "markdown",
   "metadata": {},
   "source": [
    "## Background and Prior Work"
   ]
  },
  {
   "cell_type": "markdown",
   "metadata": {},
   "source": [
    "Parks have always been essential to welfare to cities such as San Diego. However, COVID-19 has severely impacted the parks, leading to a San Diego wide COVID-19 response that involved actions such as postponing events, closing down parks, cancelling events [1], among many other restricting actions. This comes along with notices that are further aimed at discouraging crowding at parks and reducing the density of people at parks at any given time [2]. News like the above and new signs put around parks has caused not only parks to work in limited capacities, but significantly discourage park attendance.\n",
    "\n",
    "Past research has been done on the impact of COVID-19 on the behavior of park users by analyzing pre and post covid numbers on a number of metrics. The research indicates a decrease in various metrics such as how far were parkgoers willing to travel to a park, how often they go to parks, average group size etc. [3]. The research further goes to analyze the data in relation to rural, urban cluster, and urban area residents, showing rural residents being less affected by covid-19 compared to urban residents.\n",
    "\n",
    "There has also been recommendations towards encouraging more park use through transforming roadways to pedestrian paths to encourage more movement whilst maintaining social distancing, as well as recommending design decisions to public spaces that encourage social distancing and give citizens the confidence to continue to access and use parks without worrying about COVID-19 [3]. There is also research towards place attachment, personal space, and proxemics, and how biophilic design can help build healing environments that can positive impact parks [4].\n",
    "\n",
    "In general, past research shows that COVID-19 has impacted certain citizens more than others in relation to park usage, and there are various existing recommendations aimed at decreasing the negative impact COVID-19 has had on park use.\n",
    "\n",
    "\n",
    "References (include links):\n",
    "- 1) https://www.sdparks.org/content/sdparks/en/news-events/news-stories/COVID-19Response.html.html\n",
    "- 2) https://www.sandiego.gov/sites/default/files/parks-passive-use-notice.pdf\n",
    "- 3) https://academic.oup.com/jue/article/6/1/juaa020/5892687\n",
    "- 4) https://www.ncbi.nlm.nih.gov/pmc/articles/PMC7219560/"
   ]
  },
  {
   "cell_type": "markdown",
   "metadata": {},
   "source": [
    "# Hypothesis\n"
   ]
  },
  {
   "cell_type": "markdown",
   "metadata": {},
   "source": [
    "I hypothesize that the more COVID-19 infections and higher population density an area of San Diego has, the less park foot-traffic there will be in that area. Areas that are densely populated will discourage people from going to parks due to less confidednce in the safety of their health at parks. For the same reason, the more COVID-19 infections an area has, the less confidence citizens will have about their personal safety and are less likely to risk going outside and to a park."
   ]
  },
  {
   "cell_type": "markdown",
   "metadata": {},
   "source": [
    "# Data"
   ]
  },
  {
   "cell_type": "markdown",
   "metadata": {},
   "source": [
    "Ideally, the dataset that helps answer this question would be a dataset with data on various parks in San Diego, population, and COVID-19 infections in San Diego.\n",
    "\n",
    "Particularly, the parks dataset would be a CSV file and ideally should have the following variables\n",
    "\n",
    "- Name (string)\n",
    "- Latitude (float64)\n",
    "- Longitude (float64)\n",
    "- Park Size (float64)\n",
    "- Park Attendance on March 1, 2020 (float64)\n",
    "- ...\n",
    "- Park Attendance on April 30, 2020 (float64)\n",
    "\n",
    "There are only a few hundred parks in San Diego so 100~200 observations suffice.\n",
    "\n",
    "The Population and COVID-19 dataset would be a CSV file and ideally should have the following variables\n",
    "\n",
    "- Area name (string)\n",
    "- Population Density people per mile^2 (float64)\n",
    "- Population (float64)\n",
    "- Longitude (float64)\n",
    "- Latitude (float64)\n",
    "- COVID-19 Infections on March 1, 2020 (float64)\n",
    "- ...\n",
    "- COVID-19 Infections on April 30, 2020 (float64)\n",
    "\n",
    "The dataset could also have a different date range, but for now, March 1 to April 30 repersents a time period during restrictions and not much change to policy during then, helping eliminate extraneous variables that impact park attendance.\n",
    "\n",
    "There is only so many areas in San Diego, so there would be ideally 20 observations.\n",
    "\n",
    "Most of this data could come from the government / local San Diego government.\n",
    "\n",
    "These 2 datasets can then be merged into one based on longitude and latitude repersenting the park and the San Diego area. We can effectively add all the columns from the population and covid-19 dataset to the parks dataset and the values we store there are whichever observation in the population and covid-19 dataset is closest in location to the park by using the longitude and latitude.\n"
   ]
  },
  {
   "cell_type": "markdown",
   "metadata": {},
   "source": [
    "# Ethics & Privacy"
   ]
  },
  {
   "cell_type": "markdown",
   "metadata": {},
   "source": [
    "In regards to data reqired for this proposal, there are no human subjects nor is there any personally identifiable information as all the data is about the number covid infections in regard to different areas in San Diego or park attendance data which does not hold personal information of individuals.\n",
    "\n",
    "Moreover, COVID-19 infection data is publicly available all over Github (e.g. NYTimes Covid-19 data) for use by anyone. However, park attendance data, likely to be held by the local San Diego government, will likely require permission to use. Moreover, certain parks potentially would prefer anonyminity meaning we will need to ask the stakeholders, the owners of the park and possibly the park attendees, for their consent to use their attendance data.\n",
    "\n",
    "It is important to also note that this entire proposal is centered on San Diego only, meaning the extent of this analysis should be limited to the scope of San Diego and it's demographic and should not be extrapolated for analysis in other cities which could have very different demographics making foot-traffic in parks different.\n",
    "\n",
    "In the event that certain parks refuse permission to use attendance data, the proposal's analysis will be biased towards parks that give permission, which potentially could be more public parks than private parks, skewing the analysis. Another issue is that my ideal dataset is seeking to just store overall attendances per day, but some parks may be more actively collecting data and others may not collect data throughout the whole day, which can cause some biases.\n",
    "\n",
    "Moreover, there could be concerns over how the data was collected, which can affect the attendance data. Perhaps there are unaccounted park attendees due to coming to the park at too early or too late of a time to be recorded by data collectors, and these types of park attendees could be an entire missing demographic, biasing the final analysis.\n",
    "\n",
    "To address privacy concerns or getting permission, it'll require first seeing what official permissions are given for park data from the local San Diego government, and if there are particular exceptions and / or unclear instructions on the permissions for the data, I will reach out to the owners of the parks for permission and use the data that is permitted. To address privacy, I will make sure to at a minimum, remove the name of all the parks that ask for privacy and purely use the index in the dataset as an arbitrary identifier.\n",
    "\n",
    "To address possible biases, I will make sure to clearly note that this analysis is scoped to San Diego only. If possible, I would look into how the data for park attendances were collected and point them out in my own analysis to further scope my analysis appropriately and to inform readers appropriately."
   ]
  },
  {
   "cell_type": "code",
   "execution_count": null,
   "metadata": {},
   "outputs": [],
   "source": []
  }
 ],
 "metadata": {
  "kernelspec": {
   "display_name": "Python 3",
   "language": "python",
   "name": "python3"
  },
  "language_info": {
   "codemirror_mode": {
    "name": "ipython",
    "version": 3
   },
   "file_extension": ".py",
   "mimetype": "text/x-python",
   "name": "python",
   "nbconvert_exporter": "python",
   "pygments_lexer": "ipython3",
   "version": "3.8.3"
  }
 },
 "nbformat": 4,
 "nbformat_minor": 2
}
