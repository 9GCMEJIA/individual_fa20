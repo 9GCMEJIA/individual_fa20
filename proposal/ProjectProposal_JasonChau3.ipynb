{
 "cells": [
  {
   "cell_type": "markdown",
   "metadata": {},
   "source": [
    "# COGS 108 - Project Proposal"
   ]
  },
  {
   "cell_type": "markdown",
   "metadata": {},
   "source": [
    "# Names & GitHub ID\n",
    "\n",
    "- Name: Jason Chau\n",
    "- GitHub Username: JasonChau3"
   ]
  },
  {
   "cell_type": "markdown",
   "metadata": {},
   "source": [
    "# Research Question"
   ]
  },
  {
   "cell_type": "markdown",
   "metadata": {},
   "source": [
    "How does the growth of comepetitive Dota (a game) compare to the NBA in terms of player earnings and official match viewerships?"
   ]
  },
  {
   "cell_type": "markdown",
   "metadata": {},
   "source": [
    "## Background and Prior Work"
   ]
  },
  {
   "cell_type": "markdown",
   "metadata": {},
   "source": [
    "*Fill in your background and prior work here. Be sure to specify which statements are from which references.* \n",
    "\n",
    "References (include links):\n",
    "- 1)I play Dota alot, so I watch alot of dota\n",
    "- 2)I play basketball, and watch alot of basketball, so I was curious to see how they compared to each other"
   ]
  },
  {
   "cell_type": "markdown",
   "metadata": {},
   "source": [
    "# Hypothesis\n"
   ]
  },
  {
   "cell_type": "markdown",
   "metadata": {},
   "source": [
    "My hypothesis is that the growth in popularity to watching competitive dota grew much larger than the NBA did proportionally, but it will still take many years before the viewership of  the NBA in terms of viewcount."
   ]
  },
  {
   "cell_type": "markdown",
   "metadata": {},
   "source": [
    "# Data"
   ]
  },
  {
   "cell_type": "markdown",
   "metadata": {},
   "source": [
    "*Explain what the ideal dataset you would want to answer this question. (This should include: What variables? How many observations? Who/what/how would these data be collected? How would these data be stored/organized?)*\n",
    "\n",
    "The Ideal dataset that I would want to answer this question should have about 100k observations, and I have variables like name, sex,age, season, salary, view count, location of games, what type of event, and what type of prize that each players win. \n",
    "\n",
    "These data would be collected through firstly through online data sets like kaggle or data.com, but if I cannot find the right datasets i will have to webscrape off of Wikipedia for these datasets.\n",
    "\n",
    "I plan on storing these data's in csv, and filtering these datas."
   ]
  },
  {
   "cell_type": "markdown",
   "metadata": {},
   "source": [
    "# Ethics & Privacy"
   ]
  },
  {
   "cell_type": "markdown",
   "metadata": {},
   "source": [
    "*Fill in your ethics & privacy discussion here*\n",
    "\n",
    "In terms of collecting Data, I probably won't be collecting the data since I would probably find the data I need on the web. Also, considering that these are world-renowned athletes, they provide consent to make the data available to anyone.\n",
    "\n",
    "\n",
    "In terms of storing data, I will store the data in my local computer and that would be safe because it will only be accessible to myself.\n",
    "\n",
    "\n",
    "In terms of analysis, all of my analysis will not have any PII. I also might have some bias towards specific athletes, but I will be careful in generalizing results to those athletes\n",
    "\n",
    "In terms of modeling, I will be careful not to let the results that I find support discriminatory interpretions by drawing equal comparisons among the different groups.\n",
    "\n",
    "In terms of deployment, If my results have harmful or discriminatory implications, I will try to find different variables to model or exclude certain variable.\n"
   ]
  }
 ],
 "metadata": {
  "kernelspec": {
   "display_name": "Python 3",
   "language": "python",
   "name": "python3"
  },
  "language_info": {
   "codemirror_mode": {
    "name": "ipython",
    "version": 3
   },
   "file_extension": ".py",
   "mimetype": "text/x-python",
   "name": "python",
   "nbconvert_exporter": "python",
   "pygments_lexer": "ipython3",
   "version": "3.7.4"
  }
 },
 "nbformat": 4,
 "nbformat_minor": 2
}
