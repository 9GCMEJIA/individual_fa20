{
 "cells": [
  {
   "cell_type": "markdown",
   "metadata": {},
   "source": [
    "# COGS 108 - Project Proposal"
   ]
  },
  {
   "cell_type": "markdown",
   "metadata": {},
   "source": [
    "# Names & GitHub ID\n",
    "\n",
    "- Name: Julian Alberto\n",
    "- GitHub Username: julian1999"
   ]
  },
  {
   "cell_type": "markdown",
   "metadata": {},
   "source": [
    "# Research Question"
   ]
  },
  {
   "cell_type": "markdown",
   "metadata": {},
   "source": [
    "*How does the daily usage of various parks for fitness by San Diego inhabitants differ between contemporary and pre-COVID-19 times (specifically the year 2019), and given these insights, how can we make parks safer and better suited to meet modern day demands?*"
   ]
  },
  {
   "cell_type": "markdown",
   "metadata": {},
   "source": [
    "## Background and Prior Work"
   ]
  },
  {
   "cell_type": "markdown",
   "metadata": {},
   "source": [
    "At the moment, we are in a period of time very rarely experienced by the world. We are all experiencing dramatic shifts in the way we go about our daily lives, where we spend our time, and how we spend it. Due to the global pandemic of COVID-19, many gyms and fitness centers at the moment have closed down, and actually most businesses that thrive on physical individual presence. Without gyms or other indoor, compact, fitness locations for individuals to go to engage in their daily exercise routines, it begs the question: where do we go now to stay fit? The answer is: parks. Even prior to the pandemic, public parks have been cited as being amongst one of the most common places for fitness. $^1$ San Diego has numerous parks and recreations where individuals may spend their time at. However, at the moment, all recreation centers in San Diego are closed until further notice so this report will focus only on parks. $^2$\n",
    "\n",
    "Browsing through the San Diego Parks and Recreation page, it is quite informative on safety guidelines to follow at parks and specific updates regarding parks and beaches. $^3$ Wear your mask, keep your distance, don't show up if you're having symptoms of COVID-19, and all that good stuff of modern day pandemic times. However, there is no guarantee that people are going to listen to these guidelines so no one really knows if these guidelines are begin practiced and followed diligently by the individuals at the park except for the individuals themselves. You can't expect everyone to wear their mask at the park for a variety of reasons, some political and some personal. Others who do wear a mask sometimes do not wear it correctly. \n",
    "\n",
    "It has been noted by the mayor of San Diego that with the continuation of the global pandemic, it is becoming more evident how valuable San Diego's neighborhood parks are. $^4$ The document I have cited in the previous statement outlines some of the goals intended such as creating a new park system that is inclusive and open to all San Diegans regardless of their demographics and income. $^5$ At the moment, the standards of a park are based solely on its physical land size. $^6$ No other factors are taken into consideration and this is quite concerning because there are many more factors that should be taken into account when deciding on the standards of a park. As a solution, we can use data to figure out what the needs and standards of parks should be by obtaining insights into how San Diegans use them. With these powerful insights, we could propose potential solutions such as: free mask booths, hand sanitizer dispenseries, security to enfore guidelines, and much more. I attempted to research prior work that is data-driven on any topic relating to San Diego Parks and Recreation, and I did not find anything whatsoever. I supsect that a data-driven approach for such a purpose is a rather novel idea. I was, however, able to find two datasets provided by the city of San Diego on joint use parks and park locations respectively: <a href=\"https://data.sandiego.gov/datasets/joint-use/\">San Diego Joint Parks Dataset</a> and <a href=\"https://data.sandiego.gov/datasets/park-locations/\">San Diego Park Locations Dataset</a>.\n",
    "\n",
    "References (include links):\n",
    "- 1) https://link.springer.com/article/10.1186/1476-072X-12-26\n",
    "- 2) https://www.sandiego.gov/park-and-recreation/activities\n",
    "- 3) https://www.sandiego.gov/sites/default/files/parks-passive-use-notice.pdf\n",
    "- 4) https://www.sandiego.gov/sites/default/files/20-4-24_parks_master_plan_draft_public_input.pdf\n",
    "- 5) https://www.sandiego.gov/sites/default/files/20-4-24_parks_master_plan_draft_public_input.pdf\n",
    "- 6) https://www.sandiego.gov/sites/default/files/20-4-24_parks_master_plan_draft_public_input.pdf"
   ]
  },
  {
   "cell_type": "markdown",
   "metadata": {},
   "source": [
    "# Hypothesis\n"
   ]
  },
  {
   "cell_type": "markdown",
   "metadata": {},
   "source": [
    "The usage of parks for physical activities and fitness is increasing in not the safest manner,  and with other options being unavailable at the moment due to the global pandemic, the city of San Diego must accomodate appropriate amenities, enforce its safety guidelines, and propose new regulations to update the parks' standards to catch up with modern times. "
   ]
  },
  {
   "cell_type": "markdown",
   "metadata": {},
   "source": [
    "# Data"
   ]
  },
  {
   "cell_type": "markdown",
   "metadata": {},
   "source": [
    "#### Ideal Dataset\n",
    "A dataset in a \"friendly\" format that provides a significant amount of various qualitative and quantitave data with *time stamps* relating to the usage of the park or recreation as well as its characteristics, geographical surroundings, and economical status surrounding it. Time stamps are crucial to differentiate between contemporary times and pre-COVID-19 times.\n",
    "\n",
    "#### Variables (for one observation)\n",
    "- name of the park or some sort of unique identifier [**qualitative**]\n",
    "- average, median, standard deviation of time spent at the park by an individual [**quantitative**]\n",
    "- average, median, standard deviation number of individuals who visited the park on that day [**quantitative**]\n",
    "- time of day when peak of individuals at park occured (i.e. morning, afternoon, evening, night) [**qualitative**]\n",
    "- the size in square feet of the park [**quantitative**]\n",
    "- the type of park (Historic, Local, National, Open Space, Other, Regional, State) [**qualitative**]\n",
    "- amenities of a park (playground, monkey bars, pull-up bars, basketball court, etc.) [**qualitative**]\n",
    "- city within San Diego where the park is located [**qualitative**]\n",
    "- population of the city within San Diego where the park is located [**quantitative**]\n",
    "- average, median, and standard deviation in income of the park's surrounding area [**quantitative**]\n",
    "- date in which data observation was recorded/updated (to differ between present and pre-COVID-19) [**quantitative**]\n",
    "- number of people engaging in physical activity or fitness [**qualitative**]\n",
    "- number of cars that park at the park in a day [**quantitative**]\n",
    "- number of people not wearing masks or wearing masks improperly [**quantitative**]\n",
    "\n",
    "**Note**: some qualitative data with more options is represented as an int\n",
    "- i.e. 9 = 1001 = yes on playground, no monkey bars, no pull-up bars, and yes on basketball court\n",
    "\n",
    "\n",
    "| date | name | time_spent | num_visits | peak_time | size | type | amenities | city | pop | inc | fitness_num | num_cars | num_no_mask | \n",
    "| --- | --- | --- | --- | --- | --- | --- | --- | --- | --- | --- | --- | --- | --- |\n",
    "| 05-06-20 | Torrey Pines Trails | 1.83 | 83 | \"evening\" | 2000 | \"National\" | 9 | La Jolla | 46781 | 64907 | 76 | 42 | 13|\n",
    "\n",
    "#### Observations\n",
    "There are roughly more than 340 parks in San Diego according to their website: <a href=\"https://www.sandiego.gov/park-and-recreation/parks#:~:text=San%20Diego%20Parks%20and%20Recreation%20oversees%20nearly%2040%2C000,Beaches.%20Night%20Time%20Park%20Curfews%20and%20Park%20Closures\">San Diego Parks and Recreation</a>. If there is one observation taken per park per week, this would result in roughly 340 parks * (52 weeks per year) = 17,680 observations for 1 year * 2 years (2020 & 2019) = **35,360** observations needed in total. There would be 52 observations per park for each year, and we can make some estimates for some of the variables described above. \n",
    "\n",
    "#### Data collection WHO\n",
    "- City of San Diego Parks and Recreation\n",
    "- Data Engineers\n",
    "- Volunteers\n",
    "- Programmers for automation\n",
    "\n",
    "#### Data collection WHAT\n",
    "- Sensors\n",
    "- Hand counters (to manually count)\n",
    "- Google Maps\n",
    "- Data processing infrastructure\n",
    "- A data storage service\n",
    "- Salarylist or Payscale\n",
    "- GitHub\n",
    "\n",
    "#### Data collection HOW\n",
    "- For some of the qualitative data, we might need to look at satellite images of the parks by manually checking its various characteristics\n",
    "- Representitives from the City of San Diego observe and note some of the categorical data\n",
    "- Sensors in the parking lot could be set up to keep track of how many cars in total had parked at that park location (this data might be difficult to get into a friendly format)\n",
    "- The City of San Diego could have volunteers that hand count how many people appear to be at the park engaging in fitness or physical activities\n",
    "- Figuring out which city each park or recreation is located in is quite easy, just use google maps \n",
    "- We can use websites like Salarylist or Payscale to estimate the average income of the area surrounding a park\n",
    "- To estimate the average time a person stays at a park on a daily observation, the observer could randomly sample people and keep an eye on their entry and exit times, then take the average of all the time frames\n",
    "\n",
    "#### Data storage and organization\n",
    "For the sensor data, we would need to pass it through some data processing infrastructure to transform and massage our data into a \"friendly\" format. The sensor data would go to some service like Amazon Simple Storage Service (S3). Then, we could use a DataOps service like <a href=\"https://streamsets.com/\">StreamSets</a> to create a data pipeline which transforms this data along with the other pieces of data needed for a single observation into a more \"friendly\" format. We would have to come up with a way to automate combining all the different pieces of data (i.e. qualitative and quantitative) to generate a *single* observation. \n",
    "\n",
    "The data would preferrably be stored in a CSV file that is stored on the cloud (i.e. on GitHub). When this CSV file needs to be upated, the updater can retrieve the CSV file, update it, and make a pull request with the new data. This way the CSV file can grow with information and use version control as needed in the case of errors with new data semantics and to leverage the use of pull request reviewal. Simply append the observation(s) to the end of the CSV file in the correct format.\n",
    "\n",
    "Why CSV and not another \"friendly\" format like JSON or XML? It's harder to append more information to files organized in those formats in my opinion."
   ]
  },
  {
   "cell_type": "markdown",
   "metadata": {},
   "source": [
    "# Ethics & Privacy"
   ]
  },
  {
   "cell_type": "markdown",
   "metadata": {},
   "source": [
    "When it comes to privacy, one main issue that comes to mind is the exploitation of the income surrounding the neighboring area of a park. Perhaps people don't want the average income of their community being exposed from a report like this. An ethical issue that arises is the responsibility of the local government intervening into the issue of parks. The main question is should they leave things as be and let people be completely free but not fully safe, or do they step in and reduce the freedom of people but increase safety? When gathering data, there may be some issues with privacy such as with the sensors keeping track of how many cars parked at the park, or a San Diego representative keeping track of everyone who has come to the park. Other than these issues, I do not foresee any more problems with ethics or privacy since the remaining data is mainly focused on the specifics of parks. "
   ]
  }
 ],
 "metadata": {
  "kernelspec": {
   "display_name": "Python 3",
   "language": "python",
   "name": "python3"
  },
  "language_info": {
   "codemirror_mode": {
    "name": "ipython",
    "version": 3
   },
   "file_extension": ".py",
   "mimetype": "text/x-python",
   "name": "python",
   "nbconvert_exporter": "python",
   "pygments_lexer": "ipython3",
   "version": "3.7.3"
  }
 },
 "nbformat": 4,
 "nbformat_minor": 2
}
