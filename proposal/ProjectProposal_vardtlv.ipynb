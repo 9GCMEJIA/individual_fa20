{
 "cells": [
  {
   "cell_type": "markdown",
   "metadata": {},
   "source": [
    "# COGS 108 - Project Proposal"
   ]
  },
  {
   "cell_type": "markdown",
   "metadata": {},
   "source": [
    "# Names & GitHub ID\n",
    "\n",
    "- Name: Varduhi Torosyan\n",
    "- GitHub Username: vardtlv"
   ]
  },
  {
   "cell_type": "markdown",
   "metadata": {},
   "source": [
    "# Research Question"
   ]
  },
  {
   "cell_type": "markdown",
   "metadata": {},
   "source": [
    "How did the interest to agricultural tourism change over the past five years in San Diego Parks and Recreation?",
    " What are the effects of agricultural tourism on San Diego County's Economy?"

   ]
  },
  {
   "cell_type": "markdown",
   "metadata": {},
   "source": [
    "## Background and Prior Work"
   ]
  },
  {
   "cell_type": "markdown",
   "metadata": {},
   "source": [
    "With the rising customer demand of organic and Non-GMO food, agricultural tourism started to interest more and more people. Agricultural attractions give tourists an opportunity to learn how their food is grown, be part of its harvest and finally purchase the produce, that was raised by farmers. As a subset of tourism, it also gives the visitors an opportunity to examine the culture and traditions of the county and the farmers(6).\n",
    "\n",
    "The website, calagtour.org provides 80 agritourism sites in San Diego county(7). These agritourism sites include City Farmers Nursery, San Diego Food Scaping, The San Diego Roots Sustainable Food Project, The Flower Fields, etc. \n",
    "\n",
    "San Diego County is actively supporting agricultural tourism and provides a platform for farmers to turn their fields into agricultural attractions. County members often held workshops to collect new ideas for boosting the Agricultural Tourism in the County. Members are determined to create more guidelines for agricultural community events, including harvest festivals and wine lectures.(3) One of those examples would be the Temporary Agritourism Community Events that are organized through San Diego County. County also enables food and goods vendors, which would give more opportunities for businesses to gain profit and lead to economic growth(2).\n",
    "\n",
    "To determine the “Agritourism benefits Agriculture in San Diego County”, researchers surveyed the visitors of The Flower Fields. Researchers were interested in three key factors: who are the visitors and their awareness about the issues that affect local agriculture, potential benefits for farmers, economic impact on host communities. In 1999 San Diego County’s agricultural industry generated $1.2 billion in direct sales and $4.12 billion of annual impact on County’s economy. The current research found that The Flower Fields in San Diego were mostly visited by California Residents(74%) and almost half of these residents were from San Diego County(43%). The data distribution for household income was mostly uniform and majority of visitors were above age 36(68%). The economic profit was not only from admission revenue (150,00 paid admissions making $600,000), but also the San Diego county gained in total of $7,759,356 profit from various attractions, sold goods and plants and also tours in fields and in county(1).\n",
    "\n",
    "References (include links):\n",
    "- 1) http://sfp.ucdavis.edu/agritourism/Case_Studies/agritourSD/\n",
    "- 2) https://www.sandiegocounty.gov/content/sdc/pds/advance/agriculturepromotion/communityevents.html\n",
    "- 3) https://www.sandiegouniontribune.com/ramona-sentinel/news/story/2019-08-21/county-staff-collect-ideas-for-creating-agri-tourism-rules\n",
    "- 4) https://escholarship.org/uc/item/4sk770zs\n",
    "- 5) https://yourstory.com/2019/02/agri-eco-tourism-become-popular-city-dwellers-busy-professionals\n",
    "- 6) http://www.calagtour.org/region_search/south_coast/"

    
    
   ]
  },
  {
   "cell_type": "markdown",
   "metadata": {},
   "source": [
    "# Hypothesis\n"
   ]
  },
  {
   "cell_type": "markdown",
   "metadata": {},
   "source": [
    "As the interest in agriculture and ecology is high, agricultural tourism is expected to become more popular. I hypothesize that agricultural tourism in San Diego Parks and Recreations increased and the numbers of visitors to different farms and residences was high. With the increasing number of visitors I also expect economic profit, therefore the effects of agricultural tourism on San Diego County's Economy would be positive."
   ]
  },
  {
   "cell_type": "markdown",
   "metadata": {},
   "source": [
    "# Data"
   ]
  },
  {
   "cell_type": "markdown",
   "metadata": {},
   "source": [
    "The Ideal dataset for the experiment would be the number of visitors for randomly chosen ten agriculture sites in San Diego County for the past five years. Also for each of the agricultural sites, can randomly be chosen around 100 visitors and collect data about their spendings in San Diego County.It would be ideal to collect data from all 80 agricultural Tourism sites in San Diego County, however this kind of big data can be hard to collect, store and process. Also the ideal format of data would be the .csv file, that would give an opportunity have cleaner view on collected data."
   ]
  },
  {
   "cell_type": "markdown",
   "metadata": {},
   "source": [
    "# Ethics & Privacy"
   ]
  },
  {
   "cell_type": "markdown",
   "metadata": {},
   "source": [
    "*Fill in your ethics & privacy discussion here*"
   ]
  }
 ],
 "metadata": {
  "kernelspec": {
   "display_name": "Python 3",
   "language": "python",
   "name": "python3"
  },
  "language_info": {
   "codemirror_mode": {
    "name": "ipython",
    "version": 3
   },
   "file_extension": ".py",
   "mimetype": "text/x-python",
   "name": "python",
   "nbconvert_exporter": "python",
   "pygments_lexer": "ipython3",
   "version": "3.7.9"
  }
 },
 "nbformat": 4,
 "nbformat_minor": 2
}
