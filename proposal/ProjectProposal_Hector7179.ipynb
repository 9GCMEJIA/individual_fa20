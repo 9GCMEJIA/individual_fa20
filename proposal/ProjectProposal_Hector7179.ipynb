{
 "cells": [
  {
   "cell_type": "markdown",
   "metadata": {},
   "source": [
    "# COGS 108 - Project Proposal"
   ]
  },
  {
   "cell_type": "markdown",
   "metadata": {},
   "source": [
    "# Names & GitHub ID\n",
    "\n",
    "- Name: Hector Penado Jr\n",
    "- GitHub Username: Hector7179"
   ]
  },
  {
   "cell_type": "markdown",
   "metadata": {},
   "source": [
    "# Research Question"
   ]
  },
  {
   "cell_type": "markdown",
   "metadata": {},
   "source": [
    "After living in San Diego for the better part of 3 years I have been to over a handful of parks around the area. While my experiences at these parks have not been terrible, I have felt that in each of the parks I went to, they felt empty. The empitness came from a combination of the physical emptiness of a park and the lack of people present. I believe that the physical emptines of parks correlate with the lack of people in them. This observation brought a question into my mind. Is there a relationship between the number of recreational activities in a park and the number of people that visit and interact with the park."
   ]
  },
  {
   "cell_type": "markdown",
   "metadata": {},
   "source": [
    "## Background and Prior Work"
   ]
  },
  {
   "cell_type": "markdown",
   "metadata": {},
   "source": [
    "From the backgroud work I have gathered, it seems that an increase in recreational activities in parks does seem to have a positive correlation with the number people visiting the parks. A case study in a town community in Shenzhen, China showed that recreational areas with increased facilities that encouraged activities increased the use of the community of said recreational areas. It also went on to say that adding things such as vegetation or builiding meant for aesthetic purposes have little affects on increasing interaction of residents with recreational areas. This particular study advocates for the importance of increased recreational activities to increase community participation.\n",
    "\n",
    "In San Diego, it was announced this year that the city has plans to have a complete makeover on how it dealt with parks. This makeover will focus primarliy on increasing the quality of its parks by increasing the recreational activities present in parks. Those working on the plan have the common goal of trying to provide a quality over quantity approach that will provide citizens of San Diego with more interesting parks as opposed to the plethora of boring parks they are accustomed to. The fact that the city is trying to make such drastic changes by emphasizing new importance on the need for quality recreational facilities probably comes from their beliefs that it will benefit the citizens of San Diego\n",
    "\n",
    "References (include links):\n",
    "- 1)https://www.ncbi.nlm.nih.gov/pmc/articles/PMC4962185/\n",
    "- 2)https://www.sandiegouniontribune.com/business/growth-development/story/2020-04-24/san-diego-shakes-up-citywide-approach-to-parks-with-focus-on-access-amenities"
   ]
  },
  {
   "cell_type": "markdown",
   "metadata": {},
   "source": [
    "# Hypothesis\n"
   ]
  },
  {
   "cell_type": "markdown",
   "metadata": {},
   "source": [
    "The background knowledge I have gained in preparation for this topic leads me to the belief that an increase in recreational facilites in parks would be beneficial for people visiting them. That is why I beleive that an increase in the number of recreational facilities in parks will lead to an increase in the number of people interacting with the parks."
   ]
  },
  {
   "cell_type": "markdown",
   "metadata": {},
   "source": [
    "# Data"
   ]
  },
  {
   "cell_type": "markdown",
   "metadata": {},
   "source": [
    "The ideal dataset for this question would be one that provided me detailed information on the different parks of San Diego. The primary information I would be looking for would be the name of parks, size of the park, quality of park (via number and quality of recreational facilities), and the number of people visiting the parks per day,month,year. I would want to have this information on the parks throughout the years to see if a trend is present regarding the relationship between number of recreational facilities and number of people visiting them. Ideally I think it would be best to store the observations in a datframe where the columns would be for the variables I am interested in exploring and the rows would be each park in San Diego as an observation."
   ]
  },
  {
   "cell_type": "markdown",
   "metadata": {},
   "source": [
    "# Ethics & Privacy"
   ]
  },
  {
   "cell_type": "markdown",
   "metadata": {},
   "source": [
    "Being that parks are for the public, I believe that the information on them would also be publiclty available. The biggest privacy concern I can currently see would be If my study would at some point need information on the people visiting the parks that could be personal. In that case I would take measures to be granted permission to use personal information and ensure the privacy of participants by maintining there data anonymous.\n",
    "\n",
    "A potential bias that I see involves the location of the parks in San Diego. There are parks in San Diego that reside in both wealthier areas of the city and poorer ones. Well I do not know right now, this could potentially lead to bias in my study If I am not careful.\n",
    "\n",
    "In order to deal with these potential issues I will need to first ensure that all the data I gather is available for me to use. To enusre this I will do my due diligence to research the parks in San Diego to see what information I can and can't use and also ask informed consent when needed. I will also need to ensure that I maintain the privacy of my data by keeping any personal information anonymous. For the biases my project may face, I will need to attempt to find as many cofounding variables as possible that may lead my study to produce biased results."
   ]
  },
  {
   "cell_type": "code",
   "execution_count": null,
   "metadata": {},
   "outputs": [],
   "source": []
  }
 ],
 "metadata": {
  "kernelspec": {
   "display_name": "Python 3",
   "language": "python",
   "name": "python3"
  },
  "language_info": {
   "codemirror_mode": {
    "name": "ipython",
    "version": 3
   },
   "file_extension": ".py",
   "mimetype": "text/x-python",
   "name": "python",
   "nbconvert_exporter": "python",
   "pygments_lexer": "ipython3",
   "version": "3.8.3"
  }
 },
 "nbformat": 4,
 "nbformat_minor": 2
}
