{
 "cells": [
  {
   "cell_type": "markdown",
   "metadata": {},
   "source": [
    "# COGS 108 - Project Proposal"
   ]
  },
  {
   "cell_type": "markdown",
   "metadata": {},
   "source": [
    "# Names & GitHub ID\n",
    "\n",
    "- Name: Angel Obie\n",
    "- GitHub Username: Acobie"
   ]
  },
  {
   "cell_type": "markdown",
   "metadata": {},
   "source": [
    "# Research Question"
   ]
  },
  {
   "cell_type": "markdown",
   "metadata": {},
   "source": [
    "Is there a relationship between monthly park attendance and the number of events held in a park in San Diego?\n",
    "<br>\n",
    "OR\n",
    "<br>\n",
    "What are the features of a park that encourage the greatest amount returning visitors?*\n",
    "\n",
    "**(I feel that the second question still needs to be refined but not sure how it could be further specified. Should I mention a specific feature of a park to measure? Would like feedback on this and which question should I pursue please! Thanks :D)*"
   ]
  },
  {
   "cell_type": "markdown",
   "metadata": {},
   "source": [
    "## Background and Prior Work"
   ]
  },
  {
   "cell_type": "markdown",
   "metadata": {},
   "source": [
    "For reference 1, it may not be the most analytical source out there, but it does provide valuable advice that I had not previously thought of before on how to run a successful event. In this article, it outlines some features that a park event in the 21st century should strive for and identifying these features in the events held in San Diego should help me identify one that maximizes attendance when analyzing the data I will gather. When collecting data for my own experiments and analysis, I will try to categorize the events with each of the outlined features in the article (special guests, incentives for registration and attendance, conflicting events in nearby areas, etc.) which should help me identify which were the most successful event and suggest that future events should also share similar qualities.\n",
    "\n",
    "For the second source, it outlines a very relevant experiment that answers my question on a specific urban park in South Korea. This research article uses big data analysis to aid in the development of future park planning and design. Reading this article opened my mind to the idea of using Twitter data as another dataset since they used some tweets for analysis on the park's activity and worth as a complementary source of data to the traditional surveys conducted. The article includes graphs and snapshots of the data and could honestly be submitted as a project for this course with the way it is organized. My only concern with this article is that it appears to focus a bit more on how social media could be applied to finding relevant data with a smaller focus on how parks could be improved from the data analysis. Nonetheless, it is a very relevant article to my future research and will be used as inspiration for my final project.\n",
    "\n",
    "References (include links):\n",
    "- 1) https://blog.capterra.com/the-parks-and-recreation-guide-to-maximizing-event-attendance/\n",
    "- 2) https://www.ncbi.nlm.nih.gov/pmc/articles/PMC6843459/"
   ]
  },
  {
   "cell_type": "markdown",
   "metadata": {},
   "source": [
    "# Hypothesis\n"
   ]
  },
  {
   "cell_type": "markdown",
   "metadata": {},
   "source": [
    "I believe that there is a positive correlation between to monthly park attendance and the number of events held in parks across San Diego. Special events will attract both new visitors as well as regular park-goers since it incentivizes attendance with novel activities; thus, hosting more events within a park should increase the total attendance of a park."
   ]
  },
  {
   "cell_type": "markdown",
   "metadata": {},
   "source": [
    "# Data"
   ]
  },
  {
   "cell_type": "markdown",
   "metadata": {},
   "source": [
    "An ideal dataset would have a breakdown of all events held (with the date) grouped by different parks in all of San Diego. This would also include park attendance during these events. Additionally, a daily measure of park attendance or even monthly measure would allow me to compare the relationship between events and attendance. Another piece of data that would help would also be a quantitative measure of visitor happiness on a numeric scale on each day so that I can also analyze the quality of events rather than simply the quantity and also compare it to a normal day in the park with no ongoing events. This could be collected by surveys entered by the parkgoers themselves.\n",
    "\n",
    "Another ideal dataset that could help me answer the second question would be one that measures each parkgoers attendance in a park and a quantitative measure of their happiness with the park and its features. They would also list the reason why they came and their favorite feature(s) of the park. New visitors that turn into returning visitors would be very valuable in this dataset. Thus, each unique park visitor would have an id that would have all of the data I listed earlier and updated each time they came. However, this may start being ethically questionable..."
   ]
  },
  {
   "cell_type": "markdown",
   "metadata": {},
   "source": [
    "# Ethics & Privacy"
   ]
  },
  {
   "cell_type": "markdown",
   "metadata": {},
   "source": [
    "With regards to the first dataset, not much here seems to be pushing the bounds of ethics/ morality. The only thing that may be concerning is the privacy of the surveys filled out by the park attendees but if we anonymize the data as we collect it, this shouldn't be a concern. The measurements taken are more or less, purely quantitative and many other parks have attendance totals already taken for their own research like in theme parks with the entrance turnstiles so it is already a widely used and accepted practice. Collecting the data in this manner should ensure a diverse dataset so there should be a minimization of biases in the data. However, the surrounding population near a park could impact the demographic of the data collected.\n",
    "\n",
    "However, in the second suggested dataset, privacy concerns become more apparent since the data is not as anonymous. While the data tries to anonymize the visitors by using a unique id rather than their personal name, the data is still not perfectly removed from their identity. If compromised, an infiltrator may be able to find the park habits of someone. Thus, security of the data would be of the upmost importance. Additionally, since it would be an opt-in type of survey, it would not be ethically concerning to use this data as long as the participant is well-informed of the reason and use of their data. "
   ]
  }
 ],
 "metadata": {
  "kernelspec": {
   "display_name": "Python 3",
   "language": "python",
   "name": "python3"
  },
  "language_info": {
   "codemirror_mode": {
    "name": "ipython",
    "version": 3
   },
   "file_extension": ".py",
   "mimetype": "text/x-python",
   "name": "python",
   "nbconvert_exporter": "python",
   "pygments_lexer": "ipython3",
   "version": "3.7.6"
  }
 },
 "nbformat": 4,
 "nbformat_minor": 2
}
