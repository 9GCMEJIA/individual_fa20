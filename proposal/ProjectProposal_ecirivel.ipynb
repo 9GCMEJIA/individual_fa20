{
 "cells": [
  {
   "cell_type": "markdown",
   "metadata": {},
   "source": [
    "# COGS 108 - Project Proposal"
   ]
  },
  {
   "cell_type": "markdown",
   "metadata": {},
   "source": [
    "# Names & GitHub ID\n",
    "\n",
    "- Name: Elizabeth Cirivello\n",
    "- GitHub Username: ecirivel"
   ]
  },
  {
   "cell_type": "markdown",
   "metadata": {},
   "source": [
    "# Research Question"
   ]
  },
  {
   "cell_type": "markdown",
   "metadata": {},
   "source": [
    "How do features/attractions relate to user engagement with San Diego parks?"
   ]
  },
  {
   "cell_type": "markdown",
   "metadata": {},
   "source": [
    "## Background and Prior Work"
   ]
  },
  {
   "cell_type": "markdown",
   "metadata": {},
   "source": [
    "*Fill in your background and prior work here. Be sure to specify which statements are from which references.* \n",
    "\n",
    "References (include links):\n",
    "- 1)\n",
    "- 2)"
   ]
  },
  {
   "cell_type": "markdown",
   "metadata": {},
   "source": [
    "# Hypothesis\n"
   ]
  },
  {
   "cell_type": "markdown",
   "metadata": {},
   "source": [
    "The more features/attractions the park has the more popular and trafficked the park will be. If there is more for someone to do at a location, they would be more inclined to go there."
   ]
  },
  {
   "cell_type": "markdown",
   "metadata": {},
   "source": [
    "# Data"
   ]
  },
  {
   "cell_type": "markdown",
   "metadata": {},
   "source": [
    "The ideal dataset would contain feedback from each park user from the past 5 years through a satisfaction survey taken at the conclusion of trip to the park. The survey would ask what drew the user to use the park, what feature/activity they used/completed in the park, satisfaction with feature/activity. The survey could also contain a free response section asking if they wish the park offered something else, what they were dissastified with in the park, and why they chose this park. The categorical questions could be coded for easy use, maybe a 1-5 system, while the free responses would be combined through common themes and then coded accordingly. A secod helpful data set would be from the general San Diego population. An anonymous survey could be sent to residents where there are asked about they're satisfaction with the current parks and what they have to offer. Similar in format to the previous survey, asking questions that will get at their current level of park engagment and why they do or don't interact with the parks. Utlimately this data could be combined and stored together to have a full view of how San Diego inhabitants feel about their park system. "
    ]
  },
  {
   "cell_type": "markdown",
   "metadata": {},
   "source": [
    "# Ethics & Privacy"
   ]
  },
  {
   "cell_type": "markdown",
   "metadata": {},
   "source": [
    "*Fill in your ethics & privacy discussion here*"
   ]
  }
 ],
 "metadata": {
  "kernelspec": {
   "display_name": "Python 3",
   "language": "python",
   "name": "python3"
  },
  "language_info": {
   "codemirror_mode": {
    "name": "ipython",
    "version": 3
   },
   "file_extension": ".py",
   "mimetype": "text/x-python",
   "name": "python",
   "nbconvert_exporter": "python",
   "pygments_lexer": "ipython3",
   "version": "3.7.9"
  }
 },
 "nbformat": 4,
 "nbformat_minor": 2
}
