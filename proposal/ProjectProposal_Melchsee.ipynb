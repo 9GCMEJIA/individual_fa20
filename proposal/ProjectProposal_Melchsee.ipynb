{
 "cells": [
  {
   "cell_type": "markdown",
   "metadata": {},
   "source": [
    "# COGS 108 - Project Proposal"
   ]
  },
  {
   "cell_type": "markdown",
   "metadata": {},
   "source": [
    "# Names & GitHub ID\n",
    "\n",
    "- Name: Cedric Wong\n",
    "- GitHub Username: Melchsee"
   ]
  },
  {
   "cell_type": "markdown",
   "metadata": {},
   "source": [
    "# Research Question"
   ]
  },
  {
   "cell_type": "markdown",
   "metadata": {},
   "source": [
    "How are wildlife preservation efforts affected by wildfires in San Diego in surrounding areas?"
   ]
  },
  {
   "cell_type": "markdown",
   "metadata": {},
   "source": [
    "## Background and Prior Work"
   ]
  },
  {
   "cell_type": "markdown",
   "metadata": {},
   "source": [
    "It is known that large wildfires can cause damage to natural ecosystems that takes years to recover from [3]. This damage not only threatens species of wildlife that are already endangered, but poses a risk towards others not on the list as well. Efforts to preserve wildlife such as the Multiple Species Conservation Program (MSCP) have been ongoing for decades now, and continuously increase in size and scope [1]. The purpose of this project is to look further into the specific effects of wildfires on the progress of conservation efforts. Data such as finances spent and acquired, acres of protected habitat, counts of living members of each protected species, and more will be useful in the analysis.\n",
    "\n",
    "At the time of this writing, the MSCP covers 85 species (but is notably focused on protecting the habitat of multiple species, rather than focusing on one at a time)[4]. This number has increased from year to year since the program's inception in 1997. Wildfires have also increased in size, severity, and number in recent years. Most recently, as of October 8th 2020 over 4 million acres of California land have been burnt this year alone.\n",
    "\n",
    "References (include links):\n",
    "- 1)https://www.sandiegocounty.gov/content/sdc/parks/openspace/MSCP.html\n",
    "- 2)https://data.sandiego.gov/datasets/fire-incidents/\n",
    "- 3)https://wildlife.ca.gov/Science-Institute/Wildfire-Impacts\n",
    "- 4)https://www.sandiego.gov/planning/programs/mscp\n",
    "- 5)https://www.workingabroad.com/blog/the-california-wildfires-effect-on-conservation-efforts/"
   ]
  },
  {
   "cell_type": "markdown",
   "metadata": {},
   "source": [
    "# Hypothesis\n"
   ]
  },
  {
   "cell_type": "markdown",
   "metadata": {},
   "source": [
    "I hypothesize that in years with more severe and higher numbers of wildfires, that the progress of protecting endangered species is lower or perhaps regressive. It stands to reason that wildfires not only cause destruction of natural habitats, but also interfere with common behaviors such as migration and breeding patterns. Although it is possible that funding for similar programs may be increased in years following major incidents."
   ]
  },
  {
   "cell_type": "markdown",
   "metadata": {},
   "source": [
    "# Data"
   ]
  },
  {
   "cell_type": "markdown",
   "metadata": {},
   "source": [
    "Ideally, I would need a dataset that compiles wildlife conservation efforts for the San Diego area over at least the last 10 years. It would detail monetary funding for the project along with concrete numbers on size of the protected land, number of protected species, categorical data on the conservation status of species (endangered, threatened, vulnerable, etc.), and number/size of approved and denied projects. As for the wildfire data, information on size, area affected, time it took to subdue the fire, time of year(this is relevant for certain species), and any known effects on wildlife would be useful. It could also be useful if the data was separated by each individual wildfire.\n",
    "\n",
    "This data could most likely be acquired from the websites of related organizations such as publically available governmental datasets. Preferably they will be stored in a pandas friendly format such as csv files to make it simpler to merge the data and import it."
   ]
  },
  {
   "cell_type": "markdown",
   "metadata": {},
   "source": [
    "# Ethics & Privacy"
   ]
  },
  {
   "cell_type": "markdown",
   "metadata": {},
   "source": [
    "This data should be publically available, so I should already have permission to use it. It is possible that using wildfire data may expose personal information about fire safety workers, but it would be a matter of excluding names, IDs and other individual information from the analysis. Location data will need to be preserved for making sure the fires are relevant in proximity to the San Diego area and more specifically, the protected habitats.\n",
    "\n",
    "There are external factors that are difficult to account for that could lead to potential biases. Personnel changes and differences in the number and type of proposed projects may cause unforeseen changes. To combat this, recording major developments and changes in project management may be necessary."
   ]
  },
  {
   "cell_type": "code",
   "execution_count": null,
   "metadata": {},
   "outputs": [],
   "source": []
  }
 ],
 "metadata": {
  "kernelspec": {
   "display_name": "Python 3",
   "language": "python",
   "name": "python3"
  },
  "language_info": {
   "codemirror_mode": {
    "name": "ipython",
    "version": 3
   },
   "file_extension": ".py",
   "mimetype": "text/x-python",
   "name": "python",
   "nbconvert_exporter": "python",
   "pygments_lexer": "ipython3",
   "version": "3.7.6"
  }
 },
 "nbformat": 4,
 "nbformat_minor": 2
}
