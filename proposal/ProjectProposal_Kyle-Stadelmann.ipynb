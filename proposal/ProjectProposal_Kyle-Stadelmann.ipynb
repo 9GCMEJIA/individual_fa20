{
 "cells": [
  {
   "cell_type": "markdown",
   "metadata": {},
   "source": [
    "# COGS 108 - Project Proposal"
   ]
  },
  {
   "cell_type": "markdown",
   "metadata": {},
   "source": [
    "# Names & GitHub ID\n",
    "\n",
    "- Name: Kyle Stadelmann\n",
    "- GitHub Username: Kyle-Stadelmann"
   ]
  },
  {
   "cell_type": "markdown",
   "metadata": {},
   "source": [
    "# Research Question"
   ]
  },
  {
   "cell_type": "markdown",
   "metadata": {},
   "source": [
    "Does the age of attendees of San Diego parks depend on the total number of tables/seats?"
   ]
  },
  {
   "cell_type": "markdown",
   "metadata": {},
   "source": [
    "## Background and Prior Work"
   ]
  },
  {
   "cell_type": "markdown",
   "metadata": {},
   "source": [
    "While this topic (to this specificity) remains somewhat unresearched, there is certaintly research that shows how \"public parks are falling short for older adults.\" The AARP states in their article \"Creating Parks and Public Spaces for People of All Ages,\" that adults age 60 and older represent \"only 4 percent of total park users\" despite accounting \"for 20 percent of the general population.\" While many simply believe that larger acerage can lead to higher park attendance across all ages, the AARP found that even small 0.5 acre areas such as the Gallery Alley in Wichita, Kansas can be home to popular parks for all ages. While the AARP aims to isolate strategies to create more lively parks for all ages, there is a specific unresearched topic that I would like to delve into. And that of course is the relation between number of tables/seats and age attendance of parks. \n",
    "\n",
    "To improve the parks system in San Diego, this can be seen as an important issue, as the \"senior population is growing\" as Jared Green describes in his blog titled \"What Do Seniors Need in Parks?\" Green describes how \"by 2050, a third of the U.S. will be 65 and older\" and how \"parks are too often created for children or able-bodied adults.\" Green proposes several different solutions to the issue, one of which around the topic of accessibility. He mentions how adding more benches throughout walks to/around a park could given more places for older people to take a break or stop. While his organization, the American Society of Landscape Architects, seemingly haven't collected too much data on this solution, I believe that doing so could produce interesting results that, when acted on, could prove helpful to our seniors.\n",
    "\n",
    "References (include links):\n",
    "- 1) Stanton, Melissa. “Creating Parks and Public Spaces for People of All Ages.” American Association of Retired Persons, www.aarp.org/content/dam/aarp/livable-communities/livable-documents/documents-2018/Parks%20Guide-LR-091018-spreads.pdf. \n",
    "- 2) Green, Jared L. “What Do Seniors Need in Parks?” Smart Cities Dive, Industry Dive, www.smartcitiesdive.com/ex/sustainablecitiescollective/what-do-seniors-need-parks/1070996/. "
   ]
  },
  {
   "cell_type": "markdown",
   "metadata": {},
   "source": [
    "# Hypothesis\n"
   ]
  },
  {
   "cell_type": "markdown",
   "metadata": {},
   "source": [
    "I believe that the general trend between an increasing number of tables/seats across San Diego parks and the increasing proportion of attendees aged 60 and older has a positive correlation. While playgrounds, exercise stations, and other common park amendenties are obviously directed at certain demographics, there isn't too many amendetites for older folks to interact with at parks. Therefore I believe that a larger amount of an amendetity that people of this age demographic can surely utilize, tables/seats, could result in higher turn out among this demographic."
   ]
  },
  {
   "cell_type": "markdown",
   "metadata": {},
   "source": [
    "# Data"
   ]
  },
  {
   "cell_type": "markdown",
   "metadata": {},
   "source": [
    "The ideal dataset would include the total number of seats, the total number of tables, and values over time for attendance numbers across these age groups [0-19), [19-30), [30-45), [45-60), [60+] for each of the 340 parks in San Diego. (The age groups are represented in typical mathematical notation, '\\[' representing inclusive and '(' representing exclusive). Finally we will have a park id variable we set to each park randomly and uniquely (from 0 to 340). These variables would ideally be stored in a .csv file with the park id being the first column and the other variables stored in other columns in relation to the id. A large amount of observations would be ideal, such as 3 a day; one at 9AM, 1PM, and 5PM, for every park for an entire year (to attempt to account for confounding variables such as time of day/season of attendance). For the 340 parks, this would lead to 3x340x365 = 3,723,000 total observations. For collection of these observations, *ideally* there would be people who survey these parks and adds up the total number of usable seats and tables at that given time, and asks each of the park attendees for their age. "
   ]
  },
  {
   "cell_type": "markdown",
   "metadata": {},
   "source": [
    "# Ethics & Privacy"
   ]
  },
  {
   "cell_type": "markdown",
   "metadata": {},
   "source": [
    "Ideally this hypothetical data set would be public and we'd have permission to use the data in our project. In the case that we must collect the data ourselves, it is imperative that the people who were asked their age were given information about what data will be used and what the data will be used for. Following that it is also imperative that we have their consent to include the observation in our data set. We must not have any identifiable information to keep their privacy. We must also give our contact information just in case they would like to be removed from the dataset (revoking consent). Some locations and parks may have higher populations of older/younger people based on socioeconomic factors of the neighboorhood or if there are things such as retirement homes nearby. Ideally parks with extreme outliers like this won't be included in the dataset. With this data people could potentially discriminate against certain parks with larger proportions of older/younger people. To accomodate this its best if we don't publish our data set to the public, and only use it for trend line calculations in our experiment (with no park ids representing parks with certain larger proporitions)."
   ]
  },
  {
   "cell_type": "code",
   "execution_count": null,
   "metadata": {},
   "outputs": [],
   "source": []
  }
 ],
 "metadata": {
  "kernelspec": {
   "display_name": "Python 3",
   "language": "python",
   "name": "python3"
  },
  "language_info": {
   "codemirror_mode": {
    "name": "ipython",
    "version": 3
   },
   "file_extension": ".py",
   "mimetype": "text/x-python",
   "name": "python",
   "nbconvert_exporter": "python",
   "pygments_lexer": "ipython3",
   "version": "3.7.4"
  }
 },
 "nbformat": 4,
 "nbformat_minor": 2
}
