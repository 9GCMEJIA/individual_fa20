{
 "cells": [
  {
   "cell_type": "markdown",
   "metadata": {},
   "source": [
    "# COGS 108 - Project Proposal"
   ]
  },
  {
   "cell_type": "markdown",
   "metadata": {},
   "source": [
    "# Names & GitHub ID\n",
    "\n",
    "- Name: Phuc Dao\n",
    "- GitHub Username: Phuc-Dao"
   ]
  },
  {
   "cell_type": "markdown",
   "metadata": {},
   "source": [
    "# Research Question"
   ]
  },
  {
   "cell_type": "markdown",
   "metadata": {},
   "source": [
    "Renovating old parks in san diego will lead to increased public health in the area"
   ]
  },
  {
   "cell_type": "markdown",
   "metadata": {},
   "source": [
    "## Background and Prior Work"
   ]
  },
  {
   "cell_type": "markdown",
   "metadata": {},
   "source": [
    "*Fill in your background and prior work here. Be sure to specify which statements are from which references.*\n",
    "* Old parks are ignored and continue to deteriorate over time. (Ref 1)\n",
    "* Money is allocated to newer parks and not older parks (Ref 1)\n",
    "* Old and outdated parks are one of the primary reasons people don't go to parks (ref 2)\n",
    "\n",
    "References (include links):\n",
    "- 1) https://www.voiceofsandiego.org/topics/government/if-your-local-park-sucks-this-is-probably-why/\n",
    "- 2) https://www.sandiego.gov/complete-communities/parks-master-plan\n",
    "- 3) https://www.nrpa.org/uploadedFiles/nrpa.org/Publications_and_Research/Research/Papers/Rejuvenating-Neighborhoods-White-Paper.pdf\n"
   ]
  },
  {
   "cell_type": "markdown",
   "metadata": {},
   "source": [
    "# Hypothesis\n"
   ]
  },
  {
   "cell_type": "markdown",
   "metadata": {},
   "source": [
    "I believe that people that live near an old or outdated park will not want to go to the park. But if we renovate old parks then more people will go which will result in an overall increase in health."
   ]
  },
  {
   "cell_type": "markdown",
   "metadata": {},
   "source": [
    "# Data"
   ]
  },
  {
   "cell_type": "markdown",
   "metadata": {},
   "source": [
    "*Explain what the ideal dataset you would want to answer this question. (This should include: What variables? How many observations? Who/what/how would these data be collected? How would these data be stored/organized?)*\n",
    "* Variables include, people going to parks, overweight vs healthy people that go to parks\n",
    "* There will be many observations. Including how public parks affect health, and numbers indicating less people are going to parks\n",
    "* This data would be collected by going though existing data sets\n",
    "* The dataset would be stored in a CSV file format\n",
    "\n"
   ]
  },
  {
   "cell_type": "markdown",
   "metadata": {},
   "source": [
    "# Ethics & Privacy"
   ]
  },
  {
   "cell_type": "markdown",
   "metadata": {},
   "source": [
    "* Did you have permission to use data set? Yes if it is public\n",
    "* If the data sets are public then I believe I won't have to comply to any agreement\n",
    "* I believe there will be potential biases in my data set. Things like neighborhood income might skew the results of my data since richer neighborhoods will have access to nicer parks.\n",
    "* I will handle issues arising with things I found in my data by either reframing my questionn or by using multiple datasets to compromise for the issues in one dataset. This will allow me to have reliable data by using multiple datasets.\n"
   ]
  },
  {
   "cell_type": "code",
   "execution_count": null,
   "metadata": {},
   "outputs": [],
   "source": []
  }
 ],
 "metadata": {
  "kernelspec": {
   "display_name": "Python 3",
   "language": "python",
   "name": "python3"
  },
  "language_info": {
   "codemirror_mode": {
    "name": "ipython",
    "version": 3
   },
   "file_extension": ".py",
   "mimetype": "text/x-python",
   "name": "python",
   "nbconvert_exporter": "python",
   "pygments_lexer": "ipython3",
   "version": "3.9.0"
  }
 },
 "nbformat": 4,
 "nbformat_minor": 2
}
