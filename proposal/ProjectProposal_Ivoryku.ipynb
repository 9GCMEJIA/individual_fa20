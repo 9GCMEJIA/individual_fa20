{
 "cells": [
  {
   "cell_type": "markdown",
   "metadata": {},
   "source": [
    "# COGS 108 - Project Proposal"
   ]
  },
  {
   "cell_type": "markdown",
   "metadata": {},
   "source": [
    "# Names & GitHub ID\n",
    "\n",
    "- Name: Cheuk King Ku \n",
    "- GitHub Username: Ivoryku\n"
   ]
  },
  {
   "cell_type": "markdown",
   "metadata": {},
   "source": [
    "# Research Question"
   ]
  },
  {
   "cell_type": "markdown",
   "metadata": {},
   "source": [
    "How should public parks in San Diego be sanitized, responding to the current global pandemic and protecting future generations from infections, without causing environmental pollution? \n"
   ]
  },
  {
   "cell_type": "markdown",
   "metadata": {},
   "source": [
    "## Background and Prior Work"
   ]
  },
  {
   "cell_type": "markdown",
   "metadata": {},
   "source": [
    "\n",
    "During the current global pandemic, I thought it is a common and mandatory protocol for the public parks around America to be sanitized daily. However, according to an article found on West Michigan’s news platform, City of Kalamazoo stated that they will not sanitize their parks because once someone touches the equipment in the park, it will be contaminated. Therefore, they think it is not possible to sanitize the park. Moreover, another article from Science suggests that there may be downsides to using disinfectants such as bleach may increase the risk of respiratory diseases. Environmental pollution is also at risk if the area is frequently cleaned by disinfectants. Lastly, according to the general guidelines from CDC, they suggest that outdoor areas such as playgrounds should not be disinfected instead they should be cleaned regularly. When I realized that there are a lot of different protocols for sanitizing public parks, I wonder if I can find the best and most effective sanitizing protocol for the public parks in San Diego through looking at how other parks in the country get sanitized and how does this relate to infection rate in that area. \n",
    "\n",
    "\n",
    "References (include links):\n",
    "- 1) WWMT (West Michigan news platform): https://wwmt.com/news/local/some-cities-sanitizing-parks-others-are-not-during-covid-19-pandemic\n",
    "- 2) Science article: https://www.sciencemag.org/news/2020/03/does-disinfecting-surfaces-really-prevent-spread-coronavirus\n",
    "- 3) CDC: https://www.cdc.gov/coronavirus/2019-ncov/community/disinfecting-building-facility.html"
   ]
  },
  {
   "cell_type": "markdown",
   "metadata": {},
   "source": [
    "# Hypothesis\n"
   ]
  },
  {
   "cell_type": "markdown",
   "metadata": {},
   "source": [
    "The purpose of this project ensures that routine cleaning is mandated and that usage of EPA-approved disinfectants is essential in this routine cleaning depending on the human traffic in the area. For instance, restroom door knobs, benches and handrails should be cleaned and disinfected regularly, but outdoor areas such as sidewalks do not need to be disinfected or else the environment will be polluted. \n"
   ]
  },
  {
   "cell_type": "markdown",
   "metadata": {},
   "source": [
    "# Data"
   ]
  },
  {
   "cell_type": "markdown",
   "metadata": {},
   "source": [
    "The ideal data set includes observations from the news about different public parks in different cities during COVID-19. Ideally, the data is stored in CSV files. The variables include procedures, brands of disinfectant, frequency of sanitization and covid infection rate. After creating a table to visualize the data, the rows will be observations obtained about each cities’ public park and the columns will be the different variables mentioned above. \n"
   ]
  },
  {
   "cell_type": "markdown",
   "metadata": {},
   "source": [
    "# Ethics & Privacy"
   ]
  },
  {
   "cell_type": "markdown",
   "metadata": {},
   "source": [
    "   I will only take data that I can get permission to access for this project. There is privcay concern regarding the dataset  because the ideal dataset includes cleaning schedules of each park. In order to prevent robbers and vandals from stealing and contaminating the park, the data will be encrypted. Moreover, each park will be assigned an ID number in a different table related to the dataset in order to avoid disclosure of their private information. \n",
    "   On the other hand, there are potential biases in the dataset because there are a lot of different parks in one city. The cleaning procedures of one park may not be representative of how other parks clean and sanitize in the same city. Moreover, to create a more concise visualization, a limited number of parks' cleaning protocol will be included. Therefore, the best cleaning protocol resulted from the analysis will only be true based on the data included. In order to solve potential biases, the dataset will be meticulously inspected and chosen to ensure that the result will obtain the highest accuracy and representation possible. "
   ]
  },
  {
   "cell_type": "code",
   "execution_count": null,
   "metadata": {},
   "outputs": [],
   "source": []
  }
 ],
 "metadata": {
  "kernelspec": {
   "display_name": "Python 3",
   "language": "python",
   "name": "python3"
  },
  "language_info": {
   "codemirror_mode": {
    "name": "ipython",
    "version": 3
   },
   "file_extension": ".py",
   "mimetype": "text/x-python",
   "name": "python",
   "nbconvert_exporter": "python",
   "pygments_lexer": "ipython3",
   "version": "3.7.6"
  }
 },
 "nbformat": 4,
 "nbformat_minor": 2
}
