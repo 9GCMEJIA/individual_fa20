{
 "cells": [
  {
   "cell_type": "markdown",
   "metadata": {},
   "source": [
    "# COGS 108 - Project Proposal"
   ]
  },
  {
   "cell_type": "markdown",
   "metadata": {},
   "source": [
    "# Names & GitHub ID\n",
    "\n",
    "- Name: Chengcheng Long\n",
    "- GitHub Username: cherrie1998"
   ]
  },
  {
   "cell_type": "markdown",
   "metadata": {},
   "source": [
    "# Research Question"
   ]
  },
  {
   "cell_type": "markdown",
   "metadata": {},
   "source": [
    "Would adults that have children or own pets have a higher frequency to go to park compare with adults that does not own pets or have children?"
   ]
  },
  {
   "cell_type": "markdown",
   "metadata": {},
   "source": [
    "## Background and Prior Work"
   ]
  },
  {
   "cell_type": "markdown",
   "metadata": {},
   "source": [
    "According to the government website, San Diego currently has 400+ parks, 57 recreation centers, 26 miles of shorelines and more than 40000 arces for those park assets(reference 1). To make a comparation, total San Diego area is about 374.2 mi^2, which is less than 240000 arces. The areas for park assets is around 1/6 of the total area of the whole San Diego. It's not so hard to see that parks and recreation is such an important section in People's life. According to the NPRA (National Recreation and Park association) report, \"Per NRPA Park Metrics data, the typical\n",
    "park and recreation agency has current annual operating expenditures of $4,342,495\" (reference 3). Government and Park and Recreation agencies has put so much effort in Park. Thus, it would be important to look at the operation of parks, and then, it's important to look at the passenger portrait of park and recreation system. It is important to know who always go to park, and then decide the how to construct park services better.\n",
    "\n",
    "As pets became an important sector in people's life, there begin with the demand of walking pets, especially dogs. According to the San Diego government website, dogs that maintained on a leash not to exceed 8 feet can enter all parks and there are several unleashed locations for them as well (Reference 2). Parks seemed to be a good place for pet owners to walk dogs, and there pets that need to be walked. Similarily, for families that have children, there might be a higher demand for going to picnic at park and for other family activities. \n",
    "\n",
    "Park seems to be a good place for those type of people. Thus, it would be interesting to see in data analyze that if adults that have pet or children would have a higher frequency to go to park. Also, after figuring out the pattern, it would be more easy to construct more logical facilities base on the passenger portraits. For example, more bowls of water for dogs could be built if dog owners really would like to go to park a lot.\n",
    "\n",
    "\n",
    "References (include links):\n",
    "- 1) https://www.sandiego.gov/park-and-recreation/general-info\n",
    "- 2) https://www.sandiego.gov/park-and-recreation/parks/dogs\n",
    "- 3) https://www.nrpa.org/siteassets/nrpa-agency-performance-review.pdf"
   ]
  },
  {
   "cell_type": "markdown",
   "metadata": {},
   "source": [
    "# Hypothesis\n"
   ]
  },
  {
   "cell_type": "markdown",
   "metadata": {},
   "source": [
    "People that own pets or have children would tend to go to park more than others. This hypothesis is pet owners always need to walk dogs, and people that have children at home usually need to have some family activities, such as picnic. Park is a good, and usually cheap place to fullfil those request, so that those people would be more likely to go to park at a higher frequency."
   ]
  },
  {
   "cell_type": "markdown",
   "metadata": {},
   "source": [
    "# Data"
   ]
  },
  {
   "cell_type": "markdown",
   "metadata": {},
   "source": [
    "\n",
    "To answer my question that if people that owns pet or have children would go to park more frequently, the ideal dataset would be a clean and tidied dataset that has about 6 variables and 100,000 observations. There would be around 100,000 observations because San Diego population is around 1.46 million, and 100 thousand would be around 1/10 of the total population and would be a good amount of sample population. \n",
    "\n",
    "The 6 variables would be\n",
    "   - name or whatever we can identify the person\n",
    "   - a Yes or No that if the person owns a pet\n",
    "   - the number of pets that the person has\n",
    "   - a Yes or No that if the person has children\n",
    "   - the number of children that the person has\n",
    "   - the frequency (days per week, or days per month) that the person go to the park.\n",
    "\n",
    "Those variables can help me easily form a model to check whether there's a difference in the frequencies of adults have childen, pet to go to park with adults that does not. \n",
    "\n",
    "It would be the most desirable if it's stored in a xml, csv, or json file since those files are the easiest to analyze. Usually, those datas would be stored by survey to individuals in different area of San Diego. \n"
   ]
  },
  {
   "cell_type": "markdown",
   "metadata": {},
   "source": [
    "# Ethics & Privacy"
   ]
  },
  {
   "cell_type": "markdown",
   "metadata": {},
   "source": [
    "When doing a data science research project, it's always important to think about it's ethics and privacy throughout the process. First, since my ideal dataset would be collected by survey through people that live in San Diego, I would definetly inform them about what the data would be doing for in the project, and if they decide they do not want to join the research, I would just decide not to record their data. \n",
    "\n",
    "Otherwise, there might be concern with privacy exposure since personal information may be seen by the others through the survey during data collection. To handle this Issue, I can make a unique ID for everyone that join the survey and so there's no way one can match the real person with the survey ID. Also since only really general information would be recorded, such as number of children and pets at home, more private information, such as phone number, and etc would not be recorded. \n",
    "\n",
    "There might be some potential biases for my datasets since the collection of data need to be a sample from the whole group of San Diego Population. Thus, if generating the data through only one area, such as UTC, would be biased in many perspectives. For example, it's possible that since people live in UTC are mostly students, they would need to go to school and go to restaurants and parties for social demands more, and the whole area would not tend to go to park a lot. Also, it's possible that since people live in UTC are mostly students, they would not tend to have children at home, and would form a very unbalanced weight for groups. To handle this issue, number of observations from each area should be base on its population proportion and from all age levels (except children) to make the project more unbiased. \n",
    "\n",
    "Overall, those are some ethics concern for the project."
   ]
  },
  {
   "cell_type": "code",
   "execution_count": null,
   "metadata": {},
   "outputs": [],
   "source": []
  }
 ],
 "metadata": {
  "kernelspec": {
   "display_name": "Python 3",
   "language": "python",
   "name": "python3"
  },
  "language_info": {
   "codemirror_mode": {
    "name": "ipython",
    "version": 3
   },
   "file_extension": ".py",
   "mimetype": "text/x-python",
   "name": "python",
   "nbconvert_exporter": "python",
   "pygments_lexer": "ipython3",
   "version": "3.7.4"
  }
 },
 "nbformat": 4,
 "nbformat_minor": 2
}
