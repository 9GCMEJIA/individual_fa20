{
 "cells": [
  {
   "cell_type": "markdown",
   "metadata": {},
   "source": [
    "# COGS 108 - Project Proposal"
   ]
  },
  {
   "cell_type": "markdown",
   "metadata": {},
   "source": [
    "# Names & GitHub ID\n",
    "\n",
    "- Name: Junhui Fan\n",
    "- GitHub Username: Junhui-1"
   ]
  },
  {
   "cell_type": "markdown",
   "metadata": {},
   "source": [
    "# Research Question"
   ]
  },
  {
   "cell_type": "markdown",
   "metadata": {},
   "source": [
    "Do San Diego park and recreation facilities need maintainance and/or upgrade? If so, what kind of facilities need maintainance and/or upgrade and how to maintainance and/or upgrade them?"
   ]
  },
  {
   "cell_type": "markdown",
   "metadata": {},
   "source": [
    "## Background and Prior Work"
   ]
  },
  {
   "cell_type": "markdown",
   "metadata": {},
   "source": [
    "Parks as public spaces are used to serve people for playing, relaxing, communicating and exercising. Since most San Diego parks have been built for a long time, their facilities, such as parking lots, irrigation system, park vehicles, lighting, drinking fountains and restrooms, may have declined and need maintenance and/or upgrade. The City of San Diego conducted surveys to San Diego residents and demonstrated that the residents express their willingness to upgrade parks and parks facilities (Parks Master Plan -- Needs + Priorities). Based on the consideration of facilities aging and resident feedback, it is reasonable to evaluate and check park facilities to determine which of them need maintenance and/or upgrade.   \n",
    "\n",
    "In addition to determine what parks and their facilities need maintenance and/or upgrade, the San Diego park system should embrace opportunities to design and construct parks for greater efficiency and durability (Parks Master Plan -- Existing Conditions Report). The mode of maintenance and/or upgrade should also focus on reducing future costs of maintenance and/or upgrade and conserving energy. For example, using smart water controller irrigation systems and LED lighting could reduce subsequent park expenditures and saving resources.   \n",
    "\n",
    "References (include links):\n",
    "- 1)PARKS MASTER PLAN -- Existing Conditions Report https://www.sandiego.gov/sites/default/files/park_master_plan_existing_conditions.pdf \n",
    "- 2)PARKS MASTER PLAN -- Needs + Priorities https://www.sandiego.gov/sites/default/files/parks_master_plan_needs_and_priorities_report.pdf"
   ]
  },
  {
   "cell_type": "markdown",
   "metadata": {},
   "source": [
    "# Hypothesis\n"
   ]
  },
  {
   "cell_type": "markdown",
   "metadata": {},
   "source": [
    "Main hypothesis: San Diego park and recreation facilities need maintainance and/or upgrade. The facilities should cover parking lots, irrigation system, park vehicles, lighting, drinking fountains and restrooms. The mode of maintenance and/or upgrade should  focus on reducing subsequent park expenditures, saving energy and increasing efficiency and durability. The reason about my hypothesis is in Background and Prior Work section. "
   ]
  },
  {
   "cell_type": "markdown",
   "metadata": {},
   "source": [
    "# Data"
   ]
  },
  {
   "cell_type": "markdown",
   "metadata": {},
   "source": [
    "*Explain what the ideal dataset you would want to answer this question. (This should include: What variables? How many observations? Who/what/how would these data be collected? How would these data be stored/organized?)*",
    "\n",
    "\n",
    "The ideal dataset should have parks of San Diego, types of the park facilities, names of the facilities, numbers of the facilities, build time of the facilities, estimated useful lives of the facilities, aging states of the facilities, resident feedback of facilities maintenance, government funds to park maintenance. The observations should be all the facilities of San Diego parks, San Diego residential response surveys (n>1000). The datasets should be collected by park staff (collect types of the park facilities, names of the facilities, numbers of the facilities, build time of the facilities determine) facilities maintenance staff (determine estimated useful lives of the facilities and aging states of the facilities) and San Diego government staff (conduct resident survey and  set government funds to park maintenance). The data format should be organized in json, csv and xml."
   ]
  },
  {
   "cell_type": "markdown",
   "metadata": {},
   "source": [
    "# Ethics & Privacy"
   ]
  },
  {
   "cell_type": "markdown",
   "metadata": {},
   "source": [
    "*Fill in your ethics & privacy discussion here*",
    "\n",
    "The data of San Diego parks and park facilities should be public data and is accessible to every people. Analyzing the data for suggesting park facilities maintenance is ethical. For the data, personal information is not included since observation objects are parks and park facilities. Thus, the worry about privacy and potential bias for the datasets of San Diego parks and park facilities is scarcely any.",
    "\n",
    "In contrast, the data of San Diego resident feedback about park facilities could have privacy problem and bear potential bias. First, I may need authorization to access to the data. Second, since the observation objects are people, the data must be anonymized and store securely. Third, the data may not have representative sample. The data may gathered online, which means responders are those who can access the Internet and are willing to response, so feedback from those people may not accurately reflect common interest of San Diego residents. Therefore, I need to anonymize dataset and evaluate if the data sample is representative to better conduct my data analysis. "
   ]
  }
 ],
 "metadata": {
  "kernelspec": {
   "display_name": "Python 3",
   "language": "python",
   "name": "python3"
  },
  "language_info": {
   "codemirror_mode": {
    "name": "ipython",
    "version": 3
   },
   "file_extension": ".py",
   "mimetype": "text/x-python",
   "name": "python",
   "nbconvert_exporter": "python",
   "pygments_lexer": "ipython3",
   "version": "3.7.9"
  }
 },
 "nbformat": 4,
 "nbformat_minor": 2
}
