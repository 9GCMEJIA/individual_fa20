{
 "cells": [
  {
   "cell_type": "markdown",
   "metadata": {},
   "source": [
    "# COGS 108 - Project Proposal"
   ]
  },
  {
   "cell_type": "markdown",
   "metadata": {},
   "source": [
    "# Names & GitHub ID\n",
    "\n",
    "- Name: Bomed Pham\n",
    "- GitHub Username: BPham151"
   ]
  },
  {
   "cell_type": "markdown",
   "metadata": {},
   "source": [
    "# Research Question"
   ]
  },
  {
   "cell_type": "markdown",
   "metadata": {},
   "source": [
    "*Will having a well-established designated area for dogs affect the ratings for a park more positively?*"
   ]
  },
  {
   "cell_type": "markdown",
   "metadata": {},
   "source": [
    "## Background and Prior Work"
   ]
  },
  {
   "cell_type": "markdown",
   "metadata": {},
   "source": [
    "Based on the reviews of several dog parks, people are inclined to give better ratings to parks that cater more to their pets. One such example is when the San Diego City Council approved for a makeover for Fiesta Island. ",
    "From dog owners who visited Fiesta Island, they were satisfied of the decision's approval. Additionally, the park has high ratings since the place accomodates well for their dogs.\n",
    "\n",
    "References (include links):\n",
    "- 1) https://www.nbcsandiego.com/news/local/clear-the-shelters-2019-dog-parks-top-five-balboa-park-coronado-animals-pets-adopt/129799/\n",
    "- 2) https://www.nbcsandiego.com/news/local/city-council-approves-dog-friendly-makeover-for-fiesta-island/79566/\n",
    "- 3) https://www.yelp.com/biz/fiesta-island-off-leash-dog-park-san-diego"
   ]
  },
  {
   "cell_type": "markdown",
   "metadata": {},
   "source": [
    "# Hypothesis\n"
   ]
  },
  {
   "cell_type": "markdown",
   "metadata": {},
   "source": [
    "By having a well maintained dog park, dog owners are more inclined to visit again and leave positive ratings on review websites. Since the park caters well to their beloved pets, they will be satisfied."
   ]
  },
  {
   "cell_type": "markdown",
   "metadata": {},
   "source": [
    "# Data"
   ]
  },
  {
   "cell_type": "markdown",
   "metadata": {},
   "source": [
    "*Explain what the ideal dataset you would want to answer this question. (This should include: What variables? How many observations? Who/what/how would these data be collected? How would these data be stored/organized?)*"
   ]
  },
  {
   "cell_type": "markdown",
   "metadata": {},
   "source": [
    "# Ethics & Privacy"
   ]
  },
  {
   "cell_type": "markdown",
   "metadata": {},
   "source": [
    "*Fill in your ethics & privacy discussion here*"
   ]
  }
 ],
 "metadata": {
  "kernelspec": {
   "display_name": "Python 3",
   "language": "python",
   "name": "python3"
  },
  "language_info": {
   "codemirror_mode": {
    "name": "ipython",
    "version": 3
   },
   "file_extension": ".py",
   "mimetype": "text/x-python",
   "name": "python",
   "nbconvert_exporter": "python",
   "pygments_lexer": "ipython3",
   "version": "3.7.9"
  }
 },
 "nbformat": 4,
 "nbformat_minor": 2
}
