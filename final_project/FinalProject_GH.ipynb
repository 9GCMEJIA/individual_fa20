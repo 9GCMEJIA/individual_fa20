{
 "cells": [
  {
   "cell_type": "markdown",
   "metadata": {},
   "source": [
    "# COGS 108 - Final Project "
   ]
  },
  {
   "cell_type": "markdown",
   "metadata": {},
   "source": [
    "# Overview"
   ]
  },
  {
   "cell_type": "markdown",
   "metadata": {},
   "source": [
    "*Fill in your overview here*"
   ]
  },
  {
   "cell_type": "markdown",
   "metadata": {},
   "source": [
    "# Name & GitHub ID\n",
    "\n",
    "-  Name: Giselle Mejia\n",
    "- GitHub Username: 9GCMEJIA"
   ]
  },
  {
   "cell_type": "markdown",
   "metadata": {},
   "source": [
    "# Research Question"
   ]
  },
  {
   "cell_type": "markdown",
   "metadata": {},
   "source": [
    "Is there a relationship between street vendors and the demographic, number, and chosen activity of San Diego public park/shoreline visitors?"
   ]
  },
  {
   "cell_type": "markdown",
   "metadata": {},
   "source": [
    "## Background and Prior Work"
   ]
  },
  {
   "cell_type": "markdown",
   "metadata": {},
   "source": [
    "San Diego Parks and Recreation accounts foroverseeing nearly all public space including 40,000 acres of developed and undeveloped open space, 340 parks, 25 miles of shoreline, 57 recreation centers, 13 pools, 7 skate parks, 3 golf courses. Their overall mission is: \"To provide healthy, sustainable, and enriching environments for all.\" Their vision on the other hand is \"To connect all to the city’s diverse world class park system.\" In past studies, scholars have explored the relationship between park facilities, observed park use, and physical activity levels. They saw differences and trends with sedentary versus active visitors, female versus male, plus senior visitors and usage, recognizing that public parks in San Diego and their physical activity facilities are critical resources for low income households and minority communities--especially Latino communities. This \"data could be used to leverage funding for personnel, programming, and enhancing and maintaining facilities.\" \n",
    "\n",
    "Street vendors have become a normalized occurence throughout almost all San Diego major parks and shorelines. They spark success and profit for local businesses, plus wrung in many tourists. In the past years, however, stricter regulations and bans on vendors across San Diego were put into place to combat \"chaotic and dangerous conditions\" created vendors that involve illegal dumping of trash, violations of health and food safety regulations, plus unsafe traffic. The amendments to vendor policies have mainly negatively impacted minorities (especially Latinx) households. How is their presence and absence influencing the many public parks and beaches of San Diego?\n",
    "\n",
    "References:\n",
    "- https://www.sandiego.gov/parks-and-recreation\n",
    "    \n",
    "- https://www.sandiegouniontribune.com/communities/san-diego/story/2019-08-25/san-diego-considering-crackdown-on-flood-of-new-sidewalk-vendors\n",
    "  \n",
    "- https://js.sagamorepub.com/jpra/article/view/6078"
   ]
  },
  {
   "cell_type": "markdown",
   "metadata": {},
   "source": [
    "# Hypothesis\n"
   ]
  },
  {
   "cell_type": "markdown",
   "metadata": {},
   "source": [
    "I hypothesize that street vendors present at San Diego park and recreation sites correlate to a higher number of visitors of almost all demographics, especially tourists and local minorities. I predict this case because of prior experience with crowds where vendors are, plus prior knowledge of the attraction of people to vendors for the promise of access to unique goods and reasonable prices. Vendors in this light, possibly act as high driving forces that make San Diego parks social hubs, thus emphasizing a need in the next 5 years to renovate parks and add facilities that cater to a more vendor-friendly atmosphere (more tables, shades, public trash cans and recycling bins)."
   ]
  },
  {
   "cell_type": "markdown",
   "metadata": {},
   "source": [
    "# Dataset(s)"
   ]
  },
  {
   "cell_type": "markdown",
   "metadata": {},
   "source": [
    "*Fill in your dataset information here*\n",
    "\n",
    "(Copy this information for each dataset)\n",
    "- Dataset Name:\n",
    "- Link to the dataset:\n",
    "- Number of observations:\n",
    "\n",
    "1-2 sentences describing each dataset. \n",
    "\n",
    "If you plan to use multiple datasets, add 1-2 sentences about how you plan to combine these datasets."
   ]
  },
  {
   "cell_type": "markdown",
   "metadata": {},
   "source": [
    "# Setup"
   ]
  },
  {
   "cell_type": "code",
   "execution_count": 3,
   "metadata": {},
   "outputs": [],
   "source": [
    "## YOUR CODE HERE"
   ]
  },
  {
   "cell_type": "markdown",
   "metadata": {},
   "source": [
    "# Data Cleaning"
   ]
  },
  {
   "cell_type": "markdown",
   "metadata": {},
   "source": [
    "Describe your data cleaning steps here."
   ]
  },
  {
   "cell_type": "code",
   "execution_count": 4,
   "metadata": {},
   "outputs": [],
   "source": [
    "## YOUR CODE HERE\n",
    "## FEEL FREE TO ADD MULTIPLE CELLS PER SECTION"
   ]
  },
  {
   "cell_type": "markdown",
   "metadata": {},
   "source": [
    "# Data Analysis & Results"
   ]
  },
  {
   "cell_type": "markdown",
   "metadata": {},
   "source": [
    "Include cells that describe the steps in your data analysis."
   ]
  },
  {
   "cell_type": "code",
   "execution_count": 5,
   "metadata": {},
   "outputs": [],
   "source": [
    "## YOUR CODE HERE\n",
    "## FEEL FREE TO ADD MULTIPLE CELLS PER SECTION"
   ]
  },
  {
   "cell_type": "markdown",
   "metadata": {},
   "source": [
    "# Ethics & Privacy"
   ]
  },
  {
   "cell_type": "markdown",
   "metadata": {},
   "source": [
    "While my question does not directly involve any ambiguously ethical steps, the data collection process may involve ethical and privacy concerns. Privacy issues are more likely to arise when questioning visitors about their identity and their purpose at the park. Some may not be comfortable sharing this as they want to keep their leisure time and private life--private. Vendors may also be unwilling to share their personal profits and strategic value in how they sell their products and retain their customers as they may feel competitors are out to sabotage their business. While it will be hard to analyze this question with anonymity incorporated for the subjects, the question and date collection can still be conducted if the vendors are anonymous. And so, I will try to bypass privacy issues by specifically outlining the data collection purpose to each subject, asking for consent, and allowing for any questions to be refused to be answered. The collection process can create some ethical issues if involving stalking and observing individuals and groups at parks and then taking notes of what they assume gender, age group, and ethnicity the visitors are. This will generally cause a lot of bias and miscalculation. Overall, the process must be overt and involve simple questions and answers."
   ]
  },
  {
   "cell_type": "markdown",
   "metadata": {},
   "source": [
    "# Conclusion & Discussion"
   ]
  },
  {
   "cell_type": "markdown",
   "metadata": {},
   "source": [
    "*Fill in your discussion information here*"
   ]
  }
 ],
 "metadata": {
  "kernelspec": {
   "display_name": "Python 3",
   "language": "python",
   "name": "python3"
  },
  "language_info": {
   "codemirror_mode": {
    "name": "ipython",
    "version": 3
   },
   "file_extension": ".py",
   "mimetype": "text/x-python",
   "name": "python",
   "nbconvert_exporter": "python",
   "pygments_lexer": "ipython3",
   "version": "3.8.3"
  }
 },
 "nbformat": 4,
 "nbformat_minor": 4
}
