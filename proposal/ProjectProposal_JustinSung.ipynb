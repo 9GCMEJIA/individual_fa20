{
 "cells": [
  {
   "cell_type": "markdown",
   "metadata": {},
   "source": [
    "# COGS 108 - Project Proposal"
   ]
  },
  {
   "cell_type": "markdown",
   "metadata": {},
   "source": [
    "# Names & GitHub ID\n",
    "\n",
    "- Name: Justin Sung\n",
    "- GitHub Username: jjs050"
   ]
  },
  {
   "cell_type": "markdown",
   "metadata": {},
   "source": [
    "# Research Question"
   ]
  },
  {
   "cell_type": "markdown",
   "metadata": {},
   "source": [
    "Where should pet waste stations be placed in parks to minimize fecal contamination of San Diego's water supply? "
   ]
  },
  {
   "cell_type": "markdown",
   "metadata": {},
   "source": [
    "## Background and Prior Work"
   ]
  },
  {
   "cell_type": "markdown",
   "metadata": {},
   "source": [
    "According to the United States Department of Agriculture, dog waste is a major pollutant that is often found in major water supplies across the country as a result of runoff (1). The amount of nitrogen and phosphorus that is contained in dog waste can lead to oxygen depletion in the surrounding water it pollutes, killing off aquatic life due to oxygen depletion (1). Additionally, dog waste can also lead to rapid growth of harmful algae and pathogens that are both dagerous to local wildlife and humans (1). Pair this with the fact that about 21 percent of San Diego's 1.4 million population owns a dog, and it becomes clear that the scope of waste that can be produced in the county of San Diego alone can have a harmful impact on the surrounding environment (2). \n",
    "\n",
    "Prior studies have indeed shown that dog owners were more likely to clean up after their dogs when in the presence of pest-waste infrastructure. One particular study observed that dog owners were more likely to pick up dog waste in locations that offered easily accessible\n",
    "garbage bins that made them visible to other people and that were located close to pathway entrances and exits (3) Other studies have shown that enforcing more on-leash policies have a possible influence on reducing dog waste, as owners are able to keep track of when and where their dogs poop (3). \n",
    "\n",
    "References (include links):\n",
    "- 1) https://www.usda.gov/media/blog/2011/03/08/pet-waste-disposal-systems-help-protect-water-quality\n",
    "- 2) https://faunalytics.org/san-diego-county-survey-and-analysis-of-the-pet-population/\n",
    "- 3) https://lnt.org/wp-content/uploads/2018/10/2_2_18_OSMP_Pet_Waste_Final_Report-1-201802051053.pdf"
   ]
  },
  {
   "cell_type": "markdown",
   "metadata": {},
   "source": [
    "# Hypothesis\n"
   ]
  },
  {
   "cell_type": "markdown",
   "metadata": {},
   "source": [
    "I hypothesize that dog waste stations that are located in open areas visible to other people will yield a greater number of dog owners who clean up after their dogs than those located in obscure locations of a park. "
   ]
  },
  {
   "cell_type": "markdown",
   "metadata": {},
   "source": [
    "# Data"
   ]
  },
  {
   "cell_type": "markdown",
   "metadata": {},
   "source": [
    "The ideal dataset for dog owners would have information on what dog stations they visited, unique identifiers of each dog owner, and the number of times they visited said dog station. The ideal dataset for dog waste stations would be the frequency/amount of times a particular station is refilled, or how many bags are used for a particular dog waste station, as well as information regarding where each dog waste station was located throughout the park and number of people who pass by the dog station. \n",
    "\n",
    "Ideally we would want to be able to measure the number of unique dog owners that visit each dog waste station, compare dog stations based on different locations. However, due to limitaions and scope of the project we would only be able to keep the scope of the project to one park. Additionally we would like to be able to standardize and define the different locations of a park to reduce noise in the dataset, such as a standardize identification of each dog station in a park based on a number ID. "
   ]
  },
  {
   "cell_type": "markdown",
   "metadata": {},
   "source": [
    "# Ethics & Privacy"
   ]
  },
  {
   "cell_type": "markdown",
   "metadata": {},
   "source": [
    "One privacy concern that may come about regarding this project is to make sure that the identity of every dog owner is kept confidential, which is why it is important to just use numerical IDs to differentiate between different dog owners. This way, dog owners can just be observed from a distance without having to ask for names to use as unique identifiers and risk invasion of privacy. Additionally, there might be biases in how this data is collected, as it would ideally involve human observers in order to differentiate between dog owners who come to a particular dog waste station, which could be subject to error if lets say a dog owner comes back to the same station but is counted as a different dog owner. Another point to consider as well is the consequences of performing this analysis, where people who might read about this might consider one area of the park to be dirtier or unvisitable because it could potentially have more dog poop in that area. And finally, in terms of accuracy, it is worth considering that the number of dog owners that visit a particular dog waste station does not strictly equate to the number of dog poop that has been cleaned up. Other factors such as the number of dogs an owner had with them or whether one particular dog owner is consistent between each park does affect the accuracy of this analysis. \n"
   ]
  }
 ],
 "metadata": {
  "kernelspec": {
   "display_name": "Python 3",
   "language": "python",
   "name": "python3"
  },
  "language_info": {
   "codemirror_mode": {
    "name": "ipython",
    "version": 3
   },
   "file_extension": ".py",
   "mimetype": "text/x-python",
   "name": "python",
   "nbconvert_exporter": "python",
   "pygments_lexer": "ipython3",
   "version": "3.7.9"
  }
 },
 "nbformat": 4,
 "nbformat_minor": 2
}