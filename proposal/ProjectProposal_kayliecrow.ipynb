{
 "cells": [
  {
   "cell_type": "markdown",
   "metadata": {},
   "source": [
    "# COGS 108 - Project Proposal"
   ]
  },
  {
   "cell_type": "markdown",
   "metadata": {},
   "source": [
    "# Names & GitHub ID\n",
    "\n",
    "- Name: Kaylie Crow\n",
    "- GitHub Username: kayliecrow"
   ]
  },
  {
   "cell_type": "markdown",
   "metadata": {},
   "source": [
    "# Research Question"
   ]
  },
  {
   "cell_type": "markdown",
   "metadata": {},
   "source": [
    "What is the relationship between activity closures of the COVID-19 pandemic in the San Diego area and public interest in open green based spaces? Does this have possible long term implications for parks planning for the San Diego Parks and Recreation department?"
   ]
  },
  {
   "cell_type": "markdown",
   "metadata": {},
   "source": [
    "## Background and Prior Work"
   ]
  },
  {
   "cell_type": "markdown",
   "metadata": {},
   "source": [
    "The start of the COVID-19 pandemic saw continuous and widespread indoor activity closures, regressions, and evaluations. The County of San Diego established guidelines to stay 6-feet-apart and wear masks(1). With the limiting and closure of indoor activities, the City of San Diego has, through phases, required many activities to occur primarily outdoors. The State of California defines four phases of COVID-19 response. The Widespread, Purple, most restrictive phase, is explained as \"many non-essential indoor business operations are closed\"(2). The Substantial, Red phase, which the County of San Diego is currently in, is defined as \"some non-essential indoor business operations are closed\"(2). The Moderate Orange Phase is defined as \"Some indoor business operations are open with modifications''(2). The Minimal Yellow Phase is defined as \"most indoor business operations are open with modifications''(2).\n",
    "\n",
    "Across the country, different Parks and Recreation departments use judgement metrics to decide future planning of park areas. The Parks and Recreation department of San Diego has recently implemented a new judgement metric. Instead of the previous ratio of acreage and population data, there will be an activity focused points based value system in place(3). For example, the system will assign 2 points for \"Food Area/Concessions\" and 8 points for being close to a major bus stop(3)(4). If a park has enough points for a certain population, no new parks will be deemed necessary, regardless of the park's acreage(3).\n",
    "\n",
    "The renewed interest in outdoor activities due to the COVID-19 pandemic has been highlighted by Quartz online. The article by Michael Coren and Dan Kopf looked at Google's anonymized mobile phone data to determine the shift in how Americans now spend their time in the pandemic. Through their examination, they highlighted \"Every destination Google is tracking, from retail to office to restaurants, has seen a moderate to severe drop except one: parks, a category including everything from public beaches, dog parks, and marinas to national parks\". Parks have seen an 80% increase in how people are spending their time since January 2020(5). Recently, Congress has pledged 900 million annually to upkeep national parks, identifying \"the unusual show of bipartisanship that led to enact this legislation is largely due to the political and economic consequences of the COVID-19 pandemic\"(6).\n",
    "\n",
    "This project will look at how phase closures of activity within the San Diego area affect public interest in local open space recreation areas. This project will also explore what this means for the San Diego Parks and Recreation departments future planning within the next 5 years.\n",
    "\n",
    "\n",
    "References (include links):\n",
    "- 1)https://www.sandiegocounty.gov/content/sdc/hhsa/programs/phs/community_epidemiology/dc/2019-nCoV/face-coverings.html\n",
    "- 2)https://covid19.ca.gov/safer-economy/\n",
    "- 3)https://www.sandiego.gov/sites/default/files/draft_parks_master_plan_screen_quality.pdf\n",
    "- 4)https://www.sandiegoreader.com/news/2020/jul/20/stringers-san-diego-city-point-system-produce/\n",
    "- 5)https://qz.com/1908674/covid-19-has-americans-visiting-national-parks-in-record-numbers/\n",
    "- 6)https://news.harvard.edu/gazette/story/2020/07/the-likely-impact-of-great-american-outdoors-act/"
   ]
  },
  {
   "cell_type": "markdown",
   "metadata": {},
   "source": [
    "# Hypothesis\n"
   ]
  },
  {
   "cell_type": "markdown",
   "metadata": {},
   "source": [
    "I hypothesize that because the phases of San Diego heavily restrict indoor activities, the public has become greater interested in outdoor activities and open acreage green spaces over time. With the necessity of social distancing, I believe people will feel the need to spread out more within parks. Due to the lasting time periods of the pandemic phases in San Diego, I believe that the San Diego Parks Department will have to reevaluate their current plan for the future to provide more open acreage green areas."
   ]
  },
  {
   "cell_type": "markdown",
   "metadata": {},
   "source": [
    "# Data"
   ]
  },
  {
   "cell_type": "markdown",
   "metadata": {},
   "source": [
    "Ideally, the dataset for COVID-19 phases in San Diego County would include date and time the phase guidelines were announced, and the percent of recreational indoor activities allowed. The ideal dataset for information about public interest in open green spaces would include Google keyword search data of \"parks\" in local IP codes split between each park using location radius data, pinging of mobile phones location data for both local and national parks, and ticket sales of local opened national parks. For this project, locally opened national parks would be defined as within a 200 mile range of San Diego. \n",
    "\n",
    "This data would be organized into a table with rows and columns. Each row would be a park in the greater San Diego area, and every national park within a reasonable driving distance of San Diego, within 200 miles. The variables included in each column would be repeated and collected three times. These would be divided into 3 sections, the first representative of a time period the same time the year before, the second, after phase 1 was announced, and the third, after phase 2 was announced to the present. Next to the section labels would be the displayed percentage of recreational indoor activities allowed for each phase. The first section from the year before would display an assumed 100%. These time periods would be determined by collected data about San Diego County phases mentioned above. The variables included in these divisions would be Google keyword search data of \"parks\" in local IP codes split between each park using location radius data,  ticket sales of national parks within 200 miles, and pinging of mobile phone location data for each defined park in the San Diego County, and every national park within 200 miles of San Diego.\n",
    "\n",
    "This dataset would include as many rows as possible to fit all of San Diego County's parks and all national parks within a 200 mile radius. The number of observations would be reflective of the number of parks. This data would be stored in a table. This data could be organized into bar graphs.\n",
    "\n",
    "This data would be collected through Google API and web scraping to gather mobile phone location data, and the keyword searches of \"parks\" with corresponding IP address data. National parks data would be collected through published data API's on the national parks website. Information about date and time of implementing phases in San Diego County would be collected either manually through the official COVID-19 response webpage, or through web scraping."
   ]
  },
  {
   "cell_type": "markdown",
   "metadata": {},
   "source": [
    "# Ethics & Privacy"
   ]
  },
  {
   "cell_type": "markdown",
   "metadata": {},
   "source": [
    "This dataset described mainly relies solely on Google API and web scraping. As Google collects data from mobile phone locations and IP addresses, this could be considered an ethical privacy breach. Any identifying data must be scrubbed and anonymized before any analyzing is done. This indicates that the collection of data based on IP location distance to San Diego Parks may not be ethical to collect. The reputation of Google Analytics must also be considered before using it to inform the San Diego Parks department. The collection of mobile phone pinging data is arguably unethical. Information about the national parks can be collected ethically. Privacy is maintained, as the national parks publishes data free for the public. Any identifying information about visitors is scrubbed. Information about dates and time from the County of San Diego regarding phases can be collected ethically. Information about dates and times are transparent on the COVID-19 response website, and do not indicate a privacy concern, as they are from a public government entity. \n",
    "\n",
    "A potential bias to be considered in this data is the Google keyword search data of \"parks'' filtered by IP addresses. It is probable that certain areas may have more access to the internet to google parks in the area. A bias of certain areas seeming to prefer parks more may result from this. Similarly, many people do not have phones, or may not carry their phones to the park. This may bias certain areas, as mobile pinging data may be more scarce there. Also, to be considered is socioeconomic bias. People who have disposable money during the COVID-19 pandemic to visit national parks within 200 miles may be unequal to those who had this disposable money the year before. This is due to the economic crisis of the pandemic. This is a possible socioeconomic bias that must be considered.\n",
    "\n",
    "To address issues with Google, Google must be contacted and informed of this research. Express permission must be granted to use this data. This ensures that consumer privacy is not further breached. This project must consider possible alternatives to organizing data based on IP radius to parks. A possible alternative could be determining the number of visitors per year to each park averaged over the last year, adding them up, and multiplying IP search data by each park's percentage of the total. This may present bias in itself. Unless IP data is previously anonymized by Google, this ethical issue may still remain, as the data would still be in use. This may necessitate the elimination of keyword search data of \"parks\" in this project. To consider the reputation of Google Analytics, this research must use best judgement to apply results in an ethical, considerable manner. \n",
    "\n",
    "To address the possibility of bias, this paper must have separate columns to average the data over all the parks and compare this as well. The introduction of a seperate average metric will aim to eliminate location based bias discrepancies. Ticket sales during the Coronavirus pandemic must be fairly compared to local parks as best as possible, to ensure that socioeconomic bias is minimized.\n",
    "\n",
    "Finally, this project must ensure causality is established. This paper cannot ascertain that long term implications exist, but must continuously monitor with available, authorized data, to establish patterns of public opinion. San Diego Parks and Recreation is a public government department, and thus must serve the people equitably, and fairly through continuous research. "
   ]
  }
 ],
 "metadata": {
  "kernelspec": {
   "display_name": "Python 3",
   "language": "python",
   "name": "python3"
  },
  "language_info": {
   "codemirror_mode": {
    "name": "ipython",
    "version": 3
   },
   "file_extension": ".py",
   "mimetype": "text/x-python",
   "name": "python",
   "nbconvert_exporter": "python",
   "pygments_lexer": "ipython3",
   "version": "3.8.3"
  }
 },
 "nbformat": 4,
 "nbformat_minor": 2
}
