{
 "cells": [
  {
   "cell_type": "markdown",
   "metadata": {},
   "source": [
    "# COGS 108 - Project Proposal"
   ]
  },
  {
   "cell_type": "markdown",
   "metadata": {},
   "source": [
    "# Names & GitHub ID\n",
    "\n",
    "- Name: Yutong Luo\n",
    "- GitHub Username: rachelluoyt"
   ]
  },
  {
   "cell_type": "markdown",
   "metadata": {},
   "source": [
    "# Research Question"
   ]
  },
  {
   "cell_type": "markdown",
   "metadata": {},
   "source": [
    "Does the division of areas in each park influence users' willingness to use it?"
   ]
  },
  {
   "cell_type": "markdown",
   "metadata": {},
   "source": [
    "## Background and Prior Work"
   ]
  },
  {
   "cell_type": "markdown",
   "metadata": {},
   "source": [
    "Since the topic is about parks and recreations in San Diego, and we are encouraged to make suggestions for the city planners, I need to come up with plans that could benefit the parks and its users as a whole. Thus, I believe the design of each park is really important, and it will influence the number of users of each park. If a park has appropriate divisions with various functions, it is possible that it will attract users and profit more. While users have more options for activities, they could find a place to take a breath, releasing stress in a fast-paced world.\n",
    "\n",
    "First, based on my obeservation, I think the size of different space will impact people's choices of recreation activities. Because in different divisions in one park, the choices can be clearly reflected. In large open spaces, people tend to have more dynamic activituies, such as throwing frisbees, playing volleyballs and jogging around; while in some restricted grounds, park users will cluster in groups and remain static, doing stretch, lying on the grass while chatting, or camping with friends. Thus, the design of park divisions is really important for users to decide their recreational activities. And more various divisions will serve more functions for users.\n",
    "\n",
    "In addition, I did some research on the topic and many of them support my prediction of positive corelation. One of the researches mentions \"Types and conditions of park features as well as park programming influence park use and physical activity. For example, walking trails, sports fields, and courts attract visitors to parks, and parks with multiple features are associated with increased physical activity. Parks that offer more recreational programs also attract more users.\" (I attach it in reference 1) This verify my assumtiptions about correlations between divisions of parks and park uses.\n",
    "\n",
    "More importantly, I also find some articles that might weaken my prediction. And this urges me to take more factors into account when thinking about people's willingness to use parks. For example, one research mentioned that \"Certain populations, however, are less likely to use public parks. Park activity participation rates depend upon a variety of demographic, socioeconomic, and regional characteristics. In particular, inner-city and poor populations are much less likely to report participation in outdoor recreation activities than other metropolitan and nonmetropolitan residents.\"(referenece 2)Thus, I might need to take some counfouding factors such as demographic location, social status, income and races into consideration when deciding the possible design of parks and people's use of parks.\n",
    "\n",
    "References (include links):\n",
    "- 1) https://www.ncbi.nlm.nih.gov/pmc/articles/PMC4041932/\n",
    "- 2) https://www.ajpmonline.org/article/S0749-3797(04)00304-6/fulltext#secd3531165e337"
   ]
  },
  {
   "cell_type": "markdown",
   "metadata": {},
   "source": [
    "# Hypothesis\n"
   ]
  },
  {
   "cell_type": "markdown",
   "metadata": {},
   "source": [
    "My hypothesis is that, with more recreational divisions, parks will attract more users. My defend for this argument is  reflected in my background research. In short, parks will provide users more options if they have different divisions. By doing so, they can offer spaces for people with different interests, especially at a time when everyone wants to pursue a diverse and healthy life in this past-paced world."
   ]
  },
  {
   "cell_type": "markdown",
   "metadata": {},
   "source": [
    "# Data"
   ]
  },
  {
   "cell_type": "markdown",
   "metadata": {},
   "source": [
    "*Explain what the ideal dataset you would want to answer this question. (This should include: What variables? How many observations? Who/what/how would these data be collected? How would these data be stored/organized?)*\n",
    "* I need variables about different park names, their division of recreational activities, and its average number of users monthly or quartly. Furthermore, since I need to analyze some confounding variables like I mentioned in the background research part, it is better to include some variable about some information of users and the location of the park.\n",
    "* For number of obervations, it could include all parks in the San Diego area. Because what I'm required to analyze here is the parks in San Diego and make suggestions for the San Diego city planner. Only have representative parks in sd or including park info from other areas might result in bias in result. Because different cities might have various circumstances.\n",
    "* Who: the data can be collected from the department that in charge of city parks. Such as city planning department, or the city's park audit system.\n",
    "* What: the data need to collect the variales I mentioned in all sd parks. Park locations, divisions, names, number of users and info of users if possible.\n",
    "* How: The audit system will serve the function of providing the data. Each park must have registered its name, location and divisions. And when it is selling tickets, we could track the number of users and info of users if possible.\n",
    "* For the store of data, it is perfect if they are stored in csv files. It renders cleaning and organizatin of data more easily. And each variable should be in correct type. For example, the location of the parks should be addresses, and the number of users should be number."
   ]
  },
  {
   "cell_type": "markdown",
   "metadata": {},
   "source": [
    "# Ethics & Privacy"
   ]
  },
  {
   "cell_type": "markdown",
   "metadata": {},
   "source": [
    "* I have permission to use this data because it is provided by the class.\n",
    "* If the data includes some info of park users, I need to deal with privacy concerns.\n",
    "* Since I cannot see the data until the final week, I could only make some assumptions. If the data collection excludes racial minorities in sd area or it excludes some social groups during the collection of data, it will be biased.\n",
    "* There are no other issues of data privacy or equitable impact in this project.\n",
    "* How to handle the issue I itendified:\n",
    "\n",
    "Since the data might be problematic in the way that it might excludes some groups during data collection, it would be hard for me to change. Because for this project, the data is provided to me, and I have no control over it. The best I can do is to look for more dataset that relates to this one, which includes the ethnical information and social status about the park users.\n",
    "\n",
    "For other possible issues, I tried to avoid them. I proposed a questions that I'm familiar with and I considered the implication of my work. If I just blindly look for the relation between park division and park use, it will be problematic. Because if the city plan department asks the parks to construct more divisions for more users, it is highly likely the price of ticket will rise. This will drive some social groups unable to access parks. Thus, I will take many factors such as ethnics and income into consideration. Thus the data will be adequate, with known and manageable biases. I will keep the privacy of the data and store it securely if it includes info about the park users.\n",
    "I will measure the data with objectivity and propose relation instead of causality to avoid the aforementioned situation. This project is understandable and appealing. Its result could benefit both the parks and their users. And if possible, I will moniter any changes happened and I will plan to update my model accordingly.\n"
   ]
  },
  {
   "cell_type": "code",
   "execution_count": null,
   "metadata": {},
   "outputs": [],
   "source": []
  }
 ],
 "metadata": {
  "kernelspec": {
   "display_name": "Python 3",
   "language": "python",
   "name": "python3"
  },
  "language_info": {
   "codemirror_mode": {
    "name": "ipython",
    "version": 3
   },
   "file_extension": ".py",
   "mimetype": "text/x-python",
   "name": "python",
   "nbconvert_exporter": "python",
   "pygments_lexer": "ipython3",
   "version": "3.7.6"
  }
 },
 "nbformat": 4,
 "nbformat_minor": 2
}
