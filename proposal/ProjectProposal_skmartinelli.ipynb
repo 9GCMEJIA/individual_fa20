{
 "cells": [
  {
   "cell_type": "markdown",
   "metadata": {},
   "source": [
    "# COGS 108 - Project Proposal"
   ]
  },
  {
   "cell_type": "markdown",
   "metadata": {},
   "source": [
    "# Names & GitHub ID\n",
    "\n",
    "- Name: Samuel Martinelli \n",
    "- GitHub Username: skmartinelli"
   ]
  },
  {
   "cell_type": "markdown",
   "metadata": {},
   "source": [
    "# Research Question"
   ]
  },
  {
   "cell_type": "markdown",
   "metadata": {},
   "source": [
    "How has the amount of bank robberies changed in in the last 20 years changed with respect to the releases of major bank robbery films and video games?"
   ]
  },
  {
   "cell_type": "markdown",
   "metadata": {},
   "source": [
    ""
   ]
  },
  {
   "cell_type": "markdown",
   "metadata": {},
   "source": [
    "* I have a decent interest in bank robberies because some of my favorite video games and movies include bank robbing scenes, such as the video games Payday 2 or Grand Theft Auto 5, or movies The Dark Knight and Point Break. I'm curious to see how films portraying the crimes could have an impact on the amount of these crimes being commited or attempted. Additionally after looking into the data I'm interested to see if there's other correlations to be found, as the FBI releases annual detailed reports about bank crimes. * \n",
    "\n",
    "References (include links):\n",
    "- 1) Payday 2   \n",
    "- 2) FBI: fbi.gov/investigate/violent-crime/bank-robbery/bank-crime-reports "
   ]
  },
  {
   "cell_type": "markdown",
   "metadata": {},
   "source": [
    " I hypothesize that releases of videogames or movies showing successful heists and their techniques would result in higher (attempted) bank robberies. \n"
   ]
  },
  {
   "cell_type": "markdown",
   "metadata": {},
   "source": [
    "*I hypothesize the releases of videogames or movies showing successful heists and their techniques would result in higher amounts of attempted bank robberies. The act of showing the tools that banks use to deter robberies and how criminals may avert them may instill confidence in would-be robbers into finally attempting the act.*"
   ]
  },
  {
   "cell_type": "markdown",
   "metadata": {},
   "source": [
    "# Data"
   ]
  },
  {
   "cell_type": "markdown",
   "metadata": {},
   "source": [
    " The ideal dataset that I would like to answer this question would be the amount of bank crimes committed annually. There could be other variables involved such as the sex or ethnicity, success rate or even amount stolen, but I think the main one I should focus on is the amount of crimes committed or attempted. The FBI already releases a robust dataset of annual bank crimes so I plan to use that. It's linked above. I would plan to organize the data in a line graph because that would be the best way to show its changes over time.*"
   ]
  },
  {
   "cell_type": "markdown",
   "metadata": {},
   "source": [
    "# Ethics & Privacy"
   ]
  },
  {
   "cell_type": "markdown",
   "metadata": {},
   "source": [
    "I think the main concern of ethics in my study would be if I used the ethnicity data provided by the FBI as it may be misconstrued into harmful ways of thinking. The amount shown isn't representative of many different factors which may contribute to different ethinicities committing more or less bank robberies so I think it would be best to avoid it. Same thing with sex, but I feel like that may be easier to work with."
   ]
  }
 ],
 "metadata": {
  "kernelspec": {
   "display_name": "Python 3",
   "language": "python",
   "name": "python3"
  },
  "language_info": {
   "codemirror_mode": {
    "name": "ipython",
    "version": 3
   },
   "file_extension": ".py",
   "mimetype": "text/x-python",
   "name": "python",
   "nbconvert_exporter": "python",
   "pygments_lexer": "ipython3",
   "version": "3.7.9"
  }
 },
 "nbformat": 4,
 "nbformat_minor": 2
}
