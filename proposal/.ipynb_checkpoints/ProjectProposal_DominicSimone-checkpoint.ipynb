{
 "cells": [
  {
   "cell_type": "markdown",
   "metadata": {},
   "source": [
    "# COGS 108 - Project Proposal"
   ]
  },
  {
   "cell_type": "markdown",
   "metadata": {},
   "source": [
    "# Names & GitHub ID\n",
    "\n",
    "- Name: Dominic Simone\n",
    "- GitHub Username: DominicSimone"
   ]
  },
  {
   "cell_type": "markdown",
   "metadata": {},
   "source": [
    "# Research Question"
   ]
  },
  {
   "cell_type": "markdown",
   "metadata": {},
   "source": [
    "### Parks & Recreation in San Diego\n",
    "\n",
    "Audit the city's parks system and advise the city on what to do in the next five years.\n",
    "***\n",
    "\n",
    "How does the number of visitors in a park correlate to the enjoyment gained by said visitors? If parks are too crowded, do visitors have a bad time? Do parks have an optimal capacity where the most visitors can get the most enjoyment out of their visit? Do any or all parks have overcrowding problems? If overcrowding affects the enjoyment gained by visitors, how can visitors be delayed or directed towards undercrowded parks so that when they do visit a park they enjoy their stay?\n",
    "\n",
    "Follow up questions:\n",
    "\n",
    "Can the parks and recreation department increase the optimal capacity for any of the parks it manages? How can the parks and recreation department inform visitors of when they should visit a specific park?"
   ]
  },
  {
   "cell_type": "markdown",
   "metadata": {},
   "source": [
    "## Background and Prior Work"
   ]
  },
  {
   "cell_type": "markdown",
   "metadata": {},
   "source": [
    "Through search engine queries I was not able to find any prior data analysis of overcrowding in San Diego parks, but from my research I have determined that overcrowding is a **common** and **well-known** problem. Both links in the references [1][2] point to websites who's purpose is to guide visitors into visiting parks during less-crowded times. From this we can determine that there are enough visitors looking for the best times to visit a park to warrant these sites' existence.\n",
    "\n",
    "Despite finding no local search results, I was able to find some analysis of parks outside of San Diego. One article about the Arches National Park cited overcrowding as a long term problem that has gotten worse recently because of the Covid-19 pandemic and says that \"the park has used 'delayed entry' as a crowd control tactic for years\" to help control crowding [3]. The same article also cites some ways that overcrowding makes the experience worse for visitors, \"if there are too many people in Arches, trails become crowded and overrun, people park in non-designated areas damaging wildlife and ultimately, contentions run high. Hulls said there have been fights in parking lots, city-style honking and once, someone allegedly called 911 over a parking spot.\" [3].\n",
    "\n",
    "The Arches article also lays out some solutions that were turned down, of which I won't list here for brevity's sake. The final solution they arrived at... doesn't exist. They have yet to come up with one, the park officials are \"planning on conducting more surveys and studies in February 2021, and are currently in 'draft stages'\".[3] The article made it clear that the park officials did not have the data they wanted to make the right decision.\n",
    "\n",
    "Another article listed a few possible solutions along with evidence of rising overcrowding, including upping fees to visitors, charging foreign tourists more, expanding group tours, expanding shuttle lines, and regulating number of buses allowed in the park [4]. Most of these can be boiled down to charging more, limiting the capacity of the park, or moving visitors through the park faster, all of which are reasonable and would likely help with overcrowding. They seem appropriate for large parks, but what about smaller parks? This article suggested many solutions but did not have much data to present on the efficacy of these solutions.\n",
    "\n",
    "Since overcrowding problems do not seem like they are specific to any single park, I would expect to find similar results for our parks here in San Diego. And depending on the dataset given, I may be able to reason out a solution that could work for our city parks that may not have been appropriate for the more popular, national parks above.\n",
    "\n",
    "References (include links):\n",
    "- 1) https://www.isitpacked.com/crowd-calendars/san-diego-zoo-safari-park/\n",
    "- 2) https://www.undercovertourist.com/san-diego/crowd-calendar/\n",
    "- 3) https://www.thespectrum.com/story/news/2020/10/02/why-arches-national-park-overcrowded-causing-3-hour-closures/5794277002/\n",
    "- 4) https://wanderlustphotosblog.com/2019/04/03/what-to-do-about-overcrowding-at-national-parks/"
   ]
  },
  {
   "cell_type": "markdown",
   "metadata": {},
   "source": [
    "# Hypothesis\n"
   ]
  },
  {
   "cell_type": "markdown",
   "metadata": {},
   "source": [
    "Hypothesis: Overcrowding is a common, well-known problem with state/national parks. San Diego parks with too many visitors are overall less enjoyable to experience and every park will have some visitor capacity threshold at which adding more visitors will make the experience worse for everyone involved. \n",
    "\n",
    "Guidance to Parks and Recreation: However, we still want as many people to experience our wonderful parks as possible, so we will want to 1) increase the effective visitor capacity to crowded parks and 2) direct visitors to local, undercrowded parks (if existing) to both lessen the strain on more popular parks and also increase attention on lesser known parks."
   ]
  },
  {
   "cell_type": "markdown",
   "metadata": {},
   "source": [
    "# Data"
   ]
  },
  {
   "cell_type": "markdown",
   "metadata": {},
   "source": [
    "*Explain what the ideal dataset you would want to answer this question. (This should include: What variables? How many observations? Who/what/how would these data be collected? How would these data be stored/organized?)*\n",
    "\n",
    "The ideal data set would include the following data for all parks in San Diego for the previous 5 years:\n",
    "- Total area of active land per park (i.e. where visitors can be active; such as swim or climb)\n",
    "- Total area of walkable land per park (i.e. paths where visitors could be walking around)\n",
    "- Total area of resting space per park (i.e. are there benches? tables? resting areas?)\n",
    "- Total area of sight-seeing space per park (i.e. if there is a notable feature of the park, how large is the area from which visitors can observe said feature?)\n",
    "- Hourly visitor count (i.e. population of people in park for every open hour of the park)\n",
    "- Hourly visitor density heatmap (i.e. really stretching the ideal dataset here, but a geographical chart that shows the visitor density every hour would be very helpful)\n",
    "- Visitor sentiment both before/after visiting the park and what time of day they arrived/left (i.e. 2/10 happy -> 5/10 happy)\n",
    "- Visitor score on how crowded the park was (0/10-10/10)\n",
    "- Visitor yes/no on whether or not there were too many people in the park\n",
    "- Hourly weather (not strictly necessary but could be a potential confounding variable)"
   ]
  },
  {
   "cell_type": "markdown",
   "metadata": {},
   "source": [
    "# Ethics & Privacy"
   ]
  },
  {
   "cell_type": "markdown",
   "metadata": {},
   "source": [
    "Did you have permission to use this data / use it for this purpose?\n",
    "> We are being given a dataset to attempt to audit the parks and rec system, so presumably yes.\n",
    "\n",
    "Are there privacy concerns regarding your datasets that you need to deal with, and/or terms of use that you need to comply with?\n",
    "> At least with the ideal dataset I outlined above, there is no need for personally identifiably information for this data analysis. The only information we need about every visitor is what date/time they attended the park, and how they enjoyed their visit. So there is no real privacy concerns even if the entire dataset is leaked. My ideal dataset does not have terms of use.\n",
    "<br>\n",
    "<br>\n",
    "However, the real dataset may have PII data involved or terms of use associated with it. Until we receive the dataset, I cannot answer this question completely.\n",
    "\n",
    "Are there potential biases in your dataset(s), in terms of who it composes, and how it was collected, that may be problematic in terms of it allowing for equitable analysis? (For example, does your data exclude particular populations, or is it likely to reflect particular human biases in a way that could be a problem?)\n",
    "> I do not see any relevant biases in my ideal dataset. The visitors to the park are the only possible source of bias, potentially knowing what types of people visit the park and for what reason could help in expanding the demographic of attendees by appealing to those that don't visit the park.\n",
    "\n",
    "Are there any other issues related to your topic area, data, and/or analyses that are potentially problematic in terms of data privacy and equitable impact?\n",
    "> None that I am aware of without the real dataset.\n",
    "\n",
    "How will you handle issues you identified? (1-2 paragraphs)\n",
    "> For the real dataset, the issues that could popup are privacy and terms of use. For privacy, I will likely strip out all PII as it is not needed for my analysis. I will likely already be meeting the terms of use of whatever dataset is given, but I am willing to change my approach if the terms of use call for it."
   ]
  },
  {
   "cell_type": "code",
   "execution_count": null,
   "metadata": {},
   "outputs": [],
   "source": []
  }
 ],
 "metadata": {
  "kernelspec": {
   "display_name": "Python 3",
   "language": "python",
   "name": "python3"
  },
  "language_info": {
   "codemirror_mode": {
    "name": "ipython",
    "version": 3
   },
   "file_extension": ".py",
   "mimetype": "text/x-python",
   "name": "python",
   "nbconvert_exporter": "python",
   "pygments_lexer": "ipython3",
   "version": "3.6.10"
  }
 },
 "nbformat": 4,
 "nbformat_minor": 2
}
