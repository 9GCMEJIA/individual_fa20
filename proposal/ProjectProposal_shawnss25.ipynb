{
 "cells": [
  {
   "cell_type": "markdown",
   "metadata": {},
   "source": [
    "# COGS 108 - Project Proposal"
   ]
  },
  {
   "cell_type": "markdown",
   "metadata": {},
   "source": [
    "# Names & GitHub ID\n",
    "\n",
    "- Name: Shawn Sewell-Snyder\n",
    "- GitHub Username: shawnss25"
   ]
  },
  {
   "cell_type": "markdown",
   "metadata": {},
   "source": [
    "# Research Question"
   ]
  },
  {
   "cell_type": "markdown",
   "metadata": {},
   "source": [
    "With the steady increase in population in San Diego and the assumed increase in climate change, will the parks be more affected by pollution, water shortage, over-use by public (wear and tear), etc?"
   ]
  },
  {
   "cell_type": "markdown",
   "metadata": {},
   "source": [
    "## Background and Prior Work"
   ]
  },
  {
   "cell_type": "markdown",
   "metadata": {},
   "source": [
    "Climate change is becoming a major issue in today's world. It has the potential to cause droughts, raise sea levels, pollute the air and much more. According to census.gov (reference 2), San Diego is seeing a large increase in population. It is assumed that with more people, there will be more CO2 emissions (reference 1), only adding fuel to the climate change fire. With more CO2 emissions, the parks and rec centers in San Diego will be under an even greater threat.\n",
    "\n",
    "Thankfully, the city of San Diego has recognized this threat of climate change and has created a plan (reference 3) that will help curb the effects of global warming. For example, they want to reduce fuel consumption by 15% each year. Reference 1 shows the studies done which portrays things such as how the coast line would be affected by rising sea levels and the impact on water. Parks rely on water, for example, to keep everything green and prestine looking, and also rely on the coast line not being underwater/erroded by rising sea levels. \n",
    "\n",
    "References (include links):\n",
    "- 1) https://www.sandiego.gov/sites/default/files/legacy/environmental-services/pdf/sustainable/2050climate.pdf\n",
    "- 2) https://www.census.gov/quickfacts/geo/chart/sandiegocitycalifornia/PST045219\n",
    "- 3) https://www.sandiego.gov/sites/default/files/legacy/environmental-services/sustainable/pdf/action_plan_07_05.pdf"
   ]
  },
  {
   "cell_type": "markdown",
   "metadata": {},
   "source": [
    "# Hypothesis\n"
   ]
  },
  {
   "cell_type": "markdown",
   "metadata": {},
   "source": [
    "I hypothesize that even with an increase in population (reference 2), with the city's climate change plan (reference 3 above), the parks will experience little to no negative effects due to global warming. The city has done their research (reference 1 above) and knows the consequences if they do not act now, hence, the creation of their plan to effectively combat climate change."
   ]
  },
  {
   "cell_type": "markdown",
   "metadata": {},
   "source": [
    "# Data"
   ]
  },
  {
   "cell_type": "markdown",
   "metadata": {},
   "source": [
    "I would need a data set that included the current and projected population of San Diego, along with data on local San Diego weather, amount San Diego park visitors, amount of San Diego park waste that is collected, and data that reflects the city's climate change plan (for example 15% reduction of fuel consumption per year). \n",
    "\n",
    "I would want as many observations as possible, so that a two projections could be made about the future: 1) successful implementation of the city's plan and 2) failed implementation of city's plan. \n",
    "\n",
    "This data would be collected by the local government in coordination with any other third-party affiliation that could \"double check\" the government's work by comparing their own data analyse. \n",
    "\n",
    "Waste management could collect the data for trash collection. Parks and rec department could collect data on amount of visitors. Meteorologists could collect the data on weather. Local government census could collect population data.\n",
    "\n",
    "This data would be stored in their own respective tables. From these tables, projections would be made. From the projections, correlations would be made. From the correlations, we would be able to have a better idea whether or not the city's plan was working (given that they were successfully executing it)."
   ]
  },
  {
   "cell_type": "markdown",
   "metadata": {},
   "source": [
    "# Ethics & Privacy"
   ]
  },
  {
   "cell_type": "markdown",
   "metadata": {},
   "source": [
    "I don't see any ethics or privacy related issues with this research. When it comes to park visitors and the city's population, the people would simply just be counted. Nothing else about them (name, sex, age, etc) would be recorded. The weather data is objective; I don't see how there could be any bias in the objective weather collection unless the equipment was faulty. The park waste would also be an objective measure, unless people were purposefully not properly recording all the trash being collected. Given the city is meeting their goals when it comes to their plan (ex- 15% reduction in fuel consumption per year), the data correlating to whether or not their plan having some effect would also be objective. Of course there could be other factors as to why climate change may not be affecting the city as much, but according to the projections from reference 1, if no plan were to take place, I believe that it would be obvious whether or not the plan was actually working. If the city kept doing what it was doing without the plan, we would see situation A happen. If the city met their goals and saw that the threat to climate change had gone down (situation B), it would be hard to tell if 100% of the decrease in threat was due to the successful execution of the climate change plan, but it could be assumed that at least 90% of the decrease was due to the proper carryout of the plan."
   ]
  },
  {
   "cell_type": "code",
   "execution_count": null,
   "metadata": {},
   "outputs": [],
   "source": []
  }
 ],
 "metadata": {
  "kernelspec": {
   "display_name": "Python 3",
   "language": "python",
   "name": "python3"
  },
  "language_info": {
   "codemirror_mode": {
    "name": "ipython",
    "version": 3
   },
   "file_extension": ".py",
   "mimetype": "text/x-python",
   "name": "python",
   "nbconvert_exporter": "python",
   "pygments_lexer": "ipython3",
   "version": "3.7.6"
  }
 },
 "nbformat": 4,
 "nbformat_minor": 2
}
