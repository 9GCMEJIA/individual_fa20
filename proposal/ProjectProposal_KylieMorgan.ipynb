{
 "cells": [
  {
   "cell_type": "markdown",
   "metadata": {},
   "source": [
    "# COGS 108 - Project Proposal"
   ]
  },
  {
   "cell_type": "markdown",
   "metadata": {},
   "source": [
    "# Names & GitHub ID\n",
    "\n",
    "- Name: Kylie Morgan\n",
    "- GitHub Username: Kylie-Morgan"
   ]
  },
  {
   "cell_type": "markdown",
   "metadata": {},
   "source": [
    "# Research Question"
   ]
  },
  {
   "cell_type": "markdown",
   "metadata": {},
   "source": [
    "These are some of the initial questions from when I was considering topics:\n",
    "Given the data emissions from parks and rec sponsored projects, operations, and materials, what are the best areas for improvement?\n",
    "Pay discrepancies between race and genders?\n",
    "Survey to see if people are using it, the charts of use over corona? Are different sectors of parks being used more or less after covid?\n",
    "What do our parks  have to offer? Is there something for everyone? What are the parks mainly being used for? Is this where the money is going?\n",
    "\n",
    "From these questions, I narrowed it down to:\n",
    "Is there a relationship to an individual park’s budget/money invested and average attendance across a week? Is the reason that people are attending the park the reason for the money? (i.e. luscious lawns would be causal for grownskeeping)"
   ]
  },
  {
   "cell_type": "markdown",
   "metadata": {},
   "source": [
    "## Background and Prior Work"
   ]
  },
  {
   "cell_type": "markdown",
   "metadata": {},
   "source": [
    "In the study Associations of neighborhood characteristics with active park use: an observational study in two cities in the USA and Belgium, San Diego parks were compared to parks in Ghent Belgium. The parks were ranked by four quadrants categorized by crossing high/low walkability and high/low socioeconomic status of neighborhoods: high-walkable/high-income, high-walkable/low-income, low-walkable/high-income and low-walkable/low-income neighborhoods. Data was collected for two months and recorded using two tools: Environmental Assessment of Public Recreation Spaces and System for Observing Play and Recreation in Communities. The data was analyzed for trends. One that really stood out to me is that “in the high-income neighborhood parks more children, adolescents, fewer adults and fewer older adults were observed than in the low-income neighborhoods” (Dyck et.all). I think that I might need to consider the economic background of the park, as well as park attendance. They also noted that a large portion of park visits didn’t include walking or much mobile activity. I am going to amend my analysis to include time spent overall instead of activities completed. \n",
    "\n",
    "I then wanted to look at a study that charted improvement. The Human Kinetics Journal released a paper on making parks more appealing to low-income minority youth, as there is a trend in lower levels of physical activity. The study compared two unrenovated parks with two undergoing renovation. The findings show that park improvements had a significant impact on park use and local physical activity. I think that in my analysis it’ll be important to note the latest update to the parks I chose. Next, I looked into the SanDiego Parks and Rec website and reddit accounts to see if there were any major complaints or changes. I came across the Park Design Manual and was able to get an idea of the reasoning behind the design of the parks; the department keeps sustainability, safety, accessibility, and amenities at the top of their list. They also highlighted spatial considerations under multiple sections, like dog parks, children’s play areas, and sports courts. The design of the park is meant to boost user experience. Towards the end of the manual there a section overviewing how parks are designed to decrease crime. \n",
    "\n",
    "There have been multiple articles reporting covid spikes from large crowd gatherings in Parks, particularly in Mission Bay. An article in the San Diego Union Tribune noted that there was a  large gathering without masks in September. There were also complaints from people who live near the park about unsanctioned fires. From articles like this, I think I need to amend my data to only include a column for people who are wearing masks. It is really important to note social safety. If the park is being highly occupied in an unsafe way this is a greater issue for SD. The Parks and Rec website Covid Response page is difficult to navigate. The updates are long and force the user to scroll if they want to look into past comments. With the data, if I notice a trend in certain places having a lot of people who don’t wear masks I will look into the signs Parks and Rec has put up/ \n",
    "\n",
    "References (include links):\n",
    "- 1) Van Dyck, D., Sallis, J. F., Cardon, G., Deforche, B., Adams, M. A., Geremia, C., & De Bourdeaudhuij, I. (2013). Associations of neighborhood characteristics with active park use: an observational study in two cities in the USA and Belgium. International journal of health geographics, 12(1), 26.\n",
    "https://link.springer.com/article/10.1186/1476-072X-12-26\n",
    "- 2) Cohen, D. A., Han, B., Isacoff, J., Shulaker, B., Williamson, S., Marsh, T., ... & Bhatia, R. (2015). Impact of park renovations on park use and park-based physical activity. Journal of physical activity and health, 12(2), 289-295.\n",
    "- 3) https://www.sandiegouniontribune.com/news/politics/story/2020-09-06/big-crowds-during-pandemic-creating-problems-in-mission-bay-park\n",
    "- 4) https://www.sdparks.org/content/dam/sdparks/en/pdf/Development/Park%20Design%20Manual.pdf"
   ]
  },
  {
   "cell_type": "markdown",
   "metadata": {},
   "source": [
    "# Hypothesis\n"
   ]
  },
  {
   "cell_type": "markdown",
   "metadata": {},
   "source": [
    "I think that parks with higher budgets and more money invested are going to have greater attendance. Families are more likely to go to a well-kept park because it reflects on the safety of the park. People appreciate access to well kept facilities; no one wants to use a public restroom if it looks unkept. Children are more attracted to new playgrounds with greater variation in structures to play with. \n"
   ]
  },
  {
   "cell_type": "markdown",
   "metadata": {},
   "source": [
    "# Data"
   ]
  },
  {
   "cell_type": "markdown",
   "metadata": {},
   "source": [
    "My ideal data would be how many people who use the park and if they’re happy. I would love a count of the total people each day and a survey of what they used the park for, whether they come to the park a lot, what they like about the park. (categories: grass, view, playground, tennis courts, etc.)\n",
    " My observations would be counts of people across locations and time. I would love to know how many people averaged a certain amount of time in various areas. I need observations across at least one week to account for work variation between days. \n",
    " \n",
    "The second part of my project needs the cost. I need how much money is going into the parks. This would need to be averaged across the month because the lawns only need to be mowed once every other week. Which parks were recently updated with new playsets or new bathrooms. Do some parks need security? These would be a mix of yes no answers and costs.\n",
    "\n",
    "This would be in multiple tables. The parks will need to be categorized with like parks: dog parks vs beaches might not be comparable. Then the costs would be categorized into categories of what the budget accounts for. In the adjacent table there would be park attendance (a count of people) their average time across different sections of the park. \n"
   ]
  },
  {
   "cell_type": "markdown",
   "metadata": {},
   "source": [
    "# Ethics & Privacy"
   ]
  },
  {
   "cell_type": "markdown",
   "metadata": {},
   "source": [
    "In an ideal world, my data would tell me what part of the park each person used and for how long. People probably wouldn’t be comfortable with their privacy of location and activity being disclosed, so I might need to rely on surveys and people releasing the information to me. A survey would give people a chance to acknowledge what they like about the park and what they would change. If I am noting who is wearing a mask and who isn’t there could be issues for the people who live near the park. Being told there is a large amount of people not wearing masks around where you live could trigger anxiety for people. \n",
    "\n",
    "One issue that comes up with the budget is there are different ordinances between towns. There will be discrepancies between affluent neighborhoods and lower income areas. Will publicizing these create social uprest? Areas where private donors gave grounds or funds allows for a greater budget than other areas.\n",
    "\n",
    "My data will have to consider Coronavirus. People who are essential workers and work blue collar workers need to be in person for work even during the pandemic. White collar workers and areas where families are a single-parent income have more time to go to the park. If I were to audit the use of parks and not consider the socio-economic background of the area, this could lead to budget decreases for low-income neighborhoods. Additionally, people who are undocumented are less likely to fill out government surveys. \n",
    "\n",
    "I also need to consider corona in park attendance. California’s Covid response hasn’t been great. The numbers are high and people aren’t really wearing masks. There shouldn’t be an incentive to meet up with people in large groups. That could be used to decrease funding. On the other hand, going to the park is an outdoor activity that can be done in small groups. I would need to note group size in my counts of people. I’m going to address this by including the problematic results. If people are meeting in large groups or without masks, I will note that as an extreme negative. \n"
   ]
  },
  {
   "cell_type": "code",
   "execution_count": null,
   "metadata": {},
   "outputs": [],
   "source": []
  }
 ],
 "metadata": {
  "kernelspec": {
   "display_name": "Python 3",
   "language": "python",
   "name": "python3"
  },
  "language_info": {
   "codemirror_mode": {
    "name": "ipython",
    "version": 3
   },
   "file_extension": ".py",
   "mimetype": "text/x-python",
   "name": "python",
   "nbconvert_exporter": "python",
   "pygments_lexer": "ipython3",
   "version": "3.7.4"
  }
 },
 "nbformat": 4,
 "nbformat_minor": 2
}
