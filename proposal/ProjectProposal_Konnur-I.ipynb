{
 "cells": [
  {
   "cell_type": "markdown",
   "metadata": {},
   "source": [
    "# COGS 108 - Project Proposal"
   ]
  },
  {
   "cell_type": "markdown",
   "metadata": {},
   "source": [
    "# Names & GitHub ID\n",
    "\n",
    "- Name: Connor Isenman\n",
    "- GitHub Username: Konnur-I"
   ]
  },
  {
   "cell_type": "markdown",
   "metadata": {},
   "source": [
    "# Research Question"
   ]
  },
  {
   "cell_type": "markdown",
   "metadata": {},
   "source": [
    "Is there a relationship between traffic near local parks and budgets allocated to each park for facility improvements?"
   ]
  },
  {
   "cell_type": "markdown",
   "metadata": {},
   "source": [
    "## Background and Prior Work"
   ]
  },
  {
   "cell_type": "markdown",
   "metadata": {},
   "source": [
    "With 57 recreation centers, 13 aquatic centers, and approximately 260 playgrounds in 8,700 acres of developed parks the San Diego Parks and Recreation department is spread thin when it comes to deciding where to put money for future expansions and upgrades [1]. In Balboa Park alone over 300 million dollars is required for much needed repairs and upkeep in the park but the money is instead being put towards parking projects in the park [2]. This kind of misallocation of funds could be avoided by looking at the relationship between traffic and budgets for improvements.\n",
    "\n",
    "\n",
    "In order to more efficiently allocate funds for parks around the city I believe it would be beneifical to know what traffic is like in areas when determining their budgets for improvement so we can allocate more money for road improvements or facility improvements accordingly. San Diego Parks and Recreations had a total budget of just over 116 million dollars in 2019, being able to efficiently allocate the budgeted money could help save the city thousands of dollars that would be spent on underutilized facilities or roads because they didn't analyze what areas would benefit from different improvements [3].\n",
    "\n",
    "\n",
    "\n",
    "References (include links):\n",
    "- 1)https://www.sandiego.gov/sites/default/files/v3parkandrec_0.pdf\n",
    "- 2)https://www.sandiegouniontribune.com/opinion/commentary/sdut-utbg-balboa-park-plaza-oppose-2016jul22-htmlstory.html\n",
    "- 3)https://www.sandiego.gov/sites/default/files/fiscal_year_2020_parks_and_recreation_department_adopted_budget.pdf"
   ]
  },
  {
   "cell_type": "markdown",
   "metadata": {},
   "source": [
    "# Hypothesis\n"
   ]
  },
  {
   "cell_type": "markdown",
   "metadata": {},
   "source": [
    "I hypothesize that there is a direct correlation between traffic near local parks and allocated budget amounts. This because as the city put more money and resources towards a park ideally, more people should want to use the facilities provided by the city."
   ]
  },
  {
   "cell_type": "markdown",
   "metadata": {},
   "source": [
    "# Data"
   ]
  },
  {
   "cell_type": "markdown",
   "metadata": {},
   "source": [
    "*Explain what the ideal dataset you would want to answer this question. (This should include: What variables? How many observations? Who/what/how would these data be collected? How would these data be stored/organized?)*\n",
    "\n",
    "\n",
    "\n",
    "The budget allocated to each park under San Diego parks and recreations over the past five years, ideally the variables would be allocated budget and actual budget, there should be an observation for each park every year so five times the number of parks in San Diego, and this data can be found through the SDP&R public budgets which are released every year, the data would be stored in a table for each year with four headers, ID, name, allocated budget, and actual budget and after the first years table there would be three headers, removing name, in order to avoid redundancy.\n",
    "\n",
    "Google traffic data for areas around public parks, gathered through Google's heatmap API\n",
    "Average traffic in a quarter mile radius around park or beach for the day, indicated by green, orange, red, and dark red for fastest to slowest traffic, there would be an observation for each park every year based on the aggregate average of all traffic data for the year, and data would be organized in a table for each year with two headers, ID and average traffic per year"
   ]
  },
  {
   "cell_type": "markdown",
   "metadata": {},
   "source": [
    "# Ethics & Privacy"
   ]
  },
  {
   "cell_type": "markdown",
   "metadata": {},
   "source": [
    "The data used from people would be completely anonymous through Google's api and therefore would not do anything to damage the privacy of the people the traffic data is gathered from. People agree to let Google have their location data and although not specifically told their data would be used for a project like this it is covered under Google's agreement with the user so we would not have anyway to address privacy concerns, nor should we need to as the data is anonymous.\n",
    "\n",
    "The budget data is public knowledge provided by the city of San Diego in order to be transparent and using the data should not be a problem as everyone has access to the data and we are trying to use the data in a way to help optimize the future budget data.\n",
    "\n",
    "Overall I don't believe there are any ethical or privacy issues with our data because it is available to everyone and doesn't use the data in a way that can be damaging to any of the providers of the data."
   ]
  },
  {
   "cell_type": "code",
   "execution_count": null,
   "metadata": {},
   "outputs": [],
   "source": []
  }
 ],
 "metadata": {
  "kernelspec": {
   "display_name": "Python 3",
   "language": "python",
   "name": "python3"
  },
  "language_info": {
   "codemirror_mode": {
    "name": "ipython",
    "version": 3
   },
   "file_extension": ".py",
   "mimetype": "text/x-python",
   "name": "python",
   "nbconvert_exporter": "python",
   "pygments_lexer": "ipython3",
   "version": "3.8.3"
  }
 },
 "nbformat": 4,
 "nbformat_minor": 2
}
