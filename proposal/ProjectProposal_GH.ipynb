{
 "cells": [
  {
   "cell_type": "markdown",
   "metadata": {},
   "source": [
    "# COGS 108 - Project Proposal"
   ]
  },
  {
   "cell_type": "markdown",
   "metadata": {},
   "source": [
    "# Names & GitHub ID\n",
    "\n",
    "- Name: Daniel Harnanto\n",
    "- GitHub Username: dharnant"
   ]
  },
  {
   "cell_type": "markdown",
   "metadata": {},
   "source": [
    "# Research Question"
   ]
  },
  {
   "cell_type": "markdown",
   "metadata": {},
   "source": [
    "Given the amount of traffic that accumulates on busy days, is it necessary for additional parking spaces to be added to Balboa Park? If so, where should these be added to minimize traffic congestion within the park? If not, what strategies can be implemented to maximize efficiency of existing lots?\n"
   ]
  },
  {
   "cell_type": "markdown",
   "metadata": {},
   "source": [
    "## Background and Prior Work"
   ]
  },
  {
   "cell_type": "markdown",
   "metadata": {},
   "source": [
    "	One study that has addressed this question was carried out by the Jones and Jones Architects and Landscape Architects, Ltd./Civitas Inc. team in 2004. Although there are approximately 6500 total parking spaces within Central Mesa and Inspiration Point areas of Balboa Park, up to 88% of the spaces in the Prado subsection, as well as 26% of close-in spaces at the Zoo and 13% of the spaces in the Palisades are occupied by park employees and volunteers alone. As such, it is difficult for park visitors to find parking spaces in these lots, despite their ease of access to the main areas of the park. Furthermore, this causes visitors to “circle close-in lots in a hunt for free spaces, causing great frustration and elevated pedestrian conflict.” (Balboa Park Land Use, Circulation, and Parking Study 21). In actuality, the parking lots at Inspiration Point are used by City College students as well as visitors to the Naval Hospital more than actual visitors to the park, giving rise to further complications regarding whether these spaces can be set up for joint-use or not. Inspiration Point in particular has additional parking that most park visitors are not aware of, due to its remote location from the park centre. One strategy proposed by the team is to “reorganize parking patterns and direct motorists to the proper lots, increasing efficiency of existing resources and reducing visitor frustration,” as well as “relocating employee and volunteer parking” (Balboa Park Land Use, Circulation, and Parking Study 21).\n On the other hand, directly adding parking spaces to Balboa Park conflicts with its design to be an escape from busy urban life; in fact, there have been proposals to instead reclaim and reform iconic areas of the park (such as the Plaza de Panama, Pan-American Plaza, and Organ Pavilion and Alcazar parking lots) to add in more parkland and gardens (Balboa Park Land Use, Circulation, and Parking Study 25-29). As such, solving the problem of parking in the park is not as simple as adding spaces; where parking should be located in the first place is something that designers and architects must consider in order to maintain the aesthetic of the park (Balboa Park Land Use, Circulation, and Parking Study 66).\n Another report that addresses this issue in depth is the Parking Management Action Plan for Balboa Park prepared by the Tilghman Group and Civitas Inc in 2006. This document contains a plethora of tables and graphs depicting parking statistics up to that year, including information about total parking spaces for each park subsection, parking occupancy of employees and volunteers by location, availability of parking at Inspiration Point, as well as the average length of stay for employees, volunteers, and visitors. Their main initiatives listed in the report involve protecting visitor parking that is convenient to visitors while including time-limits for parking (Parking Management Action Plan for Balboa Park 25), providing more signs for motorists in the area to direct them to less well-known parking lots (Parking Management Action Plan for Balboa Park 47), as well as increasing public transportation for employees in the form of shuttles in order to alleviate the need for their parking in close-in lots (Parking Management Action Plan for Balboa Park 33).\n",
    "\n",
    "References (include links):\n",
    "- 1)\n",
    "- 2)"
   ]
  },
  {
   "cell_type": "markdown",
   "metadata": {},
   "source": [
    "# Hypothesis\n"
   ]
  },
  {
   "cell_type": "markdown",
   "metadata": {},
   "source": [
    "*State and defend your hypotheses here.*"
   ]
  },
  {
   "cell_type": "markdown",
   "metadata": {},
   "source": [
    "# Data"
   ]
  },
  {
   "cell_type": "markdown",
   "metadata": {},
   "source": [
    "*Explain what the ideal dataset you would want to answer this question. (This should include: What variables? How many observations? Who/what/how would these data be collected? How would these data be stored/organized?)*"
   ]
  },
  {
   "cell_type": "markdown",
   "metadata": {},
   "source": [
    "# Ethics & Privacy"
   ]
  },
  {
   "cell_type": "markdown",
   "metadata": {},
   "source": [
    "*Fill in your ethics & privacy discussion here*"
   ]
  }
 ],
 "metadata": {
  "kernelspec": {
   "display_name": "Python 3",
   "language": "python",
   "name": "python3"
  },
  "language_info": {
   "codemirror_mode": {
    "name": "ipython",
    "version": 3
   },
   "file_extension": ".py",
   "mimetype": "text/x-python",
   "name": "python",
   "nbconvert_exporter": "python",
   "pygments_lexer": "ipython3",
   "version": "3.7.9"
  }
 },
 "nbformat": 4,
 "nbformat_minor": 2
}
