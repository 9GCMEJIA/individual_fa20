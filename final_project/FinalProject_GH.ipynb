{
 "cells": [
  {
   "cell_type": "markdown",
   "metadata": {},
   "source": [
    "# COGS 108 - Final Project "
   ]
  },
  {
   "cell_type": "markdown",
   "metadata": {},
   "source": [
    "# Overview"
   ]
  },
  {
   "cell_type": "markdown",
   "metadata": {},
   "source": [
    "The intersection of crime and community can often be puzzling, bringing into question which influences the other more and positively or negatively? In this project, with public parks as a representation of a community, I aimed to understand how crime in public parks in the San Diego area affects its attractiveness to locals and tourists or vice versa. To do so, I analyzed the relationship between Yelp ratings of San Diego public parks and the number of police dispatches in the area around said parks. From this analysis, the data suggests that"
   ]
  },
  {
   "cell_type": "markdown",
   "metadata": {},
   "source": [
    "# Name & GitHub\n",
    "\n",
    "-  Name: Giselle Mejia\n",
    "- GitHub Username: 9GCMEJIA"
   ]
  },
  {
   "cell_type": "markdown",
   "metadata": {},
   "source": [
    "# Research Question"
   ]
  },
  {
   "cell_type": "markdown",
   "metadata": {},
   "source": [
    "Is there a relationship between the frequency of police call dispatches in areas around San Diego public parks and the Yelp ratings of such associated parks?"
   ]
  },
  {
   "cell_type": "markdown",
   "metadata": {},
   "source": [
    "## Background and Prior Work"
   ]
  },
  {
   "cell_type": "markdown",
   "metadata": {},
   "source": [
    "San Diego Parks and Recreation accounts for overseeing nearly all public space including 40,000 acres of developed and undeveloped open space, 340 parks, 25 miles of shoreline, 57 recreation centers, 13 pools, 7 skate parks, 3 golf courses. Their overall mission is: \"To provide healthy, sustainable, and enriching environments for all.\" Their vision on the other hand is \"To connect all to the city’s diverse world class park system.\" In past studies, scholars have explored the relationship between park facilities, observed park use, and physical activity levels, but did not stray too far away to analyze the intersecting trends and consequences between the parks and the neighboring community. \n",
    "\n",
    "Yelp is a popular ratings and review platform for many public and private facilities and provides a good insight into the general community opinion of the local San Diego parks. This includes ratings on 5 star scale and written reviews.\n",
    "\n",
    "While there are not many studies looking into the comparison of crime in public parks and data from the community (Yelp, in this case), there have been speculations and observations made claiming that parks act as crime inhibitors or generators. This notion relies on the idea that \"nearby land uses and socio-demographic characteristics are a key driver of crime being located within the park or nearby the park.\" San Diego, specifically, has recently began instilling park curfews in response to many crime concerns around the Pacific Beach/Mission Bay area. Spiked crime in parks may dwell in the very nature that parks are public, available to all, and often unsupervised. On the otherhand, parks are also said to be very \"critical\" for low income or underprivileged communities, providing a free space to congregate or spend leisure time. Thus, in the eyes of the community parks can be a blessing or curse.\n",
    "\n",
    "\n",
    "References:\n",
    "- https://www.sandiego.gov/parks-and-recreation\n",
    "- https://www.sandiegouniontribune.com/communities/san-diego/story/2020-02-16/park-curfews-on-the-rise-in-san-diego-in-response-to-crime-concerns\n",
    "- https://www.sciencedirect.com/science/article/abs/pii/S0049089X18301303 \n",
    "- https://js.sagamorepub.com/jpra/article/view/6078"
   ]
  },
  {
   "cell_type": "markdown",
   "metadata": {},
   "source": [
    "# Hypothesis\n"
   ]
  },
  {
   "cell_type": "markdown",
   "metadata": {},
   "source": [
    "I hypothesize that a higher frequency of local crime near San Diego public parks correlate to a lower Yelp rating, while lower frequencies will correlate to a higher rating. I predict this case because Yelp reviews are often both locals and tourists--everyday citizens--rather than official inspectors and thus they overlap with the population of locals who also make the police calls. This may point to a more negative outlook by the community who has to deal with the rampant crime."
   ]
  },
  {
   "cell_type": "markdown",
   "metadata": {},
   "source": [
    "# Dataset(s)"
   ]
  },
  {
   "cell_type": "markdown",
   "metadata": {},
   "source": [
    "- Dataset Name: Dataset (CSV, Park Information): yelp_SD_parks.csv\n",
    "- Source: Professor Ellis\n",
    "- Link to the dataset: https://www.yelp.com/developers/documentation/v3/business_search\n",
    "- Number of observations: 834\n",
    "This dataset includes general information about San Diego park names, addresses, phone numbers, and websites. It also includes the average numeric rating which we will use.\n",
    "\n",
    "\n",
    "- Dataset Name: Dataset (CSV, 2019): pd_calls_for_service_2019_datasd.csv\n",
    "- Source: Professor Ellis\n",
    "- Link to the dataset: https://data.sandiego.gov/datasets/police-calls-for-service/\n",
    "- Number of observations: 590967\n",
    "This dataset includes information about the calls dispatched by the SD Police Department, showing dates, addresses, call types, and priority levels. I am using data from only the year 2019 and not 2020 to get a better understanding without the possible factor of COVID-19 limitations and influences on the 2020 data.\n",
    "\n",
    "\n",
    "To combine these datasets, I plan on merging all the information through the common name and address of the parks used in both sets--or more specifically the street name provided.\n"
   ]
  },
  {
   "cell_type": "markdown",
   "metadata": {},
   "source": [
    "# Setup"
   ]
  },
  {
   "cell_type": "code",
   "execution_count": 1,
   "metadata": {},
   "outputs": [],
   "source": [
    "# imports\n",
    "%matplotlib inline\n",
    "\n",
    "import numpy as np\n",
    "import pandas as pd\n",
    "import matplotlib.pyplot as plt\n",
    "import seaborn as sns\n",
    "import patsy\n",
    "import requests"
   ]
  },
  {
   "cell_type": "code",
   "execution_count": 2,
   "metadata": {},
   "outputs": [],
   "source": [
    "# read in csv to dataframes\n",
    "parks_df = pd.read_csv('C:\\\\Users\\\\gcorp\\\\OneDrive\\\\Documents\\\\GitHub\\\\individual_fa20\\\\data\\\\yelp_SD_parks.csv')\n",
    "police_calls_df = pd.read_csv('C:\\\\Users\\\\gcorp\\\\OneDrive\\\\Documents\\\\GitHub\\\\individual_fa20\\\\data\\\\pd_calls_for_service_2019_datasd.csv')"
   ]
  },
  {
   "cell_type": "markdown",
   "metadata": {},
   "source": [
    "# Data Cleaning"
   ]
  },
  {
   "cell_type": "markdown",
   "metadata": {},
   "source": [
    "Describe your data cleaning steps here."
   ]
  },
  {
   "cell_type": "code",
   "execution_count": 3,
   "metadata": {},
   "outputs": [],
   "source": [
    "parks_df = parks_df.drop(['phone', 'id', 'url', 'review_count', 'longitude', 'latitude', 'is_closed'], axis=1)\n",
    "police_calls_df = police_calls_df.drop(['incident_num', 'date_time', 'day_of_week', 'address_number_primary', 'address_dir_primary', 'call_type', 'disposition', 'beat', 'priority', 'address_dir_intersecting', 'address_road_intersecting', 'address_sfx_intersecting'], axis=1)"
   ]
  },
  {
   "cell_type": "code",
   "execution_count": 4,
   "metadata": {},
   "outputs": [],
   "source": [
    "police_calls_df = police_calls_df.assign(address = police_calls_df['address_road_primary'] + ' ' + police_calls_df['address_sfx_primary'])\n",
    "police_calls_df = police_calls_df.drop(['address_road_primary', 'address_sfx_primary'], axis=1)\n",
    "police_calls_df = police_calls_df.assign(num_dispatch = 1)\n",
    "police_calls_df = police_calls_df.groupby('address').agg({'num_dispatch':'sum'}).reset_index()\n",
    "police_calls_df['address'] = police_calls_df['address'].str.lower()\n",
    "\n",
    "parks_df['address'] = parks_df['address'].str.replace('\\d+', '')\n",
    "parks_df['address'] = parks_df['address'].str.lower()\n",
    "parks_df['address'] = parks_df['address'].str.replace('san diego, ca', '')\n",
    "parks_df['address'] = parks_df['address'].str.replace('coronado, ca', '')\n",
    "parks_df['address'] = parks_df['address'].str.strip()\n"
   ]
  },
  {
   "cell_type": "code",
   "execution_count": 5,
   "metadata": {},
   "outputs": [
    {
     "data": {
      "text/html": [
       "<div>\n",
       "<style scoped>\n",
       "    .dataframe tbody tr th:only-of-type {\n",
       "        vertical-align: middle;\n",
       "    }\n",
       "\n",
       "    .dataframe tbody tr th {\n",
       "        vertical-align: top;\n",
       "    }\n",
       "\n",
       "    .dataframe thead th {\n",
       "        text-align: right;\n",
       "    }\n",
       "</style>\n",
       "<table border=\"1\" class=\"dataframe\">\n",
       "  <thead>\n",
       "    <tr style=\"text-align: right;\">\n",
       "      <th></th>\n",
       "      <th>name</th>\n",
       "      <th>address</th>\n",
       "      <th>rating</th>\n",
       "      <th>num_dispatch</th>\n",
       "    </tr>\n",
       "  </thead>\n",
       "  <tbody>\n",
       "    <tr>\n",
       "      <th>0</th>\n",
       "      <td>Waterfront Park</td>\n",
       "      <td>pacific hwy</td>\n",
       "      <td>4.5</td>\n",
       "      <td>2053</td>\n",
       "    </tr>\n",
       "    <tr>\n",
       "      <th>1</th>\n",
       "      <td>Centrum Park</td>\n",
       "      <td>lightwave ave</td>\n",
       "      <td>3.5</td>\n",
       "      <td>162</td>\n",
       "    </tr>\n",
       "    <tr>\n",
       "      <th>2</th>\n",
       "      <td>Presidio Park</td>\n",
       "      <td>jackson st</td>\n",
       "      <td>4.5</td>\n",
       "      <td>176</td>\n",
       "    </tr>\n",
       "    <tr>\n",
       "      <th>3</th>\n",
       "      <td>White Deer Park</td>\n",
       "      <td>jackson st</td>\n",
       "      <td>5.0</td>\n",
       "      <td>176</td>\n",
       "    </tr>\n",
       "    <tr>\n",
       "      <th>4</th>\n",
       "      <td>Kate O Sessions Memorial Park</td>\n",
       "      <td>soledad rd</td>\n",
       "      <td>4.5</td>\n",
       "      <td>164</td>\n",
       "    </tr>\n",
       "  </tbody>\n",
       "</table>\n",
       "</div>"
      ],
      "text/plain": [
       "                            name        address  rating  num_dispatch\n",
       "0                Waterfront Park    pacific hwy     4.5          2053\n",
       "1                   Centrum Park  lightwave ave     3.5           162\n",
       "2                  Presidio Park     jackson st     4.5           176\n",
       "3                White Deer Park     jackson st     5.0           176\n",
       "4  Kate O Sessions Memorial Park     soledad rd     4.5           164"
      ]
     },
     "execution_count": 5,
     "metadata": {},
     "output_type": "execute_result"
    }
   ],
   "source": [
    "final_df = pd.merge(parks_df, police_calls_df, on = 'address')\n",
    "final_df.head()"
   ]
  },
  {
   "cell_type": "markdown",
   "metadata": {},
   "source": [
    "# Data Analysis & Results"
   ]
  },
  {
   "cell_type": "markdown",
   "metadata": {},
   "source": [
    "Include cells that describe the steps in your data analysis."
   ]
  },
  {
   "cell_type": "code",
   "execution_count": null,
   "metadata": {},
   "outputs": [],
   "source": []
  },
  {
   "cell_type": "code",
   "execution_count": 6,
   "metadata": {},
   "outputs": [
    {
     "data": {
      "image/png": "[encoded data removed]",
      "text/plain": [
       "<Figure size 576x432 with 4 Axes>"
      ]
     },
     "metadata": {
      "needs_background": "light"
     },
     "output_type": "display_data"
    }
   ],
   "source": [
    "pd.plotting.scatter_matrix(final_df[['rating', 'num_dispatch']], figsize=(8,6))\n",
    "f4 = plt.gcf()"
   ]
  },
  {
   "cell_type": "code",
   "execution_count": 9,
   "metadata": {},
   "outputs": [],
   "source": [
    "desc = final_df.describe()\n",
    "corrs = desc.corr('pearson')\n",
    "a1, b1 = np.polyfit(final_df['num_dispatch'], final_df['num_dispatch'], 1)\n",
    "a1, b1 = np.polyfit(final_df['rating'], final_df['rating'], 1)"
   ]
  },
  {
   "cell_type": "code",
   "execution_count": 11,
   "metadata": {},
   "outputs": [
    {
     "data": {
      "image/png": "[encoded data removed]",
      "text/plain": [
       "<Figure size 360x360 with 1 Axes>"
      ]
     },
     "metadata": {
      "needs_background": "light"
     },
     "output_type": "display_data"
    }
   ],
   "source": [
    "sns.lmplot(x='num_dispatch',y='rating',data=final_df,fit_reg=True) \n",
    "\n",
    "f5 = plt.gcf()"
   ]
  },
  {
   "cell_type": "markdown",
   "metadata": {},
   "source": [
    "# Ethics & Privacy"
   ]
  },
  {
   "cell_type": "markdown",
   "metadata": {},
   "source": [
    "The information by Yelp and the police department are public record and all individual names and identifiers for people are not present, thus giving any individuals involved privacy.\n",
    "\n",
    "However, while my question does not directly involve any evident ethical steps, the misuse of such data can generate ethical and privacy concerns. The ethical ambiguity revolves around some implicit biases brought about by the data. This information can point out hotspots for crime in the San Diego area and thus bring about some stigmas against a neighborhood or peoples from such neighborhood.\n",
    "\n",
    "There is also bias in our datasets themselves for it does not completely capture the public view only those who are involved in the community and online through Yelp. In addition, the police dispatch dataset deliberately leaves out data regarding sensitive incidents including \"domestic violence, child abuse, suicide, sex crimes and stalking.\" Thus, we cannot get the entire picture by this data alone, but perhaps very close to it."
   ]
  },
  {
   "cell_type": "markdown",
   "metadata": {},
   "source": [
    "# Conclusion & Discussion"
   ]
  },
  {
   "cell_type": "markdown",
   "metadata": {},
   "source": [
    "*Fill in your discussion information here*"
   ]
  }
 ],
 "metadata": {
  "kernelspec": {
   "display_name": "Python 3",
   "language": "python",
   "name": "python3"
  },
  "language_info": {
   "codemirror_mode": {
    "name": "ipython",
    "version": 3
   },
   "file_extension": ".py",
   "mimetype": "text/x-python",
   "name": "python",
   "nbconvert_exporter": "python",
   "pygments_lexer": "ipython3",
   "version": "3.8.3"
  }
 },
 "nbformat": 4,
 "nbformat_minor": 4
}
