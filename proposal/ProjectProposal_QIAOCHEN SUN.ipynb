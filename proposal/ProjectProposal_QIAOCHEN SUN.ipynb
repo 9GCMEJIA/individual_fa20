{
 "cells": [
  {
   "cell_type": "markdown",
   "metadata": {},
   "source": [
    "# COGS 108 - Project Proposal"
   ]
  },
  {
   "cell_type": "markdown",
   "metadata": {},
   "source": [
    "# Names & GitHub ID\n",
    "\n",
    "- Name: QIAOCHEN SUN\n",
    "- GitHub Username: sunqiaochen"
   ]
  },
  {
   "cell_type": "markdown",
   "metadata": {},
   "source": [
    "# Research Question"
   ]
  },
  {
   "cell_type": "markdown",
   "metadata": {},
   "source": [
    "***How do the size of parks, the existence of recreation facilities, and the existence of entrance ticket affect the passenger volume of parks in San Deigo in one year?***"
   ]
  },
  {
   "cell_type": "markdown",
   "metadata": {},
   "source": [
    "## Background and Prior Work"
   ]
  },
  {
   "cell_type": "markdown",
   "metadata": {},
   "source": [
    " ***From San Diego parks & recreation website, I could know the size, number of parks. And I could find all recreation systems and entrance tickets information of each park on the website. I could create relevant datasets based on the information provided.***\n",
    "\n",
    "***For first reference, in the part \"Recreation Builds Character\", we could find that the reference said recreation facilities could attract children in great extent, which means that the passenger volumes would be increase with all these children in great extant.***\n",
    "\n",
    "***For second reference, I use the park & recreation offical website. In the research of park sizes on the website, I could find the research and comparison of the size of different parks, which provide a good source for me to generate my datasets.***\n",
    "\n",
    "\n",
    "References (include links):\n",
    "- 1) https://www.sdfoundation.org/wp-content/uploads/2015/10/2010-parkforeveryone_finalsm.pdf\n",
    "- 2) https://www.sandiego.gov/parks-and-recreation"
   ]
  },
  {
   "cell_type": "markdown",
   "metadata": {},
   "source": [
    "# Hypothesis\n"
   ]
  },
  {
   "cell_type": "markdown",
   "metadata": {},
   "source": [
    "***1. My main hypothesis is that the if the park do have some recreation facilities, the passenger volume of the park would be higher. Also, the more recreation facilities the park has, the more passenger volum there will be. The reason is that park is the place for families to relax and also to promote relationships. It is a great oppotunities for parents to have fun with their children if the park have some recreation facilities. It is a great chance to bond families together. With recreation facilities, parents are more willing to go to the park with their kids, which will increase the passenger volumn of the park***\n",
    "\n",
    "\n",
    "***2. For the size of the park, I think the larger the park is, the more visitors it will have, because compared to a small park, people are more willing take a walk in a larger park which contains various plants and landscape. Especially for those people who like to run inside the park. What's more, the existence of entrance ticket will decrease number of visitors in the park, since plenty of people like to take a walk every day after the whole day working. However, it is hard for people to pay for entrance ticket every day since few people pay for walking. If this park has entrance ticket, they might choose another park to take a walk***\n"
   ]
  },
  {
   "cell_type": "markdown",
   "metadata": {},
   "source": [
    "# Data"
   ]
  },
  {
   "cell_type": "markdown",
   "metadata": {},
   "source": [
    "***1. For the ideal dataset, the variables that I need to have are \"Size\", \"recreation facilities\", \"# of recreation facilities\", and \"entrance tickets\". For \"size\" variable, I need a column that represent the area of every parks in San Diego. For \"recreation facilities\" variable, I need a column using True and False to show whether the park has recreation facilities.\n",
    "for \"# of recreation facilities\", I need a column that could represent the number of recreation facilities in each park. Just like \"recreation facilities\", I will also use True and False to show wether the park has entrance tickets in \"entrance tickets\" variable.***\n",
    "\n",
    "\n",
    "***2. I think these varibles would be stored in the CSV file and when I open it up in jupyter notebook, it will be shown as dataframe, which is much easier for me to analyze the data and provide results.***\n",
    "\n",
    "\n",
    "***3. In my opinion, the observations could be every park in San Diego. From my research, the observations would be 340 parks in San Diego. However, I could reduce this number since some of the parks are extremly small, so it's hard to count the passenger volumn in one year. After reducing part of tiny parks, my observations might be around 200 parks***"
   ]
  },
  {
   "cell_type": "markdown",
   "metadata": {},
   "source": [
    "# Ethics & Privacy"
   ]
  },
  {
   "cell_type": "markdown",
   "metadata": {},
   "source": [
    "***For the Ethics and Privacy, I do not think it will be a problem for the reasons listed below. I could find all parks information on the internet, and I have permission to use the data to analyze my problem. Parks data in San Diego neither private business data nor secret data like military data, so the dataset could be utilized in my project. There will not be any biases in my datasets, because all the information will not be manipulated by different people's opinion. For example, the size of the park is just the objective number instead of subjective judgement. The existence of recreation facilities also is an objective fact which cannot be changed by different data collector.***"
   ]
  }
 ],
 "metadata": {
  "kernelspec": {
   "display_name": "Python 3",
   "language": "python",
   "name": "python3"
  },
  "language_info": {
   "codemirror_mode": {
    "name": "ipython",
    "version": 3
   },
   "file_extension": ".py",
   "mimetype": "text/x-python",
   "name": "python",
   "nbconvert_exporter": "python",
   "pygments_lexer": "ipython3",
   "version": "3.8.3"
  }
 },
 "nbformat": 4,
 "nbformat_minor": 2
}
