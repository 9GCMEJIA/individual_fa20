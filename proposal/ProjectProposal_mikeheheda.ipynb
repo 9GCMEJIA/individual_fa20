{
 "cells": [
  {
   "cell_type": "markdown",
   "metadata": {},
   "source": [
    "# COGS 108 - Project Proposal"
   ]
  },
  {
   "cell_type": "markdown",
   "metadata": {},
   "source": [
    "# Names & GitHub ID\n",
    "\n",
    "- Name: Yu Pan\n",
    "- GitHub Username: mikeheheda"
   ]
  },
  {
   "cell_type": "markdown",
   "metadata": {},
   "source": [
    "# Research Question"
   ]
  },
  {
   "cell_type": "markdown",
   "metadata": {},
   "source": [
    "Given the COVID situation in San Diego, what policies should the parks department adopt(closing the parks/limiting the capacity/no change)? How will this decision affect the fight against the pandemic?  "
   ]
  },
  {
   "cell_type": "markdown",
   "metadata": {},
   "source": [
    "## Background and Prior Work"
   ]
  },
  {
   "cell_type": "markdown",
   "metadata": {},
   "source": [
    "According to San Diego Parks and recreation website(1), the playgrounds in the county parks around San Diego had been closed from August 30th - September 30th. From the second website, I can access Coronavirus related data, the most important of which is the confirmed cases by date of illness onset, which can be very helpful in determining the effects of the policies. \n",
    "It also helps to study the triggers dashboard, which rates the covid situation with thirteen indexes. \n",
    "\n",
    "References (include links):\n",
    "- 1)San Diego Parks and Recreation - https://www.sdparks.org/content/sdparks/en/news-events/news-stories/COVID-19Response.html.html.html\n",
    "- 2)Coronavirus in San Diego county - https://www.sandiegocounty.gov/content/sdc/hhsa/programs/phs/community_epidemiology/dc/2019-nCoV/status.html\n",
    "- 3)Triggers dashboard - https://sdcounty.maps.arcgis.com/apps/opsdashboard/index.html#/30b5e0fa2a5f4404b1219d8cd16b2583"
   ]
  },
  {
   "cell_type": "markdown",
   "metadata": {},
   "source": [
    "# Hypothesis\n"
   ]
  },
  {
   "cell_type": "markdown",
   "metadata": {},
   "source": [
    "I hypothesize that these policies do have a significant impact in the fight against the virus; since I can observe that there is a decrease in confirmed cases in the weeks after the policies came into effect. "
   ]
  },
  {
   "cell_type": "markdown",
   "metadata": {},
   "source": [
    "# Data"
   ]
  },
  {
   "cell_type": "markdown",
   "metadata": {},
   "source": [
    "Ideally, I will need to know the new confirmed cases per day in SD. However, data Cases by date of illness onset might be more accurate since they truly reveals the date that someone might had contracted the virus. The ratings on the trigger board are also helpful, especially the community outbreaks, which is closely related to people's usage of public facilities such as parks. "
   ]
  },
  {
   "cell_type": "markdown",
   "metadata": {},
   "source": [
    "# Ethics & Privacy"
   ]
  },
  {
   "cell_type": "markdown",
   "metadata": {},
   "source": [
    "I don't have much concern about the ethics of this research. I was, at first, worried about the privacy of the people whose data I will collect. However, the San Diego county does a great job keeping personally identifiable information out of reach. "
   ]
  }
 ],
 "metadata": {
  "kernelspec": {
   "display_name": "Python 3",
   "language": "python",
   "name": "python3"
  },
  "language_info": {
   "codemirror_mode": {
    "name": "ipython",
    "version": 3
   },
   "file_extension": ".py",
   "mimetype": "text/x-python",
   "name": "python",
   "nbconvert_exporter": "python",
   "pygments_lexer": "ipython3",
   "version": "3.7.9"
  }
 },
 "nbformat": 4,
 "nbformat_minor": 2
}