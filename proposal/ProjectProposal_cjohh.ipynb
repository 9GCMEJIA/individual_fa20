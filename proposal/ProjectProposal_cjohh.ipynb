{
 "cells": [
  {
   "cell_type": "markdown",
   "metadata": {},
   "source": [
    "# COGS 108 - Project Proposal"
   ]
  },
  {
   "cell_type": "markdown",
   "metadata": {},
   "source": [
    "# Names & GitHub ID\n",
    "\n",
    "- Name: Christian Jo\n",
    "- GitHub Username: cjohh"
   ]
  },
  {
   "cell_type": "markdown",
   "metadata": {},
   "source": [
    "# Research Question"
   ]
  },
  {
   "cell_type": "markdown",
   "metadata": {},
   "source": [
    "Does poverty, education levels, and unemployment rates have a relationship with access and availability to parks and services?"
   ]
  },
  {
   "cell_type": "markdown",
   "metadata": {},
   "source": [
    "## Background and Prior Work"
   ]
  },
  {
   "cell_type": "markdown",
   "metadata": {},
   "source": [
    "    A study was done on neighborhood poverty, park use, and park-based physical activity in a city in Southern California. The study was interested in showing why people from lower socio-economic status had less time to take part in leisure physical activities compared to those of higher socio-economic status. Results from the study showed that availability of parks, staff, programs, and the size of the parks themselves were all major factors. The data showed that parks in areas of poverty had fewer sports facilities, fewer part-time workers, and fewer park users [1]. \n",
    "    \n",
    "    This project will take a look at the San Diego Promise Zone and the availability of parks and resources. Promize Zones are communities of high poverty where the government works with leaders in the area to improve the economy, education, general public healh, and reduce crime. The San Diego Promise Zone became one of four Promise Zones in California on June 6, 2016 and is about 6.4 square-miles. With a population of more that 80,000, unemployment is at 15.61 percent and poverty is concentrated at 39.06 percent. The area also has unaffordable housing, trouble accessing healthy foods, and trouble with low educational attainment [2]. \n",
    "\n",
    "References (include links):\n",
    "- 1)https://www.ncbi.nlm.nih.gov/pmc/articles/PMC3646794/\n",
    "- 2)https://www.sandiego.gov/economic-development/sdpromisezone"
   ]
  },
  {
   "cell_type": "markdown",
   "metadata": {},
   "source": [
    "# Hypothesis\n"
   ]
  },
  {
   "cell_type": "markdown",
   "metadata": {},
   "source": [
    "I hypothesize that areas of higher poverty, low education attainment levels, and high unemployment rates will have less access and availability to parks and services. I believe these areas will have less funding overall and not enough resources allocated to the public utilities and services. "
   ]
  },
  {
   "cell_type": "markdown",
   "metadata": {},
   "source": [
    "# Data"
   ]
  },
  {
   "cell_type": "markdown",
   "metadata": {},
   "source": [
    "    An ideal dataset would have the the income level, education attainment level, and unemployment rates of those in communities of high poverty and also communities of higher socio-economic status. Other variables would be the number of parks, the size of the parks, how many people access the parks, how much staff, and how many organized events or programs there are in both low socieoeconomic areas and high socio-economic areas. \n",
    "\n",
    "    This data could be collected through using mobile device data to calculate visitation in parks. In-person observations could also be done to count the number of people and staff in the parks. This data would be stored in databases and graphs. "
   ]
  },
  {
   "cell_type": "markdown",
   "metadata": {},
   "source": [
    "# Ethics & Privacy"
   ]
  },
  {
   "cell_type": "markdown",
   "metadata": {},
   "source": [
    "    There could be some ethical concerns with this project. I think it's important to first get permission to collect data and to explain what the data would be used for before using it. This would hopefully handle the issue of privacy if explicit consent is given beforehand. I'm hoping that collecting data from both areas of low socio-economic status and high socio-economic status could help prevent any potential biases in the dataset. I think I would need to be careful in what kind of data I collect and how I interpret the data. There is also the concern of how this data could portray the populations with higher poverty, and in order to prevent this I would need to make the data as objective as possible. "
   ]
  }
 ],
 "metadata": {
  "kernelspec": {
   "display_name": "Python 3",
   "language": "python",
   "name": "python3"
  },
  "language_info": {
   "codemirror_mode": {
    "name": "ipython",
    "version": 3
   },
   "file_extension": ".py",
   "mimetype": "text/x-python",
   "name": "python",
   "nbconvert_exporter": "python",
   "pygments_lexer": "ipython3",
   "version": "3.8.3"
  }
 },
 "nbformat": 4,
 "nbformat_minor": 2
}
