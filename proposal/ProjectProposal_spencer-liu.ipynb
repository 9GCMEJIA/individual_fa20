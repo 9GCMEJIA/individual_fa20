{
 "cells": [
  {
   "cell_type": "markdown",
   "metadata": {},
   "source": [
    "# COGS 108 - Project Proposal"
   ]
  },
  {
   "cell_type": "markdown",
   "metadata": {},
   "source": [
    "# Names & GitHub ID\n",
    "\n",
    "- Name: Spencer Liu\n",
    "- GitHub Username: spencer-liu"
   ]
  },
  {
   "cell_type": "markdown",
   "metadata": {},
   "source": [
    "# Research Question"
   ]
  },
  {
   "cell_type": "markdown",
   "metadata": {},
   "source": [
    "At what time of year are homeless people most willing to accept intervention?"
   ]
  },
  {
   "cell_type": "markdown",
   "metadata": {},
   "source": [
    "## Background and Prior Work"
   ]
  },
  {
   "cell_type": "markdown",
   "metadata": {},
   "source": [
    "*Fill in your background and prior work here. Be sure to specify which statements are from which references.* \n",
    "\n",
    "References (include links):\n",
    "- 1) Currently, temporary shelters open to protect homeless people from extreme weather conditions such as rain, which have shown be to have high participation: https://www.sandiegouniontribune.com/news/homelessness/story/2019-11-19/temporary-homeless-shelters-open-as-storm-approaches\n",
    "- 2) Pre-existing homeless shelters that exist year round in San Diego: https://www.sandiego.gov/homeless-services/shelter-daily-count\n",
    "- 3) Shelters utilize methods to determine the most severe cases for immediate care in shelters: https://www.rtfhsd.org/what-we-do/coordinated-entry-system-ces/\n",
    "- 4) Homeless Management Information System (HMIS) is already used to detect those at risk of homelessness and aid those who may need help in advance as well as allowing for continuation of care: https://www.rtfhsd.org/what-we-do/homeless-management-information-system-hmis/"
   ]
  },
  {
   "cell_type": "markdown",
   "metadata": {},
   "source": [
    "# Hypothesis\n"
   ]
  },
  {
   "cell_type": "markdown",
   "metadata": {},
   "source": [
    "Compared to winters in other cities in the US, winters in San Diego are less likely to result in illness, and so intervention is most important to prevent heatstroke during the extreme heat throughout summer."
   ]
  },
  {
   "cell_type": "markdown",
   "metadata": {},
   "source": [
    "# Data"
   ]
  },
  {
   "cell_type": "markdown",
   "metadata": {},
   "source": [
    "Times at which health is most heavily impacted and the greatest amount of health services are requested from homeless people over the course of ideally several years, weighted by the severity of the illness. This data can be gathered from current existing homeless outreach programs and local hospitals. This data can be stored in some of the more basic data structures available in to python such as csv."
   ]
  },
  {
   "cell_type": "markdown",
   "metadata": {},
   "source": [
    "# Ethics & Privacy"
   ]
  },
  {
   "cell_type": "markdown",
   "metadata": {},
   "source": [
    "It is possible to come accross privacy issues with accessing patient information from homeless people, as consent for said information may be considered difficult to access. However, generalized statistics that are anonymized may be released. The data available can, however, be theoretically deanonymized and be used to attack people who are already marginalized. Furthermore, if the information discovered is relevant to preventing drug relapses, it can be used to further unfair stereotyping of homeless people as drug addicts/alcoholics."
   ]
  }
 ],
 "metadata": {
  "kernelspec": {
   "display_name": "Python 3",
   "language": "python",
   "name": "python3"
  },
  "language_info": {
   "codemirror_mode": {
    "name": "ipython",
    "version": 3
   },
   "file_extension": ".py",
   "mimetype": "text/x-python",
   "name": "python",
   "nbconvert_exporter": "python",
   "pygments_lexer": "ipython3",
   "version": "3.7.6"
  }
 },
 "nbformat": 4,
 "nbformat_minor": 2
}
