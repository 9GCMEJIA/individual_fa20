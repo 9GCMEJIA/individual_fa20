{
 "cells": [
  {
   "cell_type": "markdown",
   "metadata": {},
   "source": [
    "# COGS 108 - Project Proposal"
   ]
  },
  {
   "cell_type": "markdown",
   "metadata": {},
   "source": [
    "# Names & GitHub ID\n",
    "\n",
    "- Name: **Jitarth Sheth**\n",
    "- GitHub Username: [**jshethbright**](https://github.com/jshethbright)"
   ]
  },
  {
   "cell_type": "markdown",
   "metadata": {},
   "source": [
    "# Research Question"
   ]
  },
  {
   "cell_type": "markdown",
   "metadata": {},
   "source": [
    "What is the relationship between community median household income, park spending, and number of park amenities within San Diego?"
   ]
  },
  {
   "cell_type": "markdown",
   "metadata": {},
   "source": [
    "## Background and Prior Work"
   ]
  },
  {
   "cell_type": "markdown",
   "metadata": {},
   "source": [
    "Parks are a crucial component of improving public health and fostering a sense of community. They provide numerous benefits ranging from improving communty fitness by encouraging exercise to mitigating climate change through the creation of green zones withing cities.<sup>3</sup> However, not all parks are created equal. Many parks lack various amenities caused by a scarcity of funding, which can reduce foot traffic to these parks and reduce their positive effectiveness. Specifically, in San Diego, park amenity and funding greatly vary between communities.<sup>1</sup> \n",
    "\n",
    "According to a study on neighborhood income and disparities in facilities, communities with lower neighborhood income are more likely to have parks with lower quality facilities and amenities than those with higher incomes.<sup>2</sup> In low-income communities, there is also higher incidence rate for childhood obesity, leading to a greater importance of parks in improving health and fitness.<sup>4</sup>\n",
    "\n",
    "Prior research has been conducted in the Thoman L et al.<sup>2</sup> and Megan et al.<sup>5</sup> studies looking at the lack of park facilities in low-income neighborhoods, however, these studies only look at low-income communities and do not look at whether there is a correlation between median income and park funding and amenities. My research question would provide greater insight into these possible correlations by looking at the median income in all communities, not just low-income areas. This information would possibly help determine where San Diego park funds and amenities should be allocated to improve not just parks in low-income communities, but all parks in San Diego.\n",
    "\n",
    "\n",
    "References:\n",
    "- 1) [San Diego Parks Master Plan](https://www.sandiegocounty.gov/content/dam/sdc/parks/CAPRA/2.0%20EXHIBITS/2.4A%20Master%20Plan.pdf)\n",
    "- 2) [McKenzie, Thomas L et al. \"Neighborhood Income Matters: Disparities in Community Recreation Facilities,  Amenities, and Programs.\" *Journal, of park and recreation administrations vol. 31(2013): 12-22](https://www.ncbi.nlm.nih.gov/pmc/articles/PMC4082954/)\n",
    "- 3) https://www.nrpa.org/blog/parks-and-public-health-working-together-to-advance-health-and-wellness/\n",
    "- 4) [Rogers, Robert et al. “The Relationship between Childhood Obesity, Low Socioeconomic Status, and Race/Ethnicity: Lessons from Massachusetts.” *Childhood obesity (Print)* vol. 11,6 (2015): 691-5. doi:10.1089/chi.2015.0029](https://pubmed.ncbi.nlm.nih.gov/26562758/)\n",
    "- 5) [Knapp, Megan et al. “The Relationships between Park Quality, Park Usage, and Levels of Physical Activity in Low-Income, African American Neighborhoods.” *International journal of environmental research and public health* vol. 16,1 85. 30 Dec. 2018, doi:10.3390/ijerph16010085](https://www.ncbi.nlm.nih.gov/pmc/articles/PMC6338998/)"
   ]
  },
  {
   "cell_type": "markdown",
   "metadata": {},
   "source": [
    "# Hypothesis\n"
   ]
  },
  {
   "cell_type": "markdown",
   "metadata": {},
   "source": [
    "Since low park amenity and spending has already been observed in low-income communities, I hypothesize that there will be a positive correlation between median income and park spending as well as a positive correlation between median income and number of park amenities within San Diego. Communities with higher median income will likely receive higher park funding as a result of higher taxes, likely leading to a greater amount of park amenities. Similarly, lower median income communities will have lower funding due to lower taxes, leading to less amenities."
   ]
  },
  {
   "cell_type": "markdown",
   "metadata": {},
   "source": [
    "# Data"
   ]
  },
  {
   "cell_type": "markdown",
   "metadata": {},
   "source": [
    "The ideal dataset for answering my research question would contain the following variables under the following organization scheme:\n",
    "* Community Info\n",
    "    * Community Name (22 Observations)\n",
    "    * Community Median Household Income (22 Observations)\n",
    "    * Park Info (Organized by community name)\n",
    "        * Park Name\n",
    "        * Park Spending (Organized by park name)\n",
    "        * Number of Park Amenities (Organized by park name)\n",
    "        \n",
    "Community information would be organized into 22 observations by community name as listed in the publicly available parks master plan. Name and median household income would also similarly be collected from the same master plan data. Park information would also be constructed from publicly available data from the San Diego government. This data would likely be collected from a parks survey, listing spending/budget and a list of park amenities. Park information would have an unknown number of observations as the number of parks in a community and henceforth the number of amenities, is variable. \n",
    "\n",
    "This data would be organized into a dataframe following the listed organization scheme."
   ]
  },
  {
   "cell_type": "markdown",
   "metadata": {},
   "source": [
    "# Ethics & Privacy"
   ]
  },
  {
   "cell_type": "markdown",
   "metadata": {},
   "source": [
    "This dataset will likely be created from publicly available data by the San Diego Parks and Rec department. Additionally, this data will presumably follow the San Diego's \"[Open Data Policy](http://dockets.sandiego.gov/sirepub/view.aspx?cabinet=published_meetings&fileid=757846),\" providing permission for anyone to freely use the publicly available data.\n",
    "\n",
    "Before utilizing any dataset, I will check it for any personally identifiable information in order to alleviate any privacy concerns. As the data listed in the organization scheme does not contain any private information, there is also a low chance that the datasets used for the data will contain any private information. I will also check each dataset to make sure I am adhering to whichever open source or open use policy the dataset is published under.\n",
    "\n",
    "A potential bias in the datasets associated with this analysis would be the size and organization of the communities listed in the dataset. Community borders could have been designed to intentionally inflate or deflate the median income of that community. An unintended consequence of this would be that median income would not be a reliable factor in determining the true financial status of a community and its residents. A possible solution for addressing this issue would be to determine the source of the median income data and judge its reliability. Overall, a chance of inaccuracy in median income data is very low as the dataset would most likely be audited by San Diego officials before being published.\n",
    "\n",
    "Furthermore, this analysis cannot be used to generalize to the overall effects of median income on park quality in the broader world as it only deals with the unique situation of San Diego. The park conditions and fund usage in San Diego may not correspond to other areas.\n"
   ]
  }
 ],
 "metadata": {
  "kernelspec": {
   "display_name": "Python 3",
   "language": "python",
   "name": "python3"
  },
  "language_info": {
   "codemirror_mode": {
    "name": "ipython",
    "version": 3
   },
   "file_extension": ".py",
   "mimetype": "text/x-python",
   "name": "python",
   "nbconvert_exporter": "python",
   "pygments_lexer": "ipython3",
   "version": "3.7.6"
  }
 },
 "nbformat": 4,
 "nbformat_minor": 2
}
