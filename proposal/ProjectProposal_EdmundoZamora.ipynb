{
 "cells": [
  {
   "cell_type": "markdown",
   "metadata": {},
   "source": [
    "# COGS 108 - Project Proposal"
   ]
  },
  {
   "cell_type": "markdown",
   "metadata": {},
   "source": [
    "# Names & GitHub ID\n",
    "\n",
    "- Name: Edmundo Zamora\n",
    "- GitHub Username: EdmundoZamora"
   ]
  },
  {
   "cell_type": "markdown",
   "metadata": {},
   "source": [
    "# Research Question"
   ]
  },
  {
   "cell_type": "markdown",
   "metadata": {},
   "source": [
    "How have funds been affected to parks where gang related violence has been reported in low income neighborhoods in the past two decades, and how prevalent is the difference in funding to parks between little to frequent gang related violence during those two decades? In general are Parks with newer and serviced amenities and community programs such as skateparks, serviced restrooms, late night outdoor community activities, etc (less|more) susceptible to gang violence? \n",
    "How can we effectively fund parks in low income neighborhoods to both raise their safety and decrease gang violence within the next five years.\n"
   ]
  },
  {
   "cell_type": "markdown",
   "metadata": {},
   "source": [
    "## Background and Prior Work"
   ]
  },
  {
   "cell_type": "markdown",
   "metadata": {},
   "source": [
    "\n",
    "https://theconversation.com/can-parks-help-cities-fight-crime-118322\n",
    "    This reference covers the background of crimes in parks which can be decreased by funding parks for beautification and mainting service to the parks facilites and amenities. It compares parks in all income neighborhoods, for higher income neighborhoods crime rates were already rare to none since funding and investing in their parks was readily available encouraging more patrons to enjoy the park. As for lower income neighborhoods in order to drop crime rates there had to be more community investment to build a sense of legitimate user owner ship. For low income neighborhoods surveillence of the park came with the growth of numbers of legitimate park users who came for the community activities set up by the community programs which are city funded.  \n",
    "\n",
    "https://www.nrpa.org/parks-recreation-magazine/2016/march/using-design-to-reduce-crime/\n",
    "    This reference explains background of key points to upholding low crime rates in public parks by design.\n",
    "included in the key points is territorial reinforcemnt of legitimate park users which brings in more legitimate park users and improves park surveillance. Servicing and maintenance of the park facilities and greenery not only prevents the parks quality to deteriorate but prevents a drop in territorial reinforcement. To keep the park \"clean and green\" as the author Michael Cannavino mentions requires that the park is maintained as soon as possible to keep the positive patrons from seeing things such as \"graffitti\" or \"damaged property\" which would influence them to either not return as often or visit a non local park. The biggest take from this publication was the importance of building legitimate patrons of the public space and their retention\n",
    "\n",
    "https://cityparksalliance.org/resource/summer-night-lights-los-angeles/\n",
    "    This casestudy reference covers the background to the strategic approach which began in los angeles, to keep parks more active during the late after noon into the night, by keeping the park lights on and offering community activities deters gang violence by getting in the way of allowing gangmembers to commit a violent incident without little to no witnesses. The growth in funding to these parks in low income neighborhoods lead to an decrease of violence in these parks. The majority of these low income neighborhoods were of ethnicities known to join gangs, this program focused on offering positive activities for these at risk youth as a method for gang reduction. Not only does this promote more positive outlets for at risk youth but creates a sense of legitimate ownership of the parks they frequent improving on both positive patron retention and patron surveillence but also are likely to recipricate this ideology of positive park engagement to the youth when they are grown.  \n"
   ]
  },
  {
   "cell_type": "markdown",
   "metadata": {},
   "source": [
    "# Hypothesis\n",
    "\n"
   ]
  },
  {
   "cell_type": "markdown",
   "metadata": {},
   "source": [
    "My hypothesis \n",
    "\n",
    "Funding is more affected (positively) to parks with more reported gang violence when compared to parks with little reports of gang violence. I believe that when there is more funding to parks with elevated levels of gang violence, such as providing serviced amenities for more activities in these low income neighborhoods it encourages more people such as families to frequent these parks and more people such as familes at these parks discourages gangs from frequenting these parks and potentially causing less violence among other territorial gangs. \n",
    "\n"
   ]
  },
  {
   "cell_type": "markdown",
   "metadata": {},
   "source": [
    "# Data"
   ]
  },
  {
   "cell_type": "markdown",
   "metadata": {},
   "source": [
    "Idealy the dataset would contain a column for parks in low income neighborhoods and many columns corresponding to each parks funding pertaining to a year. This data will help in observing the trends in funding within parks in low income neighborhoods in the form of a scatterplot. \n",
    "\n",
    "As well as multiple columns corresponding to each parks amenities and each of their cost in a list pertaining to a year. This helps in observing where the funding went in the parks. if there are parks with less gang related violence what amenity or program was a part of that park and what was that cost, this helps us in approximating a cost for droping gang violence in a park. This can be in the form of a histogram.  \n",
    "\n",
    "Observing the funds to a park in relation to reported gang violence helps narrow the observation and understanding which amenities/community programs are more effective than others, possibly we can observe that amenities/ community programs that cost less are more effective and vice versa. \n",
    "\n",
    "Multiple columns corresponding to each park which contains the number of reported gang violence incidents pertaining to that year. This will help in observing if the funds were effective in decreasing the number of reported gang violence incidents from year to year. And if there is a trend within parks that might share an amenity/ program which might have been an effective factor in decreasing those report numbers. \n",
    "\n",
    "lastly, possibly a column of zipcodes of the gang members involved in the reports to trace if the crimes are from member of the neighborhood or outside the neighborhood. "
   ]
  },
  {
   "cell_type": "markdown",
   "metadata": {},
   "source": [
    "# Ethics & Privacy"
   ]
  },
  {
   "cell_type": "markdown",
   "metadata": {},
   "source": [
    "\n",
    "Most if not all data such as the low income neighborhoods and their funding for the past two decades could be collected through the county's parks and rec data bases which are publicly available, as for gathering the data for the parks reported gang violence for the past two decades that can be collected thought the county's police department's crime database under permission.\n",
    "no one idenity would be in risk of a privacy violation since most of the data pertains to locations and years, as for the gang violence data only the number of reports would be sufficient negating the identities of involved gang members within the police report. \n",
    "\n",
    "Biases I could potentially encounter is that low income neighborhoods are more populated by minorities such as latino and blacks which are more prevalent in forming gangs which live among these parks in these low income neighborhoods . \n",
    "\n",
    "To handle this Bias I could potentially include the zip codes of the gang members in a list in a separate column corresponding to the gang violence report numbers. This will help in understanding if it is the same members of the community being involved in these incidents or outside members of the community. \n"
   ]
  }
 ],
 "metadata": {
  "kernelspec": {
   "display_name": "Python 3",
   "language": "python",
   "name": "python3"
  },
  "language_info": {
   "codemirror_mode": {
    "name": "ipython",
    "version": 3
   },
   "file_extension": ".py",
   "mimetype": "text/x-python",
   "name": "python",
   "nbconvert_exporter": "python",
   "pygments_lexer": "ipython3",
   "version": "3.8.3"
  }
 },
 "nbformat": 4,
 "nbformat_minor": 4
}
