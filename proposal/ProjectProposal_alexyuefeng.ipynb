{
 "cells": [
  {
   "cell_type": "markdown",
   "metadata": {},
   "source": [
    "# COGS 108 - Project Proposal"
   ]
  },
  {
   "cell_type": "markdown",
   "metadata": {},
   "source": [
    "# Names & GitHub ID\n",
    "\n",
    "- Name: Yuefeng Huang\n",
    "- GitHub Username: alexyuefeng"
   ]
  },
  {
   "cell_type": "markdown",
   "metadata": {},
   "source": [
    "# Research Question"
   ]
  },
  {
   "cell_type": "markdown",
   "metadata": {},
   "source": [
    "Does the size of a park/recreation or the distance from it to downtown affect the number of visitors? What might be the best size of a park/recreation and the distance to downtown at San Diego for future build"
   ]
  },
  {
   "cell_type": "markdown",
   "metadata": {},
   "source": [
    "## Background and Prior Work"
   ]
  },
  {
   "cell_type": "markdown",
   "metadata": {},
   "source": [
    "*Fill in your background and prior work here. Be sure to specify which statements are from which references.* \n",
    "\n",
    "The first link contains a prior work done for urban planning, it suggests a total of 1,500 acres of parks/recreation area should be used for 100,000 people/12,000 acres of area to use(minimun area necessary). 'This meant that a city of 12,000 acres should have 1,500 acres of parks.'\n",
    "The second link contains a study shown the relation between some core features of a park and its popularity among a neighborhood. 'Parks that were used for physical activity had a mean area of 22.34 hectares, a mean of 12.43 features, and were, on average, 955 m from participants’ homes.'\n",
    "The third link contains a public fast facts about the total park land(developed and undeveloped) in San Diego is 42263 acres, it talks about the current biggest regional parks and their sizes.",
    "References (include links):\n",
    "- 1)https://www.planning.org/pas/reports/report194.htm\n",
    "- 2)https://www.ncbi.nlm.nih.gov/pmc/articles/PMC2446450\n",
    "- 3)https://www.sandiego.gov/sites/default/files/fastfacts.pdf"
   ]
  },
  {
   "cell_type": "markdown",
   "metadata": {},
   "source": [
    "# Hypothesis\n"
   ]
  },
  {
   "cell_type": "markdown",
   "metadata": {},
   "source": [
    "A park is more popular when it's closer to downtown or has a larger size. People are likely to go to park that is closed to their home and large enough to do activities."
   ]
  },
  {
   "cell_type": "markdown",
   "metadata": {},
   "source": [
    "# Data"
   ]
  },
  {
   "cell_type": "markdown",
   "metadata": {},
   "source": [
   "The ideal dataset will have name_park, size_park, distance_to_downtown, num_visitors_2020, num_visitors_2019, num_visitors_2018.\n",
   "The number of observations should be the total number of all parks/recreation in San Diego I think the local government department should collect size, distances to dt for urban planning. The num_visitors would be collected by company like Google who has a large group of people opt in to its relavent services\n",
   "These data should be organized with either JSON or CSV, these are tidy data and should be easy to use, they are either name(str) or num_*(int/float)\n"
   ]
  },
  {
   "cell_type": "markdown",
   "metadata": {},
   "source": [
    "# Ethics & Privacy"
   ]
  },
  {
   "cell_type": "markdown",
   "metadata": {},
   "source": [
    "The dataset is likely collected publicly from local government or agencies and can be accessed and used freely for anyone. The dataset will not contain personal information such as names, address or phone numbers. All personal information will be removed prior to analysis.",
    "This analysis will not use any personal/private information since it's not looking at specific people, instead, it obeserves the overall number of people visiting parks and other public recorded data like information of a park.",
    "This analysis based on the dataset will be used to generate an result analysing future parks that will be built at San Diego."
   ]
  }
 ],
 "metadata": {
  "kernelspec": {
   "display_name": "Python 3",
   "language": "python",
   "name": "python3"
  },
  "language_info": {
   "codemirror_mode": {
    "name": "ipython",
    "version": 3
   },
   "file_extension": ".py",
   "mimetype": "text/x-python",
   "name": "python",
   "nbconvert_exporter": "python",
   "pygments_lexer": "ipython3",
   "version": "3.7.9"
  }
 },
 "nbformat": 4,
 "nbformat_minor": 2
}
