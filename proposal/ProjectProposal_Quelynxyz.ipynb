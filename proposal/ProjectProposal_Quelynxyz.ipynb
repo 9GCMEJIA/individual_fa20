{
 "cells": [
  {
   "cell_type": "markdown",
   "metadata": {},
   "source": [
    "# COGS 108 - Project Proposal"
   ]
  },
  {
   "cell_type": "markdown",
   "metadata": {},
   "source": [
    "# Names & GitHub ID\n",
    "\n",
    "- Name: Ai Hong\n",
    "- GitHub Username: Quelynxyz"
   ]
  },
  {
   "cell_type": "markdown",
   "metadata": {},
   "source": [
    "# Research Question"
   ]
  },
  {
   "cell_type": "markdown",
   "metadata": {},
   "source": [
    "Is there a signigicant difference in park quality and size/concentration in relation to the neighborhoods' socioeconomic statuses?"
   ]
  },
  {
   "cell_type": "markdown",
   "metadata": {},
   "source": [
    "## Background and Prior Work"
   ]
  },
  {
   "cell_type": "markdown",
   "metadata": {},
   "source": [
    "Where I'm from in Los Angeles County, wealthier cities had nicer parks and park facilities. Considering that San Diego City has a population of 1.4 million people, approximately 100 different communities and neighborhoods, and 340 parks. There have been works displaying the disparity of park and recreational quality in correlation to the socioeconomic status of the neighborhoods, for example: In the Seattle region of Washington, lower income neighborhoods had better park quality(condition, cleanliness) on average. \n",
    "\n",
    "- 1) San Diego Stats: https://www.sandiego.gov/\n",
    "- 2) Park Quality STudy: https://bmcpublichealth.biomedcentral.com/articles/10.1186/s12889-016-3055-4"
   ]
  },
  {
   "cell_type": "markdown",
   "metadata": {},
   "source": [
    "# Hypothesis\n"
   ]
  },
  {
   "cell_type": "markdown",
   "metadata": {},
   "source": [
    "I hypothesize that there would be a higher concentration of parks and facilities in higher socioeconomic neighborhoods, but a higher quality (condition, cleanliness) in lower socioeconomic neighborhoods.\n",
    "I am assuming that lower socioeconomic neighborhoods would make more use of the parks so that they would be well maintained, while higher socioeconomic neighborhoods would have more variety of facilities so parks would be less used and maintained."
   ]
  },
  {
   "cell_type": "markdown",
   "metadata": {},
   "source": [
    "# Data"
   ]
  },
  {
   "cell_type": "markdown",
   "metadata": {},
   "source": [
    "*Explain what the ideal dataset you would want to answer this question. (This should include: What variables? How many observations? Who/what/how would these data be collected? How would these data be stored/organized?)*\n",
    "\n",
    "I would ideally need 2 datasets; one for the socioeconomic statuses of neighborhoods and one for the parks.\n",
    "The first one would include average income of the neighborhoods, population size, and the average price of living. The San Diego Census should have the averages listed, or I can find it somewhere else. This is usually public information.\n",
    "\n",
    "The second dataset would include the 340 parks. Each park would contain:\n",
    "- 1) Neighborhood it is in (for cross reference)\n",
    "- 2) List of facilities (to judge quality)\n",
    "- 3) Cost of maintanence (to judge quality)\n",
    "- 4) Size\n",
    "- 5) Cleanliness factor (to judge quality)\n",
    "- 6) park type (to filter only standard recreational parks and not the state/historic parks)\n",
    "\n",
    "The second dataset would be a bit harder to find. I dont know if the cleanliness factor of parks is an objective point of provided datasets. The rest of it should be a public dataset available by the government website, probably."
   ]
  },
  {
   "cell_type": "markdown",
   "metadata": {},
   "source": [
    "# Ethics & Privacy"
   ]
  },
  {
   "cell_type": "markdown",
   "metadata": {},
   "source": [
    "I honestly cannot think of any issues in regards to ethics and privacy. The data I require is generic and publicly available, and the conclusions formed from it (relation between socioeconomic and park quality) would not cause public harm in any way, unless the results somehow discourage people from visiting parks. Which I do not believe it would. I seek to see if there is a problem, and advise the mayor to address it."
   ]
  }
 ],
 "metadata": {
  "kernelspec": {
   "display_name": "Python 3",
   "language": "python",
   "name": "python3"
  },
  "language_info": {
   "codemirror_mode": {
    "name": "ipython",
    "version": 3
   },
   "file_extension": ".py",
   "mimetype": "text/x-python",
   "name": "python",
   "nbconvert_exporter": "python",
   "pygments_lexer": "ipython3",
   "version": "3.7.6"
  }
 },
 "nbformat": 4,
 "nbformat_minor": 2
}
