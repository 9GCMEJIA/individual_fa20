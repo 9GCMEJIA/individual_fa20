{
 "cells": [
  {
   "cell_type": "markdown",
   "metadata": {},
   "source": [
    "# COGS 108 - Project Proposal"
   ]
  },
  {
   "cell_type": "markdown",
   "metadata": {},
   "source": [
    "# Names & GitHub ID\n",
    "\n",
    "- Name: Eamon Jarrett-Mann\n",
    "- GitHub Username: EamonJarrett-Mann\n"
   ]
  },
  {
   "cell_type": "markdown",
   "metadata": {},
   "source": [
    "# Research Question"
   ]
  },
  {
   "cell_type": "markdown",
   "metadata": {},
   "source": [
    "How can the city best spend money to increase use of pre-existing parks and maximize physical activity during that use?"
   ]
  },
  {
   "cell_type": "markdown",
   "metadata": {},
   "source": [
    "## Background and Prior Work"
   ]
  },
  {
   "cell_type": "markdown",
   "metadata": {},
   "source": [
    "San Diego has fewer swimming pools & playgrounds per capita than other cities assesed by ACSM, perhaps money can be directed to these areas to increase park engagement.(2) On the other hand, the dearth of swimming pools may simply be due to the prevalance of backyard pools & year-round beach weather in San Diego. \n",
    "\n",
    "Study 1) suggested that the presence of certain facilities promoted physical activity more than others: \"Although grass fields and baseball fields had the most visitors, the majority of people in them were observed being sedentary (54% AND 69%, respectively). While fitness rooms had fewer visitors...more people engaged in vigrorous activity (n=158) than walking(n=57) or being sedentary (n=135)\" The study assigned Energy expenditure (EE) scores to activities and showed that use different facilities created large differences in EE score. \"...the highest EE score being for pools, followed by fiteness rooms and basketball courts.\"\n",
    "\n",
    "In a similar vein, study 3) suggests that having park events is the strongest correlation with park use and community physical activity.\n",
    "\n",
    "Clearly, it doesn't make sense for San Diego to spend money on programs that primarily alter the habits of already active people. (Ie. get La Jolla trophy wives to attend cycling classes at community parks instead of soulcycle) So this complicates the question: which programs/facilities most encourage people who do not engage in physical activity to begin to do so? \n",
    "\n",
    "\n",
    "References (include links):\n",
    "- 1)https://www.researchgate.net/profile/Edwin_Gomez6/publication/270952346_Attitudes_about_urban_nature_parks_A_case_study_of_users_and_nonusers_in_Portland_Oregon/links/5d51722ea6fdcc370a8f95c8/Attitudes-about-urban-nature-parks-A-case-study-of-users-and-nonusers-in-Portland-Oregon.pdf#page=76\n",
    "- 2) https://www.americanfitnessindex.org/wp-content/uploads/2016/04/San-Diego.pdf\n",
    "- 3) https://www.ncbi.nlm.nih.gov/pmc/articles/PMC2821457/"
   ]
  },
  {
   "cell_type": "markdown",
   "metadata": {},
   "source": [
    "# Hypothesis\n"
   ]
  },
  {
   "cell_type": "markdown",
   "metadata": {},
   "source": [
    "It seems like San Diego could best direct money to the development of tracks and expansion of community sports programs."
   ]
  },
  {
   "cell_type": "markdown",
   "metadata": {},
   "source": [
    "# Data"
   ]
  },
  {
   "cell_type": "markdown",
   "metadata": {},
   "source": [
    "*Explain what the ideal dataset you would want to answer this question. (This should include: What variables? How many observations? Who/what/how would these data be collected? How would these data be stored/organized?)*\n",
    "Ideally, we would have GPS data specific to people including their home address (proximity to park), physical activity habits, participation in community park programs & self-reported park 'wants'. This data could be collected in the same way that some of the coronavirus contract tracing data is: bluetooth-enabled collection in park facilities could tell us not only whether someone visited a park on a certain day, but how long they were there, which facilities at that park were used and even collect motion-sensor data to give an idea of acitivity level. Then, we would be able to analyze what programs/facilities are most desired by inactive or underactive folks, which parks are closest to them and which facilities and programs best promote physical acitivity. This dataset would ideally be extremely large (all of SD county for a decade seems like it would give a good idea)."
   ]
  },
  {
   "cell_type": "markdown",
   "metadata": {},
   "source": [
    "# Ethics & Privacy"
   ]
  },
  {
   "cell_type": "markdown",
   "metadata": {},
   "source": [
    "Clearly the data described above is pretty personal & identifiable. The US government already collects all of everybody's internet data, let alone the data that the Internet Service Providers, tech giants & cell phone carriers have, it would just be (somewhat) new for a local government to have such data. The data would have to be carefully controlled so as to remove identifying information (Ie instead of home address in the data, just the nearest park and a binned distance such as \"La Jolla Shores park, .4-.6 mi\"). Ideally the use of the information would be done by a small group of highly-vetted people who only work on a small part, perhaps without even realizing what they're doing. (Have one person process the motion-sensing data to figure out activity levels, not knowing whose or where, another person is resposible for matching survey data to "
   ]
  }
 ],
 "metadata": {
  "kernelspec": {
   "display_name": "Python 3",
   "language": "python",
   "name": "python3"
  },
  "language_info": {
   "codemirror_mode": {
    "name": "ipython",
    "version": 3
   },
   "file_extension": ".py",
   "mimetype": "text/x-python",
   "name": "python",
   "nbconvert_exporter": "python",
   "pygments_lexer": "ipython3",
   "version": "3.7.2"
  }
 },
 "nbformat": 4,
 "nbformat_minor": 2
}
