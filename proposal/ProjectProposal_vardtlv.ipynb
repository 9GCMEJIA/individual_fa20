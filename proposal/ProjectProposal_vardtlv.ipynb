{
 "cells": [
  {
   "cell_type": "markdown",
   "metadata": {},
   "source": [
    "# COGS 108 - Project Proposal"
   ]
  },
  {
   "cell_type": "markdown",
   "metadata": {},
   "source": [
    "# Names & GitHub ID\n",
    "\n",
    "- Name: Varduhi Torosyan\n",
    "- GitHub Username: vardtlv"
   ]
  },
  {
   "cell_type": "markdown",
   "metadata": {},
   "source": [
    "# Research Question"
   ]
  },
  {
   "cell_type": "markdown",
   "metadata": {},
   "source": [
    "How did the interest to agricultural tourism change over the past five years in San Diego Parks and Recreation?",
    " What are the effects of agricultural tourism on San Diego County's Economy?"

   ]
  },
  {
   "cell_type": "markdown",
   "metadata": {},
   "source": [
    "## Background and Prior Work"
   ]
  },
  {
   "cell_type": "markdown",
   "metadata": {},
   "source": [
    "With the rising customer demand of organic and Non-GMO food, agricultural tourism started to interest more and more people. Agricultural attractions give tourists an opportunity to learn how their food is grown, be part of its harvest and finally purchase the produce, that was raised by farmers. As a subset of tourism, it also gives the visitors an opportunity to examine the culture and traditions of the county and the farmers(6).\n",
    "\n",
    "The website, calagtour.org provides 80 agritourism sites in San Diego county(7). These agritourism sites include City Farmers Nursery, San Diego Food Scaping, The San Diego Roots Sustainable Food Project, The Flower Fields, etc. \n",
    "\n",
    "San Diego County is actively supporting agricultural tourism and provides a platform for farmers to turn their fields into agricultural attractions. County members often held workshops to collect new ideas for boosting the Agricultural Tourism in the County. Members are determined to create more guidelines for agricultural community events, including harvest festivals and wine lectures.(3) One of those examples would be the Temporary Agritourism Community Events that are organized through San Diego County. County also enables food and goods vendors, which would give more opportunities for businesses to gain profit and lead to economic growth(2).\n",
    "\n",
    "\n",
    "\n",
    "References (include links):\n",
    "- 1) http://sfp.ucdavis.edu/agritourism/Case_Studies/agritourSD/\n",
    "- 2) https://www.sandiegocounty.gov/content/sdc/pds/advance/agriculturepromotion/communityevents.html\n",
    "- 3) https://www.sandiegouniontribune.com/ramona-sentinel/news/story/2019-08-21/county-staff-collect-ideas-for-creating-agri-tourism-rules\n",
    "- 4) https://escholarship.org/uc/item/4sk770zs\n",
    "- 5) https://yourstory.com/2019/02/agri-eco-tourism-become-popular-city-dwellers-busy-professionals\n",
    "- 6) http://www.calagtour.org/region_search/south_coast/"

    
    
   ]
  },
  {
   "cell_type": "markdown",
   "metadata": {},
   "source": [
    "# Hypothesis\n"
   ]
  },
  {
   "cell_type": "markdown",
   "metadata": {},
   "source": [
    "*State and defend your hypotheses here.*"
   ]
  },
  {
   "cell_type": "markdown",
   "metadata": {},
   "source": [
    "# Data"
   ]
  },
  {
   "cell_type": "markdown",
   "metadata": {},
   "source": [
    "*Explain what the ideal dataset you would want to answer this question. (This should include: What variables? How many observations? Who/what/how would these data be collected? How would these data be stored/organized?)*"
   ]
  },
  {
   "cell_type": "markdown",
   "metadata": {},
   "source": [
    "# Ethics & Privacy"
   ]
  },
  {
   "cell_type": "markdown",
   "metadata": {},
   "source": [
    "*Fill in your ethics & privacy discussion here*"
   ]
  }
 ],
 "metadata": {
  "kernelspec": {
   "display_name": "Python 3",
   "language": "python",
   "name": "python3"
  },
  "language_info": {
   "codemirror_mode": {
    "name": "ipython",
    "version": 3
   },
   "file_extension": ".py",
   "mimetype": "text/x-python",
   "name": "python",
   "nbconvert_exporter": "python",
   "pygments_lexer": "ipython3",
   "version": "3.7.9"
  }
 },
 "nbformat": 4,
 "nbformat_minor": 2
}
