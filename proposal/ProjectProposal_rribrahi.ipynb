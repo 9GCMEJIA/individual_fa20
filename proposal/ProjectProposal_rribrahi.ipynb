{
 "cells": [
  {
   "cell_type": "markdown",
   "metadata": {},
   "source": [
    "# COGS 108 - Project Proposal"
   ]
  },
  {
   "cell_type": "markdown",
   "metadata": {},
   "source": [
    "# Names & GitHub ID\n",
    "\n",
    "- Name: Raymond Ibrahim\n",
    "- GitHub Username: rribrahi"
   ]
  },
  {
   "cell_type": "markdown",
   "metadata": {},
   "source": [
    "# Research Question"
   ]
  },
  {
   "cell_type": "markdown",
   "metadata": {},
   "source": [
    "Would adding more recreational facilities decrease crime in San Diego? More specifically, would this decrease crime among teens?\n"
     "Are there specific additions that are more effecitve in decresing crime among teens(i.e. Skateparks)?\n"
   ]
  },
  {
   "cell_type": "markdown",
   "metadata": {},
   "source": [
    "## Background and Prior Work"
   ]
  },
  {
   "cell_type": "markdown",
   "metadata": {},
   "source": [
    "There seems to be an immediate relationship between areas that designate large green recreational areas in urbanized and decreased crime\n",
    "While the evidence provided is correlative and there be many confounding variables manipulating the independent vairable it is worth noting\n",
    "this strong positive correlation. According to the CDC, they suggest that the use of such recreational areas is dependent on the already existing \n"
    "crime activity in the area. This could be extrapolated where parks offer no change in crime rate if crime exists to a large degree. Overall,\n",
    " parks are used less in areas with high crime rates.\n"
    
    "References (include links):\n",
    "- 1)https://theconversation.com/can-parks-help-cities-fight-crime-118322\n",
    "- 2)https://www.cdc.gov/pcd/issues/2020/19_0434.htm"
   ]
  },
  {
   "cell_type": "markdown",
   "metadata": {},
   "source": [
    "# Hypothesis\n"
   ]
  },
  {
   "cell_type": "markdown",
   "metadata": {},
   "source": [
    "I predict that adding more recreational facilities and large park areas will in urbanized San Diego will decrease crime rate"
   ]
  },
  {
   "cell_type": "markdown",
   "metadata": {},
   "source": [
    "# Data"
   ]
  },
  {
   "cell_type": "markdown",
   "metadata": {},
   "source": [
    "An ideal data set would be accessing the information on all the urbanized cities in the U.S., seeing how much crime is conducted in surrounding areas, and finding how parks there are in those cities."
   ]
  },
  {
   "cell_type": "markdown",
   "metadata": {},
   "source": [
    "# Ethics & Privacy"
   ]
  },
  {
   "cell_type": "markdown",
   "metadata": {},
   "source": [
    "There will not be too much trouble trouble gathering the data for this research considering that the data is on the web for public, however, it is important to be careful when disclosing information about who specifically is conducting the crime and where exaclty the crime is located. One potential detriment to this study is once we find more concrete evidence suggesting that parks may or may not help decrease crime, there may be some entities trying manipulate those areas funding for new recreational additions. This could be problematic for future inquiries. All in all, the data does not present itself to have biases besides the fact that the data is going to look specifically at urbanized areas of the U.S.. "
   ]
  }
 ],
 "metadata": {
  "kernelspec": {
   "display_name": "Python 3",
   "language": "python",
   "name": "python3"
  },
  "language_info": {
   "codemirror_mode": {
    "name": "ipython",
    "version": 3
   },
   "file_extension": ".py",
   "mimetype": "text/x-python",
   "name": "python",
   "nbconvert_exporter": "python",
   "pygments_lexer": "ipython3",
   "version": "3.7.9"
  }
 },
 "nbformat": 4,
 "nbformat_minor": 2
}
