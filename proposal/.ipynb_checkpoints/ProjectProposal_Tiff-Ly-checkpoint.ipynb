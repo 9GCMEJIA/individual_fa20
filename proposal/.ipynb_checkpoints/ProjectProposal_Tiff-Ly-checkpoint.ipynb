{
 "cells": [
  {
   "cell_type": "markdown",
   "metadata": {},
   "source": [
    "# COGS 108 - Project Proposal"
   ]
  },
  {
   "cell_type": "markdown",
   "metadata": {},
   "source": [
    "# Names & GitHub ID\n",
    "\n",
    "- Name: Tiffany Ly\n",
    "- GitHub Username: Tiff-Ly"
   ]
  },
  {
   "cell_type": "markdown",
   "metadata": {},
   "source": [
    "# Research Question"
   ]
  },
  {
   "cell_type": "markdown",
   "metadata": {},
   "source": [
    "How does population affect the financial needs of nearby parks in San Diego?"
   ]
  },
  {
   "cell_type": "markdown",
   "metadata": {},
   "source": [
    "## Background and Prior Work"
   ]
  },
  {
   "cell_type": "markdown",
   "metadata": {},
   "source": [
    "San Diego Parks and Recreations owns and runs 58 recreation centers and 275 playgrounds (reference 3). Parks and Recreations also oversees specific open spaces, cemetaries, and water parks (reference 3). This encompaces over 42,000 acres of land, which must be routinely maintained. Naturally, proper budgeting for these public spaces is vital in keeping them safe and up-to-date. \n",
    "  \n",
    "The operation of San Diego parks and open spaces is crucial for promoting healthy and active lifestyles for all San Diegans (refernce 1). It is important to offer the same enriching environments to communitites as to draw in more diversity to all parts of the county.  In order to keep all spaces up-to-date and accessible to San Diegans, budgeting plays a detremental role in determinging how and which parks receive more maintainence and rennovations. \n",
    "    \n",
    "Currently the budget for parks and recreation is about 55.8 million dollars (reference 4), most of which appears to be allocated towards wealthy or newer communities (reference 2). Richer neighborhoods tend to have better parks and spaces as they recieve more in developmental impact fees, fees payed by developers to the city to build new roads, parks and other amenities. Poorer communities on the other hand recieve far less of these fees, thus having more run down facilities. A proposed change to the budget plan would be to allocate funds more based upon population size. It is presumed that areas with more foot traffic will see more wear on its parks and open spaces, so more money will be needed to maintain these facilites.\n",
    "\n",
    "References (include links):\n",
    "- 1) https://www.sandiego.gov/park-and-recreation/general-info: the San Diego parks and recreation mission is to provide environments that promote health and sustainability\n",
    "- 2) https://www.voiceofsandiego.org/topics/government/if-your-local-park-sucks-this-is-probably-why/: richer neighboorhoods tend to have better and newer parks than poor neighborhoods\n",
    "- 3) https://www.sandiego.gov/sites/default/files/fiscal_year_2020_parks_and_recreation_department_capital_improvement_program_adopted_budget.pdf: the San Diego Parks and Recreation system oversees over 42,000 acres of recreational land\n",
    "- 4) https://www.sandiegocounty.gov/content/dam/sdc/auditor/pdf/caoplan_20-22.pdf: The San Diego park system recieves aroud $55.8 million annually"
   ]
  },
  {
   "cell_type": "markdown",
   "metadata": {},
   "source": [
    "# Hypothesis\n"
   ]
  },
  {
   "cell_type": "markdown",
   "metadata": {},
   "source": [
    "I hypothesize that the larger the population the more funds will be allocated to that area. This is because there are more individuals in the nearby vicinity of the park, which should result in more foot traffic and eventually more repairs/rennovations long term. "
   ]
  },
  {
   "cell_type": "markdown",
   "metadata": {},
   "source": [
    "# Data"
   ]
  },
  {
   "cell_type": "markdown",
   "metadata": {},
   "source": [
    "The ideal dataset to answer this question would be stored as a csv file and include how much money was spent on parks and recreation in each region of San Diego. The dataset should also include what the money was spent on: repairs, maintenance, or rennovations. There would also need to be data on population size and demographics of each area code. All the data would ideally be collected by the government as the San Diego parks system would log all financial use and the Cencus provides information concerning population size and demographics."
   ]
  },
  {
   "cell_type": "markdown",
   "metadata": {},
   "source": [
    "# Ethics & Privacy"
   ]
  },
  {
   "cell_type": "markdown",
   "metadata": {},
   "source": [
    "The dataset described above would be ethical to use as it is sourced directly from the government, this data would already be publicly available. As for the issue of privacy, it should be noted that certain area codes will have relatively small populations, which would make it easier to identify individuals when given demophraphic data. To maintain the privacy of individuals in zip codes with a population of 20,000 or less the data concerning demographics may be kept anonymous. "
   ]
  }
 ],
 "metadata": {
  "kernelspec": {
   "display_name": "Python 3",
   "language": "python",
   "name": "python3"
  },
  "language_info": {
   "codemirror_mode": {
    "name": "ipython",
    "version": 3
   },
   "file_extension": ".py",
   "mimetype": "text/x-python",
   "name": "python",
   "nbconvert_exporter": "python",
   "pygments_lexer": "ipython3",
   "version": "3.7.6"
  }
 },
 "nbformat": 4,
 "nbformat_minor": 2
}
