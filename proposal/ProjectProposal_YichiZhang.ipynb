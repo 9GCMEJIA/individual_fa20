{
 "cells": [
  {
   "cell_type": "markdown",
   "metadata": {},
   "source": [
    "# COGS 108 - Project Proposal"
   ]
  },
  {
   "cell_type": "markdown",
   "metadata": {},
   "source": [
    "# Names & GitHub ID\n",
    "\n",
    "- Name: Yichi Zhang\n",
    "- GitHub Username: R1chZhang"
   ]
  },
  {
   "cell_type": "markdown",
   "metadata": {},
   "source": [
    "# Research Question"
   ]
  },
  {
   "cell_type": "markdown",
   "metadata": {},
   "source": [
    "How does parking and parking area relate to traffics on the street? Is it true that on-street parking cause more traffic congestions?"
   ]
  },
  {
   "cell_type": "markdown",
   "metadata": {},
   "source": [
    "## Background and Prior Work"
   ]
  },
  {
   "cell_type": "markdown",
   "metadata": {},
   "source": [
    "&emsp;Common literature on the relationship between parking and traffic is that on-street parking reduces the street space and thus causing more traffic congestions. Research from Manville and Shoup, however, states that off-street parking in fact making traffic congestion worse because off-street parking constructions take a considerable amount of land, pushing the population in a denser area, and thus levitating the traffic density<sup>1</sup>. Manville and Shoup attribute this mechanism to the high speed of populational growth and the unmatching speed of urban planning and street development, but they draw their conclusion based on data whose minimum unit is the city. In other words, such a mechanism sketches sketch a general trend among regions, but it is not detailed to districts and streets. This leaves with us a space of uncertainty, especially when it comes to the urban planning of a specific city. In light of this, this project is interested in investigating whether Manville and Shoup's claim holds for the city of San Diego, so that it can be used to guide the city's development in the future.<br/>\n",
    "\n",
    "&emsp;Predecessors of data analysts such as Aryandoust et al. have created a Hidden Markov Model that relating parking density to traffic density<sup>2</sup>. This research will base on the conclusion Aryandoust drawn(detailed discussions in Data part) and further identify that, of two kinds of parking, on-street and off-street, which constitutes the most influencing factor of traffic immobilities.\n",
    "\n",
    "References (include links):\n",
    "\n",
    "1) Manville, Michael & Shoup, Donald. (2005). People, Parking and Cities. Journal of Urban Planning and Development. 131. 233-245. 10.1061/(ASCE)0733-9488(2005)131:4(233). https://www.researchgate.net/publication/235358939_People_Parking_and_Cities\n",
    "\n",
    "2) Aryandoust, A., van Vliet, O. & Patt, A. City-scale car traffic and parking density maps from Uber Movement travel time data. Sci Data 6, 158 (2019). https://doi.org/10.1038/s41597-019-0159-6"
   ]
  },
  {
   "cell_type": "markdown",
   "metadata": {},
   "source": [
    "# Hypothesis\n"
   ]
  },
  {
   "cell_type": "markdown",
   "metadata": {},
   "source": [
    "The null hypothesis is that off-street parking impacts traffic congestions more than on-street parking. An alternative hypothesis is that on-street parking impacts equally or more. "
   ]
  },
  {
   "cell_type": "markdown",
   "metadata": {},
   "source": [
    "# Data"
   ]
  },
  {
   "cell_type": "markdown",
   "metadata": {},
   "source": [
    "&emsp;The research plans to use data that help to formulate a spatio-temporal map of parking densities within San Diego, and further categorizing on-street and off-street parking densities so that they can be associated with traffic congestions(defined by the number of driving vehicles on the street nearby) correspondingly. Ideally, a dataset with direct information on the number of vehicle parking in each corresponding location is expected. However, given the cost of installing sensors or other recording systems on each street and parking lot, accumulating such an ideal dataset remains largely in the imagination.\n",
    "\n",
    "&emsp;Alternatively, Aryandoust's article provides a more practical way of quantifying parking densities from the number of traffics on the street--the latter can be acquired from [Uber travel data](https://movement.uber.com/). The same data from Uber also provides information of traffic congestions. Additionally, the research expects locational data with clear identification of on-street parking area and off-street parking area in order to categorize parking densities of each category. It would be highly helpful if the location variable in the two(or more) datasets can be matched, or can potentially be approximated after cleaning. Given that this project is proposed under a hypothetical background that the carrier is working for the city of San Diego, the dataset described above might be accessed from urban planning documents possessed by the city government."
   ]
  },
  {
   "cell_type": "markdown",
   "metadata": {},
   "source": [
    "# Ethics & Privacy"
   ]
  },
  {
   "cell_type": "markdown",
   "metadata": {},
   "source": [
    "&emsp;Data presented in this project does not inflict with any private or personal information, and most data can be found publicly from Uber or other institutions. There might be concerns that documents related to city planning cannot be made public without governmental permissions, but given that the data this project plans to use is purely for the observational purpose, and one can gather the same information(whether a parking area is on-street or not) merely by its eyes, the possibility of such concerns came to be an obstacle would be small.<br/>\n",
    "\n",
    "&emsp;The carrier of the project is well alarmed that possible conclusions made by this research might influence the function of some public service area such as schools and hospitals, which, if shall be deprived of some parking spaces under the advice of the project's conclusion, might result in significant damage on the society. The project carrier is also alarmed that regulating city planning by parking and traffics is innately biased to people without vehicles, which may be conflicted with principles of social justice. That been said, the result of this project is purely suggestional, and its purpose is to provide insights on the relationship between parking and traffics, which can be used as one of many dimensions when planning the city in the future."
   ]
  }
 ],
 "metadata": {
  "kernelspec": {
   "display_name": "Python 3",
   "language": "python",
   "name": "python3"
  },
  "language_info": {
   "codemirror_mode": {
    "name": "ipython",
    "version": 3
   },
   "file_extension": ".py",
   "mimetype": "text/x-python",
   "name": "python",
   "nbconvert_exporter": "python",
   "pygments_lexer": "ipython3",
   "version": "3.7.2"
  }
 },
 "nbformat": 4,
 "nbformat_minor": 2
}
