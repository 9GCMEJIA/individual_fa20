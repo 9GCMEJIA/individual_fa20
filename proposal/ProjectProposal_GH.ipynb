{
 "cells": [
  {
   "cell_type": "markdown",
   "metadata": {},
   "source": [
    "# COGS 108 - Project Proposal"
   ]
  },
  {
   "cell_type": "markdown",
   "metadata": {},
   "source": [
    "# Names & GitHub ID\n",
    "\n",
    "- Name: Gyujin Hong\n",
    "- GitHub Username: gyuj"
   ]
  },
  {
   "cell_type": "markdown",
   "metadata": {},
   "source": [
    "# Research Question"
   ]
  },
  {
   "cell_type": "markdown",
   "metadata": {},
   "source": [
    "Do the public restroom in San Diego's parks need more funding?"
   ]
  },
  {
   "cell_type": "markdown",
   "metadata": {},
   "source": [
    "## Background and Prior Work"
   ]
  },
  {
   "cell_type": "markdown",
   "metadata": {},
   "source": [
    "There have been some previous studies done on the conditions of the public restroom in San Diego. Some of its findings were published as an article, under The San Diego Union Tribune. It mentioned the data gathered on the current estimated cost for refurnishing and renovating the restrooms into a better condition. From another database found under the name of our Parks in San Diego, I was able to find the number of parks that had public restrooms, and those that did not.  \n",
    "\n",
    "References (include links):\n",
    "- 1) article from The San Diego Union Tribune called Balboa Park bathrooms are gross, is help on the way? \n",
    "https://www.sandiegouniontribune.com/business/growth-development/story/2019-05-08/balboa-park-bathrooms-are-gross-but-this-report-could-change-that\n",
    "- 2) database found under name of Parks in San Diego \n",
    "https://parksinsandiego.com/parks-list/?tags=589"
   ]
  },
  {
   "cell_type": "markdown",
   "metadata": {},
   "source": [
    "# Hypothesis\n"
   ]
  },
  {
   "cell_type": "markdown",
   "metadata": {},
   "source": [
    "The parks in San Diego need more funding for refurnishment. One of the provided references above stated that the bathrooms were in poor conditions, and with given evidence, one can see that the San Diego county should get the public restrooms to be renovated to be a safer space for comfortable use. "
   ]
  },
  {
   "cell_type": "markdown",
   "metadata": {},
   "source": [
    "# Data"
   ]
  },
  {
   "cell_type": "markdown",
   "metadata": {},
   "source": [
    "The idea dataset that I would want to answer this question would be one that gives the number of public restrooms available, in comparison to the number of parks in San Diego. As this question is one that deals with some qualities of customer (user) experience and satisfaction, a quality check servey would be good for gathering the data upon the areas within San Diego that has public restrooms available. A survey conducted online that might start with the qualification question that asks what area of San Diego they currently reside in, and asking further questions whether they frequent the visitation of these certain parks, followed by a level of satisfaction of these restrooms would be a good way to gather data. To organize these data, a bar graph would be a good method of organizing.*"
   ]
  },
  {
   "cell_type": "markdown",
   "metadata": {},
   "source": [
    "# Ethics & Privacy"
   ]
  },
  {
   "cell_type": "markdown",
   "metadata": {},
   "source": [
    "As the data collection method would be conducted through a survey method, the permission to use the data gathered through that specific method would have been granted by the ones surveyed by asking a terms of conditions or a question within the survey asking for the permission of usage of data from the answers provided. Furthermore, the survey will be done anonymously, as we only need the information of the personal quality rating of the public restrooms they frequent the use of, and none of their personal information to support our data. This would protect their rights, avoid any damage or harm done to the surveyed participants, and be of equal of fairness. \nThere might be potential biases in our datasets regarding the wealthier neighborhoods of San Diego. There is a high possibility that the areas within town that have the higher income families residing might have better furnished public restrooms within their parks. To avoid this quality rating bias, we can try to ask a survey of asking their zip code, or even the park name that they frequent the usage of, can be registered onto the map and found out which parks with zip code are within the better furnished, richer neighborhoods. \nTo handle these issues, we can create a separate graph of bar for these data gathered, depending on lower and higher income neighborhoods or generalize our data to be gathered from a park or neighborhood that does not show a leaning to any of these qualities, whether surrounded by too high or too low income residential neighborhoods. "
   ]
  }
 ],
 "metadata": {
  "kernelspec": {
   "display_name": "Python 3",
   "language": "python",
   "name": "python3"
  },
  "language_info": {
   "codemirror_mode": {
    "name": "ipython",
    "version": 3
   },
   "file_extension": ".py",
   "mimetype": "text/x-python",
   "name": "python",
   "nbconvert_exporter": "python",
   "pygments_lexer": "ipython3",
   "version": "3.7.9"
  }
 },
 "nbformat": 4,
 "nbformat_minor": 2
}
