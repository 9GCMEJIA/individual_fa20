{
 "cells": [
  {
   "cell_type": "markdown",
   "metadata": {},
   "source": [
    "# COGS 108 - Project Proposal"
   ]
  },
  {
   "cell_type": "markdown",
   "metadata": {},
   "source": [
    "# Names & GitHub ID\n",
    "\n",
    "- Name: Chengsong Diao\n",
    "- GitHub Username: o0t3ivpf"
   ]
  },
  {
   "cell_type": "markdown",
   "metadata": {},
   "source": [
    "# Research Question"
   ]
  },
  {
   "cell_type": "markdown",
   "metadata": {},
   "source": [
    "Does the rise in average temperature and highest temperature caused by global warming affect people's need for parks and recreation in San Diego? If so, what is the correlation and the magnitude of effects for different kinds of parks and recreation?"
   ]
  },
  {
   "cell_type": "markdown",
   "metadata": {},
   "source": [
    "## Background and Prior Work"
   ]
  },
  {
   "cell_type": "markdown",
   "metadata": {},
   "source": [
    "Global warming has been impacting climate globally since 1970s. San Diego is also experiencing rise in the annual mean temperature, and the mean temperature in summer (July, August, and September) was predicted to rise much more substantially than that in winter (January, February, March). The heat waves (hot daytime and nighttime temperatures) in summer was predicted to increase in frequency, magnitude, and duration. (\"Climate Change Related Impacts in the San Diego Region By 2050\")\n",
    "\n",
    "There is evidence that the change in climate affects people's outdoor recreation to a large degree. Higher temperature makes some physical activities unsuitable. It limits people's option for recreation. Public or commercial parks and recreation are being affected. For example, some parks and recreation fields may lack shades or shelters, which prevents people from using them during daytime. (\"Climate Change Is Changing the Face of Outdoor Recreation.\") On the other hand, people's demand for other parks and recreation suitable for high temperatures may increase, such as national parks and protected areas, as indicated in a few research reports. (Fisichelli et al. and Jones et al.)\n",
    "\n",
    "The research of impacts for parks and recreation mentioned above is not conducted in San Diego. I think the need for parks and recreation in San Diego may have similar trends, but the magnitude is likely to be different because of the local climate features. In addition, I want to explore the effects for a wider range of parks and recreation.\n",
    "\n",
    "References (include links):\n",
    "- 1) \"Climate Change Related Impacts in the San Diego Region By 2050.\" California Climate Change Center, www.sandiego.gov/sites/default/files/legacy/environmental-services/pdf/sustainable/2050climate.pdf.\n",
    "- 2) \"Climate Change Is Changing the Face of Outdoor Recreation.\" National Recreation and Park Association, www.nrpa.org/parks-recreation-magazine/2017/october/climate-change-is-changing-the-face-of-outdoor-recreation/.\n",
    "- 3) Fisichelli, Nicholas A., et al. \"Protected Area Tourism in a Changing Climate: Will Visitation at US National Parks Warm Up or Overheat?\" PLoS ONE, journals.plos.org/plosone/article?id=10.1371/journal.pone.0128226.\n",
    "- 4) Jones, Brenda, et al. \"Climate Change, Seasonality and Visitation to Canada's National Parks.\" Department of Geography, University of Waterloo, Journal of Park & Recreation Administration."
   ]
  },
  {
   "cell_type": "markdown",
   "metadata": {},
   "source": [
    "# Hypothesis\n"
   ]
  },
  {
   "cell_type": "markdown",
   "metadata": {},
   "source": [
    "The rise in temperature caused by climate change has impacts on the visitation of parks and recreation in San Diego. The relation may not be linear, and the effects and magnitudes may vary among different kinds of parks and recreation. It is because people's need for recreation is likely to change with the change of climate, as indicated in research and reports."
   ]
  },
  {
   "cell_type": "markdown",
   "metadata": {},
   "source": [
    "# Data"
   ]
  },
  {
   "cell_type": "markdown",
   "metadata": {},
   "source": [
    "The ideal datasets are temperature datasets and visitation to parks and recreation datasets in San Diego.\n",
    "The temperature datasets should be daily or monthly average temperature in San Diego in the past 10 to 20 years, released by government or other weather database. The variables are days or months and the corresponding temperature. The observations should be (almost) continuous during the full 10 to 20 years period. The data should be tabular, stored in CSV files.\n",
    "\n",
    "The visitation to parks and recreation data should come from datasets released by local government departments for public parks and recreation, and publicly available datasets for commercial parks and recreation. The variables should be the name of parks or recreation, the type, and the daily or monthly number of people visiting. The observations should be (almost) continuous during the full 10 to 20 years period. The data should be tabular, stored in CSV files."
   ]
  },
  {
   "cell_type": "markdown",
   "metadata": {},
   "source": [
    "# Ethics & Privacy"
   ]
  },
  {
   "cell_type": "markdown",
   "metadata": {},
   "source": [
    "As long as the datasets are open and allow for research use, I am able to use them without violating the agreements. Generally, the weather data should be fine. The visitation data published by government should also be fine. Other datasets released by companies or commercial databases may have some restrictions and I have to use them according to the license agreements.\n",
    "\n",
    "For weather data, there are no privacy concerns. For the visitation data, as long as the data does not contain person's names, there are no privacy concerns. Even if there are information related to people's privacy, I can process the database to remove the identifiers and only leave the abstract number of people before analyzing.\n",
    "\n",
    "For weather data, I cannot think of obvious biases. The only possibility is that there may be some missing values that interferes with summary. I have to check them carefully to remove the invalid values. There may be some biases in the visitation datasets. Some of the parks or recreation may not make public the visitation data. The visitation data I collected is only able to reflect the part of parks and recreation in the datasets. If some kinds of parks and recreation have very few data, the result may not be accurate and representative of all parks and recreation of those kinds in San Diego.\n",
    "\n",
    "There may also be potential issues for some public parks and recreation after the results of this project is published. The government may increase the funding for parks and recreation where people's demands generally increase. It may potentially undermine the development of other kinds of parks and recreation that satisfy the need of some specific groups of people. Those groups of people may be disadvantaged.\n",
    "\n",
    "To address these problems, I will have to check the datasets carefully to remove any invalid data. I have to check the range of kinds of parks and recreation covered in the visitation datasets. If some kinds have very little data, I may need to remove those kinds to prevent biased results. I may need to further limit the range of kinds of parks and creation in comparison to fit the data I have. Besides, after the results are found, I need to investigate the potential harm to specific groups of people if the kinds of parks and recreation that attracts more people are given more fund to promote their development."
   ]
  }
 ],
 "metadata": {
  "kernelspec": {
   "display_name": "Python 3",
   "language": "python",
   "name": "python3"
  },
  "language_info": {
   "codemirror_mode": {
    "name": "ipython",
    "version": 3
   },
   "file_extension": ".py",
   "mimetype": "text/x-python",
   "name": "python",
   "nbconvert_exporter": "python",
   "pygments_lexer": "ipython3",
   "version": "3.7.6"
  }
 },
 "nbformat": 4,
 "nbformat_minor": 2
}
