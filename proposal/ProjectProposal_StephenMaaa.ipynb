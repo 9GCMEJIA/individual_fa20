{
 "cells": [
  {
   "cell_type": "markdown",
   "metadata": {},
   "source": [
    "# COGS 108 - Project Proposal"
   ]
  },
  {
   "cell_type": "markdown",
   "metadata": {},
   "source": [
    "# Names & GitHub ID\n",
    "\n",
    "- Name: Jiachen Ma\n",
    "- GitHub Username: StephenMaaa"
   ]
  },
  {
   "cell_type": "markdown",
   "metadata": {},
   "source": [
    "# Research Question"
   ]
  },
  {
   "cell_type": "markdown",
   "metadata": {},
   "source": [
    "How do the availibility of public transportations and demands in parking lots affect the overall ratings of parks in San Diego?"
   ]
  },
  {
   "cell_type": "markdown",
   "metadata": {},
   "source": [
    "## Background and Prior Work"
   ]
  },
  {
   "cell_type": "markdown",
   "metadata": {},
   "source": [
    "Currently, there are 400+ parks in San Diego, with 40,000+ acres of park assets [1]. <br>\n",
    "As the parking lots are in shortage recently, especially for parks nearby the beach, City of San Diego had passed certain regulations on parking to prevent parking shortage and possible traffic congestion [2]. <br>\n",
    "The common modes of transport to parks are walking, riding, driving and taking bus or other public transportations. Walking and hiking are usually favored by people lived nearby. Therefore, for people who live far away from a certain park, they either drive, call a car or take public transportations. As the limits of parking lots, driving a private car sometimes falls into the problem of parking. And calling a uber can be relatively expensive. Public transportations seem to be a popular, economical and eco-friendly mode of transport. San Diego offers transports services such as buses, waterfront shuttles, trains, pedicabs and trolley [3]. Most of them are under the Metropolitan Transit System. We can get all stations nearby parks from the schedules and routes [4]. <br>\n",
    "The ratings and reviews of parks in San Diego can be found on Google Map, Yelp, and TripAdvisor. We can use that quantify and judge if a park is good or not. Also, we can get the pros and cons of a park from the reviews. <br>\n",
    "\n",
    "References (include links):\n",
    "- [1] https://www.sandiego.gov/park-and-recreation/general-info#parks-modal\n",
    "- [2] https://www.sandiego.gov/park-and-recreation/parks/rules/rulesparking\n",
    "- [3] https://www.sandiego.org/articles/transportation/public.aspx\n",
    "- [4] https://www.sdmts.com/schedules-real-time"
   ]
  },
  {
   "cell_type": "markdown",
   "metadata": {},
   "source": [
    "# Hypothesis\n"
   ]
  },
  {
   "cell_type": "markdown",
   "metadata": {},
   "source": [
    "I hypothesize that there a positive relationship between the availibity of public transportations near the park and ratings of parks. Because the availibity of public transportations, or we can say the numbers of stations nearby, decides whether people who live far away can go to the park easily, besides driving. In this case, if there is no adjacent station, they probably won't go to this park where they previously planned to. Also, if there're many stations nearby, they can come to the park frequently and leave a good rating, as convenient transport can be a factor in rating. <hr>\n",
    "Also, I hypothesize that there is a positive relationship between the demands in parking lots and ratings of parks. Because the shortage of parking lots can come from too many demands from people who drive to the park. From the situation that many people drive to the park, we can conclude that the park is popular and has a good rating."
   ]
  },
  {
   "cell_type": "markdown",
   "metadata": {},
   "source": [
    "# Data"
   ]
  },
  {
   "cell_type": "markdown",
   "metadata": {},
   "source": [
    "## The ideal datasets:\n",
    "## 1. Demands in parking lots for parks in San Diego\n",
    "  This demand can be quantified as the following variables: the park's name, id, the numbers of reports for traffic congestion nearby (received by City of San Diego, under Traffic Control), the size of parking lots, and the numbers of reports for demands in parking lots (received by City of San Diego). <br>\n",
    "  The ideal case is one obseration for each park. <br>\n",
    "  These data can be stored in a csv file, with the column names as the following variables. <br>\n",
    "## 2. Ratings of parks in San Diego\n",
    "  This can be collected from the data on Google Map, Yelp, and TripAdvisor, with the following variables: the park's name, id, ratings from Google Map (from 0.0 to 5.0), ratings from Yelp (from 0.0 to 5.0), and ratings from TripAdvisor (from 0.0 to 5.0). These data of ratings can be collected via API. <br>\n",
    "  The ideal case is one obseration (all 3 ratings from Google Map, Yelp, and TripAdvisor) for each park. <br>\n",
    "  These data can be stored in a csv file, with the column names as the following variables. <br>"
   ]
  },
  {
   "cell_type": "markdown",
   "metadata": {},
   "source": [
    "# Ethics & Privacy"
   ]
  },
  {
   "cell_type": "markdown",
   "metadata": {},
   "source": [
    "1. Don't violate any privacy during the data collection: remove the names/gender/ethics infos from users who rated parks when collecting data from Google Map, Yelp, and TripAdvisor. Use random-generated id instead.\n",
    "2. The ratings data can be biased, as they're all human-written.\n",
    "3. The data for demands in parking lots and ratings are collected publicly, as they'd be avaiable on City of San Diego, Google Map, Yelp, and TripAdvisor."
   ]
  }
 ],
 "metadata": {
  "kernelspec": {
   "display_name": "Python 3",
   "language": "python",
   "name": "python3"
  },
  "language_info": {
   "codemirror_mode": {
    "name": "ipython",
    "version": 3
   },
   "file_extension": ".py",
   "mimetype": "text/x-python",
   "name": "python",
   "nbconvert_exporter": "python",
   "pygments_lexer": "ipython3",
   "version": "3.7.6"
  }
 },
 "nbformat": 4,
 "nbformat_minor": 2
}
