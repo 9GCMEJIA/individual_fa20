{
 "cells": [
  {
   "cell_type": "markdown",
   "metadata": {},
   "source": [
    "# COGS 108 - Project Proposal"
   ]
  },
  {
   "cell_type": "markdown",
   "metadata": {},
   "source": [
    "# Names & GitHub ID\n",
    "\n",
    "- Name: Stephanie Lan Zhou\n",
    "- GitHub Username: stephanielzhou"
   ]
  },
  {
   "cell_type": "markdown",
   "metadata": {},
   "source": [
    "# Research Question"
   ]
  },
  {
   "cell_type": "markdown",
   "metadata": {},
   "source": [
    "Does race or income level affect the amount of public outdoor space readily available for San Diego residents?"
   ]
  },
  {
   "cell_type": "markdown",
   "metadata": {},
   "source": [
    "## Background and Prior Work"
   ]
  },
  {
   "cell_type": "markdown",
   "metadata": {},
   "source": [
    "Similar Project in Los Angeles: \n",
    "https://www.activelivingresearch.org/disparities-park-space-race-and-income\n",
    "\n",
    "There is a multitude of disparaties in resources for marginalized communities that are often overlooked. These include environmental factors such as air quality, general neighborhood cleanliness, and access to clean water and food. However, a study done in LA county notes that Latinx, African American, and lower-income folx are more likely to live in areas with fewer park acres per person. The equitable distribution of parks and recreation resources is important because their study indicates a correlation between children's distances from parks directly to their health. Noticeably, the study emphasized that the issue is centered around race because of the disproportionate amount of access between White communities and the others, which intersects a multitude of other social issues. \n",
    "\n",
    "San Diego has similar disparities in wealth and a large Hispanic and Latinx community, leading me to believe that there may be similar circumstances in the county. Addressing this disparity and analyzing public data can further the city's decisions of fund distribution for further park and recreation additions. \n",
    "\n",
    "References (include links):\n",
    "- 1) San Diego Parks and Recreation Official Website https://www.sandiego.gov/parks-and-recreation\n",
    "- 2) California Demographics Health & Human Services Agency https://www.sandiegocounty.gov/hhsa/statistics_demographics.html"
   ]
  },
  {
   "cell_type": "markdown",
   "metadata": {},
   "source": [
    "# Hypothesis\n"
   ]
  },
  {
   "cell_type": "markdown",
   "metadata": {},
   "source": [
    "There is an unequitable distribution of parks and recreation space readily available for minority groups and lower-income families than White and/or wealthy communities. This imbalance is directly correlated to both mental and physical health conditions of the communities."
   ]
  },
  {
   "cell_type": "markdown",
   "metadata": {},
   "source": [
    "# Data"
   ]
  },
  {
   "cell_type": "markdown",
   "metadata": {},
   "source": [
    "I will utilize the data from the San Diego Parks & Recreation website to estimate the square footage of each park in San Diego County and plotting these onto a map will reveal which neighborhoods have the closest access to parks. Then, by overlaying a map of San Diego's income levels by neighborhood and race will provide how close each level and race are to each park. The last step is to implement an understanding of proximity to a park to the health of children in the surrounding areas. \n",
    "\n",
    "One easy way to separate San Diego communities is by county. To start, I will look at how many parks and total park square footage in each county and the demographics of the population within each county broken down by percentage. For income level, I can use taxable income levels (most likely use smaller buckets, with low income as a required level). I would like to use a distance formula to see if I can separate out specific familes and their distances to and from each park within a reasonable distance."
   ]
  },
  {
   "cell_type": "markdown",
   "metadata": {},
   "source": [
    "# Ethics & Privacy"
   ]
  },
  {
   "cell_type": "markdown",
   "metadata": {},
   "source": [
    "Considering these are all public city-mandated and collected datasets, I do have permission to utilize this data. There are however, a multitude of biases that directly come using counties as a variable. A history of gerrymandering means that there are inherent social lines drawn that further perpetuate both income level and racial bias. There needs to be a consideration of whether there are alternative methods of separating the San Diego County. It's also worth noting the outliers of each county or which houses are on the edge of each county and how to account for their proximity to a park. Additionally, parks can be over the county lines, but it does not necessarily mean they should be counted twice. \n",
    "\n",
    "I come into this question dreading that it will be a similar situation as LA, which is an inherent bias. However, I will utilize a multitude of data sets and methods to draw a conclusion from my data.\n",
    "\n"
   ]
  },
  {
   "cell_type": "code",
   "execution_count": null,
   "metadata": {},
   "outputs": [],
   "source": []
  }
 ],
 "metadata": {
  "kernelspec": {
   "display_name": "Python 3",
   "language": "python",
   "name": "python3"
  },
  "language_info": {
   "codemirror_mode": {
    "name": "ipython",
    "version": 3
   },
   "file_extension": ".py",
   "mimetype": "text/x-python",
   "name": "python",
   "nbconvert_exporter": "python",
   "pygments_lexer": "ipython3",
   "version": "3.7.6"
  }
 },
 "nbformat": 4,
 "nbformat_minor": 2
}
