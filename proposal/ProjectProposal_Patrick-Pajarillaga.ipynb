{
 "cells": [
  {
   "cell_type": "markdown",
   "metadata": {},
   "source": [
    "# COGS 108 - Project Proposal"
   ]
  },
  {
   "cell_type": "markdown",
   "metadata": {},
   "source": [
    "# Names & GitHub ID\n",
    "\n",
    "- Name: Patrick Pajarillaga\n",
    "- GitHub Username: Patrick-Pajarillaga"
   ]
  },
  {
   "cell_type": "markdown",
   "metadata": {},
   "source": [
    "# Research Question"
   ]
  },
  {
   "cell_type": "markdown",
   "metadata": {},
   "source": [
    "Is there a relationship between the racial demographics of a San Diego neighborhood and the size of their public parks witihin them?"
   ]
  },
  {
   "cell_type": "markdown",
   "metadata": {},
   "source": [
    "## Background and Prior Work"
   ]
  },
  {
   "cell_type": "markdown",
   "metadata": {},
   "source": [
    "San Diego has been well known for having parks that are enjoyed and loved by their residents.  Some of these parks include Old Town, Balboa Park, and many more. These parks are situated in different neighborhoods that are made out of different racial groups. According to 2019 US Census data, the racial majority group in San Diego belongs to White individuals.  The other groups constitute as racial minorities, which include; Hispanic or Latino, Asians, and African Americans.  Its the relationship betweeen these racial groups and public parks in San Diego that is going to be studied.\n",
    "\n",
    "Similar research on this topic include a research study done by UC Berkley, published in July 2011 called *Disparities in Park Space by Race and Income*.  In this study, researchers used the Los Angeles region to collect data on 1,800 parks and used a \"park service area\" approach to assign each resident their closest park. They found that low-income and minority areas in LA carried fewer parks and recreational facilities as more affluent areas.  In addition, they found that areas with higher densities with children carried low amounts of parks as well.  With   \n",
    "\n",
    "References (include links):\n",
    "- 1) https://www.census.gov/quickfacts/sandiegocitycalifornia\n",
    "- 2) https://activelivingresearch.org/disparities-park-space-race-and-income"
   ]
  },
  {
   "cell_type": "markdown",
   "metadata": {},
   "source": [
    "# Hypothesis\n"
   ]
  },
  {
   "cell_type": "markdown",
   "metadata": {},
   "source": [
    "Racial minority neighborhoods in San Diego have parks that are smaller sized than ones that belong to racial majorities. Racial minorities have been underserved in many regards in San Diego, combined with other factors such as income and racial bias, it would be presumed that govenments allocate less land for public spaces to these underserved groups. "
   ]
  },
  {
   "cell_type": "markdown",
   "metadata": {},
   "source": [
    "# Data"
   ]
  },
  {
   "cell_type": "markdown",
   "metadata": {},
   "source": [
    "The ideal datasets that would be used in this would be Census data on the population of San Diego and logistical data on the cities parks. In essense, collecting this data means accessing already made datasets and slicing the data for use in the proposed study.  Then the data would have to be processed and configured so that variables such as the neighborhoods can bebe classified.\n",
    "\n",
    "Categorical data would be used when it comes to figuring out the neighborhoods, parks, and racial demographics of each area, while Numerical data would be used when it comes to finding the area of each of the parks.\n",
    "\n",
    "The data collected would be stored in formats such as JSON, CSV, or any format of that semi-structured data type.\n",
    "\n",
    "In terms of the size of the data, it can be estimated to be around ~100 observations for parks, and ~30 neighborhoods where each has their ratios of racial demographics tied to them."
   ]
  },
  {
   "cell_type": "markdown",
   "metadata": {},
   "source": [
    "# Ethics & Privacy"
   ]
  },
  {
   "cell_type": "markdown",
   "metadata": {},
   "source": [
    "The data being used would be open data, that does not really need permission to use since it is public govenment data.  Also, since the data is being used for research purposes, not economical, there are no ethical concerns there.\n",
    "Privacy concerns would arise when using census data in terms of personal information being revealed, but the only data being accessed are the ratios of racial groups by area which does not reveal personal identifiable information.  In terms of biases in the data, census data has known to be biased towards groups since some populations ignore it while others provide false data.  This might cause some problems in terms of classifying the groups, but not in a way that would potentially alter the outcome."
   ]
  }
 ],
 "metadata": {
  "kernelspec": {
   "display_name": "Python 3",
   "language": "python",
   "name": "python3"
  },
  "language_info": {
   "codemirror_mode": {
    "name": "ipython",
    "version": 3
   },
   "file_extension": ".py",
   "mimetype": "text/x-python",
   "name": "python",
   "nbconvert_exporter": "python",
   "pygments_lexer": "ipython3",
   "version": "3.8.3"
  }
 },
 "nbformat": 4,
 "nbformat_minor": 2
}
