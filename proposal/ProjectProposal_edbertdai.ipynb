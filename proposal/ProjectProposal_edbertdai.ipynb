{
 "cells": [
  {
   "cell_type": "markdown",
   "metadata": {},
   "source": [
    "# COGS 108 - Project Proposal"
   ]
  },
  {
   "cell_type": "markdown",
   "metadata": {},
   "source": [
    "# Names & GitHub ID\n",
    "\n",
    "- Name: Edbert Dai\n",
    "- GitHub Username: edbertdai"
   ]
  },
  {
   "cell_type": "markdown",
   "metadata": {},
   "source": [
    "# Research Question"
   ]
  },
  {
   "cell_type": "markdown",
   "metadata": {},
   "source": [
    "Does increased proximity to well-connected public transportation boost visitor traffic from disadvantaged communities?"
   ]
  },
  {
   "cell_type": "markdown",
   "metadata": {},
   "source": [
    "## Background and Prior Work"
   ]
  },
  {
   "cell_type": "markdown",
   "metadata": {},
   "source": [
    "Public transportation access is crucial factor in how people utilize city infrastructure. This is even more so for the thousands of people that live in disadvantaged communities that may not own a car or be able to walk to their destination. In the context of city parks, this means that people simply not going to their nearest park. According to \"Parks: How Far is Too Far?\", San Diego is not one of the best cities when it comes to park accessibility, meaning that San Diegans need to travel farther on average to reach their nearest city park. A walk of more than half a mile to a park can mean that many will opt to not go to the park.\n",
    "\n",
    "There are already cities that have realized the benefits of connecting parks to reliable public transit. The Los Angeles Metro has laid out a strategic plan in increasing equitable access to parks particularly to those in disadvataged communities. They have found that 41% of low-income Angelenos do not live near a park and that 22% of parks are not connected by transit. Similarly, King County in the Seattle area found that many areas with vulnerable populations had poor connections to parks by transit. By connecting these communities with parks, it has seen more than 10,000 people utilize its new Trailhead Direct service to hiking trails. This is direct evidence for the correlation of public transit proximity to park visitation.\n",
    "\n",
    "References (include links):\n",
    "- 1) http://cloud.tpl.org/pubs/ccpe_Planning_mag_article12_2004.pdf\n",
    "- 2) http://media.metro.net/projects_studies/toc/images/nextStop_transitToParks_05-2019.pdf\n",
    "- 3) https://www.wilderness.org/articles/blog/many-communities-lack-access-parks-and-nature-public-transportation-can-help"
   ]
  },
  {
   "cell_type": "markdown",
   "metadata": {},
   "source": [
    "# Hypothesis\n"
   ]
  },
  {
   "cell_type": "markdown",
   "metadata": {},
   "source": [
    "When there are many, frequent options for public transit to or within a given park, there is an increase in the number of visitors to that park."
   ]
  },
  {
   "cell_type": "markdown",
   "metadata": {},
   "source": [
    "# Data"
   ]
  },
  {
   "cell_type": "markdown",
   "metadata": {},
   "source": [
    "The ideal dataset to perform the analysis is the addresses of each resident in disadvantaged communities, locations of parks, usage statistics for these parks, catalog of transit routes that pass by parks, and usage of these routes. It would be beneficial to have the observation of every resident in these communities be considered to increase the accuracy of the analysis. The data would probably already be collected by the various departments City of San Diego and the San Diego Metropolitan Transit System (MTS). In the best case, these data should be stored in relational databases such as SQL. If not, it would also be ideal for these data to be stored in structured formats such as CSV and JSON."
   ]
  },
  {
   "cell_type": "markdown",
   "metadata": {},
   "source": [
    "# Ethics & Privacy"
   ]
  },
  {
   "cell_type": "markdown",
   "metadata": {},
   "source": [
    "Permission will likely be granted by the city to perform analysis on the datasets. The main privacy concern would be access to the personal information of thousands of city residents as well as their behavioral patterns in regards to park and public transit usage. In order to preserve privacy, it would be best to assign unique identifiers rather than use names and addresses directly in the analysis of usage patterns. The main source of bias in my dataset would be from that fact that it would primarily center around that of disadvantaged communities so the narrative could be tweaked in favor of that. While bias is inevitable, the best ways to mitigate this would be to collect accurate, representative data and to ensure that all data is considered equally during analysis. In response to ethics, this study may come off as discriminatory to some due to its nature of focusing on a particular demographic. The case can be made for this study that it benefits the city as a whole due to increasing equitability and therefore can bring greater change such as property desirability which drives economic growth."
   ]
  },
  {
   "cell_type": "code",
   "execution_count": null,
   "metadata": {},
   "outputs": [],
   "source": []
  }
 ],
 "metadata": {
  "kernelspec": {
   "display_name": "Python 3",
   "language": "python",
   "name": "python3"
  },
  "language_info": {
   "codemirror_mode": {
    "name": "ipython",
    "version": 3
   },
   "file_extension": ".py",
   "mimetype": "text/x-python",
   "name": "python",
   "nbconvert_exporter": "python",
   "pygments_lexer": "ipython3",
   "version": "3.8.3"
  }
 },
 "nbformat": 4,
 "nbformat_minor": 2
}
