{
 "cells": [
  {
   "cell_type": "markdown",
   "metadata": {},
   "source": [
    "# COGS 108 - Project Proposal"
   ]
  },
  {
   "cell_type": "markdown",
   "metadata": {},
   "source": [
    "# Names & GitHub ID\n",
    "\n",
    "- Name: Moraa Ogamba\n",
    "- GitHub Username: nogamba"
   ]
  },
  {
   "cell_type": "markdown",
   "metadata": {},
   "source": [
    "# Research Question"
   ]
  },
  {
   "cell_type": "markdown",
   "metadata": {},
   "source": [
    "Parks have become and increasingly important part of people's lives with the world moving towards more outdoor activities in which people can properly social distance. Does including park amenities, specifically athletic equipment, improve the health of the community?"
   ]
  },
  {
   "cell_type": "markdown",
   "metadata": {},
   "source": [
    "## Background and Prior Work"
   ]
  },
  {
   "cell_type": "markdown",
   "metadata": {},
   "source": [
    "*Fill in your background and prior work here. Be sure to specify which statements are from which references.* \n",
    "\n",
    "Parks offer a space for people to host picnics, relax, meet with friends to socialize at a distance and commune with nature. But one thing that San Diego parks might have to invest in as the times change is the access to athletic equipment in open air spaces. Parks are now becoming a more central part of people's lives and improving the facilities available will be key to integrating parks into more people's lives and may result in health improvements for community members.\n",
    "\n",
    "Outdoor fitness equipment (OFE) has been around for over 40 years and tend to include static pieces of equipment. OFE was appealing because it allowed people to escape traditional gym settings and exercise in a more open environment. Companies that fit parks with these kinds of gym equipement have a vast number of designs and set-ups that they have proven to be successful. Today the appeal for OFE might be even more due to the current global situation with COVID-19.\n",
    "\n",
    "A study done in 2013 sought to survey the opinions of seniors on some of the OFE in a park in San Antonio in order to conclude what the health benefits were according to the seniors. The results were mostly that the OFE \"met health needs of seniors, but improved management is necessary to ensure safety\".\n",
    "\n",
    "References (include links):\n",
    "- 1) https://www.athleticbusiness.com/outdoor/what-to-consider-when-adding-outdoor-fitness-to-a-park.html\n",
    "- 2) https://bmcpublichealth.biomedcentral.com/articles/10.1186/1471-2458-13-1216"
   ]
  },
  {
   "cell_type": "markdown",
   "metadata": {},
   "source": [
    "# Hypothesis\n"
   ]
  },
  {
   "cell_type": "markdown",
   "metadata": {},
   "source": [
    "*State and defend your hypotheses here.*\n",
    "Because parks are becoming more and more important, I believe that adding Outdoor Fitness Equipment will encourage community memebers to visit the parks and in turn result in health improvements. There is a possibility that other aspects can impact the health of community members but we could also analyze if having OFE encourages community memebers to try and improve their health."
   ]
  },
  {
   "cell_type": "markdown",
   "metadata": {},
   "source": [
    "# Data"
   ]
  },
  {
   "cell_type": "markdown",
   "metadata": {},
   "source": [
    "*Explain what the ideal dataset you would want to answer this question. (This should include: What variables? How many observations? Who/what/how would these data be collected? How would these data be stored/organized?)*\n",
    "\n",
    "The ideal datasets needed in order to answer this question would be a correlation between the overall health data of a community surrounding a particular park and the details of what that park includes. Having a survey done of community members on how often they visit that park, how they rate their health, their age, their sex, their general location, as well as what they think about the park amenities would be ideal. The data would be stored in a .csv file that is comma delimited and that keeps their data anonymous."
   ]
  },
  {
   "cell_type": "markdown",
   "metadata": {},
   "source": [
    "# Ethics & Privacy"
   ]
  },
  {
   "cell_type": "markdown",
   "metadata": {},
   "source": [
    "*Fill in your ethics & privacy discussion here*\n",
    "\n",
    "As mentioned above, the survey would be kept anonymous leaving out details such as their name. Additionally, for their location I would use something such as a zipcode to make sure their location is not obvious but still correlates to a nearby park. This is a mostly ethical study because while the results of the study will impact the community, the study will only be conducted with anonymous data and on a topic that is mostly leisurely. "
   ]
  }
 ],
 "metadata": {
  "kernelspec": {
   "display_name": "Python 3",
   "language": "python",
   "name": "python3"
  },
  "language_info": {
   "codemirror_mode": {
    "name": "ipython",
    "version": 3
   },
   "file_extension": ".py",
   "mimetype": "text/x-python",
   "name": "python",
   "nbconvert_exporter": "python",
   "pygments_lexer": "ipython3",
   "version": "3.7.9"
  }
 },
 "nbformat": 4,
 "nbformat_minor": 2
}