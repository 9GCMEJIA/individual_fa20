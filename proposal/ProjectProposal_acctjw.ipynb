{
 "cells": [
  {
   "cell_type": "markdown",
   "metadata": {},
   "source": [
    "# COGS 108 - Project Proposal"
   ]
  },
  {
   "cell_type": "markdown",
   "metadata": {},
   "source": [
    "# Names & GitHub ID\n",
    "\n",
    "- Name: Jennifer Wu\n",
    "- GitHub Username: acctjw"
   ]
  },
  {
   "cell_type": "markdown",
   "metadata": {},
   "source": [
    "# Research Question"
   ]
  },
  {
   "cell_type": "markdown",
   "metadata": {},
   "source": [
    "Is the budget for San Diego Parks and Recreation being used in park areas in the most need of renovation/repairs?"
   ]
  },
  {
   "cell_type": "markdown",
   "metadata": {},
   "source": [
    "## Background and Prior Work"
   ]
  },
  {
   "cell_type": "markdown",
   "metadata": {},
   "source": [
    "The city of San Diego publishes a financial outlook outline every five fiscal years to give you a glimpse into how much renevue they are forecasting, in addition to allocation of funds to specific departments. In the outline, it is stated that the City is planning to build a number of new facilities in an effort to add enrichment to people's lives. This will add some new parks to neighborhoods that have few or none. Additionally, some of these new areas will be joint use parks, which are parks designated for use by school-aged children during school days. For the fiscal period from 2020-2024, the City plans to allott around $400,000 towards the construction of Parks and Recreation facilities.\n",
    "\n",
    "Unfortunately, due to the COVID-19 pandemic, this proposed budget is just a fraction of what it could potentially be. COVID-19 has reduced tourism in many cities, including San Diego, thus substantially reducing revenue. According to Joe Leventhal, the City plans to slash spending for Parks and Recreation by 5.9 million - mainly by cutting recreation center hours.\n",
    "\n",
    "References (include links):\n",
    "- 1) https://www.sandiego.gov/sites/default/files/fiscal_year_2020-2024_five-year_financial_outlook.pdf\n",
    "- 2) https://timesofsandiego.com/opinion/2020/05/16/san-diego-city-council-should-lead-by-cutting-its-own-budget"
   ]
  },
  {
   "cell_type": "markdown",
   "metadata": {},
   "source": [
    "# Hypothesis\n"
   ]
  },
  {
   "cell_type": "markdown",
   "metadata": {},
   "source": [
    "My hypothesis is that certain areas of the city are disproportionately affected by the spending and nudget cuts. The ones most affected may be the lower socialeconomic areas, with fewer cuts in the more tourist-oriented parts of the city."
   ]
  },
  {
   "cell_type": "markdown",
   "metadata": {},
   "source": [
    "# Data"
   ]
  },
  {
   "cell_type": "markdown",
   "metadata": {},
   "source": [
    "The ideal dataset to answer this question would include the names of each park in San Diego, sorted into groups by area/neighborhood, plus the amounts of money spent on each park from prior years.\n",
    "\n",
    "The data will be provided beforehand, so it was not necessary to determine where or how the dataset(s) will be procured."
   ]
  },
  {
   "cell_type": "markdown",
   "metadata": {},
   "source": [
    "# Ethics & Privacy"
   ]
  },
  {
   "cell_type": "markdown",
   "metadata": {},
   "source": [
    "I was provided the dataset for this project, so I have permission to use it for this purpose. The datasets are likely either released for public use, or perhaps from a prior published project; I don't have the source for them.\n",
    "\n",
    "Because of the fact that the source is unknown, there could potentially be some bias, depending on who collected the data or where it was collected from. The data may also potentially be outdated, if it is from a previous year, so I cannot vouch for its accuracy."
   ]
  }
 ],
 "metadata": {
  "kernelspec": {
   "display_name": "Python 3",
   "language": "python",
   "name": "python3"
  },
  "language_info": {
   "codemirror_mode": {
    "name": "ipython",
    "version": 3
   },
   "file_extension": ".py",
   "mimetype": "text/x-python",
   "name": "python",
   "nbconvert_exporter": "python",
   "pygments_lexer": "ipython3",
   "version": "3.7.6"
  }
 },
 "nbformat": 4,
 "nbformat_minor": 2
}
