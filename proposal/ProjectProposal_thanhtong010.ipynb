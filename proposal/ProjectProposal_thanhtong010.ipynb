{
 "cells": [
  {
   "cell_type": "markdown",
   "metadata": {},
   "source": [
    "# COGS 108 - Project Proposal"
   ]
  },
  {
   "cell_type": "markdown",
   "metadata": {},
   "source": [
    "# Names & GitHub ID\n",
    "\n",
    "- Name: Thanh Tong\n",
    "- GitHub Username: thanhtong010"
   ]
  },
  {
   "cell_type": "markdown",
   "metadata": {},
   "source": [
    "# Research Question"
   ]
  },
  {
   "cell_type": "markdown",
   "metadata": {},
   "source": [
    "What is the relationship between the number of reviews a park gets on Google and how often that park gets visited? Specifically, this project looks at parks in San Diego."
   ]
  },
  {
   "cell_type": "markdown",
   "metadata": {},
   "source": [
    "## Background and Prior Work"
   ]
  },
  {
   "cell_type": "markdown",
   "metadata": {},
   "source": [
    "There are over 400 parks in the city of San Diego alone (1). With this overwhelming number of parks that locals and tourists can potentially visit, it can be difficult to decide what park to go to, especially since many parks variables are so close in proximity. Thus, people could turn to the internet as a way to determine the park that they will visit. \n",
    "The internet, and Google specifically, has become a hub for people to share their thoughts and read about other's opinions as well. As a result, reviews on businesses and other organizations have become very important for people to read and affects their decision making as well. In fact, because people are looking at Google reviews more and more, these reviews can actually help with rankings for businesses (2). Google will take into account facts such as relevance and distance to determine what businesses should go to the top of the search results for users (2). Thus, for parks, this is especially important since there are way too many parks for people to choose from. Having certain parks at the top of the Google search results with the most number of reviews make it more likely for people to visit that park, thereby increasing the traffic that the park gets in terms of visitors. For this project, I will be looking at the relationship between the number of Google reviews a park gets and how popular that park is in terms of average daily visitors.\n"
    "\n",
    "References (include links):\n",
    "- 1) https://www.sandiego.gov/park-and-recreation/general-info\n",
    "- 2) https://www.podium.com/article/do-google-reviews-help-rankings/ \n"
   ]
  },
  {
   "cell_type": "markdown",
   "metadata": {},
   "source": [
    "# Hypothesis\n"
   ]
  },
  {
   "cell_type": "markdown",
   "metadata": {},
   "source": [
    "I hypothesize that the higher number of Google reviews a park gets, the more popular that park is (i.e. the more number of visitors that park gets). I believe this is the case because the more reviews a park gets, I think it is more likely that the Google algorithm will put that park at the top in terms of search results for parks since it will have more relevance and established popularity already."
   ]
  },
  {
   "cell_type": "markdown",
   "metadata": {},
   "source": [
    "# Data"
   ]
  },
  {
   "cell_type": "markdown",
   "metadata": {},
   "source": [
    "The ideal dataset needed to answer this question would have variables including Google reviews on all the parks in San Diego, the average number of daily visitors each park has, and the general Google ranking that park has. I believe this data would be stored in a table, as more structured data, where each row specifies all the variables for a particular park, and each column specifies each variable. Thus, I believe that this data set would be much easier to analyze for each park because of the way that it is organized.  "
   ]
  },
  {
   "cell_type": "markdown",
   "metadata": {},
   "source": [
    "# Ethics & Privacy"
   ]
  },
  {
   "cell_type": "markdown",
   "metadata": {},
   "source": [
    "There could be potential privacy concerns regarding my dataset. Although Google reviews are publicized for the general public to view, this does not mean that the people who wrote these reviews want their data to be a part of this project proposal. Thus, in order to obtain this data for Google reviews, this project would need to get the permission of the users who wrote Google reviews for parks in San Diego. Another way to handle this issue could simply be to strictly look at the number of reviews that each park has and not take personal data regarding who wrote the review, which would not take user's privacy information at all. One potential bias in my dataset could be that those who wrote reviews on this data set may be people who had strong opinions on the park they reviewed about, whether it be that they really loved the park or hated it. Thus, if we only look at the number of reviews that a park has, it may not be sufficient to determine whether that has correlation to how popular the park is in terms of foot traffic. We could handle this issue by looking at the ratings that each San Diego park has as well, which may give us a better analysis between the relationship between Google reviews on parks and the parks' popularity."
   ]
  }
 ],
 "metadata": {
  "kernelspec": {
   "display_name": "Python 3",
   "language": "python",
   "name": "python3"
  },
  "language_info": {
   "codemirror_mode": {
    "name": "ipython",
    "version": 3
   },
   "file_extension": ".py",
   "mimetype": "text/x-python",
   "name": "python",
   "nbconvert_exporter": "python",
   "pygments_lexer": "ipython3",
   "version": "3.7.9"
  }
 },
 "nbformat": 4,
 "nbformat_minor": 2
}
