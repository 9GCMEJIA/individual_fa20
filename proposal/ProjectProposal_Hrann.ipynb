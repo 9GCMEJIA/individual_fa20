{
 "cells": [
  {
   "cell_type": "markdown",
   "metadata": {},
   "source": [
    "# COGS 108 - Project Proposal"
   ]
  },
  {
   "cell_type": "markdown",
   "metadata": {},
   "source": [
    "# Names & GitHub ID\n",
    "\n",
    "- Name: Huiran Song\n",
    "- GitHub Username: Hrann"
   ]
  },
  {
   "cell_type": "markdown",
   "metadata": {},
   "source": [
    "# Research Question"
   ]
  },
  {
   "cell_type": "markdown",
   "metadata": {},
   "source": [
    "Does the city of San Diego need to build more parks or recreational space for their residents to enjoy? "
   ]
  },
  {
   "cell_type": "markdown",
   "metadata": {},
   "source": [
    "## Background and Prior Work"
   ]
  },
  {
   "cell_type": "markdown",
   "metadata": {},
   "source": [
    "There was a viral video on Tiktok a few days ago recommending a local public park to people [1]. Because of the algorithm, a lot of San Diego residents who are on Tiktok got that video in their feed, and they were not happy about it: hundreds of the comments under that video were all complaining about the author sharing this park because there were already so many people hanging out there all the time that the people don't want any more traffic. Though this video only mentions this specifc park, the response speaks of the general problem of park shortage in San Diego. Are people in San Diego park-deficient? \n",
    "\n",
    "While having access to parks and other recreation facilities is directly related to building a healthy lifestyle [2] and improving physical wellness of the population [3], there's not much prior work done properly on this critical issue. In 2013, a neighborhood-by-neighborhood area planning project says if a healthy stardard requires 2.8 Acres of park area per 1,000 residents, 85% of the neighborhoods in San Diego is park-deficient [4]. However, layer a third-party analyst reported an error in their statistics saying they left out some parks that don't quite belong to any specific neighborhoods [5]. Another news coverage pertaining to this topic in 2018 also asserts that some local neighboorhoods suffer from park shortage, but it lacks statistical evidence and only has interviews with some residents to back up their statement. Overall, there's a lot to be done on this issue, especially from a data scientist's point of view.\n",
    "\n",
    "\n",
    "References (include links):\n",
    "- 1) https://www.tiktok.com/@myexplorewithme/video/6885531389496659205?lang=en&sender_device=pc&sender_web_id=6886655009028343302&is_from_webapp=1\n",
    "- 2) https://www.sciencedirect.com/science/article/abs/pii/S0749379704003071\n",
    "- 3) https://papers.ssrn.com/sol3/papers.cfm?abstract_id=1408694\n",
    "- 4) https://voiceofsandiego.org/wp-content/uploads/2013/10/ParkDoc.pdf\n",
    "- 5) https://www.voiceofsandiego.org/parks/fact-check-san-diegos-park-shortage/\n",
    "- 6) https://www.kpbs.org/news/2018/may/03/parts-san-diego-have-park-shortage/\n"
   ]
  },
  {
   "cell_type": "markdown",
   "metadata": {},
   "source": [
    "# Hypothesis\n"
   ]
  },
  {
   "cell_type": "markdown",
   "metadata": {},
   "source": [
    "Based on my past few visitings to the local parks and the general impression I get from other park visitors as well as the research I've done, I'm going to hypothesize that there's a park shortage in the city of San Diego and therefore building more public parks and recreational space is needed."
   ]
  },
  {
   "cell_type": "markdown",
   "metadata": {},
   "source": [
    "# Data"
   ]
  },
  {
   "cell_type": "markdown",
   "metadata": {},
   "source": [
    "The most ideal datasets for this research question would be acquired from a general survey from all San Diego residents on to what extent they are satisfied by the currently existing parks and to what extent they think they need more parks. If questions like \"on a scale of 1 to 10...\" are used, this would give us the ordinal variable measuring how much new parks are needed. In the most idealist situation, we would like to have every San Diego resident fill out this survey, so according to the latest census, we would have 1,423,851 observations. Since \"I\" work for the government and the scale of survey is so big, the survey results would be collected by SD government. Then, they can be stored in a .csv file to be analyzed.\n",
    "\n",
    "Another measurement that would also work greatly for this research could be the population density in every park in San Diego at any time. To do this, we may need to set up Arduinos or any computer with a visual sensor or infrared scanners to get the real-time population in parks. It also needs to cover at least a week since the number of visitors vary greatly depending on the day of week. In this case the variable we are measuring is the quantitative, density, given by the number of people we observed divided by the area of park. We can also calculate the person-time of visitors using the observations we got. The data can also be stored in .csv files since there are not many categories, only many entries. With a team of engineers, if we only use relatively big, major parks in the city, it can be done without much government resources. "
   ]
  },
  {
   "cell_type": "markdown",
   "metadata": {},
   "source": [
    "# Ethics & Privacy"
   ]
  },
  {
   "cell_type": "markdown",
   "metadata": {},
   "source": [
    "With the first apprach to getting the desired datasets, the agreement to be surveyed and the authorization of data analysis should be included in the survey. Also, depending on the ways of distribution, we may need to make sure the subjects are all properly notified about the aggrement and authorization, and their permissions are obtained after they are well informed about this research project. Since we don't need any information regarding the identity information of our subjects, the data should be collected anonymously, and the central database needs to be encrypted properly and safe from hackings or leakings. \n",
    "The second apprach regards cameras or other sort of data collection from the public, so following an ethical research guideline, I don't think it's actually practical. If we are to inform everyone entering the park that they are to be recorded in some way and they have the option to opt out, first, it's a lot of work, and second, there's no good way to do it technically. An alternative we have is to use the traffic data from Google Maps API. Google has the average traffic per hour of most places that are marked as \"public\" or \"park\", so for a rough estimation of how crowded parks are, especially in peak hours, these data would suffice. "
   ]
  }
 ],
 "metadata": {
  "kernelspec": {
   "display_name": "Python 3",
   "language": "python",
   "name": "python3"
  },
  "language_info": {
   "codemirror_mode": {
    "name": "ipython",
    "version": 3
   },
   "file_extension": ".py",
   "mimetype": "text/x-python",
   "name": "python",
   "nbconvert_exporter": "python",
   "pygments_lexer": "ipython3",
   "version": "3.8.3"
  }
 },
 "nbformat": 4,
 "nbformat_minor": 2
}
