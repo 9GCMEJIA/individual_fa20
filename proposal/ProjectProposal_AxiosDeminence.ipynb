{
 "cells": [
  {
   "cell_type": "markdown",
   "metadata": {},
   "source": [
    "# COGS 108 - Project Proposal"
   ]
  },
  {
   "cell_type": "markdown",
   "metadata": {},
   "source": [
    "# Names & GitHub ID\n",
    "\n",
    "- Name: Juhmer Tena\n",
    "- GitHub Username: AxiosDeminence"
   ]
  },
  {
   "cell_type": "markdown",
   "metadata": {},
   "source": [
    "# Research Question"
   ]
  },
  {
   "cell_type": "markdown",
   "metadata": {},
   "source": [
    "Is there a relationship between the use of the San Diego's park system and crime rate around the parks?"
   ]
  },
  {
   "cell_type": "markdown",
   "metadata": {},
   "source": [
    "## Background and Prior Work"
   ]
  },
  {
   "cell_type": "markdown",
   "metadata": {},
   "source": [
    "According to the CDC in the first reference, crime rate can \"alter park use behavior.\" However, the study performed was not generalized towards other cities and different cultures and the result may be different than for San Diego's park system. This project may be used in order to verify the validity of the statement for the San Diego area. Something to note is that the aforementioned study focuses on actual crime rate and not crime rate perception by the community.\n",
    "\n",
    "A second study by the National Institutes of Health (the second reference), constraints crime to violent crime. The study concluded that there is a substantial decrease of park usage among adults and seniors, but a not as substantial decrease of park usage among children and adolescents. From personal experience, children and adolescents make up a majority of those who visit the parks (alongside any potential supervising adults or guardians). It may be possible that we must make a distinction between violent and non-violent crime rates for this project.\n",
    "\n",
    "References (include links):\n",
    "- 1) https://www.cdc.gov/pcd/issues/2020/19_0434.htm\n",
    "- 2) https://www.ncbi.nlm.nih.gov/pmc/articles/PMC5818287/"
   ]
  },
  {
   "cell_type": "markdown",
   "metadata": {},
   "source": [
    "# Hypothesis\n"
   ]
  },
  {
   "cell_type": "markdown",
   "metadata": {},
   "source": [
    "Non-violent crime rate decreases park usage and violent crime rate substantially decreases park usage. "
   ]
  },
  {
   "cell_type": "markdown",
   "metadata": {},
   "source": [
    "# Data"
   ]
  },
  {
   "cell_type": "markdown",
   "metadata": {},
   "source": [
    "We would require two different data sets. The first would be the crime rate, their location, and the type of crime committed (ideally a categorical variable of violent or non-violent). This data set would likely be from San Diego's crime databases and would have to be wrangled to exclude involved individual's names and other extraneous information. The second would be the location of parks in San Diego and their usage metrics. This data set would likely be from the recreation division's data on parks and park usage. These data sets would be stored in a csv and the number of observations would be the number of crimes in San Diego within the past 10 years and the number of parks for the first and second data sets, respectively."
   ]
  },
  {
   "cell_type": "markdown",
   "metadata": {},
   "source": [
    "# Ethics & Privacy"
   ]
  },
  {
   "cell_type": "markdown",
   "metadata": {},
   "source": [
    "The most concerning ethics and privacy issue that comes to mind is the leakage of personal information regarding those involved in the crimes of the first data set. In order to prevent this, we would remove all extraneous information from our data set as they are irrelevant to the study. Another concern is that it may affect park usage by revealing \"unsafe parks\" but based off of the study's results, I would advise that the recreation divison to advocate efforts to reduce crime rate in the neighborhoods in order to increase park usage."
   ]
  }
 ],
 "metadata": {
  "kernelspec": {
   "display_name": "Python 3",
   "language": "python",
   "name": "python3"
  },
  "language_info": {
   "codemirror_mode": {
    "name": "ipython",
    "version": 3
   },
   "file_extension": ".py",
   "mimetype": "text/x-python",
   "name": "python",
   "nbconvert_exporter": "python",
   "pygments_lexer": "ipython3",
   "version": "3.7.6"
  }
 },
 "nbformat": 4,
 "nbformat_minor": 2
}
