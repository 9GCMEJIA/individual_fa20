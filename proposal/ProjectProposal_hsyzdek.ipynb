{
 "cells": [
  {
   "cell_type": "markdown",
   "metadata": {},
   "source": [
    "# COGS 108 - Project Proposal"
   ]
  },
  {
   "cell_type": "markdown",
   "metadata": {},
   "source": [
    "# Names & GitHub ID\n",
    "\n",
    "- Name: Hayden Syzdek\n",
    "- GitHub Username: hsyzdek"
   ]
  },
  {
   "cell_type": "markdown",
   "metadata": {},
   "source": [
    "# Research Question"
   ]
  },
  {
   "cell_type": "markdown",
   "metadata": {},
   "source": [
    "How does an individual's feedback in the existing survey effect their likelihood to re-enroll in Parks and Recreation programs? And do reviews of a staff member effect the re-enrollment rate of programs they lead?"
   ]
  },
  {
   "cell_type": "markdown",
   "metadata": {},
   "source": [
    "## Background and Prior Work"
   ]
  },
  {
   "cell_type": "markdown",
   "metadata": {},
   "source": [
    "The San Diego Parks and Recreation Department runs programs from single day events like hikes and bingo nights, to weekly classes such as Ballet and Pickleball<sup>1</sup>. These programs are run by individual staff members or volunteers. Those who take these programs are able to fill out surveys detailing their satisfaction with the staff.  The taker of the survey is asked to rate the staff member on 6 metrics: whether the experience was positive, and whether the staff was helpful, knowledgable, attentive, respectful, and timely<sup>2</sup>. My goal is to determine whether the existing channels of communication do a good job predicting how likely an individual is to re-enroll in Parks programs. \n",
    "\n",
    "Previous research on customer surveys has shown that customers may not be retained even if they respond that they are overally satisfied, but are much more likely to be retained if they are satisfied in every category<sup>3</sup>.\n",
    "\n",
    "References (include links):\n",
    "- 1) Spring Valley Spring 2020 Program Guide\n",
    "Retrieved From https://en.calameo.com/read/00513557131b1a5c777e60\n",
    "- 2) County of San Diego Customer Experience Survey\n",
    "Retrieved From https://www.surveymonkey.com/r/lueg-dpr-feedback\n",
    "\n",
    "- 3) A Survey of Customer Retention in the New Zealand Banking Industry \n",
    "Retrieved From https://essuir.sumdu.edu.ua/bitstream-download/123456789/56948/3/Gan.pdf"
   ]
  },
  {
   "cell_type": "markdown",
   "metadata": {},
   "source": [
    "# Hypothesis\n"
   ]
  },
  {
   "cell_type": "markdown",
   "metadata": {},
   "source": [
    "I hypothesise that the existing survey will not provide strong information on whether a participant in a San Diego Parks and Recreation program will re-enroll in another program, as the survey only asks for information about the experience with the staff, not the program as a whole. Similarly, I do not think the survey will be able to predict the re-enrollment rate of a staff member's program."
   ]
  },
  {
   "cell_type": "markdown",
   "metadata": {},
   "source": [
    "# Data"
   ]
  },
  {
   "cell_type": "markdown",
   "metadata": {},
   "source": [
    "\n",
    "To effectively answer the question, I need two datasets. First, I need the survey results. To provide maximum response rates, a short amount of time should be provided during the last class of the program to fill out the survey. This dataset should include all answers in the survey, including the name of the staff member and survey taker. This can be organized in a standard table.\n",
    "\n",
    "Second, I need enrollment information. This should include the name of the customer, the name of the program and instructor, and the date of enrollment. This data should already be collected by the Parks and Recretion department and the information should be comprehensive. This data should again be stored in a standard table, with each row representing a different program enrolled (for example, if a customer enrolls in two different programs, they should appear on two rows)."
   ]
  },
  {
   "cell_type": "markdown",
   "metadata": {},
   "source": [
    "# Ethics & Privacy"
   ]
  },
  {
   "cell_type": "markdown",
   "metadata": {},
   "source": [
    "It is crucial that the data be anonymous, both to encourage accurate responses and to prevent retaliation for poor reviews. Because many program sizes are small, it is important to not release any individual review, and instead only release results in aggregate. \n",
    "\n",
    "Ethically, if the research finds that these surveys are effective then the surveys may become a crucial part of staff performance reviews. If the surveys are flawed in a way that the research does not catch, that might mean that certain staff members might not recieve promotions or raises they deserve.  It is therefore very important to control for any potential confounding variables such as the type of program. "
   ]
  },
  {
   "cell_type": "code",
   "execution_count": null,
   "metadata": {},
   "outputs": [],
   "source": []
  }
 ],
 "metadata": {
  "kernelspec": {
   "display_name": "Python 3",
   "language": "python",
   "name": "python3"
  },
  "language_info": {
   "codemirror_mode": {
    "name": "ipython",
    "version": 3
   },
   "file_extension": ".py",
   "mimetype": "text/x-python",
   "name": "python",
   "nbconvert_exporter": "python",
   "pygments_lexer": "ipython3",
   "version": "3.7.6"
  }
 },
 "nbformat": 4,
 "nbformat_minor": 2
}
