{
 "cells": [
  {
   "cell_type": "markdown",
   "metadata": {},
   "source": [
    "# COGS 108 - Project Proposal"
   ]
  },
  {
   "cell_type": "markdown",
   "metadata": {},
   "source": [
    "# Names & GitHub ID\n",
    "\n",
    "- Name: Cristian Jarquin\n",
    "- GitHub Username: J-Cristian"
   ]
  },
  {
   "cell_type": "markdown",
   "metadata": {},
   "source": [
    "# Research Question"
   ]
  },
  {
   "cell_type": "markdown",
   "metadata": {},
   "source": [
    " Is there a relationship between the sentiment of words in Genius’s top ten rap songs and popularity ranking ?*"
   ]
  },
  {
   "cell_type": "markdown",
   "metadata": {},
   "source": [
    "## Background and Prior Work"
   ]
  },
  {
   "cell_type": "markdown",
   "metadata": {},
   "source": [
    "*Healthline found that music can affcet overall mood and emotion.* \n",
    "\n",
    "References (include links):\n",
    "- 1)https://genius.com/\n",
    "- 2)https://www.healthline.com/health-news/mental-listening-to-music-lifts-or-reinforces-mood-051713#:~:text=New%20research%20shows%20that%20even,boost%20happiness%20and%20reduce%20anxiety.&text=Conversely%2C%20the%20study%20found%20that,negative%20feelings%20of%20profound%20grief."
   ]
  },
  {
   "cell_type": "markdown",
   "metadata": {},
   "source": [
    "# Hypothesis\n"
   ]
  },
  {
   "cell_type": "markdown",
   "metadata": {},
   "source": [
    "*Yes, I think that the more positive/Happy words the more likely it is to be popular (top ten).*"
   ]
  },
  {
   "cell_type": "markdown",
   "metadata": {},
   "source": [
    "# Data"
   ]
  },
  {
   "cell_type": "markdown",
   "metadata": {},
   "source": [
    "*The ideal dataset will have number of positive words, negative words per song, names of all top ten songs, and length of time of song. There should be 10 observations being the top ten. I would collect this data from genius API and their given token for access. I would organize it in chronological order from top to bottom. )*"
   ]
  },
  {
   "cell_type": "markdown",
   "metadata": {},
   "source": [
    "# Ethics & Privacy"
   ]
  },
  {
   "cell_type": "markdown",
   "metadata": {},
   "source": [
    "*I think that this data and results can do no harm although The token for access should be handle with max privacy or else others can gain access to your account or create an illegal code and sell it and not be liable*"
   ]
  }
 ],
 "metadata": {
  "kernelspec": {
   "display_name": "Python 3",
   "language": "python",
   "name": "python3"
  },
  "language_info": {
   "codemirror_mode": {
    "name": "ipython",
    "version": 3
   },
   "file_extension": ".py",
   "mimetype": "text/x-python",
   "name": "python",
   "nbconvert_exporter": "python",
   "pygments_lexer": "ipython3",
   "version": "3.7.9"
  }
 },
 "nbformat": 4,
 "nbformat_minor": 2
}
