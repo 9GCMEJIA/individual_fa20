{
 "cells": [
  {
   "cell_type": "markdown",
   "metadata": {},
   "source": [
    "# COGS 108 - Project Proposal"
   ]
  },
  {
   "cell_type": "markdown",
   "metadata": {},
   "source": [
    "# Names & GitHub ID\n",
    "\n",
    "- Name: Samuel Redman\n",
    "- GitHub Username: SamuelRedman"
   ]
  },
  {
   "cell_type": "markdown",
   "metadata": {},
   "source": [
    "# Research Question"
   ]
  },
  {
   "cell_type": "markdown",
   "metadata": {},
   "source": [
    "Does San Diego county have enough public recreational space for a post-COVID-19 world? Does social distancing and future health risks affect the necessary amount avaiable public space in the county?"
   ]
  },
  {
   "cell_type": "markdown",
   "metadata": {},
   "source": [
    "## Background and Prior Work"
   ]
  },
  {
   "cell_type": "markdown",
   "metadata": {},
   "source": [
    " References (include links):\n",
    "- 1) https://data.sandiego.gov/datasets/park-locations/\n",
    "- 2) https://www.sdparks.org/content/sdparks/en/news-events/news-stories/COVID-19Response.html.html#:~:text=Safety%20is%20Our%20Priority,been%20closed%20for%20your%20protection.\n",
    "- 3) https://www.sandiego.gov/parks-and-recreation\n",
    "- \ta) https://www.sandiego.gov/sites/default/files/parks-passive-use-notice.pdf\n",
    "- 4) https://www.parks.ca.gov/parkindex"
   ]
  },
  {
   "cell_type": "markdown",
   "metadata": {},
   "source": [
    "# Hypothesis\n"
   ]
  },
  {
   "cell_type": "markdown",
   "metadata": {},
   "source": [
    "According to the California goverment's state park index, San Diego ranks relatively high up for number of public recreation areas (park, museum, or beach). This information as well as the information from the San Diego government's site discussing COVID safety seems to indicate that safety is a top priority and that space exists in the community. This being said, there are numerous factors that can affect the threat to one's health, such as what type of individual is attracted to spending time outdoors or at a park during a health threat, or one's ability to spend time outside instead of working or providing for their family. "
   ]
  },
  {
   "cell_type": "code",
   "execution_count": null,
   "metadata": {},
   "outputs": [],
   "source": []
  },
  {
   "cell_type": "markdown",
   "metadata": {},
   "source": [
    "# Data"
   ]
  },
  {
   "cell_type": "markdown",
   "metadata": {},
   "source": [
    "Infection rates of individuals in San Diego county, number of parks with sizes of those parks and distance from downtown san diego, shut downs of public areas and change of infection rate/attendance, approximations of incremental attendance to public facilities before and during covid."
   ]
  },
  {
   "cell_type": "markdown",
   "metadata": {},
   "source": [
    "# Ethics & Privacy"
   ]
  },
  {
   "cell_type": "markdown",
   "metadata": {},
   "source": [
    "Especially in San Diego there is a chance for analysis to have a bias relating to income inequality. Many individuals in San Diego county are 45 years or older and have financial security which allows them to take time to be outdoors or may even influence their political decisions which could affect their decision to go outside during a pandemic. As far as privacy goes, most of this data is public record presumably as the San Diego goverment will likely be interested in these topics as well, if not specifically these than similar concepts almost certainly. "
   ]
  }
 ],
 "metadata": {
  "kernelspec": {
   "display_name": "Python 3",
   "language": "python",
   "name": "python3"
  },
  "language_info": {
   "codemirror_mode": {
    "name": "ipython",
    "version": 3
   },
   "file_extension": ".py",
   "mimetype": "text/x-python",
   "name": "python",
   "nbconvert_exporter": "python",
   "pygments_lexer": "ipython3",
   "version": "3.7.9"
  }
 },
 "nbformat": 4,
 "nbformat_minor": 2
}
