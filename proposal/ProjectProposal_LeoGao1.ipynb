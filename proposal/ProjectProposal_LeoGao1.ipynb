{
 "cells": [
  {
   "cell_type": "markdown",
   "metadata": {},
   "source": [
    "# COGS 108 - Project Proposal"
   ]
  },
  {
   "cell_type": "markdown",
   "metadata": {},
   "source": [
    "# Names & GitHub ID\n",
    "\n",
    "- Name: Weihang Gao\n",
    "- GitHub Username: LeoGao1"
   ]
  },
  {
   "cell_type": "markdown",
   "metadata": {},
   "source": [
    "# Research Question"
   ]
  },
  {
   "cell_type": "markdown",
   "metadata": {},
   "source": [
    "What is the correlation between the park facilities, user demographics, and physical activity level in San Diego? Besed on the results, How should we allocate funding to improve the park? "
   ]
  },
  {
   "cell_type": "markdown",
   "metadata": {},
   "source": [
    "## Background and Prior Work"
   ]
  },
  {
   "cell_type": "markdown",
   "metadata": {},
   "source": [
    "Parks are an essential resource for the public physical activity. As the main part of the parks, the facilities affect the user demographics and physical activity level. Stephanie T. Child and her teammates did research that analyzed the relationship among the three factors. Similarly, Andrew T. Kaczynski and his coworkers analyze the association of parks' size, distance, and features with physical activities in the neighborhood. \n",
    "\n",
    "In San Diego, there are 400+ parks and 57 recreation centers. The City of San Diego has a mission-- \"To provide healthy, sustainable, and enriching environments for all\" and a vision -- \"To connect all to the City’s diverse world class park system.\" The parks in San Diego can help us to better understand the relationship among the park facilities, user demographics, and physical activity level. Then, with the result, we are able to improve the park system in San Diego\n",
    "\n",
    "\n",
    "References:\n",
    "\n",
    "1.https://www.sandiego.gov/parks-and-recreation\n",
    "\n",
    "2.https://ajph.aphapublications.org/doi/full/10.2105/AJPH.2007.129064\n",
    "\n",
    "3.https://www.researchgate.net/profile/Edwin_Gomez6/publication/270952346_Attitudes_about_urban_nature_parks_A_case_study_of_users_and_nonusers_in_Portland_Oregon/links/5d51722ea6fdcc370a8f95c8/Attitudes-about-urban-nature-parks-A-case-study-of-users-and-nonusers-in-Portland-Oregon.pdf#page=76 (Page 76)\n"
   ]
  },
  {
   "cell_type": "markdown",
   "metadata": {},
   "source": [
    "# Hypothesis\n",
    "\n"
   ]
  },
  {
   "cell_type": "markdown",
   "metadata": {},
   "source": [
    "My hypothesis is that different park facilities have different impacts on user demographics and physical activity level. Certain kinds of facilities, say, basketball courts, have a larger effect, and other facilities may have smaller impact. By analyzing their scale of impact, we may determine which facility is most “valuable” to build or improve. Also, one kind of facility may fit a certain age group, which means we can change our plan with the age distribution of the local population. "
   ]
  },
  {
   "cell_type": "markdown",
   "metadata": {},
   "source": [
    "# Data"
   ]
  },
  {
   "cell_type": "markdown",
   "metadata": {},
   "source": [
    "I plan to get data from different data source:\n",
    "1. The data of the parks and their park facilities in California. The ideal dataset should contain park location (string or postal code), park name or id, the size and count of park facilities, and the sizes of parks. \n",
    "2. The data of the parks’ visitors and their information in California. The ideal dataset should contain park location(string or postal code), park name or id, visit time, visitors’ ages and other features. If the dataset is formed by every visit (each visit is a row), I’ll group them by time, count the amount of different age groups and other features. If the dataset is formed by the summary of every period (the visitors per day/week), I’ll continue to do the next step of data cleaning.\n",
    "3. The data of physical activities in different regions in California. The specificity of the dataset can be counties or even postal codes. The dataset should contain county name/postal code, common activities and their average time. \n",
    "\n",
    "After getting the three dataset, I’ll try to merge them by postal code or county (depends on the specificity of the #3), which is the primary of the final dataset. \n"
   ]
  },
  {
   "cell_type": "markdown",
   "metadata": {},
   "source": [
    "# Ethics & Privacy"
   ]
  },
  {
   "cell_type": "markdown",
   "metadata": {},
   "source": [
    "I'll try to find the public datasets which fits my plan.\n",
    "\n",
    "When I collect the data of the physical activities in different regions, I'll exclude all the actual individual identities to keep the privacy of participants. \n",
    "\n",
    "After getting the result of analysis, I’ll try to not compare the goodness of actual regions or parks with their real names. In this way, I can avoid the possible negative influence on some parks or regions. When analyzing user demographics, I’ll be aware of the bias about race. After getting the relation between races and other factors, I’ll try to check it in different ways to avoid the bias.\n",
    "\n",
    "My report may support certain kinds of facilities and some parks. It could cause the unfair distribution of funding. I’ll announce that my report is just for advice and make it clear that we should keep the park system in San Diego fair and reasonable.\n"
   ]
  },
  {
   "cell_type": "code",
   "execution_count": null,
   "metadata": {},
   "outputs": [],
   "source": []
  }
 ],
 "metadata": {
  "kernelspec": {
   "display_name": "Python 3",
   "language": "python",
   "name": "python3"
  },
  "language_info": {
   "codemirror_mode": {
    "name": "ipython",
    "version": 3
   },
   "file_extension": ".py",
   "mimetype": "text/x-python",
   "name": "python",
   "nbconvert_exporter": "python",
   "pygments_lexer": "ipython3",
   "version": "3.7.4"
  }
 },
 "nbformat": 4,
 "nbformat_minor": 4
}
