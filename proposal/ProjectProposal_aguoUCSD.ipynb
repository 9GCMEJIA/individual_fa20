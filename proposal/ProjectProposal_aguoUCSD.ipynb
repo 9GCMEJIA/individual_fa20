{
 "cells": [
  {
   "cell_type": "markdown",
   "metadata": {},
   "source": [
    "# COGS 108 - Project Proposal"
   ]
  },
  {
   "cell_type": "markdown",
   "metadata": {},
   "source": [
    "# Names & PID\n",
    "\n",
    "- Name: **Alex N. Guo**\n",
    "- GitHub Username: **aguoUCSD**"
   ]
  },
  {
   "cell_type": "markdown",
   "metadata": {},
   "source": [
    "# Research Question"
   ]
  },
  {
   "cell_type": "markdown",
   "metadata": {},
   "source": [
    "*Fill in your research question here*\n",
    "\n",
    "Does variations in the median income level in each zip code (in the City of San Diego) result in differences in park amenities and the maintenance of park conditions (pertaining to parks in the respective zip codes)?"
   ]
  },
  {
   "cell_type": "markdown",
   "metadata": {},
   "source": [
    "## Background and Prior Work"
   ]
  },
  {
   "cell_type": "markdown",
   "metadata": {},
   "source": [
    "*Fill in your background and prior work here. Be sure to specify which statements are from which references.* \n",
    "\n",
    "The City of San Diego is the eighth largest city in the United States by population, consisting of over 1.4 million inhabitants (1). It is the county seat for San Diego County, which itself consists of more than 3.3 million inhabitants (2). Despite the city's growth, the city of San Diego still has a high cost of living in the present day. Income levels can vary greatly between households living in different urban and suburban parts of a county or city, including San Diego. Aside from its beautiful beaches and attractions, many visitors and residents from different socioeconomic backgrounds visit San Diego park and recreational facilities on a common basis.\n",
    "\n",
    "The City of San Diego maintains a number of park and recreational facilities. Here, we will solely focus on the parks that the City of San Diego owns. The city maintains over 340 parks of various different kinds, such as open space, regional, and community parks (3). Visions of the park's most recent master plan (derived from the 2008 General Plan) called for recreational spaces with ease of access to bike, walk and transit options (4). This comes as city residents viewed upgrades to parks and their facilities as very important. The goal of the city is to ensure that residents have equitable and close access to parks in their neighborhood so that they can enjoy various physical and social benefits of the parks themselves. San Diego's standard formula for a park is that it contains land that offers equity and continued access to recreational experiences (4).\n",
    "\n",
    "In other cities and counties around the United States, studies from 2013 have shown that neighborhood income and the number of amenities in parks are somewhat correlated. This is important because parks are typically used as venues for exercise, entertainment, hikes, social activities, and much more. Parks give an area for individuals to be exposed to fresh air and vegetation in order to improve the quality of life. The study, published in the journal titled _Annals of Behavorial Medicine_ , involved parks located in the Kansas City, Missouri area (5). It suggested that some lower-income communities had more parks, but the individual parks had fewer amenities and resources for its residents. For instance, lower-income communities had a higher quantity of parks with fewer amenities, while communities of the middle class had parks with improved landscaping features. The researchers of the study said that further research was needed to determine how differences in park amenities and environments relate to \"activity levels and health outcomes\" (5).\n",
    "\n",
    "References (include links):\n",
    "- 1) City of San Diego Population: https://www.sandiego.gov/economic-development/sandiego/population\n",
    "- 2) San Diego County Population: https://www.counties.org/county-profile/san-diego-county\n",
    "- 3) San Diego Parks and Recreation: https://www.sandiego.gov/park-and-recreation/parks\n",
    "- 4) San Diego Parks Master Plan: https://www.sandiego.gov/complete-communities/parks-master-plan\n",
    "- 5) Media Xpress - Park amenities differ according to income of neighborhoods: https://medicalxpress.com/news/2013-03-amenities-differ-income-neighborhoods.html\n",
    "\n"
   ]
  },
  {
   "cell_type": "markdown",
   "metadata": {},
   "source": [
    "# Hypothesis\n"
   ]
  },
  {
   "cell_type": "markdown",
   "metadata": {},
   "source": [
    "*State and defend your hypotheses here.*\n",
    "\n",
    "My hypothesis is that _lower-income areas (by zip code) in the City of San Diego have less park amenities and slightly more deteriorated park conditions. On the other hand, parks located in higher-income areas (by zip code) would have more park amenities, and the parks themselves would be maintained in a better condition._ This is because the parks are funded by taxes paid by residents of the City of San Diego. Traditionally, higher-income families pay more taxes than lower-income families. Portions of the taxes that residents pay contribute to the funding of parks for their community area. Hence, areas with a higher median income have more tax funding to implement additional park amenities and maintain the parks in a better condition compared to areas whose residents earn a lower median income."
   ]
  },
  {
   "cell_type": "markdown",
   "metadata": {},
   "source": [
    "# Data"
   ]
  },
  {
   "cell_type": "markdown",
   "metadata": {},
   "source": [
    "*Explain what the ideal dataset you would want to answer this question. (This should include: What variables? How many observations? Who/what/how would these data be collected? How would these data be stored/organized?)*\n",
    "\n",
    "\n",
    "The ideal dataset would include observations from zip codes located in the City of San Diego in the past year, which is 2019. It will also include six variables such as the zip code (within the City of San Diego), median income level at the zip code, number of parks, average park spending, average # of amenities, and average condition of the parks. To reiterate, the number of observations will be equal to the number of zip codes located in the City of San Diego.\n",
    "\n",
    "Note that the dataset _will not_ include all observations from San Diego County since the County of San Diego consists of other cities (i.e. Poway, San Marcos, Escondido, El Cajon, Oceanside) and unincorporated communities (i.e. 4S Ranch) besides the City of San Diego. Those parks are managed by San Diego County Parks and Recreation, or the respective city's park systems.\n",
    "\n",
    "I will download publicly available data from the internet, including park/recreational data that the City of San Diego provides, and demographic/economic/area data that the San Diego Association of Governments (SANDAG) provides (see sample links below, at the end of this section). Ideally, the downloaded data should be present inside a semi-structured format, such as csv, tsv, or json.\n",
    "\n",
    "The downloaded data will consist of individual park data points (including their names, locations, attendance, and funding), and it is more than likely that each zip code in the City of San Diego will consist of multiple parks. I will group the parks up by zip code, and then take the averages of the park spending, the number of amenities, and park conditions per zip code.\n",
    "\n",
    "All of the gathered variables and observations will be organized into an organized Python DataFrame created using the _pandas_ package. I will be performing row and column computations, as well as average calculations for data points in the dataframe. After I clean up the dataset, the appropriate rows and columns of the dataframe will be output to the screen.\n",
    "\n",
    "\n",
    "\n",
    "\n",
    "**Supplementary data links:**\n",
    "\n",
    "The City of San Diego provides some publicly available datasets related to parks, recreation, and other areas of interest at the following link: https://data.sandiego.gov/datasets/\n",
    "\n",
    "Demographics and income levels for different areas (zip codes, communities, etc) of San Diego can be gathered at the following link: https://datasurfer.sandag.org/"
   ]
  },
  {
   "cell_type": "markdown",
   "metadata": {},
   "source": [
    "# Ethics & Privacy"
   ]
  },
  {
   "cell_type": "markdown",
   "metadata": {},
   "source": [
    "The park and recreational data points for this project will be constructed from publicly available datasets readily available on the City of San Diego's website. Data points for population and area demographics will also be gathered from SANDAG's Data Surfer website. Downloading these data points from the respective websites is free and does not require any login or paywall. I will abide by the City of San Diego Open Data Portal's acceptable Terms of Use, which will grant the individual or group use of their public datasets. For this project, I will be performing _derivative work_ based on the City of San Diego's data points. I plan to use data points from all City of San Diego zip codes in order to get as much of a diverse sample as possible that is not biased towards a specific person or group. This is to ensure that I do not collect data points that are biased towards a specific gender, race, ethnicity, etc. I will not consider race, gender, or ethnicity as part of the project, since those variables are non-essential and will be removed when I import the data points. On another note, agencies that privately own parks may be concerned about their financial spending information being leaked out to the public. This should not be a concern for parks owned or managed by the City of San Diego since they are considered public property, hence information about them is made public.\n",
    "\n",
    "\n",
    "\n",
    "Some people might assume that data available from governmental and public agencies has all of the personally identifiable information (PII) already removed. For safety reasons, I will double check to see if any personally identifiable information is present in any of the data points (such as name and email), and remove or exclude them from the study. For data retention purposes, I am likely to delete the data points after a specified amount of time has passed from the completion of the research project, which is approximately 2-3 months later. If there is a copyright violation or if any public/governmental agency feels that they are harmed by the study, I can use alternative data points that are publicly available to conduct my study.\n",
    "\n"
   ]
  },
  {
   "cell_type": "markdown",
   "metadata": {},
   "source": [
    "Examples:\n",
    "\n",
    "https://github.com/COGS108/IndividProjects-Sp20/blob/main/FinalProject_michelemurakami.ipynb\n",
    "\n",
    "https://github.com/COGS108/FinalProjects-Sp17/blob/master/045-FinalProject.ipynb\n",
    "\n",
    "https://github.com/COGS108/FinalProjects-Sp17/blob/master/033-FinalProject.ipynb"
   ]
  }
 ],
 "metadata": {
  "kernelspec": {
   "display_name": "Python 3",
   "language": "python",
   "name": "python3"
  },
  "language_info": {
   "codemirror_mode": {
    "name": "ipython",
    "version": 3
   },
   "file_extension": ".py",
   "mimetype": "text/x-python",
   "name": "python",
   "nbconvert_exporter": "python",
   "pygments_lexer": "ipython3",
   "version": "3.7.6"
  }
 },
 "nbformat": 4,
 "nbformat_minor": 2
}
