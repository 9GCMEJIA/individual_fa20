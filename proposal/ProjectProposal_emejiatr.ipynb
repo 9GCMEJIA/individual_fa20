{
 "cells": [
  {
   "cell_type": "markdown",
   "metadata": {},
   "source": [
    "# COGS 108 - Project Proposal"
   ]
  },
  {
   "cell_type": "markdown",
   "metadata": {},
   "source": [
    "# Names & GitHub ID\n",
    "\n",
    "- Name: Esmeralda Mejia Trejo\n",
    "- GitHub Username: emejiatr"
   ]
  },
  {
   "cell_type": "markdown",
   "metadata": {},
   "source": [
    "# Research Question"
   ]
  },
  {
   "cell_type": "markdown",
   "metadata": {},
   "source": [
    "Would implementing more public park areas in San Diego increase k-12 students' time spent being active outside?"
   ]
  },
  {
   "cell_type": "markdown",
   "metadata": {},
   "source": [
    "## Background and Prior Work"
   ]
  },
  {
   "cell_type": "markdown",
   "metadata": {},
   "source": [
    "    According to the city of San Diego, \"23% of San Diego residents currently live further than 10-minute walk to a park or green space.\"(1) This means that there are not enough parks in San Diego for its residents to go to, thus it is discouraging for the event of going outside to be active. Since 2016, the City of San Diego has launched a program called \"play all day\" which serves the purpose of utilizing parks and fields belonging to school campuses for recreational use outside of school hours. This is the right step to creating more space for kids to play. The goal is to create 45 joint-use park sites.  \n",
    "    \n",
    "    An example of data collection that has been done and continues to do so is from the Parks Build Community Project by North Carolina State University and John Hopkins University. From the beginning of Decemeber 2018, residents were surveyed about \"the renovation’s impact on park access and safety, and how the project has encouraged local children to play\"(2). This goes hand in hand with what San Diego can accomplish too in order to find out more about the impact of parks and how the implementation of them can have a positive impact to communities. \n",
    "   \n",
    "\n",
    "References (include links):\n",
    "- 1)“The Play All Day Parks Program.” The City of San Diego, www.sandiego.gov/planning/programs/parkplanning/playallday. \n",
    "\n",
    "- 2)“Measuring the Impact of Parks Build Community: Feature: Parks and Recreation Magazine: NRPA.” National Recreation and Park Association (NRPA), www.nrpa.org/parks-recreation-magazine/2019/may/measuring-the-impact-of-parks-build-community/.  "
   ]
  },
  {
   "cell_type": "markdown",
   "metadata": {},
   "source": [
    "# Hypothesis\n"
   ]
  },
  {
   "cell_type": "markdown",
   "metadata": {},
   "source": [
    "If more parks are created around San Diego, then the time that K-12 kids spend outside will increase. This will occur because there will be a space for kids to play safely and socialize outside. In this case, they don't face the challenges of playing on the street where they could get run over or obstruct traffic; creating a factor that could discourage outside playing. "
   ]
  },
  {
   "cell_type": "markdown",
   "metadata": {},
   "source": [
    "# Data"
   ]
  },
  {
   "cell_type": "markdown",
   "metadata": {},
   "source": [
    "Surveys could be done to collect information from around the community where parks have been recently constructed. The variables could include satisfaction with the construction of the park and the amount of hours per week that K-12 kids spent outside before the park was built and after. This data can be collected by paper made surveys rather than online surveys in order to account for low income families that may not have the access to internet or the skills to use technological devices. \n",
    "The data can then be stored in the san diego website so that there is data trasparency. "
   ]
  },
  {
   "cell_type": "markdown",
   "metadata": {},
   "source": [
    "# Ethics & Privacy"
   ]
  },
  {
   "cell_type": "markdown",
   "metadata": {},
   "source": [
    "The proposed dataset would be ethical and private because it would not include names or addresses of people in the comunnity, it would only include anonymous data about the satisfaction of having a public park and the time kids spents at the park. \n",
    "The data could include biases against low income families since a lot of times the families work all day and don't have the time to be contacted about the survey. The data could also be biased only towards K-12 kids and exclude the data of older or younger populations which means that communities that have a low number of K-12 kids could have skewed data and less of a representation to encourage public parks in their areas. Language barriers could also be a problem for collecting the data since the survey might not be in the language that parents understand and can agree to fill out. \n",
    "\n",
    "    In order to address these problems, the private information of the people being surveyed would have to be taken out of consideration. Additionally, the data used would have to balance out socieconomic statuses and race by having equal representation in the data. This means that if there's a smaller amount of data collected from a certain group, the others will have to be balanced to meet the same quantity of data as the underrepresented group. \n"
   ]
  },
  {
   "cell_type": "code",
   "execution_count": null,
   "metadata": {},
   "outputs": [],
   "source": []
  }
 ],
 "metadata": {
  "kernelspec": {
   "display_name": "Python 3",
   "language": "python",
   "name": "python3"
  },
  "language_info": {
   "codemirror_mode": {
    "name": "ipython",
    "version": 3
   },
   "file_extension": ".py",
   "mimetype": "text/x-python",
   "name": "python",
   "nbconvert_exporter": "python",
   "pygments_lexer": "ipython3",
   "version": "3.7.6"
  }
 },
 "nbformat": 4,
 "nbformat_minor": 2
}
