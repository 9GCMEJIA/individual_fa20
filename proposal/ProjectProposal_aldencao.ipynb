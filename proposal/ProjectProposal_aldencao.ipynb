{
 "cells": [
  {
   "cell_type": "markdown",
   "metadata": {},
   "source": [
    "# COGS 108 - Project Proposal"
   ]
  },
  {
   "cell_type": "markdown",
   "metadata": {},
   "source": [
    "# Names & GitHub ID\n",
    "\n",
    "- Name: Yuhao Cao\n",
    "- GitHub Username: aldencao"
   ]
  },
  {
   "cell_type": "markdown",
   "metadata": {},
   "source": [
    "# Research Question"
   ]
  },
  {
   "cell_type": "markdown",
   "metadata": {},
   "source": [
    "Based on the effects of COVID-19, which services, amenities, and facilities should we continue to operate or even improve upon, so that the overall costs to maintain parks and recreation can be lowered?"
   ]
  },
  {
   "cell_type": "markdown",
   "metadata": {},
   "source": [
    "## Background and Prior Work"
   ]
  },
  {
   "cell_type": "markdown",
   "metadata": {},
   "source": [
    "COVID-19 will have long lasting effects on San Diego Parks and Recreation for the next five years as a lot of services and amenities aren't being used, and funds from the city and state are likely to be lowered. Some of the amenities might have to be cut in order to lower the costs to maintain the parks and rec system. In the first reference, we can already see that the revenue generated from parks this year is lower than last year's.\n",
    "\n",
    "We can see that in the second reference link, the budget to operate and maintain parks and rec for the year 2020-2021 will be about $20,400,000 less than the previous year. Changes to operating hours as well cuts to certain art fundings were already proposed. It's likely that we would have to make more similar changes and perhaps even discontinue funding to facilities that being used by very few people. \n",
    "\n",
    "References:\n",
    "- 1) https://www.sandiego.gov/finance/annual \n",
    "- 2) https://sandiegoca.opengov.com/transparency#/7714"
   ]
  },
  {
   "cell_type": "markdown",
   "metadata": {},
   "source": [
    "# Hypothesis\n"
   ]
  },
  {
   "cell_type": "markdown",
   "metadata": {},
   "source": [
    "The services and amenities that people are continuing to use during the pandemic are very likely to continue to be used after the pandemic. Places that were very popular and/or brings in many tourists before the pandemic should be able to attract visitors again after the pandemic. We should focus on these areas and look to improve them in order to attract old and new visitors. "
   ]
  },
  {
   "cell_type": "markdown",
   "metadata": {},
   "source": [
    "# Data"
   ]
  },
  {
   "cell_type": "markdown",
   "metadata": {},
   "source": [
    "Ideal data sets would be data on the amount of daily/monthly visitors over the last 2 years(so we can get data from before and during the pandemic) for each park(especially the major attractions such as Balboa Park, Mission Bay Park, etc.). I would also want data on the amount of revenue that each park brings in(for the parks that do generate revenue) over the last 2 years. San Diego Parks and Recreation should have a record of all these data. These data would be organized into line graphs to show the changes over time(and during the period of the pandemic), and bar graphs to show the difference of each park and amenities. "
   ]
  },
  {
   "cell_type": "markdown",
   "metadata": {},
   "source": [
    "# Ethics & Privacy"
   ]
  },
  {
   "cell_type": "markdown",
   "metadata": {},
   "source": [
    "These data should below to the city of San Diego. Many of these data are public so there shouldn't be any privacy issue, and since it's the city's public data, I don't think we need their permission to use them. There shouldn't be any bias in the city's data as they themselves wouldn't want bias data to operate their parks and recreation. \n",
    "\n",
    "The only issue might be within the impact of the analysis of the data. After the analysis, it's very possible that certain facilities would be proposed to be closed or that operating hours would be shortened. That would affect the people that uses those facilities, or perhaps even depend on them. What we can do handle these issues is to provide them with information about places where they can get similar services or help if they do depend on them. "
   ]
  }
 ],
 "metadata": {
  "kernelspec": {
   "display_name": "Python 3",
   "language": "python",
   "name": "python3"
  },
  "language_info": {
   "codemirror_mode": {
    "name": "ipython",
    "version": 3
   },
   "file_extension": ".py",
   "mimetype": "text/x-python",
   "name": "python",
   "nbconvert_exporter": "python",
   "pygments_lexer": "ipython3",
   "version": "3.8.3"
  }
 },
 "nbformat": 4,
 "nbformat_minor": 2
}
