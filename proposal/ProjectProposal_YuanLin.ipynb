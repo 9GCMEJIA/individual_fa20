{
 "cells": [
  {
   "cell_type": "markdown",
   "metadata": {},
   "source": [
    "# COGS 108 - Project Proposal"
   ]
  },
  {
   "cell_type": "markdown",
   "metadata": {},
   "source": [
    "# Names & GitHub ID\n",
    "\n",
    "- Name: Yuan Lin\n",
    "- GitHub Username: yul092\n",
    "- PID: A15640636"
   ]
  },
  {
   "cell_type": "markdown",
   "metadata": {},
   "source": [
    "# Research Question"
   ]
  },
  {
   "cell_type": "raw",
   "metadata": {},
   "source": [
    "Does reopening parks and other recreational facilities affect the transmission rate of COVID-19 in San Diego County?"
   ]
  },
  {
   "cell_type": "markdown",
   "metadata": {},
   "source": [
    "## Background and Prior Work"
   ]
  },
  {
   "cell_type": "markdown",
   "metadata": {},
   "source": [
    "In order to slow down the spread of transmission of COVID-19 cases, the San Diego Parks & Recreation. Now the county is facing policy decisions about safe reopening in which the county needes to ensure the spread of COVID-19 is slowed down with the maximum amount of reopening allowed. It is important to determine if those facilities should be reopened, in what percent of full capacity should those facilities maintained, and if temporary closing is necessary. We need to find if reopening will significantly increase the spread of COVID-19, or the transmission rate won't be affected at all. \n",
    "\n",
    "References (include links)a\n",
    "- 1)Park operation adjustments\n",
    "https://www.sdparks.org/content/dam/sdparks/en/pdf/BrochuresMiscellaneous/COVID-19%20Related%20Park%20Operations%20Adjustments.pdf\n",
    "- 2)the precedures of safe reopening https://www.sandiegocounty.gov/content/sdc/hhsa/programs/phs/community_epidemiology/dc/2019-nCoV/reopening.html\n",
    "- 3)"
   ]
  },
  {
   "cell_type": "markdown",
   "metadata": {},
   "source": [
    "# Hypothesis\n"
   ]
  },
  {
   "cell_type": "markdown",
   "metadata": {},
   "source": [
    "Reopening parks and other recreational facilities will significantly increase the transmission rate of COVID-19 in San Diego County."
   ]
  },
  {
   "cell_type": "markdown",
   "metadata": {},
   "source": [
    "# Data"
   ]
  },
  {
   "cell_type": "markdown",
   "metadata": {},
   "source": [
    "*Explain what the ideal dataset you would want to answer this question. (This should include: What variables? How many observations? Who/what/how would these data be collected? How would these data be stored/organized?)*\n",
    "\n",
    "An ideal dataset that I would want to use would include the data of the locations of reopened parks and recreational facilities, the COVID-19 cases distributed by location. The data should be stored in a machine-readible format like csv and json. I would want observations to be different zones of the county, which might be divided by areas or zip codes. I would have enough observations to cover the bulk of the county. The variables should be weather the parks and recreational facilities are reopened in the area, how many of those are opened, the population of that area, the covid cases trend of that area, etc. "
   ]
  },
  {
   "cell_type": "markdown",
   "metadata": {},
   "source": [
    "# Ethics & Privacy"
   ]
  },
  {
   "cell_type": "markdown",
   "metadata": {},
   "source": [
    "- Did you have permission to use this data / use it for this purpose?\n",
    "I will first try to use data from public datasets managed by the government of San Diego County, since their data scientists would make sure that those data does not offend any privacy. If I use data from Github, I will send a request to the owner of the projects to make sure that I am allowed to use the information. \n",
    "- Are there privacy concerns regarding your datasets that you need to deal with, and/or terms of use that you need to comply with?\n",
    "No, since I won't be using any data related to any individuals. My research is about data about covid cases and public health policies of certain areas, which will likely avoid any privacy concerns that the research might have. \n",
    "- Are there potential biases in your dataset(s), in terms of who it composes, and how it was collected, that may be problematic in terms of it allowing for equitable analysis? (For example, does your data exclude particular populations, or is it likely to reflect particular human biases in a way that could be a problem?)\n",
    "Yes, the data is collected by humans, and the data of cases might not be accurate across areas. Some areas might have more precise data than ot\n",
    "- Are there any other issues related to your topic area, data, and/or analyses that are potentially problematic in terms of data privacy and equitable impact?\n",
    "- How will you handle issues you identified? (1-2 paragraphs)"
   ]
  }
 ],
 "metadata": {
  "kernelspec": {
   "display_name": "Python 3",
   "language": "python",
   "name": "python3"
  },
  "language_info": {
   "codemirror_mode": {
    "name": "ipython",
    "version": 3
   },
   "file_extension": ".py",
   "mimetype": "text/x-python",
   "name": "python",
   "nbconvert_exporter": "python",
   "pygments_lexer": "ipython3",
   "version": "3.7.0"
  }
 },
 "nbformat": 4,
 "nbformat_minor": 2
}
