{
 "cells": [
  {
   "cell_type": "markdown",
   "metadata": {},
   "source": [
    "# COGS 108 - Project Proposal"
   ]
  },
  {
   "cell_type": "markdown",
   "metadata": {},
   "source": [
    "# Names & GitHub ID\n",
    "\n",
    "- Name: Claire Stone\n",
    "- GitHub Username: c2stone"
   ]
  },
  {
   "cell_type": "markdown",
   "metadata": {},
   "source": [
    "# Research Question"
   ]
  },
  {
   "cell_type": "markdown",
   "metadata": {},
   "source": [
    "Are the recreation classes offered at the recreation centers in San Diego affordable for the children of families living in surrounding neighborhoods?"
   ]
  },
  {
   "cell_type": "markdown",
   "metadata": {},
   "source": [
    "## Background and Prior Work"
   ]
  },
  {
   "cell_type": "markdown",
   "metadata": {},
   "source": [
    "There are 57 recreation centers in San Diego. These recreation centers have fields, courts for different sports, and multipurpose buildings that are open to the public. Although many of these resources (ie basketball courts, fields, etc) are available for free public usage, the recreation centers also provide structured classes for children and adults that often cost money to enroll in. These classes include dance, organized sports, cooking, painting, and many other creative and physical activities (SD Parks & Rec). Recreation classes allow children to engage in physical and creative activity and learn new skills that may not be taught in school, which improves their quality of life. However, many of these classes have fees that could make them inaccessible to low income families. I believe it is important to ensure that the classes provided by each recreation center are affordable for the community they serve. In this study, I will focus on children's participation in recreation classes. The completion of this study will provide direction for future funding by identifying the recreation centers that are not meeting the needs of their surrounding community as well as they should be.\n",
    "\n",
    "There have been many studies done on the relationship between neighborhood income and recreation facilities. One study done in San Diego County on children ages 5-8 found that for each $ 10,000 increase in neighborhood income, a child is 23 percent more likely to use the recreation center. This study also found that although recreation centers in low income areas have more free programs, there are still relatively few free programs available in both high and low income areas (McKenzie et al). Another study about recreation resource availability found that low income neighborhoods were less likely to have recreation facilities than high income neighborhoods (Moore et al).\n",
    "\n",
    "Although these studies did not focus on recreation classes, they both show that recreation facilities are not serving low income children as well as they should be. This raises the possibility that recreation class fees could be deterring lower income families from enrolling their children in classes.\n",
    "\n",
    "References (include links):\n",
    "- 1) San Diego Parks and Recreation website\n",
    "Link: https://www.sandiego.gov/park-and-recreation/centers\n",
    "\n",
    "- 2) McKenzie, T.L., Moody, J.S., Carlson, J.A., Lopez, N.V. and Elder, J.P., 2013. Neighborhood income matters: disparities in community recreation facilities, amenities, and programs. Journal of Park and Recreation Administration 31(4): 12.\n",
    "Link: https://headwaterseconomics.org/trail/123-ca-income-parks-kids-use/\n",
    "\n",
    "- 3) Moore LV, Diez Roux AV, Evenson KR, McGinn AP, Brines SJ. Availability of recreational resources in minority and low socioeconomic status areas. Am J Prev Med. 2008 Jan;34(1):16-22. doi: 10.1016/j.amepre.2007.09.021. Erratum in: Am J Prev Med. 2008 Mar;34(3):269. PMID: 18083446; PMCID: PMC2254179. \n",
    "Link: https://pubmed.ncbi.nlm.nih.gov/18083446/"
   ]
  },
  {
   "cell_type": "markdown",
   "metadata": {},
   "source": [
    "# Hypothesis\n"
   ]
  },
  {
   "cell_type": "markdown",
   "metadata": {},
   "source": [
    "I hypothesize that recreation classes may not be equally accessible to all children in surrounding neighborhoods."
   ]
  },
  {
   "cell_type": "markdown",
   "metadata": {},
   "source": [
    "# Data"
   ]
  },
  {
   "cell_type": "markdown",
   "metadata": {},
   "source": [
    "Ideally I would obtain several datasets for this study. \n",
    "\n",
    "First, for each of the 57 recreation centers in San Diego, I would have a dataset of every class offered at the recreation center during the summer (June-August) and the total cost associated with enrolling in it once. I chose the summer because children are likely to have the most free time to enroll in a recreation class.\n",
    "\n",
    "Next, a dataset for each recreation center of all children (age under 18) enrolled in a class during the same time period. The data gathered for each child would be: name of class enrolled in, and yearly income of family.\n",
    "\n",
    "Next, for each recreation center, I would need a dataset of income in surrounding areas. Ideally, I would have the yearly income of each household within an 8 mile radius of the recreation center."
   ]
  },
  {
   "cell_type": "markdown",
   "metadata": {},
   "source": [
    "# Ethics & Privacy"
   ]
  },
  {
   "cell_type": "markdown",
   "metadata": {},
   "source": [
    "This study brings up privacy concerns because it involves minors and income data. The data about the children's classes should be privatized and not include any personal information such as name or address. Instead, each child should be assigned a unique ID in order to determine if one child enrolls in multiple classes. The income data should also be anonymized and not include names or addresses of families."
   ]
  }
 ],
 "metadata": {
  "kernelspec": {
   "display_name": "Python 3",
   "language": "python",
   "name": "python3"
  },
  "language_info": {
   "codemirror_mode": {
    "name": "ipython",
    "version": 3
   },
   "file_extension": ".py",
   "mimetype": "text/x-python",
   "name": "python",
   "nbconvert_exporter": "python",
   "pygments_lexer": "ipython3",
   "version": "3.7.6"
  }
 },
 "nbformat": 4,
 "nbformat_minor": 2
}
