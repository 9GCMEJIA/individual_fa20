{
 "cells": [
  {
   "cell_type": "markdown",
   "metadata": {},
   "source": [
    "# COGS 108 - Project Proposal"
   ]
  },
  {
   "cell_type": "markdown",
   "metadata": {},
   "source": [
    "# Names & GitHub ID\n",
    "\n",
    "- Name: April Cano\n",
    "- GitHub Username: aprilcano"
   ]
  },
  {
   "cell_type": "markdown",
   "metadata": {},
   "source": [
    "# Research Question"
   ]
  },
  {
   "cell_type": "markdown",
   "metadata": {},
   "source": [
    "How are funds appropriated by San Diego City Parks and Recreation in the last 5 years? Are these equally being shared throughout low income, minority communities as in high income communities and how can we make it so these funds are making parks and recreation advantageous and beneficial for communities?"
   ]
  },
  {
   "cell_type": "markdown",
   "metadata": {},
   "source": [
    "## Background and Prior Work"
   ]
  },
  {
   "cell_type": "markdown",
   "metadata": {},
   "source": [
    "References:\n",
    "\n",
    "Part 1\n",
    "\n",
    "1)https://www.voiceofsandiego.org/topics/opinion/improving-san-diegos-parks-will-take-more-input-and-money/\n",
    "2)https://www.voiceofsandiego.org/topics/government/if-your-local-park-sucks-this-is-probably-why/\n",
    "In these two links, I was able to find out a general idea of the way San Diego city parks and recreation are managed. The bulk of research question aims too look at the inequity and inequality between the distribution of funds for San Diego communties when it comes to the quality and attention of their parks and recreational facilities. I was able to see there has been a history of negligence throughout San Diego as a whole when it comes to their parks and recreation. Funds are made possible from developers, but developers only put in and the community can only get as much as the worth of new developments for those communitites. And more into that is the new issue of Covid-19 adding extra pressure for the San Diego parks and recreation to manage their parks so they are up to date and safe for the rise in activity as people search for breaths of fresh air in these areas. The links above also delve into the new San Diego city plan for parks and recreation and how it addresses some ares of inequity by calling for a better distribution of funds, but at the same time replaces with other inequties of destroying communities. Both paint a similar picture of there being an issue of management of funds for the correct purposes or reasons as some parks are left to dwindle down into nothing while others are able to build new programs or areas/equipments for the parks. The second link also gives insight to prior work in gathering data for the amount of funds between multipe cities in San Diego and the actual amount allowed to be used. The work shows the disparity in how higher income communities and cities with developers that have developments to look forward to within that city have higher funds accessible to them when compared to cities at the bottom of the graph.\n",
    "\n",
    "Part 2\n",
    "\n",
    "1)https://www.ncbi.nlm.nih.gov/pmc/articles/PMC4082954/\n",
    "In this reference, I was able to gather further background on the situation of inequalities within the different neighborhoods. I wanted to see if there was actual research on the difference, if there was any, between communities quality of parks to give more insight on how funds are being used or were used to make further decisions on how to proceed for the next 5 years. With that being said, the graphics and findings in this reference showcase how while communities have around the same the number of equipment in terms of machines and such, the condition of the equipment along with the condition of the park and recreational environment were drastically different. This gives background into the history of spending or investing into the parks and recreations in San Diego. It includes elements of graffiti, usage of parks and recreational areas, and the programs offered in the communities."
   ]
  },
  {
   "cell_type": "markdown",
   "metadata": {},
   "source": [
    "# Hypothesis\n",
    "\n"
   ]
  },
  {
   "cell_type": "markdown",
   "metadata": {},
   "source": [
    "My hypothesis is that the funds of San Diego Parks and Recreation are not fully distributed equally between lower income minority communties as that compared to those of higher income and in order to amend these issues, there needs to be a plan to accordingly distrubute funds into parks and recreational areas that need it. I believe that there is a large disparity between communties and the quality of the parks and recreation in San Diego reflects that as communities cant build up their areas without gathering funds and at that gathering funds that the city agrees upon to use"
   ]
  },
  {
   "cell_type": "markdown",
   "metadata": {},
   "source": [
    "# Data"
   ]
  },
  {
   "cell_type": "markdown",
   "metadata": {},
   "source": [
    "My ideal dataset would be having multiple variables availible but possibly not using them all at end. These variables could possibly be timelines or dates of how funds have changed over the last few years to give me insight on a trend and how I could possibly improve that trend to be more favorable. I would want this variable and data to be collected through an official government site through records of their own of the amount of funds for park recreation throughout the years. This data could be stored or organized on a bar chart measuring the funds for given years or a line chart measuring the funds continously throughout the years.\n",
    "Another variable could be the satisfaction of different community members in the given city; the satisfaction would pertain to the satisfaction of their parks condition, environment, and programs. I would want this data to be collected through a community survey, on an ordinal scale of 1-5 on level of satisfaction to make the collection process quick and could be collected by either a government official or an involved researcher.\n",
    "Another dataset I would need measuring the income level of about 10 cities throughout San Diego. This variable of amount of average income within these communities would give a sample of how funds can fluctuate throughout San Diego. Of those 10 cities half should be low income and othe should be higher in the wheel of income. This would most likely be collected by a fellow researcher as well as a city official possibly that has access to information about income in communities. This would best be stored within a bar chart to give a clear representation of communitites of their income to give basis to my research in saying there is inequity in the distribution of funds depending on the average income of the given community.\n",
    "Another variable I would like to have is possibly the usage of said parks and recreational areas. This could be collected through a survey in actually asking community members their frequency in using the recreational areas and parks. There should be a pretty large amount of members asked depending on size of the community, but at the very least recieve a sample of 100 people per city. This could be organized into a histogram of the frequency of usage of parks and recreational areas measured in frequency or intervals of 1-3 times a month, 4-6, 7-9, 10+... etc."
   ]
  },
  {
   "cell_type": "markdown",
   "metadata": {},
   "source": [
    "# Ethics & Privacy"
   ]
  },
  {
   "cell_type": "markdown",
   "metadata": {},
   "source": [
    "Most data collected should be easily found and collected, but the variables I suggested to be collected manually through surveys could display issues as well as the data collected by government officials. There needs to be a code to follow for the privacy of community members who choose to particpate and be a part of the data collection. Their identity must be hidden and they must be made aware of what the data is being used for and who has access to their data. Additionally there might be bias in the collection of these surveys as they are coming directly from humans and their answers have biases in them even if it is just rating from a scale of 1-5 or so. Further, the data and variables I suggested I would get from city or government officials could also hold some bias. To outside people reading the data, such data being retrieved from sources could seem to come from a biased source trying to protect their image. But they do have a duty to report factual reports and such topics can be of public record. I have tried to not purposely exlcude any people from the data collection in including low income and high income communties and their members, but that said low-income does not equate minorites and high income does not equate white or non POC.\n",
    "To handle these issues, there will be an attempt at making questions as objective as a possible to where personal biases from community members would not be to big a confound into the data. As for the biases from data coming from city or government officials, their biases should not occlude any important and essential information that has to do with the funding and the amounts of funding. Also, I would make sure that all this data coming from individuals and from government or city sources would be securely protected and have an honest representations of the findings within summaries and such. Additionally, if future mistakes are found within the data to be gotten from city or government officials it would be my responsibilty to audit the data and edit to have a true and honest representation that cannot then me misused due to improper information."
   ]
  },
  {
   "cell_type": "code",
   "execution_count": null,
   "metadata": {},
   "outputs": [],
   "source": []
  }
 ],
 "metadata": {
  "kernelspec": {
   "display_name": "Python 3",
   "language": "python",
   "name": "python3"
  },
  "language_info": {
   "codemirror_mode": {
    "name": "ipython",
    "version": 3
   },
   "file_extension": ".py",
   "mimetype": "text/x-python",
   "name": "python",
   "nbconvert_exporter": "python",
   "pygments_lexer": "ipython3",
   "version": "3.8.3"
  }
 },
 "nbformat": 4,
 "nbformat_minor": 4
}
