{
 "cells": [
  {
   "cell_type": "markdown",
   "metadata": {},
   "source": [
    "# COGS 108 - Project Proposal"
   ]
  },
  {
   "cell_type": "markdown",
   "metadata": {},
   "source": [
    "# Names & GitHub ID\n",
    "\n",
    "- Name: Michelle Duong\n",
    "- GitHub Username: m4duong"
   ]
  },
  {
   "cell_type": "markdown",
   "metadata": {},
   "source": [
    "# Research Question"
   ]
  },
  {
   "cell_type": "markdown",
   "metadata": {},
   "source": [
    "There are 4 questions that I have surrounding the parks and recreation topic, but they are relatively similar.\n",
    "\n",
    "1. Does a neighborhood's median income and the amenities of the park and recreation center affect how many visitors it gets?\n",
    "2. Does a neighborhood's median income and the amenities of the park and recreation center affect how many parks and recreation centers there are in the neighborhood?\n",
    "3. Does a neighborhood's median cost of housing and the amenities of the park and recreation center affect how many visitors a park or recreation center gets?\n",
    "4. Does a neighborhood's median cost of housing and the amenities of the park and recreation center affect how many parks and recreation centers there are in the neighborhood?"
   ]
  },
  {
   "cell_type": "markdown",
   "metadata": {},
   "source": [
    "## Background and Prior Work"
   ]
  },
  {
   "cell_type": "markdown",
   "metadata": {},
   "source": [
    "Looking through a research paper that asked if socio-economic status affect whether or not people used amenities of their community park, there was ample evidence that it did. One of the first things noted is that cities with higher rates of poverty (HP) had smaller community parks whereas cities with lower rates (LP) had larger community parks (#1, Table 1). Despite that, on average residents of HP cities visited their parks more often than residents of LP cities. It also seems that of the surveyed participants, there was a higher percentage of people in HP cities that would visit their park once a week or more versus people in LP cities.\n",
    "\n",
    "I think that it's also good to note what kind of amenities a park has and how that might attract visitors. In a paper looking at park use in low-income urban neighborhoods, it was noted that were was indeed a correlation between number of amenities offered at a park or recreation center and how many visitors it attracts.\n",
    "\n",
    "Unfortunately, I was unable to find previous work on how housing cost or average income affect how many parks or facilities there are in a given neighborhood.\n",
    "\n",
    "References (include links):\n",
    "- 1) https://www.ncbi.nlm.nih.gov/pmc/articles/PMC3667219/\n",
    "- 2) https://link.springer.com/article/10.1007/s11524-017-0221-7"
   ]
  },
  {
   "cell_type": "markdown",
   "metadata": {},
   "source": [
    "# Hypothesis\n"
   ]
  },
  {
   "cell_type": "markdown",
   "metadata": {},
   "source": [
    "Based off the brief research above, I hypothesize that a neighborhood's average income and the amenities offered can affect how many visitors a park or recreation center receives.\n",
    "\n",
    "I suspect that average income will impact the amount of taxes a neighborhood recieves, impacting how much funding parks and recreation gets, and in turn, impacting the size and amenities of parks and recreation facilities. In addition, I suspect that average cost of housing will have the same impacts given that people will need to have a higher income should they want to live in an area with higher housing costs. "
   ]
  },
  {
   "cell_type": "markdown",
   "metadata": {},
   "source": [
    "# Data"
   ]
  },
  {
   "cell_type": "markdown",
   "metadata": {},
   "source": [
    "My ideal dataset to answer these questions would have the following variables: San Diego neighborhoods, median cost of housing, median income, number of parks, number of community centers, average number of visitors of parks in each neighborhood, and average number of visitors of community centers in each neighborhood. I estimate that 100 observations might be a bit overkill (not really sure), but it would ensure that we are able to detect any outliers. For average number of visitors, it'd be best to collect this data through observations. For all other variables, I'm sure the city or government has the data in their database as it's common data to collect. In terms of receiving the data, it would definitely be easiest to get the data digitally and in an Excel sheet with tidy data so that I can analyze it easier. "
   ]
  },
  {
   "cell_type": "markdown",
   "metadata": {},
   "source": [
    "# Ethics & Privacy"
   ]
  },
  {
   "cell_type": "markdown",
   "metadata": {},
   "source": [
    "*Fill in your ethics & privacy discussion here*"
   ]
  }
 ],
 "metadata": {
  "kernelspec": {
   "display_name": "Python 3",
   "language": "python",
   "name": "python3"
  },
  "language_info": {
   "codemirror_mode": {
    "name": "ipython",
    "version": 3
   },
   "file_extension": ".py",
   "mimetype": "text/x-python",
   "name": "python",
   "nbconvert_exporter": "python",
   "pygments_lexer": "ipython3",
   "version": "3.7.6"
  }
 },
 "nbformat": 4,
 "nbformat_minor": 2
}
