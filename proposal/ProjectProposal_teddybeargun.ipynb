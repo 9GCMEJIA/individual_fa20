{
 "cells": [
  {
   "cell_type": "markdown",
   "metadata": {},
   "source": [
    "# COGS 108 - Project Proposal"
   ]
  },
  {
   "cell_type": "markdown",
   "metadata": {},
   "source": [
    "# Names & GitHub ID\n",
    "\n",
    "- Name: Christina Yu\n",
    "- GitHub Username: teddybeargun"
   ]
  },
  {
   "cell_type": "markdown",
   "metadata": {},
   "source": [
    "# Research Question"
   ]
  },
  {
   "cell_type": "markdown",
   "metadata": {},
   "source": [
    "Does education level actually directly correlate with political affiliations?"
   ]
  },
  {
   "cell_type": "markdown",
   "metadata": {},
   "source": [
    "## Background and Prior Work"
   ]
  },
  {
   "cell_type": "markdown",
   "metadata": {},
   "source": [
    "*There appears to be a correlation at first glance from pew research, but looking further into exit polls from 2016, it seems like there is less of a correlation than initially appears. It seems to be affected by it, but also be affected by their income levels and general life outlook. I want to see further how much of this is related to education levels.\n",
    "\n",
    "References (include links):\n",
    "- 1) assets.pewresearch.org/wp-content/uploads/sites/5/2016/08/08-18-2016-August-political-release.pdf\n",
    "- 2) nytimes.come/interactive/2016/11/08/us/politics/election-exit-polls.html"
   ]
  },
  {
   "cell_type": "markdown",
   "metadata": {},
   "source": [
    "# Hypothesis\n"
   ]
  },
  {
   "cell_type": "markdown",
   "metadata": {},
   "source": [
    "My hypothesis is that there is a high correlation, but it also is affected by income."
   ]
  },
  {
   "cell_type": "markdown",
   "metadata": {
    "pycharm": {
     "name": "#%% md\n"
    }
   },
   "source": [
    "# Data"
   ]
  },
  {
   "cell_type": "markdown",
   "metadata": {},
   "source": [
    "The ideal dataset would include data like their reported political leanings, their income level, their education level, their gender, annd their general satisdaction with life. It would be ideal to have as large of amount of observations as possible to know that the data is reliable and not skewed. The data would most likely be collected through self-report. They should be stored in a way so that their data is safe and secured and not have their names attached to it."
   ]
  },
  {
   "cell_type": "markdown",
   "metadata": {},
   "source": [
    "# Ethics & Privacy"
   ]
  },
  {
   "cell_type": "markdown",
   "metadata": {},
   "source": [
    "Privacy is really important for this so that people report truthfully to the questions, instead of annswering in a way they think they are expected. Also there is a chance for this data to be used against them if leaked, so it is important to keep this data secured."
   ]
  }
 ],
 "metadata": {
  "kernelspec": {
   "display_name": "Python 3",
   "language": "python",
   "name": "python3"
  },
  "language_info": {
   "codemirror_mode": {
    "name": "ipython",
    "version": 3
   },
   "file_extension": ".py",
   "mimetype": "text/x-python",
   "name": "python",
   "nbconvert_exporter": "python",
   "pygments_lexer": "ipython3",
   "version": "3.7.9"
  }
 },
 "nbformat": 4,
 "nbformat_minor": 2
}