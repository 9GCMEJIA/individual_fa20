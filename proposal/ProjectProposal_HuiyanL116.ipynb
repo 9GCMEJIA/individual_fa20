{
 "cells": [
  {
   "cell_type": "markdown",
   "metadata": {},
   "source": [
    "# COGS 108 - Project Proposal"
   ]
  },
  {
   "cell_type": "markdown",
   "metadata": {},
   "source": [
    "# Names & GitHub ID\n",
    "\n",
    "- Name: Huiyan(Morgan) Li\n",
    "- GitHub Username: HuiyanL116"
   ]
  },
  {
   "cell_type": "markdown",
   "metadata": {},
   "source": [
    "# Research Question"
   ]
  },
  {
   "cell_type": "markdown",
   "metadata": {},
   "source": [
    "Will increasing children or pet related activity spaces to parks around La Jolla increase the visting volume to these parks?"
   ]
  },
  {
   "cell_type": "markdown",
   "metadata": {},
   "source": [
    "## Background and Prior Work"
   ]
  },
  {
   "cell_type": "markdown",
   "metadata": {},
   "source": [
    "When I googled the total number of parks existing in San Diego, I was amazed by the fact that there are 340 of them. However, when we look at the most visited parks within San Diego, not even one lies within the La Jolla area. What can we do to increase the visiting volume to these parks? \n",
    "\n",
    "I first thought of targeting pet owners and parents. By searching for studies published related to this topic we can see that some other scientists conducted that increasing off-leash spaces will not increase visits among dog walkers(1). Although this research seems to provide the answer, we need to note that they recorded only short-term observable results(1). I also noticed that La Jolla is the third most pet-friendly city within the country during my reasearch(2). This information might also alternate the results since there might be more pet owners and people might be more pet oriented. \n",
    "\n",
    "Additionally, I noticed another research done to figure out what attracts people to open community parks that people are attracted more to user-oriented spaces with facilities rather than ornamental vegetation(2). This can potentially mean that we are on the right track by increasing children and pet-related activity spaces. I also found some other researches that did not conduct relating studies but suggested supporting evidence we can refer to. For example, the National Recreation and Park Association suggests within their report that about 78% of Americans indicate that they want to increase recreation and park fundings(4). This might be strong supporting evidence for our hypothesis. \n",
    "\n",
    "References (include links):\n",
    "- 1) McCormack, Gavin R., et al. “Changes in Visitor Profiles and Activity Patterns Following Dog Supportive Modifications to Parks: A Natural Experiment on the Health Impact of an Urban Policy.” SSM - Population Health, Elsevier, 22 Apr. 2016, www.sciencedirect.com/science/article/pii/S2352827316300015. https://www.sciencedirect.com/science/article/pii/S2352827316300015\n",
    "- 2) Houck, Kristina. “Most – And Least – Pet-Friendly Cities In CA: LIST.” La Jolla, CA Patch, Patch, 13 Aug. 2018,  www.patch.com/california/lajolla/ca-cities-among-nations-most-pet-friendly-cities-list. \n",
    "- 3) Chen, Yiyong, et al. “What Attracts People to Visit Community Open Spaces? A Case Study of the Overseas Chinese Town Community in Shenzhen, China.” International Journal of Environmental Research and Public Health, MDPI, 28 June 2016,  www.ncbi.nlm.nih.gov/pmc/articles/PMC4962185/. \n",
    "- 4) NRPA, 2018 AMERICANS’ ENGAGEMENT WITH PARKS REPORT, www.nrpa.org/globalassets/engagement-survey-report-2018.pdf. "
   ]
  },
  {
   "cell_type": "markdown",
   "metadata": {},
   "source": [
    "# Hypothesis\n"
   ]
  },
  {
   "cell_type": "markdown",
   "metadata": {},
   "source": [
    "Increasing children or pet based activity areas will increase the visiting volume to these parks. \n",
    "\n",
    "Although some studies show there is no measurable increase in visitor volume among dog owners where leash-free spaces are implemented, I think by implementing both children related and pet-related activity spaces there should be an increase in visitor volumes in the long term. This is because more study show people are attracted to user-oriented amenities and show great support to public parks."
   ]
  },
  {
   "cell_type": "markdown",
   "metadata": {},
   "source": [
    "# Data"
   ]
  },
  {
   "cell_type": "markdown",
   "metadata": {},
   "source": [
    "Ideal data sets should include detailed documentation of the people entering the parks within La Jolla. In the most ideal setting, this documentation should be a pre-test/post-test documentation that records data before and after the implementation of children and pet-related facilities. The data set would be ideal if it is formatted as a CSV file. It can be helpful if the documentation includes whether incoming visitors' age and whether they have a pet with them. Or we can compare visitor data between parks if pre-test/post-test data is not available. We can also use the data of the number of pet-owners and parents within La Jolla to give draw inferential conclusions. "
   ]
  },
  {
   "cell_type": "markdown",
   "metadata": {},
   "source": [
    "# Ethics & Privacy"
   ]
  },
  {
   "cell_type": "markdown",
   "metadata": {},
   "source": [
    "When reflecting on the potential ethical issues regarding this study, I first noticed that if we were to use/gather pre-test/post-test data, it is particularly hard to ask for every individual's consent and have them informed. This might violate the subject’s privacy. However, since the information being recorded should not be identifiable and should not be released to the public, it should still be ethical to use. Then if we were only using data from current existing data we should be looking for publically usable data sets from existing websites. If we were to use data sets from different parks with and without certain facilities and make comparisons, the data set would be biased since it might not represent the community well enough. \n",
    "\n",
    "The method of handling these issues mostly depends on which approach we choose to take. In my opinion, the most practical approach is to compare data between existing parks--parks within San Diego and outside of San Diego. By doing so we will then be careful to use data that can be publically found. And the conclusion we draw should not be casual but inferential since we did not directly carry out an experiment. \n"
   ]
  },
  {
   "cell_type": "code",
   "execution_count": null,
   "metadata": {},
   "outputs": [],
   "source": []
  }
 ],
 "metadata": {
  "kernelspec": {
   "display_name": "Python 3",
   "language": "python",
   "name": "python3"
  },
  "language_info": {
   "codemirror_mode": {
    "name": "ipython",
    "version": 3
   },
   "file_extension": ".py",
   "mimetype": "text/x-python",
   "name": "python",
   "nbconvert_exporter": "python",
   "pygments_lexer": "ipython3",
   "version": "3.7.6"
  }
 },
 "nbformat": 4,
 "nbformat_minor": 2
}
