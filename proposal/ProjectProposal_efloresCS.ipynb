{
 "cells": [
  {
   "cell_type": "markdown",
   "metadata": {},
   "source": [
    "# COGS 108 - Project Proposal"
   ]
  },
  {
   "cell_type": "markdown",
   "metadata": {},
   "source": [
    "# Names & GitHub ID\n",
    "\n",
    "- Name: Edgar Flores\n",
    "- GitHub Username: efloresCS"
   ]
  },
  {
   "cell_type": "markdown",
   "metadata": {},
   "source": [
    "# Research Question"
   ]
  },
  {
   "cell_type": "markdown",
   "metadata": {},
   "source": [
    "What is the relationship between yelp ratings and crime rates for the parks in the city of San Diego?"
   ]
  },
  {
   "cell_type": "markdown",
   "metadata": {},
   "source": [
    "## Background and Prior Work"
   ]
  },
  {
   "cell_type": "markdown",
   "metadata": {},
   "source": [
    "To begin, the first thing to research is to understand the goals of the Parks and Recreation department in San Diego. The San Diego Parks and Recreation Master Plan states that it is their goal to commit to upgrading security and increasing visitor satisfaction to the parks in San Diego. [1] Recently, crime concerns and incidents in the San Diego area have pushed the Parks and Recreation department of San Diego to implement Park curfews [2]. This brings the question of how a visitor's perceived danger of the parks impacts their satisfaction towards these parks.\n",
    "\n",
    "Looking into yelp reviews of the local parks in San Diego, one can see evidence of user dissatisfaction in the form of low yelp ratings because they feel that some parks are dangerous or they feel that their well being is not secured. An example of yelp reviews being used to predict a state of a location is in an analysis where yelp review helped predict unhygienic establishments in Seattle [3] This project relates to my study as my goal is to see if there is a correlation between yelp ratings and the state of crime in a local park. \n",
    "\n",
    "Some relevant prior work that relates to my project was that of a student in COGS 108 who tried to identify the relationship between health inspection scores and yelp ratings. [4] This analysis relates to my project as I will also be trying to find a relationship between a measurable factor of a certain location and its yelp reviews.\n",
    "\n",
    "References (include links):\n",
    "- 1) https://www.sandiego.gov/complete-communities/parks-master-plan#:~:text=The%20Parks%20Master%20Plan%20aligns,equity%2C%20livability%2C%20and%20connectivity.\n",
    "- 2) https://www.sandiegouniontribune.com/communities/san-diego/story/2020-02-16/park-curfews-on-the-rise-in-san-diego-in-response-to-crime-concerns\n",
    "- 3) https://dho.stanford.edu/wp-content/uploads/WWW_Final.pdf\n",
    "- 4) https://github.com/COGS108/IndividProjects-Sp20/blob/main/FinalProject_michelemurakami.ipynb\n"
   ]
  },
  {
   "cell_type": "markdown",
   "metadata": {},
   "source": [
    "# Hypothesis\n"
   ]
  },
  {
   "cell_type": "markdown",
   "metadata": {},
   "source": [
    "I hypothesize that parks with higher crime rates will have lower yelp ratings. This is because more visitors might feel unsafe in the area, and so will report lower levels of satisfaction with the park. "
   ]
  },
  {
   "cell_type": "markdown",
   "metadata": {},
   "source": [
    "# Data"
   ]
  },
  {
   "cell_type": "markdown",
   "metadata": {},
   "source": [
    "The ideal dataset for yelp information would include variables (columns) that store the park names in san diego, the year that the review was published, and the statement of each review itself. The ideal dataset for crime rates would include variables (columns) that store the park names, the general type of each incident (violent, non-violent), and the corresponding year of each incident. We could extract information such as the number of yelp reviews, or the number of criminal incidents by using data science programming concepts that we have learned in class.\n",
    "\n",
    "The observations for the yelp information would be a user's review for a local park in San Diego. The observation for the crime rates would be a criminal incident at a local park in San Diego.\n"
   ]
  },
  {
   "cell_type": "markdown",
   "metadata": {},
   "source": [
    "# Ethics & Privacy"
   ]
  },
  {
   "cell_type": "markdown",
   "metadata": {},
   "source": [
    "There are some ethical/privacy issues with the data that I propose. One possibility would be having the yelp user information leaked, as we are still maintaining the review itself in order to know if the rating was lowered specifically because of security concerns. If we leave it in the presentation of the data, someone could easily google this review and find out who was the user who left it. One way we can deal with this is by annonymizing the user info, and not specifically listing the review in the presentation of the data, but only listing if the review was left because of security concerns.\n",
    "\n",
    "A concern is that there is an issue in how the crime rates are collected. Since it will depend on reported criminal incidents, and since many criminal incidents go unreported, this is not a completely accurate method of accessing the complete amount of criminal incidents that actually occur at any given park. It is impossible to know if the criminal incidents reported are all of the incidents that occured, but it is important to note this in our analysis.\n",
    "\n",
    "Another concern is bias in the yelp user reviews. Since a factor of this project depends on the opinions of users, these user's might have bias on the parks based on such factors as the neighborhood it is in, or even the social status or race of people who have been seen at the parks, and though unsafe conditions have not actually been observed by the user, they might deem it as dangerous based on their prejudice/human bias. It is impossible to know/account for the bias of each user, but it is important to note this is in our analysis."
   ]
  },
  {
   "cell_type": "code",
   "execution_count": null,
   "metadata": {},
   "outputs": [],
   "source": []
  }
 ],
 "metadata": {
  "kernelspec": {
   "display_name": "Python 3",
   "language": "python",
   "name": "python3"
  },
  "language_info": {
   "codemirror_mode": {
    "name": "ipython",
    "version": 3
   },
   "file_extension": ".py",
   "mimetype": "text/x-python",
   "name": "python",
   "nbconvert_exporter": "python",
   "pygments_lexer": "ipython3",
   "version": "3.7.6"
  }
 },
 "nbformat": 4,
 "nbformat_minor": 2
}
