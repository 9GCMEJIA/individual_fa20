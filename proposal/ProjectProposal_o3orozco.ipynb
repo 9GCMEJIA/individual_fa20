{
 "cells": [
  {
   "cell_type": "markdown",
   "metadata": {},
   "source": [
    "# COGS 108 - Project Proposal"
   ]
  },
  {
   "cell_type": "markdown",
   "metadata": {},
   "source": [
    "# Names & GitHub ID\n",
    "\n",
    "- Name: Ozzie Orozco\n",
    "- GitHub Username: o3orozco"
   ]
  },
  {
   "cell_type": "markdown",
   "metadata": {},
   "source": [
    "# Research Question"
   ]
  },
  {
   "cell_type": "markdown",
   "metadata": {},
   "source": [
    "Are San Diego's parks adequately accessible to all folks with disabilities by following guidlines under the Americans with Disabilities Act (ADA)?"
   ]
  },
  {
   "cell_type": "markdown",
   "metadata": {},
   "source": [
    "## Background and Prior Work"
   ]
  },
  {
   "cell_type": "markdown",
   "metadata": {},
   "source": [
    "     San Diego county's park design manual has several mentions of the ways in which facilities are intended to be accessible under the ADA. Several 'chapters' within this manual have explicit guidelines for how to ensure that parks are accessible to people with disabilities.\n",
    "     In addition to these explicit guidelines, several resources exist online for people to do research before going to parks in person. This streamlines the process of planning for trips with minimal worry about how accessibility will impact visitors' experiences. \n",
    "     This being said, on one of the online resources, a previous status report of the city's ADA program from 2001 by the City Manager leads to a dead link and therefore it is unknown what that report contained\n",
    "\n",
    "References (include links):\n",
    "- 1)https://www.sdparks.org/content/dam/sdparks/en/pdf/Development/Park%20Design%20Manual.pdf\n",
    "- 2)https://www.sandiego.gov/adacompliance/policies\n",
    "- 3)https://docs.sandiego.gov/reportstocouncil/2001/01-079.pdf"
   ]
  },
  {
   "cell_type": "markdown",
   "metadata": {},
   "source": [
    "# Hypothesis\n"
   ]
  },
  {
   "cell_type": "markdown",
   "metadata": {},
   "source": [
    "I hypothesize that there are several levels of accessibility for San Diego's parks, but it is possible that there is work to be done to improve accessibility in a way where everyone gets an equal opportunity for park usage. Gven that the last report was in 2001 and that the report is not even available, it is possible that another report needs to be completed given the large passage of time."
   ]
  },
  {
   "cell_type": "markdown",
   "metadata": {},
   "source": [
    "# Data"
   ]
  },
  {
   "cell_type": "markdown",
   "metadata": {},
   "source": [
    "Variables should be based off of the park design manual, creating categories of facilities and a point system. If facilities follow the guidelines set by the manual, then they recieve a point. If they do not, they do not receieve a point. Each park could have a system where they recieve a rating on how closely they followed the guidelines and those parks with the lowest rating will recieve the most attention. In addition to this, complaints by people who inhabit San Diego (using their ADA complaint system) would also be taken into account within this rating system."
   ]
  },
  {
   "cell_type": "markdown",
   "metadata": {},
   "source": [
    "# Ethics & Privacy"
   ]
  },
  {
   "cell_type": "markdown",
   "metadata": {},
   "source": [
    "Given that this would apply specifically to public facilities, privacy would only be a large issue with regards to complaints by citizens. These complaints should be given anonymity to protect the identities of those making the complaints and also be given heavy weight to account for those who experienced similar issues but did not file a complaint"
   ]
  }
 ],
 "metadata": {
  "kernelspec": {
   "display_name": "Python 3",
   "language": "python",
   "name": "python3"
  },
  "language_info": {
   "codemirror_mode": {
    "name": "ipython",
    "version": 3
   },
   "file_extension": ".py",
   "mimetype": "text/x-python",
   "name": "python",
   "nbconvert_exporter": "python",
   "pygments_lexer": "ipython3",
   "version": "3.7.6"
  }
 },
 "nbformat": 4,
 "nbformat_minor": 2
}
