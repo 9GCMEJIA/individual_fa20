{
 "cells": [
  {
   "cell_type": "markdown",
   "metadata": {},
   "source": [
    "# COGS 108 - Project Proposal"
   ]
  },
  {
   "cell_type": "markdown",
   "metadata": {},
   "source": [
    "# Names & GitHub ID\n",
    "\n",
    "- Name: Bryan Nguyen\n",
    "- GitHub Username: bnguy8310"
   ]
  },
  {
   "cell_type": "markdown",
   "metadata": {},
   "source": [
    "# Research Question"
   ]
  },
  {
   "cell_type": "markdown",
   "metadata": {},
   "source": [
    "What is the relationship between the quality of parks and traffic surrounding the public park? How does the budget of individual parks affect the traffic movement of streets nearby?"
   ]
  },
  {
   "cell_type": "markdown",
   "metadata": {},
   "source": [
    "## Background and Prior Work"
   ]
  },
  {
   "cell_type": "markdown",
   "metadata": {},
   "source": [
    "Everytime we think about going to a public park, we think about going to the \"better\" parks with possible large areas of grass, play structures, basketball courts. This leads to many families and groups of friends all going to the same park which increases the amount of traffic in the streets nearby. In the San Diego area, the most popular parks, such as Balboa Park or Waterfront Park, are located in the downtown area. Combined with daily traffic from local citizens going to work or going to get lunch during rush hour, several websites have determined the worst commutes of the day in San Diego, some of which happen to be nearby the parks.<sup>1</sup> \n",
    "   \n",
    "San Diego has tried to solve the traffic problem around Balboa Park which has led to negative backlash.<sup>2</sup> The city has attempted solutions to add new roads and buildings in the downtown area, but it destroys the park atmosphere by bringing in more noise and pollution. This was clearly not the correct way for the San Diego city to apprach the situation. There are many factors that decide what makes a good or popular public park <sup>3</sup>. We can use this information that has been researched by professionals, which will provide much help due to their expertise.\n",
    "\n",
    "References (include links):\n",
    "- 1) https://www.sandiegomagazine.com/san-diego-commutes-to-avoid/article_d83720da-b9ab-5251-b5ba-8395b057a93c.html\n",
    "- 2) https://www.sandiegouniontribune.com/opinion/commentary/sdut-utbg-balboa-park-plaza-oppose-2016jul22-htmlstory.html\n",
    "- 3) https://www.cnu.org/publicsquare/2017/03/01/what-makes-good-public-park"
   ]
  },
  {
   "cell_type": "markdown",
   "metadata": {},
   "source": [
    "# Hypothesis\n"
   ]
  },
  {
   "cell_type": "markdown",
   "metadata": {},
   "source": [
    "I predict that parks of higher quality and funds will gain more traffic movement than other underdeveloped parks in the city. There are better activities and bigger area for families to come out and play in the developed parks. People would not likely spend much time at a park that does not offer much fun. All of these reasons would lead to having more traffic in streets and parking lots near the park."
   ]
  },
  {
   "cell_type": "markdown",
   "metadata": {},
   "source": [
    "# Data"
   ]
  },
  {
   "cell_type": "markdown",
   "metadata": {},
   "source": [
    "*Explain what the ideal dataset you would want to answer this question. (This should include: What variables? How many observations? Who/what/how would these data be collected? How would these data be stored/organized?)*"
   ]
  },
  {
   "cell_type": "markdown",
   "metadata": {},
   "source": [
    "The ideal dataset to answer my question would be multiple structured datasets with common variables. The variables that would make most sense are: budget spent at individual parks, foot and car traffic movement around the parks, time of day, and overall survey ratings of the parks. These variables would be recorded by San Diego Parks and Recreation over the span of 4 weeks. "
   ]
  },
  {
   "cell_type": "markdown",
   "metadata": {},
   "source": [
    "# Ethics & Privacy"
   ]
  },
  {
   "cell_type": "markdown",
   "metadata": {},
   "source": [
    "The ethical concerns of this project may include the mishandling of information from the parks and the public information from budgets and funding. There might be citizens who do not want their data taken at all, so we will try our best to conform to any citizen's request. \n",
    "\n",
    "There might be unintended consequences that arise from this project, which might affect the public opinion of different public parks. If any place wants their information to be removed, then we will take their data out of our project and analysis.\n",
    "\n",
    "The data about public city funding and budgets are public from the city government, so it would not bring up concern to any person. For data that has any personally identifiable information, I will remove any information that will lead back to anybody's identity. \n",
    "\n",
    "Our project's goal is to ultimately improve the traffic movement around public parks by examining the budget and funding of individual parks, so we do not want to harm anyone's feelings or opinions."
   ]
  }
 ],
 "metadata": {
  "kernelspec": {
   "display_name": "Python 3",
   "language": "python",
   "name": "python3"
  },
  "language_info": {
   "codemirror_mode": {
    "name": "ipython",
    "version": 3
   },
   "file_extension": ".py",
   "mimetype": "text/x-python",
   "name": "python",
   "nbconvert_exporter": "python",
   "pygments_lexer": "ipython3",
   "version": "3.7.1"
  }
 },
 "nbformat": 4,
 "nbformat_minor": 2
}
