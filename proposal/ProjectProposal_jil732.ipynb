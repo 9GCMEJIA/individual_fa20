{
 "cells": [
  {
   "cell_type": "markdown",
   "metadata": {},
   "source": [
    "# COGS 108 - Project Proposal"
   ]
  },
  {
   "cell_type": "markdown",
   "metadata": {},
   "source": [
    "# Names & GitHub ID\n",
    "\n",
    "- Name: Jinmou Li\n",
    "- GitHub Username: jil732"
   ]
  },
  {
   "cell_type": "markdown",
   "metadata": {},
   "source": [
    "# Research Question"
   ]
  },
  {
   "cell_type": "markdown",
   "metadata": {},
   "source": [
    "<!-- What amentities and upgrades are most favorable for San Diego parks during the pandemic closure? -->\n",
    "\n",
    "<!-- Is there a relation between the season of the year and the preference of parks to go in San Diego? -->\n",
    "\n",
    "Is there a relation between the location of the parks and the amentities or facilities people like for them to have?"
   ]
  },
  {
   "cell_type": "markdown",
   "metadata": {},
   "source": [
    "## Background and Prior Work"
   ]
  },
  {
   "cell_type": "markdown",
   "metadata": {},
   "source": [
    "People living at different places favor different recreations. What about the preference of the people in San Diego? Is there a relation between where the parks are, namely which neighborhood they are located, and what amentities or facilities people would hope to have access to? \n",
    "\n",
    "From a recent survey we can see people from different Council Districts have different satisfiction on existing parks and recreation system, and have different preference for amentities and facilities (1). This is a survey at the district level. What if we want to know the relation between the specific location of the parks, such as how far they are from the city center or residental areas, and what facilities are most popular among the park visitors? According to a recent plan, the majority of the residents wish to upgrade the existing parks (2). If we can use the \"successful\" examples from parks in similar locations as reference to improve other parks, it would be to some degree not very easy  to deny the potential chance for a better imporvement. But the probability that a physically close park with repeated amentities and facilities would reduce the popularities of its counterparts and itself cannot be ignored.\n",
    "\n",
    "We should be aware of the fact that different location commonly imply different population characteristics, including but not limited to age, gender, income, cultural membership preference (2). Adults and children by no means are necessary to always share the identical needs regarding recreations, let alone the special facilities designed specially for an age group. Single residents may have a location preference which may have a high change to be not the same as the married ones, who usually would take the recreational needs of their children into account when deciding the park to go whereas the former group would not always share such considerations. And it would be hard to argue against the assumption that single residents would opt for comparably more economical choices when it comes to housing, which may also be a factor influencing the relation between the geological location of the parks and what people expect from them.\n",
    "\n",
    "Surprisingly, while \"Off-leash Dog Parks\" managed to take the top positions in many Council Districts, it fell into the category that could be considered the least favorable or the ones with the least priority for others(1). Is there a relation between different local apartment rules on pets and their preference? Or a specific location is particularly attractive to the cat lovers?\n",
    "\n",
    "The reason for me to attempt to focus on the social and economy characteristics of the surroundings is inspired a similar academic paper (3). Based on it, those factors are actually more important than the other factors. But it focuses differently from my proposal. What I would like to know is the specific facility needs for different parks.\n",
    "\n",
    "Another academic research provides more insights into the surroundings and the physical activities (4). I plan to use their method as inspiration for me to conduct my research. Unfortunately they didn't use the data from San Diego exclusively so I don't think their results can be sigificantly beneficial to this project.\n",
    "\n",
    "We will leave the job of answering the above mentioned question to the actual data.\n",
    "\n",
    "\n",
    "References (include links):\n",
    "- 1) https://www.sandiego.gov/sites/default/files/parks_master_plan_survey_summary.pdf\n",
    "- 2) https://www.sandiego.gov/sites/default/files/park_master_plan_existing_conditions.pdf\n",
    "- 3) https://www.sciencedirect.com/science/article/pii/S0198971517303538\n",
    "- 4) https://link.springer.com/article/10.1186/1471-2458-14-962"
   ]
  },
  {
   "cell_type": "markdown",
   "metadata": {},
   "source": [
    "# Hypothesis\n"
   ]
  },
  {
   "cell_type": "markdown",
   "metadata": {},
   "source": [
    "I hypothesize that there is a strong relation between the facilities preference of parks and their locations. As the popularities of the parks are heavily influenced by its surroundings, such as the distance to the ocean, the hiking trails, and the cultural communities it's close to, I suppose the location is actually one of the key factors for people to have different recrational access preference."
   ]
  },
  {
   "cell_type": "markdown",
   "metadata": {},
   "source": [
    "# Data"
   ]
  },
  {
   "cell_type": "markdown",
   "metadata": {},
   "source": [
    "The ideal dataset for the above question would include the following variables:\n",
    "\n",
    "- average number of vistors\n",
    "- existing facilities of each park\n",
    "- existing amentities of each park\n",
    "- the condition of the park\n",
    "- reviews for what people like about a park\n",
    "- reviews for what people hope to see in a park\n",
    "- location of the park\n",
    "- distance from the park to the ocean\n",
    "- distance from the park to the resident areas\n",
    "- distance from the park to the shopping plazas\n",
    "- distance from the park to the school\n",
    "- distance from the park to the colleges\n",
    "- distance from the park to the resturants\n",
    "- distance from the park to downtown\n",
    "- distance from the park to the musuems\n",
    "- the population characteristics around the park\n",
    "- the accessibility of the park\n",
    "\n",
    "The observations ideally would be around in thousands.\n",
    "\n",
    "The data is expected to be collected by the city. They can be collected both directly from the measurements on the map and as resutls of the surveys. They can be simply stored as normal data format. The text data, i.e. the reviews, may need to be pre-processed and we only need to store several key words out of them in the dataset."
   ]
  },
  {
   "cell_type": "markdown",
   "metadata": {},
   "source": [
    "# Ethics & Privacy"
   ]
  },
  {
   "cell_type": "markdown",
   "metadata": {},
   "source": [
    "As it will be provided to the students for the purpose of education and teaching, I assume I have the permission to use this data. Regarding the purpose, personally I don't have any direct approach to confirm this with the owner of the data and the people who submitted the data. But I believe as it can be assumed that the data to be provided will be in public domain and already approved for education purpose, I don't think it will be a huge issue for me to use it for my purpose.\n",
    "\n",
    "The ideal dataset I'm thinking, which by no means would be the actual dataset I will be using, has almost no privacy concerns as the most of the information are publically accessible (location of parks are published online). What might cause some issues would be the reviews from the visitors. As I don't need the whole review but only the keywords about my question from the review, I believe it's fairly simple to remove the personal information from those reviews and resolve the privacy concerns.\n",
    "\n",
    "My envisoned dataset is to research the human preferences for parks. And it intends to collect the population chararistics. As a result, excluding the possibility that some particular populations have higher chance to not submit their opinions, I don't think the potential biases would be a problem for this dataset.\n",
    "\n",
    "There might be one issue such that, since the existing parks are not equally distributed (and they never will), some population in some locations that do not have convinent access to parks as the population in other places do may be less considered in the data. But that is the nature of this research as it explicitly focus on existing parks. I don't see anything I can do to handle this issue."
   ]
  }
 ],
 "metadata": {
  "kernelspec": {
   "display_name": "Python 3",
   "language": "python",
   "name": "python3"
  },
  "language_info": {
   "codemirror_mode": {
    "name": "ipython",
    "version": 3
   },
   "file_extension": ".py",
   "mimetype": "text/x-python",
   "name": "python",
   "nbconvert_exporter": "python",
   "pygments_lexer": "ipython3",
   "version": "3.7.6"
  }
 },
 "nbformat": 4,
 "nbformat_minor": 2
}
