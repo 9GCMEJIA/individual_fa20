{
 "cells": [
  {
   "cell_type": "markdown",
   "metadata": {},
   "source": [
    "# COGS 108 - Project Proposal"
   ]
  },
  {
   "cell_type": "markdown",
   "metadata": {},
   "source": [
    "# Names & GitHub ID\n",
    "\n",
    "- Name: Daniel Harnanto\n",
    "- GitHub Username: dharnant"
   ]
  },
  {
   "cell_type": "markdown",
   "metadata": {},
   "source": [
    "# Research Question"
   ]
  },
  {
   "cell_type": "markdown",
   "metadata": {},
   "source": [
    "Given the amount of traffic that accumulates on busy days, is it necessary for additional parking spaces to be added to Balboa Park? If so, where should these be added to minimize traffic congestion within the park? If not, what strategies can be implemented to maximize efficiency of existing lots?\n"
   ]
  },
  {
   "cell_type": "markdown",
   "metadata": {},
   "source": [
    "## Background and Prior Work"
   ]
  },
  {
   "cell_type": "markdown",
   "metadata": {},
   "source": [
    "One study that has addressed this question was carried out by the Jones and Jones Architects and Landscape Architects, Ltd./Civitas Inc. team in 2004. Although there are approximately 6500 total parking spaces within Central Mesa and Inspiration Point areas of Balboa Park, up to 88% of the spaces in the Prado subsection, as well as 26% of close-in spaces at the Zoo and 13% of the spaces in the Palisades are occupied by park employees and volunteers alone. As such, it is difficult for park visitors to find parking spaces in these lots, despite their ease of access to the main areas of the park. Furthermore, this causes visitors to “circle close-in lots in a hunt for free spaces, causing great frustration and elevated pedestrian conflict.” (*Balboa Park Land Use, Circulation, and Parking Study* 21). In actuality, the parking lots at Inspiration Point are used by City College students as well as visitors to the Naval Hospital more than actual visitors to the park, giving rise to further complications regarding whether these spaces can be set up for joint-use or not. Inspiration Point in particular has additional parking that most park visitors are not aware of, due to its remote location from the park centre. One strategy proposed by the team is to “reorganize parking patterns and direct motorists to the proper lots, increasing efficiency of existing resources and reducing visitor frustration,” as well as “relocating employee and volunteer parking” (*Balboa Park Land Use, Circulation, and Parking Study* 21).\n",
    "\n",
    "On the other hand, directly adding parking spaces to Balboa Park conflicts with its design to be an escape from busy urban life; in fact, there have been proposals to instead reclaim and reform iconic areas of the park (such as the Plaza de Panama, Pan-American Plaza, and Organ Pavilion and Alcazar parking lots) to add in more parkland and gardens (*Balboa Park Land Use, Circulation, and Parking Study* 25-29). As such, solving the problem of parking in the park is not as simple as adding spaces; where parking should be located in the first place is something that designers and architects must consider in order to maintain the aesthetic of the park (*Balboa Park Land Use, Circulation, and Parking Study* 66).\n",
    "\n",
    "Another report that addresses this issue in depth is the Parking Management Action Plan for Balboa Park prepared by the Tilghman Group and Civitas Inc in 2006. This document contains a plethora of tables and graphs depicting parking statistics up to that year, including information about total parking spaces for each park subsection, parking occupancy of employees and volunteers by location, availability of parking at Inspiration Point, as well as the average length of stay for employees, volunteers, and visitors. Their main initiatives listed in the report involve protecting visitor parking that is convenient to visitors while including time-limits for parking (Parking Management Action Plan for Balboa Park 25), providing more signs for motorists in the area to direct them to less well-known parking lots (Parking Management Action Plan for Balboa Park 47), as well as increasing public transportation for employees in the form of shuttles in order to alleviate the need for their parking in close-in lots (Parking Management Action Plan for Balboa Park 33).\n",
    "\n",
    "References (include links):\n",
    "- 1)  *Balboa Park Land Use, Circulation, and Parking Study* by Jones and Jones/Civitas Inc.\n",
    "- www.sandiego.gov/sites/default/files/legacy/park-and-recreation/pdf/parkdesign/bplucp.pdf\n",
    "- 2) *Parking Management Action Plan for Balboa Park* by Tilghman Group and Civitas Inc.\n",
    "- www.sandiego.gov/sites/default/files/legacy/park-and-recreation/pdf/parkdesign/bpparkingmanagementplan.pdf\n"
   ]
  },
  {
   "cell_type": "markdown",
   "metadata": {},
   "source": [
    "# Hypothesis\n"
   ]
  },
  {
   "cell_type": "markdown",
   "metadata": {},
   "source": [
    "Based on existing studies highlighting the surplus of lesser known parking spaces already existing within the park, along with the influence of COVID-19 on current travel habits, I do not think that the creation of additional parking spaces is currently necessary. On the other hand, in order to increase efficiency of parking throughout the park, I do think that strategies such as time limits need to be enforced in close-in parking lots in order to encourage visitors to park in more remote lots as well. Furthermore, I also support initiatives such as carpooling and public transportation directed toward employees and volunteers in order to open more spots for visitors.\n"
   ]
  },
  {
   "cell_type": "markdown",
   "metadata": {},
   "source": [
    "# Data"
   ]
  },
  {
   "cell_type": "markdown",
   "metadata": {},
   "source": [
    "For this project, I think that data regarding traffic and parking within Balboa Park in recent years is necessary to answer the question proposed. Specifically, datasets recording how many employees, volunteers, and visitors enter the park on a daily basis, where and how long they park, how many parking spaces there are in each area of the park and what percentage of them are occupied on average daily are needed. Information about employee needs regarding parking and how to get to where they need to work is also needed if considering public transportation strategies for them. It also may be useful to obtain data regarding how efficiently parking time limits and parking meters work in other parks or public areas throughout San Diego in order to gauge whether they will be suitable strategies to implement in Balboa Park. As Balboa Park attracts many visitors, I think it is possible and important to get at least a thousand observations from visitors, in order to achieve a larger sample size and attain a better understanding of parking habits within the park.\n"
   ]
  },
  {
   "cell_type": "markdown",
   "metadata": {},
   "source": [
    "# Ethics & Privacy"
   ]
  },
  {
   "cell_type": "markdown",
   "metadata": {},
   "source": [
    "The two references that I plan to use were taken from the San Diego Parks and Recreation website, and were openly made available under a list of documents for consultants to reference. Information regarding employees and visitors are all anonymous, and there is otherwise no way to identify individuals from which the statistics were taken. As for possible biases, some information tables in the Parking Management Action Plan for Balboa Park was discovered solely by the Tilghman Group, so I believe it would be a good idea to find additional data not by the group in order to ensure that their information is unbiased and not attempting to paint a particular picture. Besides that, there is a vast amount of relevant data within both sources, and they include information about employees, volunteers, and visitors so I believe that no particular group of people is being excluded. However, the results of this project would doubtlessly affect all three groups that attend the park, so it is important to consider all of their interests and find a solution that does not for example, facilitate parking for visitors while putting employees and volunteers at a disadvantage. The best solution would involve a compromise between all three groups. It is also crucial to consider how changes in the parking system would affect pedestrians and people who visit the park without driving, as well as who would fund these changes and whether or not there is any bias there. Finally, I believe that the results of this project could be monitored in the future by collecting data about parking and motorists’ habits and determining whether or not the situation has improved.\n"
   ]
  }
 ],
 "metadata": {
  "kernelspec": {
   "display_name": "Python 3",
   "language": "python",
   "name": "python3"
  },
  "language_info": {
   "codemirror_mode": {
    "name": "ipython",
    "version": 3
   },
   "file_extension": ".py",
   "mimetype": "text/x-python",
   "name": "python",
   "nbconvert_exporter": "python",
   "pygments_lexer": "ipython3",
   "version": "3.7.9"
  }
 },
 "nbformat": 4,
 "nbformat_minor": 2
}
