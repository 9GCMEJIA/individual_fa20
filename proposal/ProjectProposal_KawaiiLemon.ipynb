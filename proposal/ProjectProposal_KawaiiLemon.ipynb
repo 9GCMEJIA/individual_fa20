{
 "cells": [
  {
   "cell_type": "markdown",
   "metadata": {},
   "source": [
    "# COGS 108 - Project Proposal"
   ]
  },
  {
   "cell_type": "markdown",
   "metadata": {},
   "source": [
    "# Names & GitHub ID\n",
    "\n",
    "- Name: Brandon Giang\n",
    "- GitHub Username: KawaiiLemon"
   ]
  },
  {
   "cell_type": "markdown",
   "metadata": {},
   "source": [
    "# Research Question"
   ]
  },
  {
   "cell_type": "markdown",
   "metadata": {},
   "source": [
    "*What is the relationship between the funding of California State Parks in San Diego and their locations?*"
   ]
  },
  {
   "cell_type": "markdown",
   "metadata": {},
   "source": [
    "## Background and Prior Work"
   ]
  },
  {
   "cell_type": "markdown",
   "metadata": {},
   "source": [
    "*Fill in your background and prior work here. Be sure to specify which statements are from which references.* \n",
    "\n",
    "References (include links):\n",
    "- 1) https://www.sandiego.gov/park-and-recreation/general-info/budget Has information on the budget of San Diego recretional budget\n",
    "- 2) Searching up on google, there are about 280 California state parks in San Diego while there are an estimated 340 parks in San Diego. In the link above, the pdf estimates about 400 parks covered by a financial plan."
   ]
  },
  {
   "cell_type": "markdown",
   "metadata": {},
   "source": [
    "# Hypothesis\n"
   ]
  },
  {
   "cell_type": "markdown",
   "metadata": {},
   "source": [
    "    I think that funding of parks would increase particularly in locations with higher population and available land. Locations with higher population would not have a bigger park per se, but they would need more maintaining as more families in the area would go there. Location encompasses both the availability of land and the amount of people in it, so ideally, locations with higher populations and more available land would obtain more resources."
   ]
  },
  {
   "cell_type": "markdown",
   "metadata": {},
   "source": [
    "# Data"
   ]
  },
  {
   "cell_type": "markdown",
   "metadata": {},
   "source": [
    "*Explain what the ideal dataset you would want to answer this question. (This should include: What variables? How many observations? Who/what/how would these data be collected? How would these data be stored/organized?)*\n",
    "\n",
    "    The ideal variables in this project are locations and funding. It may not be in the best interest to search up each and every parks finances (since in a region there are multiple parks). It would be more efficient to divide by region (Mira Mesa, Scripps Ranch, etc.) and gather datasets of finances from each of their park/recreation committees (ideally, each region would have one). \n",
    "    \n",
    "    It would also be important to find out how many parks there are in each respective region. Additionally, the population of each of the regions would be important as well. Particularly, the number of people and amount of families to see if there is a relation there. This could be potentially gathered by census data or estimates from each region's government. \n",
    "    \n",
    "    All this data would be easier read separately in two tables. One table would have the park information by region (funding, number of parks). The other table would have the populations of people separarte by region (population, number of families). These two tables could also be combined, but it is good to have two tables should more columns of information are added to respective information (average land acres per park, number of children per family, etc.)."
   ]
  },
  {
   "cell_type": "markdown",
   "metadata": {},
   "source": [
    "# Ethics & Privacy"
   ]
  },
  {
   "cell_type": "markdown",
   "metadata": {},
   "source": [
    "    Most data would be from organizations and groups (data would not be gathered by names of people). These organizations or groups should be named since the resources and history of their finances should be readily available to the public (though direct naming of organization or group leaders shall be not named to avoid targeting)."
   ]
  },
  {
   "cell_type": "code",
   "execution_count": null,
   "metadata": {},
   "outputs": [],
   "source": []
  }
 ],
 "metadata": {
  "kernelspec": {
   "display_name": "Python 3",
   "language": "python",
   "name": "python3"
  },
  "language_info": {
   "codemirror_mode": {
    "name": "ipython",
    "version": 3
   },
   "file_extension": ".py",
   "mimetype": "text/x-python",
   "name": "python",
   "nbconvert_exporter": "python",
   "pygments_lexer": "ipython3",
   "version": "3.8.3"
  }
 },
 "nbformat": 4,
 "nbformat_minor": 2
}
