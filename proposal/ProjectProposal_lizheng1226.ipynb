{
 "cells": [
  {
   "cell_type": "markdown",
   "metadata": {},
   "source": [
    "# COGS 108 - Project Proposal"
   ]
  },
  {
   "cell_type": "markdown",
   "metadata": {},
   "source": [
    "# Names & GitHub ID\n",
    "\n",
    "- Name: Liuyang Zheng\n",
    "- GitHub Username: lizheng1226"
   ]
  },
  {
   "cell_type": "markdown",
   "metadata": {},
   "source": [
    "# Research Question"
   ]
  },
  {
   "cell_type": "markdown",
   "metadata": {},
   "source": [
    "Is there a relationship between the mean age of people who enter parks and recreational centers each day in San Diego and the day of the week for that specific day? If so, how can we improve and accomodate the funtions of the park based on the potential users of the day?"
   ]
  },
  {
   "cell_type": "markdown",
   "metadata": {},
   "source": [
    "## Background and Prior Work"
   ]
  },
  {
   "cell_type": "markdown",
   "metadata": {},
   "source": [
    "As of January 2020, the Parks and Recreation Department of San Diego is responsible for the management of over 400+ parks as well as 57 recreation centers and the total annual visits to all of these city's park and recreation areas are approximately reported as 55 million. However, I can barely find any information about the relationship between the age distribution of people and the corresponding day of the week across these parks even at the Parks Master Plan of County of San Diego. That's really a problem since if we can find there is a relationship exists, then we can better optimize the layouts and facility of the park each day or in the future to accomodate needs from different ages and maybe the usage of the public parks system could also be maximized to some extent. Right now, I have access to the age distribution(2014 estimated vs. 2040 projection) of people in the County of San Diego and I still need data from each individuals everyday at the parks to complete my research.\n",
    "\n",
    "From National Recreation and Park Association monthly magazine, we can find out that better serving a growing, older population is one of the major concerns for the association. According to the article, \"65-plus population will swell to 65.9 million, nearly 38 percent, between 2015 and 2025...even further to 82.3 million by 2040...\"(Reference 1), population aging would cause heavy burden on the public service and medical infrastructure, and parks and recreation centers could contribute to the mental and physical wellness of the aging population and therefore help to mitigate the social burden. In other words, this research article informs me the special needs from the aging population in terms of parks and recreational service and since different citys have different age distribution, we need to gather those data from a weekly basis to better serve this particular group of population.\n",
    "\n",
    "Since all members of the community are welcome to use public parks and recreaional centers, finding the answer for my research question could also help to get the general infomation of the homeless community in that park and get to know how their lives changes over a whole week and provide necessary assistance for them and a welcomed environment for everyone in the park. Just as the article goes, only when we \"understand the complexity of homelessness within municiple public parks and people's concerns, challenges, successes and hopes from a wide array of perspectives\"(Reference 2), we are able to better serve everyone in the community well. And the data generating process for my project would be a great chance to start with the work on the homeless people and see the age distibution of this community and provide the help accordingly.\n",
    "\n",
    "\n",
    "References (include links):\n",
    "- 1) https://www.nrpa.org/parks-recreation-magazine/2017/july/parks-and-recreation-serving-a-growing-older-population/\n",
    "- 2) https://www.nrpa.org/parks-recreation-magazine/2019/january/addressing-homelessness-in-public-parks/"
   ]
  },
  {
   "cell_type": "markdown",
   "metadata": {},
   "source": [
    "# Hypothesis\n"
   ]
  },
  {
   "cell_type": "markdown",
   "metadata": {},
   "source": [
    "I would hypothesize that the mean age of the users on the weekdays would be relatively higher than the mean age of the users on weekends and it may follow a relatively consistent trend from Monday to Friday and a sharp mean age drop during Saturday and Sunday. This is because normally people of young age would have work or study to do on the weekdays and therefore most of them would probably choose to relieve the stress from the work or school on the weekends at parks and recreational centers. On the other hand, people who have already retired and most of the homeless people are usually of higher ages, and they would probably choose to stay and work out during the weekdays at the parks where there are not many people around."
   ]
  },
  {
   "cell_type": "markdown",
   "metadata": {},
   "source": [
    "# Data"
   ]
  },
  {
   "cell_type": "markdown",
   "metadata": {},
   "source": [
    "In order to answer my research question, I would probably have to gather personal information at the park and try to come up with the ideal dataset that has the following features:\n",
    "- I would inlcude five variables: `IDs`(Unique identifiers assigned to each individuals and should be int), `Name`(String), `Age`(int), `Profession`(String to indicate their job; Can be retired or homeless), `Park`(Name of the park, String), `Day_of_the_week`(1-7, int). \n",
    "- The number of the obervation depends on the number of people who enter the park each day for a whole week.\n",
    "- These data would be collected when people are entering the park through a quick questionnaire. \n",
    "- Each observation represents a individual who entered the park or recreational centers and they would be stored from oldest age to youngest age for each day in the week(1-7) in a csv file.\n",
    "- The ideal dataset may still have some limitations as it contains only one week data, which may not well represent the general age trend. Besides, it would be hard to collected data from all of the parks and recreational centers within the same week since it requires a lot of work and the dataset may turn out to be too large to operate efficiently. Last but not least, people at the park may resist to take the questionnaire for all kinds of reasons and we might eventually derive a rather biased mean age trend."
   ]
  },
  {
   "cell_type": "markdown",
   "metadata": {},
   "source": [
    "# Ethics & Privacy"
   ]
  },
  {
   "cell_type": "markdown",
   "metadata": {},
   "source": [
    "For the question part, I believe it's a well-posed question which I have already knew something about it, which means by answering this question, I could help to improve the public parks and recreation service based on the answer I got and it adheres to the ethics and privacy standards. One of the problems that is associated with data gathering is people may not consent my operation of their data even when they have done the questionnaire. In these cases, I won't include their information on my dataset and use them to calculate the mean age trend and plot it through visualization. Some people would refuse to take the questionnaire and that's totally fine too.\n",
    "\n",
    "Besides, note that I have also included people's name, age, occupation, and these information could become privacy concerns since people usually don't want their personal information being exposed and that's why I would assign each individual a unique indentifier to distinguish them from each others while at the same time not exposing their personal information to the public. After I explictly told them what parts of their personal infomation would be used to conduct what types of the research, if they still resist to let me collect the data, that would also lead to one of the biases that I mentioned above: the mean age trend each day across the week is not 100% well represent the true case, but I would also note this in my report. Apart from that, since I only include one specific week's observations from one specific park or recreational center, the final analysis can also be problematic since the data is limited and biased and can not well generalize other parks in San Diego and also may fail to improve the functions of the park based on the result we got. Thus, it would be better to collect data from as more parks or recreational centers as we can to come up with a rather equitable analysis."
   ]
  }
 ],
 "metadata": {
  "kernelspec": {
   "display_name": "Python 3",
   "language": "python",
   "name": "python3"
  },
  "language_info": {
   "codemirror_mode": {
    "name": "ipython",
    "version": 3
   },
   "file_extension": ".py",
   "mimetype": "text/x-python",
   "name": "python",
   "nbconvert_exporter": "python",
   "pygments_lexer": "ipython3",
   "version": "3.7.6"
  }
 },
 "nbformat": 4,
 "nbformat_minor": 4
}
