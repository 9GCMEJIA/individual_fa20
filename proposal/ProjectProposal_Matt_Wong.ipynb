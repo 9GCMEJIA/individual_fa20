{
 "cells": [
  {
   "cell_type": "markdown",
   "metadata": {},
   "source": [
    "# COGS 108 - Project Proposal"
   ]
  },
  {
   "cell_type": "code",
   "execution_count": null,
   "metadata": {},
   "outputs": [],
   "source": []
  },
  {
   "cell_type": "markdown",
   "metadata": {},
   "source": [
    "# Names & GitHub ID\n",
    "\n",
    "- Name: Matt Wong\n",
    "- GitHub Username: mdwong21\n",
    "\n",
    "# Research Question"
   ]
  },
  {
   "cell_type": "markdown",
   "metadata": {},
   "source": [
    "What factors influence one's decision to visit a park, and, more specifically, do modern websites provide a significant influence?"
   ]
  },
  {
   "cell_type": "markdown",
   "metadata": {},
   "source": [
    "## Background and Prior Work"
   ]
  },
  {
   "cell_type": "markdown",
   "metadata": {},
   "source": [
    "While the city of San Diego has an official website for parks and recreation that includes sections for all the parks in the city (1), only some of the parks have their own dedicated websites. A few examples of dedicated park websites can be seen for Balboa Park (2) and Mission Trails Regional Park (3). \n",
    "The National Park Service has, in the past, collected visitor use data for national park visits that can be viewed on the social science page of their website (4). This data includes surveys of visitation statistics and visitor evaluation of parks. I feel that similar surveys could be run to gauge the influence of park websites in visitation and a possible increase in evaluation from the readily available information.\n",
    "\n",
    "References (include links):\n",
    "- 1) https://www.sandiego.gov/parks-and-recreation\n",
    "- 2) https://www.balboapark.org/\n",
    "- 3) https://mtrp.org/\n",
    "- 4) https://www.nps.gov/subjects/socialscience/visitor-use.htm"
   ]
  },
  {
   "cell_type": "markdown",
   "metadata": {},
   "source": [
    "# Hypothesis\n"
   ]
  },
  {
   "cell_type": "markdown",
   "metadata": {},
   "source": [
    "I believe that, for larger parks, websites probably play a significant role in visitation, as they provide a source of information for events, maps, and general organization for large crowds. However, these factors will be less important for smaller parks that hold fewer, smaller events, so the usage of their websites may not have the same influence."
   ]
  },
  {
   "cell_type": "markdown",
   "metadata": {},
   "source": [
    "# Data"
   ]
  },
  {
   "cell_type": "markdown",
   "metadata": {},
   "source": [
    "The ideal dataset to answer this question would be a set of surveys taken at several different parks. The list of parks should include parks with dedicated websites and parks without dedicated websites (for those parks, the official San Diego Parks and Recreation page can serve similar purposes). On each survey (where one survey is one observation), visitors would be asked generally how often they come to the park, what influenced them to come to that park (found on google maps, saw on road, found website, etc.), if websites were used, what information was found on that website, and various evaluations of the park (how nice it looks, satisfaction). This would allow me to look for connections between website features and several different factors of each park visit."
   ]
  },
  {
   "cell_type": "markdown",
   "metadata": {},
   "source": [
    "# Ethics & Privacy"
   ]
  },
  {
   "cell_type": "markdown",
   "metadata": {},
   "source": [
    "Since the data would be in the form of surveys, anonymity would need to be kept between observations, but since no personal information is required, observations can be stored as a simple list of numbers.\n",
    "Another issue is that the larger parks have larger and more intricate websites *because* they are larger parks, and because the larger parks have larger events, website organization matters more to that park than it does to a smaller regional park. However, I think that there will still be cases where valid data can be found, this aspect just needs to be kept in mind.\n",
    "Lastly, beacuse this project is somewhat about judging the value of the website, it is possible the data can be interpreted in a way that assigns value or lack of value to something that may cause cut funding to people who need it. In order to avoid this, focus should be placed on beneficial aspects of the websites rather than simply if they exist."
   ]
  },
  {
   "cell_type": "code",
   "execution_count": null,
   "metadata": {},
   "outputs": [],
   "source": []
  }
 ],
 "metadata": {
  "kernelspec": {
   "display_name": "Python 3",
   "language": "python",
   "name": "python3"
  },
  "language_info": {
   "codemirror_mode": {
    "name": "ipython",
    "version": 3
   },
   "file_extension": ".py",
   "mimetype": "text/x-python",
   "name": "python",
   "nbconvert_exporter": "python",
   "pygments_lexer": "ipython3",
   "version": "3.7.7"
  }
 },
 "nbformat": 4,
 "nbformat_minor": 2
}
