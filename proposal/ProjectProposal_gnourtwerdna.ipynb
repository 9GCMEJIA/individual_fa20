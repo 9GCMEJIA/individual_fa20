{
 "cells": [
  {
   "cell_type": "markdown",
   "metadata": {},
   "source": [
    "# COGS 108 - Project Proposal"
   ]
  },
  {
   "cell_type": "markdown",
   "metadata": {},
   "source": [
    "# Names & GitHub ID\n",
    "\n",
    "- Name: Andrew Truong\n",
    "- GitHub Username: gnourtwerdna"
   ]
  },
  {
   "cell_type": "markdown",
   "metadata": {},
   "source": [
    "# Research Question"
   ]
  },
  {
   "cell_type": "markdown",
   "metadata": {},
   "source": [
    "Is there a correlation between the cleanliness of public restrooms and the visitation of a park?"
   ]
  },
  {
   "cell_type": "markdown",
   "metadata": {},
   "source": [
    "## Background and Prior Work"
   ]
  },
  {
   "cell_type": "markdown",
   "metadata": {},
   "source": [
    "Public restrooms are seen as dirty places that one would only use as a last resort. Could public restrooms dissuade someone from visiting the park? On a study of 6004 women, 26% would limit their use of a public restroom most or all of the time (Reference 1). These women are forced to resort to unconventional positions or having to hold urine in which could lead bladder problems. The dangers of being forced to hold in urine could dissuade someone from going to the park. There was an online poll on 1264 people on whether or not they choose a restaurant on the condition of their restroom and found that 64% of people do choose businesses based on the condition of the restrooms. The poll also showed that 55% of people were unlikely to return to a business after a bad bathroom experience. This could be expanded towards restrooms in the park and how likely someone is to return to the park after a bad experience in the park restrooms.\n",
    "References (include links):\n",
    "- 1)https://www.ncbi.nlm.nih.gov/pmc/articles/PMC7354199/\n",
    "- 2)https://www.jsonline.com/story/money/business/retail/2019/03/20/tidy-toilets-clean-restrooms-attract-shoppers-survey-says/3226259002/"
   ]
  },
  {
   "cell_type": "markdown",
   "metadata": {},
   "source": [
    "# Hypothesis\n"
   ]
  },
  {
   "cell_type": "markdown",
   "metadata": {},
   "source": [
    "I believe that the more clean and reputable a park restroom is, the more visitors they will have at that park."
   ]
  },
  {
   "cell_type": "markdown",
   "metadata": {},
   "source": [
    "# Data"
   ]
  },
  {
   "cell_type": "markdown",
   "metadata": {},
   "source": [
    "I would want a dataset on how many people use the restroom that visit parks. It should be data from different parks around San Diego, since each park has its own condition. It should be at least an observation of 1000 people. The data could be collected through a motion sensor at common points of entry of the park and the restroom. It would be organized into how many people visit the park, and how many peoplel use the restroom, with data pertaining to each different park. Another dataset would be on the state of restrooms at different parks and whether the nearby residents still visit. Are there any complaints with these restrooms? It could be a survey from nearby residents of each park. The data could be organized to show the state of the restroom and whether or not they have visited again."
   ]
  },
  {
   "cell_type": "markdown",
   "metadata": {},
   "source": [
    "# Ethics & Privacy"
   ]
  },
  {
   "cell_type": "markdown",
   "metadata": {},
   "source": [
    "For the survey, there would be location data. We will need to know the general location of their area to correlate the data to a certain park. I think if the only location data given is their city in San Diego, it would maintain a good privacy for the people who take the survey. For tracking the amount of visits to a park, there would be full anonymity for the visitors. It would only be tracking the amount of people entering and using the restroom. I think there could be some kind of formal announcement to the nearby resident's of the park that there will be a tracking of movement for full transparency into the data collection. There is definitely some biases in terms of different parks in different locations. A park in La Jolla could have much better conditions than a park in National City or El Cajon."
   ]
  }
 ],
 "metadata": {
  "kernelspec": {
   "display_name": "Python 3",
   "language": "python",
   "name": "python3"
  },
  "language_info": {
   "codemirror_mode": {
    "name": "ipython",
    "version": 3
   },
   "file_extension": ".py",
   "mimetype": "text/x-python",
   "name": "python",
   "nbconvert_exporter": "python",
   "pygments_lexer": "ipython3",
   "version": "3.7.4"
  }
 },
 "nbformat": 4,
 "nbformat_minor": 2
}
