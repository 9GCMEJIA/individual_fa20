{
 "cells": [
  {
   "cell_type": "markdown",
   "metadata": {},
   "source": [
    "# COGS 108 - Project Proposal"
   ]
  },
  {
   "cell_type": "markdown",
   "metadata": {},
   "source": [
    "# Names & GitHub ID\n",
    "\n",
    "- Name: Lei Lam\n",
    "- GitHub Username: melam20"
   ]
  },
  {
   "cell_type": "markdown",
   "metadata": {},
   "source": [
    "# Research Question"
   ]
  },
  {
   "cell_type": "markdown",
   "metadata": {},
   "source": [
    "Does contracting out maintenance services instead of training existing workers or hiring new workers full-time for the same tasks reduce costs for park maintenance in San Diego? "
   ]
  },
  {
   "cell_type": "markdown",
   "metadata": {},
   "source": [
    "## Background and Prior Work"
   ]
  },
  {
   "cell_type": "markdown",
   "metadata": {},
   "source": [
    "*Fill in your background and prior work here. Be sure to specify which statements are from which references.* \n",
    "\n",
    "An important point brought up is that hiring full-time employees does cost more in the short-term [2], it is beneficial in the long-term because of a variety of reasons. For the most part, full-time workers are less stressed than contractors, and reducing stress increases productivity [2]. This is relevant to my project because more productivity leads to better usage of funding for workers, and so that the same maintenance tasks do not have to be redone due to an original mediocre fix. Additionally, providing full-time jobs for employees may increase worker loyalty [2], so that it is less likely funding might have to be put into training workers (since the employees are less likely to leave).\n",
    "\n",
    "In 2020 so far, for every 10,000 residents in San Diego, there were about 8.1 full-time employees for maintenance [1]. This is important for my project because how many residents go to certain parks could affect park usage and therefore maintenance frequency, which will affect how many city employees for maintenance may be needed, and how often they have to perform some tasks. At the typical park and recreation agency, staffing costs account for 54% of the operating budget [1]. This is relevant for my project because I could try to compare how much it might be with majority contractor work isntead, depending on other data I can find.\n",
    "\n",
    "\n",
    "References (include links):\n",
    "- 1) https://www.nrpa.org/siteassets/nrpa-agency-performance-review.pdf\n",
    "- 2) https://hbr.org/2019/07/the-case-for-hiring-more-full-time-workers"
   ]
  },
  {
   "cell_type": "markdown",
   "metadata": {},
   "source": [
    "# Hypothesis\n"
   ]
  },
  {
   "cell_type": "markdown",
   "metadata": {},
   "source": [
    "I hypothesize that training existing workers and hiring new workers full-time to complete maintenance tasks will reduce costs for San Diego park maintenance in the long-term more than hiring contract workers. However, quality of work done by existing or new workers may differ from that of contractors, which may contribute to potentially higher costs for repeated maintenance if the initial job done by the former group is mediocre."
   ]
  },
  {
   "cell_type": "markdown",
   "metadata": {},
   "source": [
    "# Data"
   ]
  },
  {
   "cell_type": "markdown",
   "metadata": {},
   "source": [
    "*Explain what the ideal dataset you would want to answer this question. (This should include: What variables? How many observations? Who/what/how would these data be collected? How would these data be stored/organized?)*\n",
    "\n",
    "The information to be collected is mainly based around the idea that the cost of training specialized workers once may cost less in the long term than for hiring contractors for maintenance work. The ideal dataset for worker training costs would include how much it may cost to train one worker in a specialized maintenance task (such as irrigation or repairing park structures), how much is the average pay, and how often they were employed to do one of these tasks in a year. The ideal dataset for contractor costs for San Diego park maintenance would include what kind of maintenance task they are employed for, rates per hour, and how often they were employed in a year. The data sets would be stored in two dataframes sorted by city employee and contractors.\n",
    "\n",
    "Something else that might be helpful to look at for both datasets could be complaints or feedback (positive or negative) about the maintenance tasks, which could be a factor in considering re-employment of workers for the same task in the future. Having a dataset for the San Diego Parks and Recreation's budget and where they get funding from for park maintenance could also be important to examine, so that the number of workers employable could be determined. Information from the past ten years for these datasets could be helpful for making a decision about who to employ. Information from each county about park usage by residents could also be useful. It is also important to see how many residents live in each county because it could affect maintenance frequency, as mentioned above."
   ]
  },
  {
   "cell_type": "markdown",
   "metadata": {},
   "source": [
    "# Ethics & Privacy"
   ]
  },
  {
   "cell_type": "markdown",
   "metadata": {},
   "source": [
    "A privacy concern with this is that I might not have access to the San Diego Parks and Recreation workers' individual salaries, as I am not their employer and I would probably need consent to view any salary numbers too. If I am unable to view any of employees' salaries, then it is still possible to average how much it costs to train a new worker or existing worker from the total costs and how many workers there are. There could also be potential biases in some datasets because they rely on other people's input, which can certainly have mistakes, especially if there isn't a standardized reporting method for funds on park mainetance and worker salaries across all San Diego counties. If I was able to have access to this information, I would make all the unique identifying information of the city employees would be anonymous.\n",
    "\n",
    "An ethics concern might be that this information could be used to potentially pay city employees less after doing comparisons with hiring contractor numbers, if it is cheaper to hire contractors in the long-term. (I'm not completely sure of a workaround to this since it is important to calculate how much of taxpayer money goes into funding city projects and therefore keeping city employees properly paid. But I don't think it's legal to have large paycuts without an actual reason.)"
   ]
  }
 ],
 "metadata": {
  "kernelspec": {
   "display_name": "Python 3",
   "language": "python",
   "name": "python3"
  },
  "language_info": {
   "codemirror_mode": {
    "name": "ipython",
    "version": 3
   },
   "file_extension": ".py",
   "mimetype": "text/x-python",
   "name": "python",
   "nbconvert_exporter": "python",
   "pygments_lexer": "ipython3",
   "version": "3.8.3"
  }
 },
 "nbformat": 4,
 "nbformat_minor": 2
}
