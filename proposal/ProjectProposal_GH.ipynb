{
 "cells": [
  {
   "cell_type": "markdown",
   "metadata": {},
   "source": [
    "# COGS 108 - Project Proposal"
   ]
  },
  {
   "cell_type": "markdown",
   "metadata": {},
   "source": [
    "# Names & GitHub ID\n",
    "\n",
    "- Name: Darius Azure\n",
    "- GitHub Username: MajorDarius"
   ]
  },
  {
   "cell_type": "markdown",
   "metadata": {},
   "source": [
    "# Research Question"
   ]
  },
  {
   "cell_type": "markdown",
   "metadata": {},
   "source": [
    "*Fill in your research question here* \n How much impact does funding for repairs and remodeling for San Diego parks have on attendance? If there is an impact does there need to be more funding?"
   ]
  },
  {
   "cell_type": "markdown",
   "metadata": {},
   "source": [
    "## Background and Prior Work"
   ]
  },
  {
   "cell_type": "markdown",
   "metadata": {},
   "source": [
    "*Fill in your background and prior work here. Be sure to specify which statements are from which references.* \n",
    "\n",
    "As the person in charge of auditing San Diego parks for the next 5 years I decided to look into the past to see previous issues. To start I looked up problems that were plaguing the San Diego area in general and found that one of the issues was lack of funding for remodeling [1]. From there I decided to look into if funding actually would lead to more attendance based on prior evidence throughout the years. From there I had to look into the list of parks within the San Diego area [2] in order to learn more specifics about parks. From there I had looked into if there was any type of funding records public which I found a 2017 plan [3] that detailed allocated funds to show some records did exist. \n",
    "\n",
    "In general the topic does not seem to be publicly addressed especially just within the San Diego area but has been looked at more of a California area in general[4]. As a result we have to take these observations made by all these different factors and try to combine them together to try to answer the various questions. A possible comparison would be the growth in attendance in areas like SeaWorld in San Diego that have financial growth among other factors that led to the increase of attendance[5]. So while there is not a direct comparison of attendance and funding that is specific there appears to be resources to combine the data ourselves and try to see the impact funding might have. \n",
    "\n",
    "References (include links):\n",
    "- 1) https://www.publicceo.com/2016/02/the-biggest-challenges-facing-san-diegos-balboa-park/ \n",
    "\n",
    "- 2) https://www.sandiego.gov/park-and-recreation/parks \n",
    "\n",
    "- 3) https://www.sandiego.gov/sites/default/files/regional_park_improvements_fund.pdf \n",
    "\n",
    "- 4) http://parksforward.com/site/uploads/CA%20State%20Parks%20Report%20Nov%2030%20final.pdf \n",
    "\n",
    "- 5) https://www.sandiegouniontribune.com/business/tourism/story/2019-08-06/seaworlds-rebound-remains-on-track-with-attendance-up \n",
    "\n"
   ]
  },
  {
   "cell_type": "markdown",
   "metadata": {},
   "source": [
    "# Hypothesis\n"    
   ]
  },
  {
   "cell_type": "markdown",
   "metadata": {},
   "source": [
    "*State and defend your hypotheses here.*",
    "\n",
    "Due to people tending to enjoy newer or remodeled attractions, I hypothesize that more funding for remodeling will lead to a trend of higher attendance in San Diego parks than those without or with less funding. Then I think that an increase of funding can even further increase attendance over the next 5 years."
   ]
  },
  {
   "cell_type": "markdown",
   "metadata": {},
   "source": [
    "# Data"
   ]
  },
  {
   "cell_type": "markdown",
   "metadata": {},
   "source": [
    "*Explain what the ideal dataset you would want to answer this question. (This should include: What variables? How many observations? Who/what/how would these data be collected? How would these data be stored/organized?)*",
    "\n",
    "The ideal dataset I would need would mainly include the variables of funding per park over a set time period such as 10 years, the attendance numbers of those same parks over the same set of time, and requested funds to see if they are being under budget and could be maximized. In order to separate these variables I would label these variables under the names of the park.This information would be gotten from park records and state and county funding delegated from plans. We would use that data and combine them into a timeline of how that funding has increased or decreased over time in a line graph and the attendance of that park in that time frame. From there we can see if parks are being underfunded if they have less than the mean funding and attendance is decreasing. We would combine all this info in a table of the name, funding, attendance and how much funding goes into each person using those two statistics."
   ]
  },
  {
   "cell_type": "markdown",
   "metadata": {},
   "source": [
    "# Ethics & Privacy"
   ]
  },
  {
   "cell_type": "markdown",
   "metadata": {},
   "source": [
    "*Fill in your ethics & privacy discussion here*",
    "\n",
    "As the data for attendance and funding should be open and without identification about specific people the data should be allowed to be used without much trouble. In addition as I am in a situation of being in charge of planning I should have access to this information if it was collected. The only concern about privacy is if the data contains personal information about people or funding is meant to be private information in which case we would have to remove personal information or have to find a public dataset that we could use. The park's personal information themselves is public and should not have an issue with having that data public. In addition we would have to source this information to say how we did get it.",
    "\n",
    "The main biases that will exist within my data is mainly that my data will only be within the San Diego area so if we reach a conclusion here it is still not fully able to be used as an answer in other locations. In addition, there is also the bias that there might be a set of people who don't have the time to go to the park or that the funding is less because it is in a less opportune place which already means it has a low attendance and that already popular parks might have already been popular before funding meaning the correlation could be limited. Some parks might also have more specific data and are more clear about where funding specifically goes while others might lack information like attendance. This would lead to possibly unclear data that could lead to incomplete data. In order to try to combat this, I will try to take the average of the funding divided by the attendance to see the funds per person and try to find the mean of the data. This will be so even if a park has less attendance due to the area or population, the funding will still shine through in the data. \n"
   ]
  }
 ],
 "metadata": {
  "kernelspec": {
   "display_name": "Python 3",
   "language": "python",
   "name": "python3"
  },
  "language_info": {
   "codemirror_mode": {
    "name": "ipython",
    "version": 3
   },
   "file_extension": ".py",
   "mimetype": "text/x-python",
   "name": "python",
   "nbconvert_exporter": "python",
   "pygments_lexer": "ipython3",
   "version": "3.7.9"
  }
 },
 "nbformat": 4,
 "nbformat_minor": 2
}
