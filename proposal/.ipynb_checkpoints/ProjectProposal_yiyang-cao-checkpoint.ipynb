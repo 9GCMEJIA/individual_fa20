{
 "cells": [
  {
   "cell_type": "markdown",
   "metadata": {},
   "source": [
    "# COGS 108 - Project Proposal"
   ]
  },
  {
   "cell_type": "markdown",
   "metadata": {},
   "source": [
    "# Names & GitHub ID\n",
    "\n",
    "- Name: Yiyang Cao\n",
    "- GitHub Username: yiyang-cao"
   ]
  },
  {
   "cell_type": "markdown",
   "metadata": {},
   "source": [
    "# Research Question"
   ]
  },
  {
   "cell_type": "markdown",
   "metadata": {},
   "source": [
    "Should the department of Park and Recreation increase the budet due to COVID-19?"
   ]
  },
  {
   "cell_type": "markdown",
   "metadata": {},
   "source": [
    "## Background and Prior Work"
   ]
  },
  {
   "cell_type": "markdown",
   "metadata": {},
   "source": [
    "There are over 42,000 acres of park assets, which includes almost 27,000 acres of open space and aquatic\n",
    "areas. The Department provides a wide variety of opportunities with over 400 parks, including Balboa Park and\n",
    "Mission Bay Park and 25.9 miles of oceanfront shoreline. Open space areas conserve and protect a rich variety\n",
    "of sensitive habitat and cultural history and provide educational opportunities in a natural setting.\n",
    "Recreational programs include ceramics, learn-to-swim, karate, gymnastics,\n",
    "dance, organized sports, golf, day camps, holiday events, senior and teen activities, tiny tot classes, therapeutic\n",
    "recreation activities, nature programs and much more.\n",
    "\n",
    "The total expenditure between 2019 budgeted and 2020 adopted increased 5,857,733 dollars.\n",
    "\n",
    "References (include links):\n",
    "- 1)https://www.sandiego.gov/park-and-recreation/general-info\n",
    "- 2)https://www.sandiego.gov/park-and-recreation/general-info/budget"
   ]
  },
  {
   "cell_type": "markdown",
   "metadata": {},
   "source": [
    "# Hypothesis\n"
   ]
  },
  {
   "cell_type": "markdown",
   "metadata": {},
   "source": [
    "I think the department should increase their following budget during COVID-19. Beacause of the disease, the actual passenger flow volumn decreased a lot, so the revenue earned from the passengers decreased as well. In order to sustain the system and programs, the department should increase the budget to cover more costs that was used to cover by the revanue."
   ]
  },
  {
   "cell_type": "markdown",
   "metadata": {},
   "source": [
    "# Data"
   ]
  },
  {
   "cell_type": "markdown",
   "metadata": {},
   "source": [
    "The ideal dataset should include the variables of different years of budget, such as the budget from 2015 to 2020. The observations could presented by different categories and parts, such as different kinds of parks and programs, personnel and non-personnel expenditures, revenues, and finally the total of the budget.\n",
    "These data would come from the database of be the city of San Diego collected by its employees.\n",
    "These data would be stored as a csv file."
   ]
  },
  {
   "cell_type": "markdown",
   "metadata": {},
   "source": [
    "# Ethics & Privacy"
   ]
  },
  {
   "cell_type": "markdown",
   "metadata": {},
   "source": [
    "To begin with, the analysis conducted only for San Diego city; there is a danger that the results of this analysis could be used to describe parks and recreations all over the country, which would be wrong. One ethics concern from the start of this analysis, is the bias that comes from choosing data only from the city of San Diego. One way to reduce this bias is using data from varied sources aditional to the department. In addition, it is crucial in the discussion section to explain how the results are only applicable to San Diego area. Finally, the budget and expenditure informtion are already public but they could be used to argue against the importance of these programs, which is not the goal of the analysis."
   ]
  },
  {
   "cell_type": "code",
   "execution_count": null,
   "metadata": {},
   "outputs": [],
   "source": []
  }
 ],
 "metadata": {
  "kernelspec": {
   "display_name": "Python 3",
   "language": "python",
   "name": "python3"
  },
  "language_info": {
   "codemirror_mode": {
    "name": "ipython",
    "version": 3
   },
   "file_extension": ".py",
   "mimetype": "text/x-python",
   "name": "python",
   "nbconvert_exporter": "python",
   "pygments_lexer": "ipython3",
   "version": "3.7.4"
  }
 },
 "nbformat": 4,
 "nbformat_minor": 2
}
