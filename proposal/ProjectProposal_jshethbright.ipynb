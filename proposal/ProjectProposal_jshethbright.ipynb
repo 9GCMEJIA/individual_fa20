{
 "cells": [
  {
   "cell_type": "markdown",
   "metadata": {},
   "source": [
    "# COGS 108 - Project Proposal"
   ]
  },
  {
   "cell_type": "markdown",
   "metadata": {},
   "source": [
    "# Names & GitHub ID\n",
    "\n",
    "- Name: Jitarth Sheth\n",
    "- GitHub Username: jshethbright"
   ]
  },
  {
   "cell_type": "markdown",
   "metadata": {},
   "source": [
    "# Research Question"
   ]
  },
  {
   "cell_type": "markdown",
   "metadata": {},
   "source": [
    "What is the relationship between specific San Diego park spending and the ratio of park foot traffic to the population of the district?\n",
    "\n",
    "What is the relationship between community median household income, park spending, and number of park amenities within San Diego County? "
   ]
  },
  {
   "cell_type": "markdown",
   "metadata": {},
   "source": [
    "## Background and Prior Work"
   ]
  },
  {
   "cell_type": "markdown",
   "metadata": {},
   "source": [
    "Parks are a crucial component of improving public health and fostering a sense of community. They provide numerous benefits ranging from improving communty fitness by encouraging exercise to mitigating climate change through the creation of green zones withing cities.<sup>3</sup> However, not all parks are created equal. Many parks lack various amenities caused by a scarcity of funding, which can reduce foot traffic to these parks and reduce their positive effectiveness. Specifically, in San Diego County, park amenity and funding greatly vary between communities.<sup>1</sup> \n",
    "\n",
    "According to a study on neighborhood income and disparities in facilities, communities with lower neighborhood income are more likely to have parks with lower quality facilities and amenities than those with higher incomes.<sup>2</sup> In low-income communities, there is also higher incidence rate for childhood obesity, leading to a greater importance of parks in improving health and fitness.<sup>4</sup>\n",
    "\n",
    "Prior research has been conducted in the Thoman L et al.<sup>2</sup> and Megan et al.<sup>5</sup> studies looking at the lack of park facilities in low-income neighborhoods, however, these studies only look at low-income communities and do not look at whether there is a correlation between median income and park funding and amenities. My research question would provide greater insight into these possible correlations by looking at the median income in all communities, not just low-income areas. This information would possibly help determine where San Diego park funds and amenities should be allocated to improve not just parks in low-income communities, but all parks in San Diego County.\n",
    "\n",
    "\n",
    "References:\n",
    "- 1) [San Diego Parks Master Plan](https://www.sandiegocounty.gov/content/dam/sdc/parks/CAPRA/2.0%20EXHIBITS/2.4A%20Master%20Plan.pdf)\n",
    "- 2) [McKenzie, Thomas L et al. \"Neighborhood Income Matters: Disparities in Community Recreation Facilities,  Amenities, and Programs.\" *Journal, of park and recreation administrations vol. 31(2013): 12-22](https://www.ncbi.nlm.nih.gov/pmc/articles/PMC4082954/)\n",
    "- 3) https://www.nrpa.org/blog/parks-and-public-health-working-together-to-advance-health-and-wellness/\n",
    "- 4) [Rogers, Robert et al. “The Relationship between Childhood Obesity, Low Socioeconomic Status, and Race/Ethnicity: Lessons from Massachusetts.” *Childhood obesity (Print)* vol. 11,6 (2015): 691-5. doi:10.1089/chi.2015.0029](https://pubmed.ncbi.nlm.nih.gov/26562758/)\n",
    "- 5) [Knapp, Megan et al. “The Relationships between Park Quality, Park Usage, and Levels of Physical Activity in Low-Income, African American Neighborhoods.” *International journal of environmental research and public health* vol. 16,1 85. 30 Dec. 2018, doi:10.3390/ijerph16010085](https://www.ncbi.nlm.nih.gov/pmc/articles/PMC6338998/)"
   ]
  },
  {
   "cell_type": "markdown",
   "metadata": {},
   "source": [
    "# Hypothesis\n"
   ]
  },
  {
   "cell_type": "markdown",
   "metadata": {},
   "source": [
    "Since low park amenity and spending has already been observed in low-income communities, I hypothesize that there will be a positive correlation between median income and park spending as well as a positive correlation between median income and number of park amenities within San Diego county. Communities with higher median income will likely receive higher park funding as a result of higher taxes, likely leading to a greater amount of park amenities. Similarly, lower median income communities will have lower funding due to lower taxes, leading to less amenities."
   ]
  },
  {
   "cell_type": "markdown",
   "metadata": {},
   "source": [
    "# Data"
   ]
  },
  {
   "cell_type": "markdown",
   "metadata": {},
   "source": [
    "The ideal dataset for answering my research question would contain the following variables under the following organization scheme:\n",
    "* Community Info\n",
    "    * Community Name (22 Observations)\n",
    "    * Community Median Household Income (22 Observations)\n",
    "    * Park Info (Organized by community name)\n",
    "        * Park Name\n",
    "        * Park Spending (Organized by park name)\n",
    "        * Number of Park Amenities (Organized by park name)\n",
    "        \n",
    "Community information would be organized into 22 observations by community name as listed in the publicly available parks master plan. Name and median household income would also similarly be collected from the same master plan data. Park information would also be constructed from publicly available data from the San Diego government. This data would likely be collected from a parks survey, listing spending/budget and a list of park amenities. Park information would have an unknown number of observations as the number of parks in a community and henceforth the number of amenities, is variable. \n",
    "\n",
    "This data would be organized into a dataframe following the listed organization scheme."
   ]
  },
  {
   "cell_type": "markdown",
   "metadata": {},
   "source": [
    "# Ethics & Privacy"
   ]
  },
  {
   "cell_type": "markdown",
   "metadata": {},
   "source": [
    "*Fill in your ethics & privacy discussion here*"
   ]
  }
 ],
 "metadata": {
  "kernelspec": {
   "display_name": "Python 3",
   "language": "python",
   "name": "python3"
  },
  "language_info": {
   "codemirror_mode": {
    "name": "ipython",
    "version": 3
   },
   "file_extension": ".py",
   "mimetype": "text/x-python",
   "name": "python",
   "nbconvert_exporter": "python",
   "pygments_lexer": "ipython3",
   "version": "3.7.6"
  }
 },
 "nbformat": 4,
 "nbformat_minor": 2
}
