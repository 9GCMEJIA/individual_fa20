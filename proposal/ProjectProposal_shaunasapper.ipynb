{
 "cells": [
  {
   "cell_type": "markdown",
   "metadata": {},
   "source": [
    "# COGS 108 - Project Proposal"
   ]
  },
  {
   "cell_type": "markdown",
   "metadata": {},
   "source": [
    "# Names & GitHub ID\n",
    "\n",
    "- Name: Shauna Sapper\n",
    "- GitHub Username: shaunasapper"
   ]
  },
  {
   "cell_type": "markdown",
   "metadata": {},
   "source": [
    "# Research Question"
   ]
  },
  {
   "cell_type": "markdown",
   "metadata": {},
   "source": [
    "Is there a relationship between the utilization of local San Diego parks and the mental health statistics of the surrounding community?\n",
    "\n",
    "More specifically, does the selection of amenities and programs offered by local parks have a positive impact on mental health trends in the populations they serve?"
   ]
  },
  {
   "cell_type": "markdown",
   "metadata": {},
   "source": [
    "## Background and Prior Work"
   ]
  },
  {
   "cell_type": "markdown",
   "metadata": {},
   "source": [
    "Outdoor activity is often recommended to those suffering from mental illness as a way to mitigate and improve their symptoms - the benefits of physical activity and time in nature on one’s mental health have long been researched [5, 6]. One aspect of this that I found intriguing is accessibility to outdoor recreation areas. The harder it is to get to a park or preserve, the less motivated one could be to go exercise and choose to stay home instead, therefore losing the benefits of exercise for mental health. I have personally experienced this, so this is why I chose to pose this question.\n",
    "\n",
    "This is an important question for San Diego Parks and Recreation to consider, especially in the current climate, because mental health and physical inactivity are issues of increasing concern in San Diego [3]. Parks provide a free, accessible space for activity, and looking into their impact on mental health could have significant findings. Park utilization and relationship to community health is mentioned multiple times in California’s 2020 SCORP Strategy [1], specifically pertaining to homelessness, park underutilization, and the opportunity for parks to provide programs and spaces to improve community health.\n",
    "\n",
    "The Parks Master Plan provides a detailed analysis of the types of parks offered in different communities throughout San Diego, as well as the specific programs, services, and amenities they offer [2]. The data varies widely from community to community, and includes projections of possible future steps to increase the “level of service” of parks in these communities, however, this is based off of age, income, and population density. While these are very important factors to consider, community health must also be included in determining the efficacy of local parks and identifying which communities are lacking accessibility to the services offered by San Diego Parks and Recreation.\n",
    "\n",
    "There is a significant amount of existing research on the mental health benefits of outdoor spaces and activity, even more recently as it pertains to living during a pandemic. The NRPA blog, *Access to Parks and the Outdoors is Crucial for Mental Health in Our Communities*, gives a summary of these benefits, and mentions that the distance to and quality of outdoor spaces makes it more difficult for people to benefit from parks [4].\n",
    "\n",
    "Another study asked a very similar question to the one I’ve posed, examining the association between the presence of parks and the mental health of residents near the parks [5]. This study concluded that parks within walking distance and with a variety of offerings were related to positive mental health in the surrounding neighborhood. A similar study was conducted on urban parks in Los Angeles, with similar findings [6].\n",
    "\n",
    "\n",
    "References:\n",
    "- [1] https://www.parks.ca.gov/pages/1008/files/Advisory_Council_Summary_9.14.17_Parks.pdf\n",
    "- [2] https://www.sdparks.org/content/dam/sdparks/en/pdf/Development/Parks%20Master%20Plan.pdf\n",
    "- [3] https://hasdic.org/wp-content/uploads/2019-CHNA-Full-Report.pdf\n",
    "- [4] https://www.nrpa.org/blog/access-to-parks-and-the-outdoors-is-crucial-for-mental-health-in-our-communities/\n",
    "- [5] https://www.sciencedirect.com/science/article/abs/pii/S1353829216303689\n",
    "- [6] https://www.ncbi.nlm.nih.gov/pmc/articles/PMC4049158/"
   ]
  },
  {
   "cell_type": "markdown",
   "metadata": {},
   "source": [
    "# Hypothesis\n"
   ]
  },
  {
   "cell_type": "markdown",
   "metadata": {},
   "source": [
    "My hypothesis is that San Diego communities with more active parks within walking distance of population-dense areas will have more positive mental health perceptions. This is what I expect based on the studies mentioned above, and mental health benefits of outdoor activity."
   ]
  },
  {
   "cell_type": "markdown",
   "metadata": {},
   "source": [
    "# Data"
   ]
  },
  {
   "cell_type": "markdown",
   "metadata": {},
   "source": [
    "The two main metrics I require to answer this question would be a mental health measurement for San Diego communities and specific data about size, location, amenities, and utilization of San Diego parks.\n",
    "1. Mental Health Data\n",
    " - The ideal data set for this metric would be a selection of people chosen randomly from communities in different regions of San Diego, whether they have been diagnosed with at least one mental illness recently, and their perception of the overall mental health of their local community.\n",
    " - The variables for this dataset would include an ID for each person, the region in San Diego in which they live, the community where they live, if they have been diagnosed with a mental illness, and their feeling about the overall mental health of their community. Their illness, if present, does not need to be specified for privacy reasons.\n",
    " - Ideally there would be a large enough number of observations to cover each region of San Diego.\n",
    " - The data would ideally be collected by a San Diego health organization like HASDIC or HHSA, and be stored in CSV format.\n",
    "\n",
    "\n",
    "2. Park Data\n",
    " - The ideal data set for this metric would be a comprehensive list of \"local\" parks (as defined in the Parks Master Plan above), their distance to population-dense areas, the amenities and programs they offer, and their utilization in the past year.\n",
    " - The variables for this data set would include the parks geographical location, the region of San Diego in which it is located, the community in which it is located, the number of amenities (as defined in the Parks Master Plan) that it offers, the number of active programs it offered in the past year, and its utilization over time in the past year.\n",
    " - Ideally there would be information on every local park with this data available in San Diego.\n",
    " - The data would ideally be collected directly by San Diego Parks and Recreation, and be stored in CSV format."
   ]
  },
  {
   "cell_type": "markdown",
   "metadata": {},
   "source": [
    "# Ethics & Privacy"
   ]
  },
  {
   "cell_type": "markdown",
   "metadata": {},
   "source": [
    "The largest privacy concern of this project would be the collection of individual's private health data. This would ideally be provided anonymously by a credible San Diego organization, with all identifying information removed. \n",
    "Park information is readily available to the public, and provides little privacy concern.\n",
    "\n",
    "Biases could be present in the health data gathered, especially in data sets provided by private hospitals and data collected from surveys of the general public. Bias is present in most forms of data gathering, and critical communities in San Diego could be excluded from this data due to lack of access to the technology to complete these surveys. This could be mitigated by using diagnostic data instead of behavioral data, since that is more readily available from healthcare providers, but lends itself to the concerns discussed previously.\n",
    "\n",
    "This study could have unintended results pertaining to socioeconomic status of communities relating to health and park availability, which is a very important topic, but would not be the focus of this study. Action would be taken throughout to prevent the misuse of this data, and make it clear that only mental health factors are considered, and the intended purpose is not to analyze the socioeconomic impact of park location and offerings."
   ]
  }
 ],
 "metadata": {
  "kernelspec": {
   "display_name": "Python 3",
   "language": "python",
   "name": "python3"
  },
  "language_info": {
   "codemirror_mode": {
    "name": "ipython",
    "version": 3
   },
   "file_extension": ".py",
   "mimetype": "text/x-python",
   "name": "python",
   "nbconvert_exporter": "python",
   "pygments_lexer": "ipython3",
   "version": "3.8.3"
  }
 },
 "nbformat": 4,
 "nbformat_minor": 2
}
