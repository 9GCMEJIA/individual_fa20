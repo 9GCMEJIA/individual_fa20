{
 "cells": [
  {
   "cell_type": "markdown",
   "metadata": {},
   "source": [
    "# COGS 108 - Project Proposal"
   ]
  },
  {
   "cell_type": "markdown",
   "metadata": {},
   "source": [
    "# Names & GitHub ID\n",
    "\n",
    "- Name: Yaoyuan(Andy) Zhang\n",
    "- GitHub Username: YourTeammate"
   ]
  },
  {
   "cell_type": "markdown",
   "metadata": {},
   "source": [
    "# Research Question"
   ]
  },
  {
   "cell_type": "markdown",
   "metadata": {},
   "source": [
    "There are over four hundred parks in San Diego, and the public areas' maintenance in these parks is an enormous task. In what order and how often should these maintenance activities happen in these parks? What is a proper maintenance schedule for parks staffs to achieve the potential highest efficiency?"
   ]
  },
  {
   "cell_type": "markdown",
   "metadata": {},
   "source": [
    "## Background and Prior Work"
   ]
  },
  {
   "cell_type": "markdown",
   "metadata": {},
   "source": [
    "The first thing to research is to find some information about the parks in San Diego. From the official sites of San Diego, we acquired some basic information provided by the government, including the fact that there are more than forty thousand acres of park assets and over four hundred parks in San Diego [1]. Besides, from the official site map, we can see that parks are sorted into five different categories by the government: mini-park, neighborhood park, community park, regional park, and open space park [2]. We should focus more on parks like community parks and regional parks and pay less attention to some open space parks since most of the open space parks require little maintenance. \n",
    "\n",
    "I also need to research what type of maintenance a park needs and the previous maintenance schedules for some parks. After failing to obtain a maintenance schedule for San Diego parks, I found a park and recreation maintenance plan for parks in Brookhaven's city to provide an insight for such maintenance [3]. We can see that there are numerous categories within park maintenance, including hardscape surface cleaning, turf care, irrigation, repairing, restroom cleaning, etc. Among these categories, many of them should have higher efficiency when done at a period with fewer visitors in the park. \n",
    "\n",
    "Although I failed to find a detailed maintenance schedule for some parks, I was able to found the street sweeping schedules of San Diego from the official website, which contains sweeping schedules of some parks and recreation areas[4]. Unlike my research, this is a more general schedule covering the whole city, focusing on one single type of maintenance. Thus, the reference value of this schedule is limited. \n",
    "\n",
    "My study looks at the park's visitor flow rate within a day and provides some potential optimized time frame for some daily maintenance. Besides, I also wish to provide an optimized schedule for some larger maintenance according to the visitor flow rate of a more extended period of time. \n",
    "\n",
    "References (include links):\n",
    "- 1) https://www.sandiego.gov/park-and-recreation/general-info\n",
    "- 2) https://experience.arcgis.com/experience/01e5d528b6114385a7962762f514533f/\n",
    "- 3) https://www.brookhavenga.gov/sites/default/files/fileattachments/parks_and_recreation/page/16904/parks_and_recreation_maintenance_plan_standards_2020.pdf\n",
    "- 4) https://www.sandiego.gov/stormwater/services/sweepschedules"
   ]
  },
  {
   "cell_type": "markdown",
   "metadata": {},
   "source": [
    "# Hypothesis\n"
   ]
  },
  {
   "cell_type": "markdown",
   "metadata": {},
   "source": [
    "I hypothesize that the required frequency of cleaning and maintenance is positively related to the visitor flow rates of different parks since more garbage will be created as the number of visitors increases. Besides, the best time frames for maintenance should vary according to the different types of parks. I hypothesize that the best time frames for maintenance for natural parks are early morning and around noon, while the best time frames for theme parks and amusement parks should be around evening. The reason for my hypothesis is that there's usually no time restrictions for visitors in most of the natural parks. Hence, early morning and noon should be when the least amount of people are in the park. On the other side, most of the amusement parks open for a limited amount of time each day. Thus the time frame after closing up should be the time which maintenance can be done most efficiently."
   ]
  },
  {
   "cell_type": "markdown",
   "metadata": {},
   "source": [
    "# Data"
   ]
  },
  {
   "cell_type": "markdown",
   "metadata": {},
   "source": [
    "I wish the ideal dataset I'll use to achieve the goal of my study should have following characteristics:\n",
    "\n",
    "- contains variables including the names of the parks, types of the parks, sizes of the parks, and amount of people entered and left the parks each hour \n",
    "- The observation lasts for at least a year\n",
    "- The data would be collected by camera or people's smartphones, which indicates their entrance to and exit from the park\n",
    "- The dataset is stored in csv files. "
   ]
  },
  {
   "cell_type": "markdown",
   "metadata": {},
   "source": [
    "# Ethics & Privacy"
   ]
  },
  {
   "cell_type": "markdown",
   "metadata": {},
   "source": [
    "Following the Deon's Ethics Checklist, we have:\n",
    "\n",
    "- We should have the permission to use the data from the camera. We might not be able to get the permission to use the location data from peoples' smartphone if they declined the permission on their phone.\n",
    "- Since the majority of the dataset only involves in counting, the privacy of the dataset should be garuanteed pretty well.\n",
    "- There might be potential mistakes in the dataset since the data collected might not be accurate. However, there should not be too much bias exist in this dataset. \n",
    "- The biggest issue I can think of is collecing locating information from people's smartphone. Fortunately, this is not a necessary process if the data can be collected from cameras. If we have to use this method to collect data, we should ask permission on people's smartphones first and make sure not to acquire any personal information besides counting number. "
   ]
  },
  {
   "cell_type": "code",
   "execution_count": null,
   "metadata": {},
   "outputs": [],
   "source": []
  }
 ],
 "metadata": {
  "kernelspec": {
   "display_name": "Python 3",
   "language": "python",
   "name": "python3"
  },
  "language_info": {
   "codemirror_mode": {
    "name": "ipython",
    "version": 3
   },
   "file_extension": ".py",
   "mimetype": "text/x-python",
   "name": "python",
   "nbconvert_exporter": "python",
   "pygments_lexer": "ipython3",
   "version": "3.8.3"
  }
 },
 "nbformat": 4,
 "nbformat_minor": 2
}
