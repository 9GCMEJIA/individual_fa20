{
 "cells": [
  {
   "cell_type": "markdown",
   "metadata": {},
   "source": [
    "# COGS 108 - Project Proposal"
   ]
  },
  {
   "cell_type": "markdown",
   "metadata": {},
   "source": [
    "# Names & GitHub ID\n",
    "\n",
    "- Name: Arden Ma\n",
    "- GitHub Username: ardenma"
   ]
  },
  {
   "cell_type": "markdown",
   "metadata": {},
   "source": [
    "# Research Question"
   ]
  },
  {
   "cell_type": "markdown",
   "metadata": {},
   "source": [
    "Is there a relationship between the sentiment of city park reviews and the amount of money spent maintaining and renovating these parks?"
   ]
  },
  {
   "cell_type": "markdown",
   "metadata": {},
   "source": [
    "## Background and Prior Work"
   ]
  },
  {
   "cell_type": "markdown",
   "metadata": {},
   "source": [
    "Recently, in April of 2020, the San Diego local government released a \"Parks Master Plan\" which included a sentiment analysis study that was performed to help understand whether or not San Diego residents were satisfied with local parks and recreation, as well as theit interest in the upgrading of certain park amentities (1). To collect data, the local government used a combination of a \"citywide statistically valid survey\", \"13 workshops + 2 popup community events\", \"2 online activities\", and \"7 presentations to advisory bodies\". As a result, they found that in general people seemed to be satisifed with the Parks and Recreation provided by the city, as well as in favor of various upgrades to parks. We can see this result visually, in the below two graphs taken from the plan document.\n",
    "\n",
    "<img src=\"https://www.sandiego.gov/sites/default/files/facilities-programs-satisfaction.jpg\" width=\"400\"> <img src=\"https://www.sandiego.gov/sites/default/files/upgrades-parks.jpg\" width=\"400\">\n",
    "\n",
    "While this is interesting data, it only enables us to understand the general trends and sentiment shared for parks in San Diego as a whole. For example, 95% of people could be satisfied with Balboa Park whereas only 25% of people could be satisified with a lesser known/maintained park, and this information is not clear from the presented data and figures. In addition, this plan only briefly mentions the money needed to fund the upgrade and maintaining of parks, and again looks at this from a wholistic viewpoint where they frame it as needing money to upgrade parks as a whole instead of perhaps distinguishing where it's more or less worthwhile to spend money on parks based on the responses of the local residents.\n",
    "\n",
    "Looking more closely at the second part of the question, which deals with the money allocated to different parks, it turns out that the City of San Diego also releases documents containing the budget for each year for their Parks and Recreation programs (2). Again however, the data provided in these budgets, for the most part, are very general. For example under department expenditures they they list \"Administrative Services\", \"Community Parks I and II\", \"Developed Regional Parks\" and \"Open Space\", and their combined budget is approximately \\$122 million, thus showcasing the general nature of the budget items. They occasionally mention more specific items such as \"New Facility - North Park Mini Park\", however these specific items are only listed when they're part of the \"Significant Budget Adjustments\", so there isn't a clear way to understand what the current costs are for specific parks, only the new changes. It's interesting to note that one of the \"Key Performance Indicators\" in this budget is the \"percentage of customer satisfaction with park system\" which is targeted at 91% for 2020.\n",
    "\n",
    "From this brief background research, we can see that there is interest in understanding public sentiment towards Parks and Recreation programs and services, while also looking at how to shape the Parks and Recreation budgets to maximize postitive public sentiment. It's clear that the general sentiment towards the San Diego Parks and Recreation program as a whole, as well as general fiscal habits and decisions of the program have been studied in detail, however it doesn't seem to be the case that people have studied the specific relationship between public sentiment of specific parks and the specific spending habit pertaining to the corresponding park.\n",
    "\n",
    "References (include links):\n",
    "- 1) https://www.sandiego.gov/complete-communities/parks-master-plan\n",
    "- 2) https://www.sandiego.gov/sites/default/files/fiscal_year_2020_parks_and_recreation_department_adopted_budget.pdf"
   ]
  },
  {
   "cell_type": "markdown",
   "metadata": {},
   "source": [
    "# Hypothesis\n"
   ]
  },
  {
   "cell_type": "markdown",
   "metadata": {},
   "source": [
    "I would hypothesize that in general, there is a positive correlation between the amount of positive public sentiment towards a certain park or program, and the amount of money spent maintaining and upgrading the corresponding park. While positive sentiment may not directly cause more money to be spent on parks, I believe that the accompanying behaviors such as more foot traffic and spending on nearby ammenities, and perhaps other factors as well, will cause government officials to recognizie the social and economic importance of the most popular parks and they will fund them appropriately. "
   ]
  },
  {
   "cell_type": "markdown",
   "metadata": {},
   "source": [
    "# Data"
   ]
  },
  {
   "cell_type": "markdown",
   "metadata": {},
   "source": [
    "The ideal dataset to answer this question would have two components. The first component would be data containing reviews of parks, preferably in the form of quantitative data, such as star reviews, or categorical data that can easily be converted to numerical data, such as data saying whether a person liked, or disliked the park, which could be easily encoded (binarized in this case). It would also be sufficient to have qualitative data such as written reviews, as from this qualitative sentiment can be extracted via machine learning methods. In addition, it would be important for this data to have a date/time associated with it, so that we can group the data such that the analysis can be done for specific time periods to avoid comparing reviews that might not be relevant to eachother due to changes in the parks that occur between these reviews.\n",
    "\n",
    "The second component of the dataset would ideally contain fiscal information and records for specific parks. As mentioned in the background work section, much of the available fiscal data for spending done by the San Diego Parks and Recreation system is very general and for the most part doesn't explain how their budget is divided between individual parks. Thus, having more granular data which shows the funding breakdown per park would be crucial in answering this question. At the very least it should explain the total funding received by each park as well as include the budget dates. This temporal data would also allow us to easily link budget changes to the sentiment of reviews and allow us to better understand the relationship between public sentiment and park spending, both in general, and also how this relationship has changed and developed over time. Anything more detailed than overall spending would be great, and allow for further analysis at how public sentiment relates to specific types of funding such as maintenance vs upgrades, and utilities vs advertisement, etc.\n",
    "\n",
    "Ideally for both components of the dataset, the data would be easily accessible in a tabular format, and would be indexed by dates. This would allow for easy querying and linking of data by date ranges, and in addition the tabular format of the review and budget data would allow for easy analysis with common python tools such as pandas, scipy, and sci-kit learn. In terms of amount of data, for the budget information, that doesn't really require observations, just for the budget data to be available and accessible. For the review data, obviously more would be better, but at a minimum I would hope for at least 10 reviews per park in order to have some statistical significance for the sentiment of reviews. In addition, it would be preferable if the reviews came from a representative sample of the population to get a better understanding of general public sentiment, perhaps through some sort of randomized survey. For example, if the data is found by scraping reviews off the internet, often times reviews are either very positive or negative, because otherwise people wouldn't normally leave reviews, so the data is inherently biased to come from a select part of the population which feels strongly about these parks."
   ]
  },
  {
   "cell_type": "markdown",
   "metadata": {},
   "source": [
    "# Ethics & Privacy"
   ]
  },
  {
   "cell_type": "markdown",
   "metadata": {},
   "source": [
    "First, looking at the budget data, all of it is public information released by the City of San Diego so there should be no concern with permissions and privacy. One possible problematic area is that there could be differences between budget numbers and actual spending figures which could affect the analysis. So in the case that the budget data is used, it might not reflect true spending, and in the case that spending data is used, it could potentially be biased by misreporting of spending information. I don't think there's a great way to handle the budget issue besides saying that the analysis is based on allocated spending rather than true spending, and then for the spending data case, it's very difficult to identify where human error might have been introduced, so perhaps the best strategy is to make it clear that tha analysis is based on the numbers provided by a reputable source but may not be 100% accurate due to human error.\n",
    "\n",
    "Now looking at the sentiment data, much of the ethics and privacy concerns depend on how this data is collected. If it's collected via scraping online reviews such as on google maps, all this information is public so there shouldn't be permission issues. Same thing if it's collected via survey, as people would have to voluntarily complete the survey. Either way though there might be privacy issues that must be accounted for, as this data likely would contain personal information, such as a name and picture of the reviewer in the case of many online reviews. In this case we would have to be sure to anonymize the data so this information is not used to bias the analysis, and also out of concern for people's privacy. Also, there are potential bias issues with the data which could affect the equitable treatment of the sentiment of different populations, since however the data is collected, it might not be representative of the general population of San Diego. Thus it could skew our results in trying to understand the general sentiment of the public by more heavily incorporating the views of some subset of the population. This problem was briefly described in the previous section as well. Potential remedies would be to adjust the data collection method such that it tries to remove this bias via random sampling of people to survey. In the case that the data collection method cannot be altered, an alternative strategy could be to implement a weighting system where reviews are given some sort of \"importance score\" which counteracts this bias and aims to equalize/normalize the importance of review sentiment from different populations. E.g. if we have a disproportionate amount of reviews from a certain segment of the population, we could decrease the weight of their reviews in our analysis (although this would require knowledge about the reviewers which would again likely need to be anonymized for privacy)."
   ]
  }
 ],
 "metadata": {
  "kernelspec": {
   "display_name": "Python 3",
   "language": "python",
   "name": "python3"
  },
  "language_info": {
   "codemirror_mode": {
    "name": "ipython",
    "version": 3
   },
   "file_extension": ".py",
   "mimetype": "text/x-python",
   "name": "python",
   "nbconvert_exporter": "python",
   "pygments_lexer": "ipython3",
   "version": "3.7.9"
  }
 },
 "nbformat": 4,
 "nbformat_minor": 4
}
