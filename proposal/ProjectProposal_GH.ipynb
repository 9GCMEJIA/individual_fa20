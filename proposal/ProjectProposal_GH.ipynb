{
 "cells": [
  {
   "cell_type": "markdown",
   "metadata": {},
   "source": [
    "# COGS 108 - Project Proposal"
   ]
  },
  {
   "cell_type": "markdown",
   "metadata": {},
   "source": [
    "# Names & GitHub ID\n",
    "\n",
    "- Name: Darius Azure\n",
    "- GitHub Username: MajorDarius"
   ]
  },
  {
   "cell_type": "markdown",
   "metadata": {},
   "source": [
    "# Research Question"
   ]
  },
  {
   "cell_type": "markdown",
   "metadata": {},
   "source": [
    "*Fill in your research question here* \n How much impact does funding for repairs and remodeling for San Diego parks have on attendance? If there is an impact does there need to be more funding?"
   ]
  },
  {
   "cell_type": "markdown",
   "metadata": {},
   "source": [
    "## Background and Prior Work"
   ]
  },
  {
   "cell_type": "markdown",
   "metadata": {},
   "source": [
    "*Fill in your background and prior work here. Be sure to specify which statements are from which references.* \n",
    "As the person in charge of auditing San Diego parks for the next 5 years I decided to look into the past to see previous issues. To start I looked up problems that were plaguing the San Diego area in general and found that one of the issues was lack of funding for remodeling [1]. From there I decided to look into if funding actually would lead to more attendance based on prior evidence throughout the years. From there I had to look into the list of parks within the San Diego area [2] in order to learn more specifics about parks. From there I had looked into if there was any type of funding records public which I found a 2017 plan [3] that detailed allocated funds to show some records did exist. \n",
    "\n",
    "In general the topic does not seem to be publicly addressed especially just within the San Diego area but has been looked at more of a California area in general[4]. As a result we have to take these observations made by all these different factors and try to combine them together to try to answer the various questions. A possible comparison would be the growth in attendance in areas like SeaWorld in San Diego that have financial growth among other factors that led to the increase of attendance[5]. So while there is not a direct comparison of attendance and funding that is specific there appears to be resources to combine the data ourselves and try to see the impact funding might have. \n",
    "References (include links):\n",
    "- 1)\n",
    "- 2)"
   ]
  },
  {
   "cell_type": "markdown",
   "metadata": {},
   "source": [
    "# Hypothesis\n"
   ]
  },
  {
   "cell_type": "markdown",
   "metadata": {},
   "source": [
    "*State and defend your hypotheses here.*"
   ]
  },
  {
   "cell_type": "markdown",
   "metadata": {},
   "source": [
    "# Data"
   ]
  },
  {
   "cell_type": "markdown",
   "metadata": {},
   "source": [
    "*Explain what the ideal dataset you would want to answer this question. (This should include: What variables? How many observations? Who/what/how would these data be collected? How would these data be stored/organized?)*"
   ]
  },
  {
   "cell_type": "markdown",
   "metadata": {},
   "source": [
    "# Ethics & Privacy"
   ]
  },
  {
   "cell_type": "markdown",
   "metadata": {},
   "source": [
    "*Fill in your ethics & privacy discussion here*"
   ]
  }
 ],
 "metadata": {
  "kernelspec": {
   "display_name": "Python 3",
   "language": "python",
   "name": "python3"
  },
  "language_info": {
   "codemirror_mode": {
    "name": "ipython",
    "version": 3
   },
   "file_extension": ".py",
   "mimetype": "text/x-python",
   "name": "python",
   "nbconvert_exporter": "python",
   "pygments_lexer": "ipython3",
   "version": "3.7.9"
  }
 },
 "nbformat": 4,
 "nbformat_minor": 2
}
