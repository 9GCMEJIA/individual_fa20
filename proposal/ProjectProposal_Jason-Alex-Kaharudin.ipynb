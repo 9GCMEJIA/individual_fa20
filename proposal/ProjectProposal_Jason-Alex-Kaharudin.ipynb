{
 "cells": [
  {
   "cell_type": "markdown",
   "metadata": {},
   "source": [
    "# COGS 108 - Project Proposal"
   ]
  },
  {
   "cell_type": "markdown",
   "metadata": {},
   "source": [
    "# Names & GitHub ID"
   ]
  },
  {
   "cell_type": "markdown",
   "metadata": {},
   "source": [
    "- Name: Jason Alexander Kaharudin\n",
    "- GitHub Username: Jason-Alex-Kaharudin"
   ]
  },
  {
   "cell_type": "markdown",
   "metadata": {},
   "source": [
    "# Research Question"
   ]
  },
  {
   "cell_type": "markdown",
   "metadata": {},
   "source": [
    "Which metric, improving park spending per resident(Investment) or improved access to parks(Access) has a stronger relationship to improved attitudes of residents towards parks?"
   ]
  },
  {
   "cell_type": "markdown",
   "metadata": {},
   "source": [
    "# Background and Prior Work"
   ]
  },
  {
   "cell_type": "markdown",
   "metadata": {},
   "source": [
    "Parks play a key role in the wellfare and wellbeing of people in a community. There are many studies that show that quality parks with good facilities provide numerous health benefits such as reductions in stress, lower blood pressue and improvements to overall fitness. The benefits also cross into the members of the community; world renowned parks known for their beauty such as Balboa Park represents a sense of pride and a positive perception of quality of life for the people in San Diego. \n",
    "\n",
    "With that said, San Diego's park system can be further improved. \"The Trust For Public Land\" ranks which cities in the United States have the best parks, ranking San Diego to be #18 for the year 2020 with Minneapolis currently holding the #1 spot. By looking at the top 5 parks, it is noticable that they have high scores in Access (the portion of residents within a 10-minute walking distance to a park) and Investment(park spending per resident). With this metric, we can narrow the area of focus for improvement by assessing the relationship between overall satisfaction of parks and improved park spending versus improved access. This would give a clear direction to improving San Diego's parks in the next 5 years.\n",
    "\n",
    "\n",
    "References (include links):\n",
    "- 1) https://recreation.eku.edu/importance-parks-and-recreation#:~:text=Parks%20and%20protected%20public%20lands,with%20nature%20and%20recreate%20outdoors\n",
    "\n",
    "- 2)https://www.tpl.org/city/san-diego-california\n",
    "\n",
    "- 3) https://sharpencx.com/blog/5-minute-customer-satisfaction-analysis/"
   ]
  },
  {
   "cell_type": "markdown",
   "metadata": {},
   "source": [
    "# Hypothesis"
   ]
  },
  {
   "cell_type": "markdown",
   "metadata": {},
   "source": [
    "Parks with high amounts of investments (park spending per resident in a city) are expected to have a stronger indicator to overall satisfaction as compared to high accessibility(the portion of residents within a 10-minute walk to a park). I speculate that an increased park spending per resident will allow for parks and recreation departments of respective cities to use the investment in improving amenities which will then improve satisfaction levels as compared to better access to parks. "
   ]
  },
  {
   "cell_type": "markdown",
   "metadata": {},
   "source": [
    "# Data"
   ]
  },
  {
   "cell_type": "markdown",
   "metadata": {},
   "source": [
    "The ideal dataset would show the factors influencing perceptions of parks within the United States. Factors such as accessibility of parks and different types of amenities would be ideal variables to measure against the perception of residents. The measurement of perception/attitudes would take the approach similar to that of customer satisfaction(CSAT) analysis. This will help us empirically measure perception/attitudes. Budget and expenditure of respective parks and recreation departments will also be useful in explaining the variable of the investment aspect. Ideally, 50 observations of these variables from the top 50 in the ParkScore ranking would help us identify what the top cities are doing right and not doing enough. The data would be in an organized csv file that can be easily processed into a data frame.  "
   ]
  },
  {
   "cell_type": "markdown",
   "metadata": {},
   "source": [
    "# Ethics & Privacy"
   ]
  },
  {
   "cell_type": "markdown",
   "metadata": {},
   "source": [
    "Budget and expenditure reports of respective parks and recreation departments will be public information. On the other hand, \n",
    "it is recognized that the data of people who participated in these surveys must be informed consent. Since location is an important part of the dataset, there is a risk of breaching privacy rules for participants in the dataset. As such, the data must be cleaned to be showing no names and telephone numbers, since we will be using their geographical location (neighbourhoods) for this analysis. Depending on the datase there might be some biases, thus a further analysis should be done to recognize these biases that may jepordize the integrity of the data.  \n",
    "\n"
   ]
  }
 ],
 "metadata": {
  "kernelspec": {
   "display_name": "Python 3",
   "language": "python",
   "name": "python3"
  },
  "language_info": {
   "codemirror_mode": {
    "name": "ipython",
    "version": 3
   },
   "file_extension": ".py",
   "mimetype": "text/x-python",
   "name": "python",
   "nbconvert_exporter": "python",
   "pygments_lexer": "ipython3",
   "version": "3.7.6"
  }
 },
 "nbformat": 4,
 "nbformat_minor": 4
}
