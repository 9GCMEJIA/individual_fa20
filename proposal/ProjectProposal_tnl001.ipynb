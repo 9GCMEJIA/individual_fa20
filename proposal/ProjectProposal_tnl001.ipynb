{
 "cells": [
  {
   "cell_type": "markdown",
   "metadata": {},
   "source": [
    "# COGS 108 - Project Proposal"
   ]
  },
  {
   "cell_type": "markdown",
   "metadata": {},
   "source": [
    "# Names & GitHub ID\n",
    "\n",
    "- Name: Tai Le\n",
    "- GitHub Username: tnl001"
   ]
  },
  {
   "cell_type": "markdown",
   "metadata": {},
   "source": [
    "# Research Question"
   ]
  },
  {
   "cell_type": "markdown",
   "metadata": {},
   "source": [
    "Is there a relationship between the crime rate, amount of hour of operation, and the revenue of San Diego's parks and recreation renters? In other words, does crime rate influence the hour of operation of San Diego's parks and recreation center, which in turn influence their revenue?"
   ]
  },
  {
   "cell_type": "markdown",
   "metadata": {},
   "source": [
    "## Background and Prior Work"
   ]
  },
  {
   "cell_type": "markdown",
   "metadata": {},
   "source": [
    "Around the end of the year 2019, there was a fatal shooting in the Linda Vista Community Park. A young man, at my age, was shot dead (1). This event further instilled the fear into the community where many prior violent crimes happened. Incidence like these certainly make people living around the area and those who regularly visit the park unease. Thus, we could reflect this on San Diego's parks and recreation centers in general. \n",
    "\n",
    "Parks and recreation centers receive their funding and revenue from various sources. Some of which are fees that is paid either by the users or by the renter of the park (3). For example, one of the revenue sources of Disney's theme parks is the ticket that is paid directly by the visitors (4).\n",
    "\n",
    "According to a similar study that was conducted by Oriol Marquet, PhD et al., the usage of parks is negatively influenced by the crime rate in that area. In the study, it shows that not only crime rate around the park influence the people visitting, but also crime rate around their living area and on the way to the park. This means that I should also account for the area surrounding the parks or recreation centers and not just the red zones alone. The study also made connection between these events to the physical and mental health of the people who visit the park and those who live around it (2). This is somewhat irrelevant to my research but it is good to be aware of the external effects that park's usage can have on public health.\n",
    "\n",
    "I didn't mentioned about which park this study used in its research because the authors conducted the study using a survey's report from many residents in an area. I found that it was difficult for me to find any information about the parks and recreation centers' response to crimes in the area.\n",
    "\n",
    "References (include links):\n",
    "- 1)https://www.nbcsandiego.com/news/local/one-person-injured-in-shooting-near-linda-vista-recreation-center/2091577/\n",
    "- 2)https://www.cdc.gov/pcd/issues/2020/19_0434.htm\n",
    "- 3)https://publicskateparkguide.org/fundraising/parks-revenue/\n",
    "- 4)https://disneyworld.disney.go.com/admission/tickets/"
   ]
  },
  {
   "cell_type": "markdown",
   "metadata": {},
   "source": [
    "# Hypothesis\n"
   ]
  },
  {
   "cell_type": "markdown",
   "metadata": {},
   "source": [
    "I hypothesize that there is a positive correlation between the crime rate and the amount of hour of operation of San Diego's parks and recreation centers. This influence thereby decreases the revenue of parks and recreation centers around areas of San Diego that have higher crime rate."
   ]
  },
  {
   "cell_type": "markdown",
   "metadata": {},
   "source": [
    "# Data"
   ]
  },
  {
   "cell_type": "markdown",
   "metadata": {},
   "source": [
    "The ideal dataset that I would want to answer this question would be:\n",
    "\n",
    "- A dataset that shows: \n",
    "    - 1) Name of each park and recreation center in San Diego. (qualitative)\n",
    "    \n",
    "    - 2) Name of the associated area (qualitative)\n",
    "    \n",
    "    - 3) Total amount of crime in that area (quantitative)\n",
    "    \n",
    "    - 4) Total amount of hour of operation (quantitative)\n",
    "    \n",
    "    - 5) Total revenue (quantitative)\n",
    "\n",
    "The data should be from 2019 or earlier for consistency reason because I could see how revenue was influenced by the COVID-19 pandemic. The dataset should have the amount of observations to be the total number of park and recreation centers in San Diego. There will be 5 variables which are described above, and each of them will be stored in a separate column. The names of the parks and recreation centers and their associated area could be collected by searching for a list of all area in San Diego. The amount of crime, operation hour, and revenue could be collected using the annual report from the San Diego Park Department. Ideally, I would want my dataset to be stored in a csv file. \n"
   ]
  },
  {
   "cell_type": "markdown",
   "metadata": {},
   "source": [
    "# Ethics & Privacy"
   ]
  },
  {
   "cell_type": "markdown",
   "metadata": {},
   "source": [
    "To my knowledge, most of these types of data are opened for access to the public. The only thing that I'm concern about for privacy is the total revenue of each park and recreation center in a year. That kind of data might be sensitive to a certain Park Department in San Diego as it might shows how the whole money process works in a park (For example, this data might be private for privately owned parks). Regard the ethical aspect, my research is aimed for increasing the revenue of parks and recreation centers as much as possible. If my hypothesis was true and I found a way to increase the hour of operation while maintaining the facility's safety, then the workers would have to work a little more than their usual hour. While this would ensure the safety of the parks' users, it would not guarantee the healthy environment for the workers. Thus, this is one of the major concerns for ethics that I have."
   ]
  }
 ],
 "metadata": {
  "kernelspec": {
   "display_name": "Python 3",
   "language": "python",
   "name": "python3"
  },
  "language_info": {
   "codemirror_mode": {
    "name": "ipython",
    "version": 3
   },
   "file_extension": ".py",
   "mimetype": "text/x-python",
   "name": "python",
   "nbconvert_exporter": "python",
   "pygments_lexer": "ipython3",
   "version": "3.8.3"
  }
 },
 "nbformat": 4,
 "nbformat_minor": 2
}
