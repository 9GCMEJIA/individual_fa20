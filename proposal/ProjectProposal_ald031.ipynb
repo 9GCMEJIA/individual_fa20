{
 "cells": [
  {
   "cell_type": "markdown",
   "metadata": {},
   "source": [
    "# COGS 108 - Project Proposal"
   ]
  },
  {
   "cell_type": "markdown",
   "metadata": {},
   "source": [
    "# Names & GitHub ID\n",
    "\n",
    "- Name: Allen Do\n",
    "- GitHub Username: ald031"
   ]
  },
  {
   "cell_type": "markdown",
   "metadata": {},
   "source": [
    "# Research Question"
   ]
  },
  {
   "cell_type": "markdown",
   "metadata": {},
   "source": [
    "What is the relationship between San Diego's current demographics and the frequency by which these demographics visit the park? \n",
    "\n",
    "What is the relationship between what the current park offers and what activities these demographics are interested in? \n",
    "\n",
    "What facilities or activities should San Diego parks focus on to maintain or attract more visitors?"
   ]
  },
  {
   "cell_type": "markdown",
   "metadata": {},
   "source": [
    "## Background and Prior Work"
   ]
  },
  {
   "cell_type": "markdown",
   "metadata": {},
   "source": [
    "*Fill in your background and prior work here. Be sure to specify which statements are from which references.*\n",
    "\n",
    "Various studies done by parks and recreation societies, government organizations, and enviromental or health focused research projects use the demographics of an area to help them assess whatever it is they are studying. Understanding who goes to a park and what is enjoyed there tends to be important in understanding how to improve, maintain, evalutate, or build a park. Most studies use demographics to understand the relationship between what is offered and what is used. \n",
    "\n",
    "\n",
    "Studies have found that a demographic is more likely to use a park if it offers a quality which is desired. \n",
    "(1) The first reference examines economic demographics and the frequency by which parks are visited to find that the main factors for a lack of park usage were due to concerns about safety and the number of programs which were offered at a park. \n",
    "(3) This survey by the National Recreation and Park Association uses demographical data to measure the activity by which Americans used their parks in 2018 to show their importance. It measured activities, access, funding, and general opinion on the importance of parks in order to illustrate how important parks are in the lives of Americans. However, it also showed what general qualities were important for general park goers. Park goers valued easy access to a park and access to specific activities. Most wanted to be in walking or driving distance to a park. The top reasons for visting parks were for family, friends, or nature related reasons. \n",
    "\n",
    "\n",
    "\n",
    "Using this same approach and data, we can find out what we need to put in San Diego parks to make it an integral part of the average San Diegan's life.(4)San Diego in fact already does this in how they outlined demographic material in their master plan for 2016. They go over the 2016 San Diego demographic makeup, projected demographic makeup, activity frequency, facility usage, and population density. Using this data they were able to find that walking and family gatherings were the most popular activity for parks. They also found that sightseeing and fishing were slowly growing in popularity. The population is projected to be comprised of more older people, and younger generations were less likely to use the park. They also found that the Hispanic population, which was projected to grow, was having trouble accessing facilities as there were none near their communities. San Diego further filtered demographics and trends for specific parks or areas that they were planning around. For example, they stated particular trends and suggestions in particular for the demographics around the foothills of the Cuyamaca Mountains for their Alpine Community Plan. They suggested adopting new activities and more aerobics classes for older people due to the projected population being older. They also suggested just adding more activities and programs in general due to a projected increase in overall population. \n",
    " \n",
    "\n",
    "References (include links):\n",
    "- 1)https://www.ncbi.nlm.nih.gov/pmc/articles/PMC3667219/\n",
    "- 2)https://www.nrpa.org/globalassets/engagement-survey-report-2018.pdf\n",
    "- 3)https://www.sandiegocounty.gov/content/dam/sdc/parks/CAPRA/2.0%20EXHIBITS/2.4A%20Master%20Plan.pdf\n",
    "\n"
   ]
  },
  {
   "cell_type": "markdown",
   "metadata": {},
   "source": [
    "# Hypothesis\n"
   ]
  },
  {
   "cell_type": "markdown",
   "metadata": {},
   "source": [
    "San Diego will probably find that it will need to focus on improving its parks for walking, families, nature related activities, and activities for an older population if the projected trends still hold for more recent data. I believe that the trends and demographical shifts that were predicted will still be in progress, and that the data provided or gathered recently will show this. The previous trends and demographics suggested that San Diego's population would only grow primarily older in the coming years. Projections suggested that the demographic comprised of under 18 years of age would shrink. Previous data suggested that the groups who go to parks and older folks really liked walking as an activity. In addition,\n",
    "San Diego was projected to still maintain a demographic of families who were regularly listed as a main demographic of its parks. Furthermore, San Diego is still somewhat marketed for its nature and prior demographical data indicated a continuing trend of increased interest in nature related activities such as sightseeing, bird watching, hiking, and fishing."
   ]
  },
  {
   "cell_type": "markdown",
   "metadata": {},
   "source": [
    "# Data"
   ]
  },
  {
   "cell_type": "markdown",
   "metadata": {},
   "source": [
    "*Explain what the ideal dataset you would want to answer this question. (This should include: What variables? How many observations? Who/what/how would these data be collected? How would these data be stored/organized?)*\n",
    "\n",
    "I would want a data set based on households, a dataset based on individuals, and a dataset based on park usage.\n",
    "I want individual and household data to get both varied specific and condensed general data on what people want in their parks. I would want park data to understand what the park offers and what users of a particular park use it for.\n",
    "\n",
    "The household data set would include the variables: number of people in the household, how many in the household go to the park, activities done, activities desired, income, method of getting to the park, ethnicity, facilities used at the park, park used. I would want roughly two hundred thousand observations which is around half the number of households in San Diego. This would be collected by a survey, or by data from the census. Some of the variables would have standardized choices while others would be a write in. The data would be ideally be stored in a csv.\n",
    "\n",
    "The individual data set would include the variables: age, sex, frequency by which they visit the park, days of the week they visit the park, whether they find a park accessible, activities done, activities desired, facilities used, income, ethnicity, park used, and level of satisfaction. I would want roughly seven hundred fifty thousand observations (half the population of San Diego) which would hopefully give me both a diverse range of individuals and enough data for the demographics I want to study. This would be collected by a survey, or by data from the census or San Diego county. Some of the variables would have standardized choices while others would be a write in. The data would ideally be stored in a csv.\n",
    "\n",
    "The park usage data set would include the variables: daily user usage count,  day of the week with the most average traffic for a park, number of park goers by season,  facilities offered at a park, frequency by which said specific facility is used, activities offered at a park, frequency by which said activity is done at a park, and a description of the demographic who goes to this park the most (Family, Individual, 60 years or older Individual). I would ideally want two hundred observations which would be about two-thirds of San Diego's parks. I would want those observations to encompass a wide area of San Diego. I would want to get this data from the Department of Parks and Recreation ideally. I would otherwise have to survey on a park by park basis which would be quite difficult. It would be stored as a csv ideally."
   ]
  },
  {
   "cell_type": "markdown",
   "metadata": {},
   "source": [
    "# Ethics & Privacy"
   ]
  },
  {
   "cell_type": "markdown",
   "metadata": {},
   "source": [
    "*Fill in your ethics & privacy discussion here*\n",
    "\n",
    "In terms of privacy the household and individual data would need to have all names erased in order to maintain privacy. This is especially important if they provide what park they use. The park usage data would hopefully already have names erased if it was collected and pre-processed by the Department of Parks and Recreation. If not, then names would need to be erased there too.\n",
    "\n",
    "In terms of ethics I would need to try to make sure that all three data sets survey a diverse set of households, individuals, and parks in order to mitigate bias. I would need to survey households in a variety of areas and communities to ensure that my data is not skewed to only certain types of households. I would need to survey individuals with different backgrounds in order to get a less skewed picture of what a park needs to have available for a San Diego resident. In addition, I would have to ensure that households and individuals who do the survey understand what their data is going to be used for. I would need to ensure that they understand that they can pull their information out of the study, and I need to make sure that the terms are easily understandable. The park usage data is hopefully cleaned public data. I would then just have to source and accurately analyze the data. I would have to consider possible biasses that came up in sourcing that data though. I would have to probably explain that in my analysis. If I am surveying for the park usage dataset, then I will have to survey in different areas of San Diego so that I can mitigate bias. I would not want to just survey parks in west San Diego."
   ]
  }
 ],
 "metadata": {
  "kernelspec": {
   "display_name": "Python 3",
   "language": "python",
   "name": "python3"
  },
  "language_info": {
   "codemirror_mode": {
    "name": "ipython",
    "version": 3
   },
   "file_extension": ".py",
   "mimetype": "text/x-python",
   "name": "python",
   "nbconvert_exporter": "python",
   "pygments_lexer": "ipython3",
   "version": "3.7.6"
  }
 },
 "nbformat": 4,
 "nbformat_minor": 2
}
