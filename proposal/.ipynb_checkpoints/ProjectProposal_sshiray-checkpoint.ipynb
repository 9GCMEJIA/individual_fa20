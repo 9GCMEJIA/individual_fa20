{
 "cells": [
  {
   "cell_type": "markdown",
   "metadata": {},
   "source": [
    "# COGS 108 - Project Proposal"
   ]
  },
  {
   "cell_type": "markdown",
   "metadata": {},
   "source": [
    "# Names & GitHub ID\n",
    "\n",
    "- Name: Sumeet Hiray\n",
    "- GitHub Username: sshiray"
   ]
  },
  {
   "cell_type": "markdown",
   "metadata": {},
   "source": [
    "# Research Question"
   ]
  },
  {
   "cell_type": "markdown",
   "metadata": {},
   "source": [
    "Does the implementation of artificial turf promote the usage of a public park year round in San Diego and does the boost in vistitation warrent the costs of implementation?"
   ]
  },
  {
   "cell_type": "markdown",
   "metadata": {},
   "source": [
    "## Background and Prior Work"
   ]
  },
  {
   "cell_type": "markdown",
   "metadata": {},
   "source": [
    "The city on San Diego provides information on guidelines for implementing synthetic turf in recreational parks, and within their report they talked about the benifits and rising demand for artificial turf. The article states that in the U.S there are currently 8,000 synthetic turf fields in use, and when the artical was created, in 2009, they expected and increase of 800 more fields. They also claimed the following to be advantages of using turf fields: resilient and level playing surfaces, no irragation needed, no mowing/tending needed, and year round no down time. Despite this they also claimed that the major disadvantage for implenting these fields are the installation costs.\n",
    "\n",
    "According to the 2018 unfunded park improvements, there were around 50 public parks which either wanted to install turf fields, or wanted to improve their current turf fields with better equipment/lighting or with fixes. Despite this the cost range for parks which wished to install new turf fields was documented at the E or F ranking, meaning anywhere from $500,000 to greater than $1,000,000. Despite the high cost of installing turf fields many parks wish to have them installed.\n",
    "\n",
    "References (include links):\n",
    "- 1) https://www.sandiego.gov/sites/default/files/legacy/park-and-recreation/pdf/parkdesign/11syntheticturfuseguidelinesreport.pdf\n",
    "- 2) https://www.sandiego.gov/sites/default/files/2018_unfunded_park_improvements_list.pdf"
   ]
  },
  {
   "cell_type": "markdown",
   "metadata": {},
   "source": [
    "# Hypothesis\n"
   ]
  },
  {
   "cell_type": "markdown",
   "metadata": {},
   "source": [
    "I think that the cost of installing a turf field is validated because it will yield increased usage in the long run. The reason for which I believe this is because maintaing a grassy field in San Diego also costs a lot since California is know for its droughts and hot weather. Thus a turf field would be able to maintain its pristine nature throughout the year, allowing for more use and less maintainence than a normal field."
   ]
  },
  {
   "cell_type": "markdown",
   "metadata": {},
   "source": [
    "# Data"
   ]
  },
  {
   "cell_type": "markdown",
   "metadata": {},
   "source": [
    "*Explain what the ideal dataset you would want to answer this question. (This should include: What variables? How many observations? Who/what/how would these data be collected? How would these data be stored/organized?)*\n",
    "\n",
    "An ideal data set would probably contain the following variables:\n",
    "Name of the park\n",
    "Average montly visitors\n",
    "Size of the park\n",
    "Field type\n",
    "Cost of instalation/maintainence\n",
    "\n",
    "Most of the data could be collected from public park records, for example the costs of installation, field type, size, and name of the park. Data on average monthly visitors for a park are sometimes availble on park websites. The information is fairly public since they are public parks partially maintained via taxes by the citizens.\n",
    "The data would be stored in a table with each row representing a park, and each collumn representing a variable."
   ]
  },
  {
   "cell_type": "markdown",
   "metadata": {},
   "source": [
    "# Ethics & Privacy"
   ]
  },
  {
   "cell_type": "markdown",
   "metadata": {},
   "source": [
    "*Fill in your ethics & privacy discussion here*\n",
    "Seeing as though most of the data is public information, we should be allowed to use it for research. It should be noted that the data collected is speficically from parks in San Diego, and thus any analysis that comes forth from this data research project, may not have relevence or connections to other regions. It should also be noted that the data collected in particular is data regarding the counts of current park visitors, and thus the project does not speak for the population of San Diego whom don't visit parks. In terms of privacy, since we do not collect any private information on park visitors there will be no problems in regards to the security of those we count as visiting a public park."
   ]
  },
  {
   "cell_type": "code",
   "execution_count": null,
   "metadata": {},
   "outputs": [],
   "source": []
  }
 ],
 "metadata": {
  "kernelspec": {
   "display_name": "Python 3",
   "language": "python",
   "name": "python3"
  },
  "language_info": {
   "codemirror_mode": {
    "name": "ipython",
    "version": 3
   },
   "file_extension": ".py",
   "mimetype": "text/x-python",
   "name": "python",
   "nbconvert_exporter": "python",
   "pygments_lexer": "ipython3",
   "version": "3.7.6"
  }
 },
 "nbformat": 4,
 "nbformat_minor": 2
}
