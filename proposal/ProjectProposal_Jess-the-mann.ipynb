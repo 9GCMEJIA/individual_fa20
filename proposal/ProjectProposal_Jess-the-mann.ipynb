{
 "cells": [
  {
   "cell_type": "markdown",
   "metadata": {},
   "source": [
    "# COGS 108 - Project Proposal"
   ]
  },
  {
   "cell_type": "markdown",
   "metadata": {},
   "source": [
    "# Names & GitHub ID\n",
    "\n",
    "- Name: Jaskirat Mann\n",
    "- GitHub Username: Jess-the-mann"
   ]
  },
  {
   "cell_type": "markdown",
   "metadata": {},
   "source": [
    "# Research Question"
   ]
  },
  {
   "cell_type": "markdown",
   "metadata": {},
   "source": [
    "What are the reasons someone goes to a San Diego park for? *OR*.  What motivates people in San Diego to go to the park?"
   ]
  },
  {
   "cell_type": "markdown",
   "metadata": {},
   "source": [
    "## Background and Prior Work"
   ]
  },
  {
   "cell_type": "markdown",
   "metadata": {},
   "source": [
    "The same question but more broad was asked by Source 1 in which they surveyed people about why they come to the park, and what they do there. They discovered the most popular reason people go to parks is to spend time with friends and family. This is followed by exercise and being physically active, and also being close with nature. A good number of people also come for some excitement and adventure, while a smaller amount comes to learn a skill or craft. Finally the least common is people bring their kids over to be taken care of. Secondly, it showed that most people once at the park go to the playground, dog park, or other open areas, and that they also prefer going on hikes.\n",

    "Source 2 talked about 6 reasons why parks matter for health, where they interviewed 6 leaders. The reasons were they: foster mental, physical and spiritual health, encourage physical health, advance health equity, help kids flourish, combat chronic disease and are needed for survival. These details are important as they come from people creatively involved in parks so they know the reason people come, why they should come, and what the parks purpose is in all that. Here, the answers to the question in source 1 are further reiterated as the leaders talk about how parks allow people to exercise, look at nature improving ones mental health, walk and cycle between places, create an oppertunity for kids to play, and spend time with others. These are all related to what park goers answered in the survey in source 1.\n",

    "References (include links):\n",
    "- 1)https://www.theparkcatalog.com/blog/survey-people-visit-parks-park-bench/\n",
    "- 2)https://www.rwjf.org/en/blog/2016/08/6_reasons_why_parks.html"
   ]
  },
  {
   "cell_type": "markdown",
   "metadata": {},
   "source": [
    "# Hypothesis\n"
   ]
  },
  {
   "cell_type": "markdown",
   "metadata": {},
   "source": [
    "*State and defend your hypotheses here.*"
   ]
  },
  {
   "cell_type": "markdown",
   "metadata": {},
   "source": [
    "# Data"
   ]
  },
  {
   "cell_type": "markdown",
   "metadata": {},
   "source": [
    "*Explain what the ideal dataset you would want to answer this question. (This should include: What variables? How many observations? Who/what/how would these data be collected? How would these data be stored/organized?)*"
   ]
  },
  {
   "cell_type": "markdown",
   "metadata": {},
   "source": [
    "# Ethics & Privacy"
   ]
  },
  {
   "cell_type": "markdown",
   "metadata": {},
   "source": [
    "*Fill in your ethics & privacy discussion here*"
   ]
  }
 ],
 "metadata": {
  "kernelspec": {
   "display_name": "Python 3",
   "language": "python",
   "name": "python3"
  },
  "language_info": {
   "codemirror_mode": {
    "name": "ipython",
    "version": 3
   },
   "file_extension": ".py",
   "mimetype": "text/x-python",
   "name": "python",
   "nbconvert_exporter": "python",
   "pygments_lexer": "ipython3",
   "version": "3.7.9"
  }
 },
 "nbformat": 4,
 "nbformat_minor": 2
}
