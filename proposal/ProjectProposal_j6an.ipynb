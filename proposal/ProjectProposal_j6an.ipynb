{
 "cells": [
  {
   "cell_type": "markdown",
   "metadata": {},
   "source": [
    "# COGS 108 - Project Proposal"
   ]
  },
  {
   "cell_type": "markdown",
   "metadata": {},
   "source": [
    "# Names & GitHub ID\n",
    "\n",
    "- Name: Jiyoung An\n",
    "- GitHub Username: j6an"
   ]
  },
  {
   "cell_type": "markdown",
   "metadata": {},
   "source": [
    "# Research Question"
   ]
  },
  {
   "cell_type": "markdown",
   "metadata": {},
   "source": [
    " How far away do San Diego residents with dogs are living from San Diego Parks?  \n",
    "How many more people who live close to San Diego Parks (within 5 miles) have dogs compared to those who do not have dogs? \n",
    "Also, are those parks well equipped with convenience for residents who walk dogs, like dog toilet bags, notice signs for dog walkers?"
   ]
  },
  {
   "cell_type": "markdown",
   "metadata": {},
   "source": [
    "## Background and Prior Work"
   ]
  },
  {
   "cell_type": "markdown",
   "metadata": {},
   "source": [
    " Before doing this, I first looked for a number of parks and population in Sandiego. According to SD goverment, there are 340 parks that are managed by San Diego Parks and Recreation(1). Also there are 1.426 million people in Sandiego in 2018(2). \n",
    " \n",
    " Worldwide, dogs have long been good companions for people. Over time, the number of people with companion animals is increasing. In 1995, among the residents of San Diego, the person who kept dogs was about 30.6%(3). I couldn't find the latest accurate data, but I expect it to be over 40% now.\n",
    " \n",
    " Also, in 2018, San Diego was ranked 3th in the U.S of pet-freindly city on the list of 100 metropolitan areas around the country; however, 17th in Dog parks per capita.(4)\n",
    "Based on these data, I want to analyze the distnace of San Diego parks and dog-owned houses. In addition, I will analyze how many San Diego parks have amenities for dog owners, and also analyze the population around those parks.\n",
    "\n",
    "References (include links):\n",
    "- 1)https://www.sandiego.gov/park-and-recreation/parks#:~:text=San%20Diego%20Parks%20and%20Recreation,Sunset%20Cliffs%20to%20La%20Jolla.\n",
    "- 2)https://www.census.gov/glossary/#term_Populationestimates\n",
    "- 3)http://www.theanimalcouncil.com/files/NPA_1995SanDiego.pdf\n",
    "- 4) https://www.10news.com/lifestyle/exploring-san-diego/san-diego-ranked-among-most-pet-friendly-cities-in-america"
   ]
  },
  {
   "cell_type": "markdown",
   "metadata": {},
   "source": [
    "# Hypothesis\n"
   ]
  },
  {
   "cell_type": "markdown",
   "metadata": {},
   "source": [
    "Near the San Diego parks, there are more people who own dogs than those who do not. Also, the more well-equipped parks for dogs, the more people who have dogs will live around that parks."
   ]
  },
  {
   "cell_type": "markdown",
   "metadata": {},
   "source": [
    "# Data"
   ]
  },
  {
   "cell_type": "markdown",
   "metadata": {},
   "source": [
    "*Explain what the ideal dataset you would want to answer this question. (This should include: What variables? How many observations? Who/what/how would these data be collected? How would these data be stored/organized?)*\n",
    "\n",
    "Variables: the id of the resident who owns the dog, the distance between the nearest park and the house, whether the park is for dogs, the number of walks with dogs per week\n",
    "\n",
    "Number of observations: \n",
    "- 1st ideal: The number of most recent San Diego residents who own a dog.\n",
    "- 2nd ideal: The number of those who live within 5 miles of a specific park (include people who do not have a dog)\n",
    "\n",
    "Such data should be collected from the census data. When doing the census, it should be collected by entering the address and checking whether there are dogs or not. Or, data that I want to get can be collected from animal license organization. These data are stored in government agencies and must be analyzed for various public purposes.\n",
    "\n",
    "There will be many limitations in finding the data that I mentioned above. So I thought of a similar concept and an alternative to infer the results. I thought the number of apartments close to San Diego parks that allow dogs is higher than apartments far from the parks. So, I will collect data on the living conditions of nearby apartments near San Diego parks."
   ]
  },
  {
   "cell_type": "markdown",
   "metadata": {},
   "source": [
    "# Ethics & Privacy"
   ]
  },
  {
   "cell_type": "markdown",
   "metadata": {},
   "source": [
    "First of all, the data used in the census must be thoroughly protected, so there are many limitations and difficulties in accessing it. That's why it's difficult to collect individual data (their address and whether they own a dog). \n",
    "So, I thought a lot about what data could infer similar results to that information.  It is to check whether or not apartments or houses around the park are allowed dog.\n",
    "The permission of growing the dog in the apartments is public and has no impact on privacy issues.\n",
    "\n",
    "Since this analysis is done only within the San Diego area, and is done in a few specific parks, it will be difficult to conclude that dog owners tend to live near parks. In addition, many people own cars in San Diego, so I think it is difficult for my data analysis to have an accurate purpose and probability, considering that it is not difficult to access the park with their dog even if they live far from the park."
   ]
  }
 ],
 "metadata": {
  "kernelspec": {
   "display_name": "Python 3",
   "language": "python",
   "name": "python3"
  },
  "language_info": {
   "codemirror_mode": {
    "name": "ipython",
    "version": 3
   },
   "file_extension": ".py",
   "mimetype": "text/x-python",
   "name": "python",
   "nbconvert_exporter": "python",
   "pygments_lexer": "ipython3",
   "version": "3.8.3"
  }
 },
 "nbformat": 4,
 "nbformat_minor": 2
}
