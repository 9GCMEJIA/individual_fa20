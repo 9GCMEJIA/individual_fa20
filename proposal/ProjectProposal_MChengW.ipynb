{
 "cells": [
  {
   "cell_type": "markdown",
   "metadata": {},
   "source": [
    "# COGS 108 - Project Proposal"
   ]
  },
  {
   "cell_type": "markdown",
   "metadata": {},
   "source": [
    "# Names & GitHub ID\n",
    "\n",
    "- Name: Mincheng Wang\n",
    "- GitHub Username: MChengW"
   ]
  },
  {
   "cell_type": "markdown",
   "metadata": {},
   "source": [
    "# Research Question"
   ]
  },
  {
   "cell_type": "markdown",
   "metadata": {},
   "source": [
    "Do well-developed open spaces in San Diego, such as regional parks, lakes, and beaches, boost the longevities of citizens surrounding them?"
   ]
  },
  {
   "cell_type": "markdown",
   "metadata": {},
   "source": [
    "## Background and Prior Work"
   ]
  },
  {
   "cell_type": "markdown",
   "metadata": {},
   "source": [
    "San Diego, with its great weather, miles of sandy beaches, and major attractions, is known worldwide as one of the best tourist destinations and a great place for residents to relax year round. It has 57 Recreation Centers, 13 Pools, 7 Skate Parks, and more than 340 parks and 25 miles of shoreline from Sunset Cliffs to La Jolla [1]. Many evidence propose that there might be a positive relationship between the accessibility to parks or recreation centers and the lifespans of people living around them. For example, natural plants, trees, or other greenry can help absorb harmful air pollution and disturbing noise [2]. In addition to physical health, having outdoor spaces can help people socialize, improving people's mental health[2]. What's more, research also shows that there is a lifespan difference in San Diego between the rich, who live near parks and recreation centers, and the poor. For instance, it found that the average life expectancy in Point Loma is three years longer than in City Heights[3]. And giving kids a safe place to skateboard helps them get some exercise while staying off sidewalks or away from the front of businesses. And helping the community build its own park helps residents gain the confidence to address long-standing environmental challenges[3].\n",
    "\n",
    "My study then will collect and analyze data to examine whether people who live near well-designed open spaces in San Diego tend to have better living standard and lifespans, focusing on the relationship between mortality rates and average time spent in outdoor activities.  \n",
    "\n",
    "References (include links):\n",
    "- 1)https://www.sandiego.gov/park-and-recreation/parks\n",
    "- 2)https://www.nbcnews.com/health/health-news/living-near-green-spaces-helps-you-live-longer-new-study-n556621\n",
    "- 3)https://inewsource.org/2017/04/10/san-diego-life-expectancy/"
   ]
  },
  {
   "cell_type": "markdown",
   "metadata": {},
   "source": [
    "# Hypothesis\n"
   ]
  },
  {
   "cell_type": "markdown",
   "metadata": {},
   "source": [
    "I hypothesize that there is a strong positive relation among San Diego's citizens between their average longevities and their average time spent in open spaces every week. In other words, the more often people do exercise, the heathier people can be."
   ]
  },
  {
   "cell_type": "markdown",
   "metadata": {},
   "source": [
    "# Data"
   ]
  },
  {
   "cell_type": "markdown",
   "metadata": {},
   "source": [
    "*Explain what the ideal dataset you would want to answer this question. (This should include: What variables? How many observations? Who/what/how would these data be collected? How would these data be stored/organized?)*\n",
    "\n",
    "The ideal dataset should include the information of each sampled San Diego's citizen's leisure time spent in parks per week, the number of well-developed parks near household of each sampled individual's, current ages of each sampled individual, mortality rates, happiness, and life satisfaction. Those data can be collected from Gerenal Social Survey, a personal interview survey providing politicians, policymakers, and scholars with a clear and unbiased perspective on what Americans think and feel. And they will be stored in the csv format. To analyze, data will be ploted in order to figure out whether a positive relation exists between citizens' living standards and tthe frequency of activites in parks."
   ]
  },
  {
   "cell_type": "markdown",
   "metadata": {},
   "source": [
    "# Ethics & Privacy"
   ]
  },
  {
   "cell_type": "markdown",
   "metadata": {},
   "source": [
    "Due to the data in this study include a lot of personal information, the unnecessary but private data, such as participants' names, participants' address, and anything that can identify them, will be removed for privacy reasons.However, information about parks or other recreation centers,for which doesn't involve in any ethical issues or privacy issues, will be retained in order for the result to be convincing. \n",
    "\n",
    "In addition, the data and results might be biased because it might not be able to investigate every single individual living in San Diego. And the results can not be applied to cities throughout the U.S. or even other countries. However, the general and the most obvious phenomenon can be concluded, and people can consider it as a reliable reference."
   ]
  }
 ],
 "metadata": {
  "kernelspec": {
   "display_name": "Python 3",
   "language": "python",
   "name": "python3"
  },
  "language_info": {
   "codemirror_mode": {
    "name": "ipython",
    "version": 3
   },
   "file_extension": ".py",
   "mimetype": "text/x-python",
   "name": "python",
   "nbconvert_exporter": "python",
   "pygments_lexer": "ipython3",
   "version": "3.8.3"
  }
 },
 "nbformat": 4,
 "nbformat_minor": 2
}
