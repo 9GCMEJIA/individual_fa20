{
 "cells": [
  {
   "cell_type": "markdown",
   "metadata": {},
   "source": [
    "# COGS 108 - Project Proposal"
   ]
  },
  {
   "cell_type": "markdown",
   "metadata": {},
   "source": [
    "# Names & GitHub ID\n",
    "\n",
    "- Name: Ji Su Song\n",
    "- GitHub Username: SJSJS0521"
   ]
  },
  {
   "cell_type": "markdown",
   "metadata": {},
   "source": [
    "# Research Question"
   ]
  },
  {
   "cell_type": "markdown",
   "metadata": {},
   "source": [
    "Does the number of visits to parks improve people’s health rates (obesity rates)? How effectively are the public facilities involved in park visitors’ physical activity levels?\n",
    " \n",
    "This data analysis will focus on the parks located in San Diego, California."
   ]
  },
  {
   "cell_type": "markdown",
   "metadata": {},
   "source": [
    "## Background and Prior Work"
   ]
  },
  {
   "cell_type": "markdown",
   "metadata": {},
   "source": [
    "It is predicted that by 2030, poor diets and the lack of physical activity will expose 10% of the population to being diagnosed with diabetes. The Centers for Disease Control and Prevention (CDC) identified that people could lower the rate of being diagnosed with type 2 diabetes through 2 hours of exercise a week.[1] Public parks and recreations provide the facilities and programs for people to become engaged in various physical activities and hold the potential for developing a healthier and fit neighborhood. \n",
    " \n",
    "In 2013, the National Recreation and Park Association (NRPA) began implementing the concept of “Park Prescriptions” to help people utilize public parks and programs to create a healthier community.[2] The communities the NRPA provided grants for began developing a connection between youths to recreation and fitness opportunities in public parks to improve obesity in youth in locations such as San Diego, California[2] and Milwaukee, Wisconsin[1]. These communities measured and observed the Body Mass Indexes (BMIs) of the children over time, and concluded that the programs have been successful in lowering the BMIs of the children and improved the perception of parks to the children as well.[2] Another research conducted in Winter 2014 bases its study on findings that physical activities help prevent several chronic illnesses to analyze park facility and physical activity levels in relationship to demographics in San Diego County Parks.[3] The study collects data through trained observers, who utilize SOPARC (System for Observing Play and Recreation in Communities), and concluded that physical activity of low-income communities were conducted heavily in public parks and its facilities such as tennis courts and baseball fields.[3]\n",
    " \n",
    "In an attempt to provide more information about the facilities in the public parks, the NRPA released a field report , which analyzes the various impacts of public parks to the community as well as an analysis of the percentages of the parks offering various facilities such as gyms, community centers, fitness centers, and more.[4] The report also identifies the popular programs offered by parks and recreation agencies along with the percent of agencies that hosts the events to raise awareness of the various programs people can expect to find and enjoy in their nearby parks.[4]\n",
    "\n",
    "References (include links):\n",
    "\n",
    "1)https://www.nrpa.org/contentassets/f768428a39aa4035ae55b2aaff372617/obesity.pdf\n",
    "\n",
    "2)https://www.nrpa.org/contentassets/f768428a39aa4035ae55b2aaff372617/final-prescribing-parks-for-better-health-success-stories.pdf\n",
    "\n",
    "3)https://www.researchgate.net/profile/Edwin_Gomez6/publication/270952346_Attitudes_about_urban_nature_parks_A_case_study_of_users_and_nonusers_in_Portland_Oregon/links/5d51722ea6fdcc370a8f95c8/Attitudes-about-urban-nature-parks-A-case-study-of-users-and-nonusers-in-Portland-Oregon.pdf#page=76\n",
    "\n",
    "4)https://www.nrpa.org/uploadedFiles/nrpa.org/Publications_and_Research/Research/Field-Report.pdf\n"
   ]
  },
  {
   "cell_type": "markdown",
   "metadata": {},
   "source": [
    "# Hypothesis\n"
   ]
  },
  {
   "cell_type": "markdown",
   "metadata": {},
   "source": [
    "I hypothesize that increased number of visits to parks improve people’s health rates and the overall obesity rates in the neighborhood. Park visitors who utilize public facilities will observe effective improvements in their health as they will conduct moderate to rigorous physical activity. However, I believe that most park visitors will choose not to conduct rigorous physical activity but choose to walk (low to moderate physical activity) instead, indicating that public facilities are not effective in improving people’s health rates. "
   ]
  },
  {
   "cell_type": "markdown",
   "metadata": {},
   "source": [
    "# Data"
   ]
  },
  {
   "cell_type": "markdown",
   "metadata": {},
   "source": [
    "The ideal dataset for this research would include information on the parks in San Diego, its visitors, health rates (in BMI), and public facilities. There are two datasets for this research: one to gather park user data and the other to gather park facilities use. The park user data set is composed of the identity of the park visitors, the park they visited, length of stay, and their health rate in BMI. The park facilities dataset is composed of the park facilities used and the physical activity level of the park users, as well as the duration of the facility used. \n",
    " \n",
    "Dataset 1: Park Users\n",
    "- User Identity\n",
    "- Park Visited\n",
    "- Duration of Stay in Park\n",
    "- Health Rate (BMI)\n",
    " \n",
    "Dataset 2: Park Facilities\n",
    "- Park Facility Used\n",
    "- Physical Activity level (low, moderate, rigorous)\n",
    "- Duration of Facility used\n",
    " \n",
    "Ideally, we would want the park usage and health rate data from all people in San Diego to standardize the health rates in relationship to park usage. However, as people may not all comply to have their data taken, it would be also sufficient to monitor and collect data from 10% of the San Diego population (154,000 people). The data analysis will be more concrete with more people monitored throughout the research. \n",
    " \n",
    "The data is randomly sampled from households in San Diego, so that it will incorporate data from both people who regularly visit the park and people who do not. The two different groups will be able to show the correlation between health effects and park visits. When the monitored people visit the park, they will record their time in the park as well as the facilities they utilized to help identify whether or not public facilities have an effective influence on park visitor's physical activity levels. Each time the visitors visit the park, they will also record their BMIs to show whether there is a relationship between park usage and health rates. "
   ]
  },
  {
   "cell_type": "markdown",
   "metadata": {},
   "source": [
    "# Ethics & Privacy"
   ]
  },
  {
   "cell_type": "markdown",
   "metadata": {},
   "source": [
    "A potential area for concern in terms of privacy is the personal information of the people observed for gathering BMI information. While the BMI information will be used for observation purposes, the names of the people participating in the research will be removed so that their identity would not be able to be matched with their BMIs. As the information privacy is related to individual participants, I did not remove the park identification, as they will be utilized to observe whether or not park facilities will have a significant effect on improving people’s health rates. \n",
    "\n",
    "The data for the research was given and collected with permission to use it for the purpose of research. There is potential bias in the data as the data is only conducted from one city in the United States. Taking data from one city could create ethnicity bias in the research as San Diego is one of the diverse ethnicity cities in the United States. To mitigate this bias, further research can be conducted in other locations in the United States to add to the sampling and diversity of the data. \n",
    "\n",
    "There are potential ethical issues in my analysis as the analysis is conducted for only one city. People may emphasize and take in the data and results collected as an effect generated from all parks around the United States. While this potential issue cannot be prevented, it can be attempted to be fixed by conducting additional research in other parks and recreations in the US to add more case studies to the research. "
   ]
  }
 ],
 "metadata": {
  "kernelspec": {
   "display_name": "Python 3",
   "language": "python",
   "name": "python3"
  },
  "language_info": {
   "codemirror_mode": {
    "name": "ipython",
    "version": 3
   },
   "file_extension": ".py",
   "mimetype": "text/x-python",
   "name": "python",
   "nbconvert_exporter": "python",
   "pygments_lexer": "ipython3",
   "version": "3.7.6"
  }
 },
 "nbformat": 4,
 "nbformat_minor": 2
}
