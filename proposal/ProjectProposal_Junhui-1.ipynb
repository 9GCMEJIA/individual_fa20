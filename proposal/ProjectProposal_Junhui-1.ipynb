{
 "cells": [
  {
   "cell_type": "markdown",
   "metadata": {},
   "source": [
    "# COGS 108 - Project Proposal"
   ]
  },
  {
   "cell_type": "markdown",
   "metadata": {},
   "source": [
    "# Names & GitHub ID\n",
    "\n",
    "- Name: Junhui Fan\n",
    "- GitHub Username: Junhui-1"
   ]
  },
  {
   "cell_type": "markdown",
   "metadata": {},
   "source": [
    "# Research Question"
   ]
  },
  {
   "cell_type": "markdown",
   "metadata": {},
   "source": [
    "Do park and recreation facilities need maintainance and/or upgrade? If so, what kind of facilities need maintainance and/or upgrade and how to maintainance and/or upgrade them?"
   ]
  },
  {
   "cell_type": "markdown",
   "metadata": {},
   "source": [
    "## Background and Prior Work"
   ]
  },
  {
   "cell_type": "markdown",
   "metadata": {},
   "source": [
    "Parks as public spaces are used to serve people for playing, relaxing, communicating and exercising. Since most San Diego parks have been built for a long time, their facilities, such as parking lots, irrigation system, park vehicles, lighting, drinking fountains and restrooms, may have declined and need maintenance and/or upgrade. The City of San Diego conducted surveys to San Diego residents and demonstrated that the residents express their willingness to upgrade parks and parks facilities (Parks Master Plan -- Needs + Priorities). Based on the consideration of facilities aging and resident feedback, it is reasonable to evaluate and check park facilities to determine which of them need maintenance and/or upgrade.   \n",
    "In addition to determine what parks and their facilities need maintenance and/or upgrade, the San Diego park system should "embrace opportunities to design and construct parks for greater efficiency and durability" (Parks Master Plan -- Existing Conditions Report). The mode of maintenance and/or upgrade should also focus on reducing future costs of maintenance and/or upgrade and conserving energy. For example, using smart water controller irrigation systems and LED lighting could reduce subsequent park expenditures and saving resources.   \n",
    "\n",
    "References (include links):\n",
    "- 1)\n",
    "- 2)"
   ]
  },
  {
   "cell_type": "markdown",
   "metadata": {},
   "source": [
    "# Hypothesis\n"
   ]
  },
  {
   "cell_type": "markdown",
   "metadata": {},
   "source": [
    "*State and defend your hypotheses here.*"
   ]
  },
  {
   "cell_type": "markdown",
   "metadata": {},
   "source": [
    "# Data"
   ]
  },
  {
   "cell_type": "markdown",
   "metadata": {},
   "source": [
    "*Explain what the ideal dataset you would want to answer this question. (This should include: What variables? How many observations? Who/what/how would these data be collected? How would these data be stored/organized?)*"
   ]
  },
  {
   "cell_type": "markdown",
   "metadata": {},
   "source": [
    "# Ethics & Privacy"
   ]
  },
  {
   "cell_type": "markdown",
   "metadata": {},
   "source": [
    "*Fill in your ethics & privacy discussion here*"
   ]
  }
 ],
 "metadata": {
  "kernelspec": {
   "display_name": "Python 3",
   "language": "python",
   "name": "python3"
  },
  "language_info": {
   "codemirror_mode": {
    "name": "ipython",
    "version": 3
   },
   "file_extension": ".py",
   "mimetype": "text/x-python",
   "name": "python",
   "nbconvert_exporter": "python",
   "pygments_lexer": "ipython3",
   "version": "3.7.9"
  }
 },
 "nbformat": 4,
 "nbformat_minor": 2
}
