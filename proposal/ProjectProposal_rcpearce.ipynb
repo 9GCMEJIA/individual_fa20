{
 "cells": [
  {
   "cell_type": "markdown",
   "metadata": {},
   "source": [
    "# COGS 108 - Individual Project Proposal\n",
    "\n",
    "\n",
    "## Name and GitHub Username\n",
    "\n",
    "Name: Rahul Pearce\n",
    "\n",
    "GitHub Username: rcpearce\n",
    "\n",
    "\n",
    "## Research Question\n",
    "Do nonwhite communities in San Diego County have the same access to parks with public restrooms or other amenities as white communities?\n",
    "\n",
    "\n",
    "## Background and Prior Work\n",
    "\n",
    "   Prior work addressing demographic impacts on park availability has shown that often, in conjunction with income, race plays a part in both the accessibility and quality of parks. Parks are often touted as places for communities to congregate, engage in recreational activities, host events, and appreciate nature. Because of the positive influence parks can have on communities, it seems imperative that everyone, independent of income or ethnicity, should have equal access to parks. Unfortunately, this may not be the case; in (1), researchers show that nonwhite communities in King County lack equal access: \"People of color and non-Seattle residents are least likely to have nearby access to parks, particularly in south King County. In Tukwila and Renton, less than half of the residents who live in majority-people of color neighborhoods live within a half mile of a park.\" (Page 4) \n",
    "   \n",
    "   In addition to distance and accessibility of parks, an equally important consideration is the quality of parks different communities have access to. Prior research has shown that for nonwhite communities, nearby parks are often smaller and more crowded, as well as lacking trees and foliage that decrease temperatures (2). The presence of amenities in a park show a commitment of the city or county government to upkeep quality and encourage traffic in a given park. Every community should receive the same level of commitment from the county government to providing access to good-quality parks.\n",
    "    \n",
    "1) Arakaki, Elena et al. June 2019 \"Connecting People to Parks in King County: A Transit-to-Parks GIS Analysis\" The Wilderness Society. https://www.wilderness.org/sites/default/files/media/file/Report-Transit%20to%20Parks%20King%20County.pdf\n",
    "\n",
    "2) The Heat Is On: A Trust for Public Land Special Report\n",
    "https://www.tpl.org/sites/default/files/The-Heat-is-on_A-Trust-for-Public-Land_special-report.pdf accessed 10/22/20\n",
    "\n",
    "\n",
    "## Hypothesis\n",
    "\n",
    "Based on previous literature, I hypothesize that San Diego County is not equally serving white and nonwhite communities and that investments should go toward building and improving parks in nonwhite communities. I hypothesize that nonwhite communities will not have as many parks with amenities reasonably close to them as white communities.\n",
    "\n",
    "\n",
    "## Data\n",
    "\n",
    "For this project I would need data about the amenities of parks in San Diego County, ideally in a table (data frame) with parks as observations and variables spanning various characteristics (ideally Yes/No for each variable). I would also need to know the locations of those parks. Next, I would need household demographic data, maybe collected through the census, about the predominant ethnic background of various communities within the county. The parks list would have hundreds of observations, the household data would have thousands.\n",
    "\n",
    "## Ethics and Privacy\n",
    "\n",
    "All data will be accessed through valid, existing sources. If the data is through the census, there are some biases that should be taken into account given disparate census responses across communities (likelihood of replying to the census can be affected by many factors). The purpose I would be using this data for is to make sure that park access and quality is consistent across different racial communities in the county. As the census is anonymous, there are no worries about exposing privacy in this study."
   ]
  },
  {
   "cell_type": "code",
   "execution_count": null,
   "metadata": {},
   "outputs": [],
   "source": []
  }
 ],
 "metadata": {
  "kernelspec": {
   "display_name": "Python 3",
   "language": "python",
   "name": "python3"
  },
  "language_info": {
   "codemirror_mode": {
    "name": "ipython",
    "version": 3
   },
   "file_extension": ".py",
   "mimetype": "text/x-python",
   "name": "python",
   "nbconvert_exporter": "python",
   "pygments_lexer": "ipython3",
   "version": "3.7.6"
  }
 },
 "nbformat": 4,
 "nbformat_minor": 4
}
