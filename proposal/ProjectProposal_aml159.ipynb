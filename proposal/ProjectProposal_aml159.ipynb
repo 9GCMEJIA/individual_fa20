{
 "cells": [
  {
   "cell_type": "markdown",
   "metadata": {},
   "source": [
    "# COGS 108 - Project Proposal"
   ]
  },
  {
   "cell_type": "markdown",
   "metadata": {},
   "source": [
    "# Names & GitHub ID\n",
    "\n",
    "- Name: Alexis Lee\n",
    "- GitHub Username: aml159"
   ]
  },
  {
   "cell_type": "markdown",
   "metadata": {},
   "source": [
    "# Research Question"
   ]
  },
  {
   "cell_type": "markdown",
   "metadata": {},
   "source": [
    "What facilities should be continued or added to provide services to the most people?"
   ]
  },
  {
   "cell_type": "markdown",
   "metadata": {},
   "source": [
    "## Background and Prior Work"
   ]
  },
  {
   "cell_type": "markdown",
   "metadata": {},
   "source": [
    "According to the National Recreation and Park Association, \"park and recreation agencies provide valuable, high-impact services that improve the lives of the people they serve.\" However, they talk about money being a limiting factor. Facilities that require the least amount of money to be put into them and/or can generate the most money, will allow for more or nicer facilities. The County of San Diego Parks Master Plan describes admission fees and parking fees as potential funding source that are currently \"in use or could be easily used.\" Based on the information provided by the County of San Diego Parks and Recreation, COVID has also restricted the services they can offer, as many things have had to close due to safety concerns. Some playgrounds, parks, preserves, day camps, nature centers are open. Some community centers and gyms are open with very limited capacity. Figuring out what facilities can overcome these obstacles will be important in offering services to the most people. \n",
    "\n",
    "While accessability is a big factor in the number of people that go to a facility, their popularity and benefit are as well. The City of San Diego's Draft Parks Master Plan says, \"beaches and shoreline parks and small pocket or neighborhood parks are among the highest priorities for residents.\" Facilties that both garner the most attraction and can accomodate the most people, will \"improve the lives of the people they serve\" the most and should have a focus in the next five years.\n",
    "\n",
    "References (include links):\n",
    "- 1) https://www.nrpa.org/contentassets/f768428a39aa4035ae55b2aaff372617/data-analysis-park-and-recreation.pdf\n",
    "\n",
    "- 2) \n",
    "https://www.sdparks.org/content/sdparks/en/news-events/news-stories/COVID-19Response.html.html\n",
    "\n",
    "- 3) https://www.sandiego.gov/sites/default/files/draft_parks_master_plan_screen_quality.pdf\n",
    "\n",
    "- 4)\n",
    "https://www.sandiego.gov/sites/default/files/fy20_24outlook.pdf\n",
    "\n",
    "- 5) https://www.sandiegocounty.gov/content/dam/sdc/parks/CAPRA/2.0%20EXHIBITS/2.4A%20Master%20Plan.pdf\n"
   ]
  },
  {
   "cell_type": "markdown",
   "metadata": {},
   "source": [
    "# Hypothesis\n"
   ]
  },
  {
   "cell_type": "markdown",
   "metadata": {},
   "source": [
    "The facilities that should be continued or added in the next five years are outdoor parks and beaches. This is because they are more likely than other facilities to remain open during the pandemic, can generate some funding from admission and parking fees, and are a bigger priority for residents. "
   ]
  },
  {
   "cell_type": "markdown",
   "metadata": {},
   "source": [
    "# Data"
   ]
  },
  {
   "cell_type": "markdown",
   "metadata": {},
   "source": [
    "Ideal datasets would be those related to the San Diego Parks and Recreation's financials. This would include observations on all of the facilities run by the Parks and Recreation in San Diego and the variables would be the name of the facility, location, type of facility, cost of operation and income generation. This data would be collected from financial records. Additional helpful datasets would be on which attractions are open during the pandemic. The observations would be all of the facilities run by the Parks and Recreation in San Diego and the variables would be the name of the facility, type of facility, indoor or outdoor, and whether they are open. This data would come from the city's records and laws. Surveys on what facilities residents want would be ideal. The important variables would be the type of facility, location, and what they would be willing to pay to go there. Having the facility admission/usage numbers would also help. The variables would be the name of the facility, location, type of facility, and participant's cost. "
   ]
  },
  {
   "cell_type": "markdown",
   "metadata": {},
   "source": [
    "# Ethics & Privacy"
   ]
  },
  {
   "cell_type": "markdown",
   "metadata": {},
   "source": [
    "The dataset with the biggest privacy issues would be the survey. After knowing that there were kn duplications, any private information should be removed before analysis. Additionally, it is important that the information and analysis is used responsibly, and that specialized programs that help protected groups are not affected."
   ]
  },
  {
   "cell_type": "code",
   "execution_count": null,
   "metadata": {},
   "outputs": [],
   "source": []
  }
 ],
 "metadata": {
  "kernelspec": {
   "display_name": "Python 3",
   "language": "python",
   "name": "python3"
  },
  "language_info": {
   "codemirror_mode": {
    "name": "ipython",
    "version": 3
   },
   "file_extension": ".py",
   "mimetype": "text/x-python",
   "name": "python",
   "nbconvert_exporter": "python",
   "pygments_lexer": "ipython3",
   "version": "3.7.6"
  }
 },
 "nbformat": 4,
 "nbformat_minor": 2
}
