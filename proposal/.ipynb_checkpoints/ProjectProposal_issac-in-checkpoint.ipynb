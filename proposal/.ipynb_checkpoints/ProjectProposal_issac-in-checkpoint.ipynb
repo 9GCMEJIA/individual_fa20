{
 "cells": [
  {
   "cell_type": "markdown",
   "metadata": {},
   "source": [
    "# COGS 108 - Project Proposal"
   ]
  },
  {
   "cell_type": "markdown",
   "metadata": {},
   "source": [
    "# Names & GitHub ID\n",
    "\n",
    "- Name: Issac In\n",
    "- GitHub Username: issac-in"
   ]
  },
  {
   "cell_type": "markdown",
   "metadata": {},
   "source": [
    "# Research Question"
   ]
  },
  {
   "cell_type": "markdown",
   "metadata": {},
   "source": [
    "What did the most recent audits on the city of San Diego's park system look into and advise the city to do, and how successfully were they implemented?"
   ]
  },
  {
   "cell_type": "markdown",
   "metadata": {},
   "source": [
    "## Background and Prior Work"
   ]
  },
  {
   "cell_type": "markdown",
   "metadata": {},
   "source": [
    "The type of audit on the City of San Diego's Park and Recreation department has been a performance audit, both in 2013, 2015, and 2017. The Office of the City Auditor is responsible for both audits, and states that performance audits are to \n",
    "   >\"provide objective analysis so that management and those charged with governance and oversight can use the information to improve program performance and operations, reduce costs, facilitate decision making by parties with responsibility to oversee or initiate corrective action, and contribute to public accountability\" $^{1}$\n",
    "   \n",
    "The format of all of the performance audits from 2013, 2015, and 2017 always follow the order of: (1) Results in Brief, (2) Background, (3) Audit Findings, (4) Conclusion, and (5) Recommendations.\n",
    "\n",
    "Something to note immediately from these most recent audits is that despite being all performance audits, they are all audits on different aspects of the San Diego's Park and Recreation department. The 2013 audit is on the department's playground maintenance program, the 2015 audit is on the department's golf operations, and the 2017 audit is on the department's maintenance operations. \n",
    "\n",
    "The 2013 audit looked into the augmentation of the department's playground maintenance efforts, as well as evaluation of the department's existing systems for training of maintenance staff on safety policies, evaluating maintenance goals, and tracking playground inventory. The advice given to the city was quite extensive in this report, but could be summated to: retraining maintenance staff to correctly input data, developing a rubric for playground repair necessity, and a call to take inventory of playground equipment and surfaces across all City Playgrounds. The conclude priority role for all recommendations was of the lowest class, priority class 3, which provides advice for improvement of operations.$^{2}$\n",
    "\n",
    "The 2015 audit investigated and concluded that there are several aspects of the department's golf operations that could be optimized to stay competitive business-wise. The five recommendations given to the Park and Recreation department was to:\n",
    "(1) Invest into & implement a replacement software system for reservations and point-of-sale\n",
    "(2) Track and systematically analyze voided transactions (and ensure a supervisor on the ground is approving all voided transactions)\n",
    "(3) Revise existing policy on cash discrepancy reports to be consistent with the city's cash discrepancy report policy.\n",
    "(4) Invest into & deploy an automated range ball machine for Mission Bay Golf Course\n",
    "(5) Think of a marketing & business development strategy to stay relevant and competitive, and implement it. It should be duly noted that the priority level of all recommendations in this audit was of priority class 2, which provides advice to combat existing costly operational inefficiency.$^{3}$\n",
    "\n",
    "The 2017 audit investigated into the maintenance operations of the department and the recommendations given revolved around the department's work order system called ManagerPlus, such as adding more trackable functions to the system, tracking work order completion times based off the ManagerPlus system, implementing a feedback feature on park maintenance that's open to the public, and use the feedback as a consideration point in the deployment of department staff on the ground.$^{4}$\n",
    "\n",
    "However, there was not any publicly available background information in regards to how successfully the advice given from performance audits was implemented. No follow-up audits seem to exist, which in of itself is intriguing. The absence of such information seems so peculiar and contrary to the Office of the City Auditor's definition of performance audits.\n",
    "\n",
    "#### References (include links):\n",
    "- 1) https://www.sandiego.gov/auditor/faq#whattypes\n",
    "\n",
    "- 2) https://www.sandiego.gov/sites/default/files/14-001_%20PlaygroundMaintenance.pdf\n",
    "\n",
    "- 3) https://www.sandiego.gov/sites/default/files/15-013_Golf_Division.pdf\n",
    "\n",
    "- 4) https://www.sandiego.gov/sites/default/files/18-009_park_and_rec_maintenance.pdf\n",
    "\n",
    "**Note:** Another important piece of background information is this visualization of the Parks and Recreation department hierarchy provided below:\n",
    "\n",
    "**URL:** https://www.sandiego.gov/sites/default/files/prorgchart.pdf"
   ]
  },
  {
   "cell_type": "markdown",
   "metadata": {},
   "source": [
    "# Hypothesis\n"
   ]
  },
  {
   "cell_type": "markdown",
   "metadata": {},
   "source": [
    "I hypothesize that recommendations to the City of San Diego's Park and Recreation that were suggested by the Office of the City Auditor and approved by the Park and Recreation Department did not lead to an improvement in the issues brought up by the performance audits.\n",
    "\n",
    "This is on the basis that there is no publicly available metric to measure the success of the implementations suggested by the auditor. The performance audits in 2013, 2015, and 2017 (with none found from 2019) all touch different aspects of the Park and Recreation, and none of them touched on how improvement could be measured. I believe that making suggestions without setting up standards to observe if they work leaves the recommendations ripe to inaction on the ground, since as long as the Office of the City Auditor classifies the Recommendations as a lower priority class, there is no dire need for the actions to be measurable post-suggestion of implementation."
   ]
  },
  {
   "cell_type": "markdown",
   "metadata": {},
   "source": [
    "# Data"
   ]
  },
  {
   "cell_type": "markdown",
   "metadata": {},
   "source": [
    "The ideal dataset would contain metrics that the Office of the City Auditor created to evaluate the effectiveness of certain parts of the Park and Recreation department - with information from before the recommendations, and information after the recommendations were implemented. It would also contain information on if the progression of the implementation of the recommendations, whether it was incomplete (and abandoned), WIP, or complete, so that it could be easily viewable if there was a hold-up in the implementation of mutually agreed upon recommendations between the Park and Recreation department & the Office of the City Auditor. It would also have variables addressing the time it takes for completion, the current time it has been worked on, estimated time to completion of suggested implementations. It would also have the qualitative data on the percentage of workers who submit inspection forms with a corresponding variable for accuracy scaled from 1-5 with 1 being useless and 5 being accurate with additional space for providing narrative-style feedback. This data would be collected by using existing systems in place such as the work order system, ManagerPlus, with the workers in the Park and Recreation department inputting in the data. \n",
    "\n",
    "The reason why this would be an ideal data-set would be because it would contain both qualitative and quantitative data of pre and post implementation of recommendations that were given by the Office of the City Auditor to the San Diego Parks & Recreation department in 2013, 2015, and 2017. Ultimately, just having any data to really work with to affirm that the implementations that were suggested and approved of actually translated into any significant benefits to the Parks & Recreation would be ideal. "
   ]
  },
  {
   "cell_type": "markdown",
   "metadata": {},
   "source": [
    "# Ethics & Privacy"
   ]
  },
  {
   "cell_type": "markdown",
   "metadata": {},
   "source": [
    "The data that would be gathered and utilized in the pursuit of my hypothesis and/or research question would be public domain, as it would the data would be collected by those working for the government in non-classified activities. Additionally this project proposal requires no personally identifiable information about the workers that would submit the information needed. Additionally any pre-requisite information gathered in the process of this project proposal has been all public domain and provided by the San Diego government website. The data itself could potentially be used in a misleading way, such as being manipulated for a political agenda to exaggerate the potential ineffectiveness of the Parks & Recreation department in San Diego, through deceptive and/or negligent analysis.\n",
    "\n",
    "Potential biases in an ideal dataset would not be possible, because an ideal dataset would be absent of such biases, even if it contained qualitative data. That said, in consideration of more realistic datasets, since some data would be qualitative, such as subjective interpretation of a quality-of-equipment rubric, there could be biased information from workers for a variety of reasons or even mis-usage of the existing data recording systems in order to get a faster response for assistance requests. In the off-chance I am given a dataset where the potential of the data being provided is impotent due to the mis-usage of the data-recording software being used by whoever collected the data, I would need to reconsider another research question and/or hypothesis that does not need to rely on that specific aspect of data. Generally speaking though, if there is any data that even potentially was gathered unethically or violated the privacy of persons, I would not use that data out of respect for persons."
   ]
  }
 ],
 "metadata": {
  "kernelspec": {
   "display_name": "Python 3",
   "language": "python",
   "name": "python3"
  },
  "language_info": {
   "codemirror_mode": {
    "name": "ipython",
    "version": 3
   },
   "file_extension": ".py",
   "mimetype": "text/x-python",
   "name": "python",
   "nbconvert_exporter": "python",
   "pygments_lexer": "ipython3",
   "version": "3.7.6"
  }
 },
 "nbformat": 4,
 "nbformat_minor": 2
}
