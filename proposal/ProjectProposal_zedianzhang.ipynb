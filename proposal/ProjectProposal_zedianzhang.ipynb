{
 "cells": [
  {
   "cell_type": "markdown",
   "metadata": {},
   "source": [
    "# COGS 108 - Project Proposal"
   ]
  },
  {
   "cell_type": "markdown",
   "metadata": {},
   "source": [
    "# Names & GitHub ID\n",
    "\n",
    "- Name: zedian zhang \n",
    "- GitHub Username: zedianzhang"
   ]
  },
  {
   "cell_type": "markdown",
   "metadata": {},
   "source": [
    "# Research Question"
   ]
  },
  {
   "cell_type": "markdown",
   "metadata": {},
   "source": [
    "Research Question: what is relationship between the location of parks and the number of visitor in San Diego?"
   ]
  },
  {
   "cell_type": "markdown",
   "metadata": {},
   "source": [
    "## Background and Prior Work"
   ]
  },
  {
   "cell_type": "markdown",
   "metadata": {},
   "source": [
    "As the visitation of parks increases significantly, but within that increase, there is great variation among individual parks.  Visitation has increased steeply to some of the most famous parks in the country. At present, the park has become the center of younger generations because of its location. social media plays an important role. It is easier to share photos of their journeys, promoting more followers to visit. This had become a trend among social media like youtube and Instagram.\n",
    "References (include links):\n",
    "- 1)https://www.doi.gov/ocl/national-parks-visitation"
   ]
  },
  {
   "cell_type": "markdown",
   "metadata": {},
   "source": [
    "# Hypothesis\n"
   ]
  },
  {
   "cell_type": "markdown",
   "metadata": {},
   "source": [
    "I hypothesis the number of post on social media among individual parks and the visitation has a positive relationship."
   ]
  },
  {
   "cell_type": "markdown",
   "metadata": {},
   "source": [
    "# Data"
   ]
  },
  {
   "cell_type": "markdown",
   "metadata": {},
   "source": [
    "the idea dataset would be the location of parks in San Diego and visitation. This helps in tracking the location of the individual parks. The most convenient data would be the post about individual parks on social media. This would give me a wat to determine the relationship between visitation and how popular each park "
   ]
  },
  {
   "cell_type": "markdown",
   "metadata": {},
   "source": [
    "# Ethics & Privacy"
   ]
  },
  {
   "cell_type": "markdown",
   "metadata": {},
   "source": [
    "I recognize that social media posts with a location tag reveal personal information. As such, any information which may be used to identify a specific person will be cleaned and not considered in the analysis. Variables that will be removed include username, birthday, telephone number, coordinates, and any other such information. "
   ]
  }
 ],
 "metadata": {
  "kernelspec": {
   "display_name": "Python 3",
   "language": "python",
   "name": "python3"
  },
  "language_info": {
   "codemirror_mode": {
    "name": "ipython",
    "version": 3
   },
   "file_extension": ".py",
   "mimetype": "text/x-python",
   "name": "python",
   "nbconvert_exporter": "python",
   "pygments_lexer": "ipython3",
   "version": "3.7.4"
  }
 },
 "nbformat": 4,
 "nbformat_minor": 2
}
