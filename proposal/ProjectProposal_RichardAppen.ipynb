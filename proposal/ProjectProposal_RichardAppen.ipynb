{
 "cells": [
  {
   "cell_type": "markdown",
   "metadata": {},
   "source": [
    "# COGS 108 - Project Proposal"
   ]
  },
  {
   "cell_type": "markdown",
   "metadata": {},
   "source": [
    "# Names & GitHub ID\n",
    "\n",
    "- Name: Richard Appen\n",
    "- GitHub Username: RichardAppen"
   ]
  },
  {
   "cell_type": "markdown",
   "metadata": {},
   "source": [
    "# Research Question"
   ]
  },
  {
   "cell_type": "markdown",
   "metadata": {},
   "source": [
    "What is the relationship between overall park ratings and park water consumption per acre in the parks of San Diego?"
   ]
  },
  {
   "cell_type": "markdown",
   "metadata": {},
   "source": [
    "## Background and Prior Work"
   ]
  },
  {
   "cell_type": "markdown",
   "metadata": {},
   "source": [
    "San Diego Parks obviously need a certain amount of water to sustain their parks, whether that be for keeping real grass alive, providing water fountains and bathroom facilities, building fountains, etc... Despite each individual park’s need for this water California is in a water crisis and the truth of the matter is that it is only getting worse, so we need to avoid wasting water (1). \n",
    "\n",
    "Some San Diego parks are liked more than others and just like any public service these parks can be ranked and given ratings by park goers on sites like Yelp, TripAdvisor, and to the park service itself. We can analyze these ratings to see which parks which parks are serving their purpose and which ones aren't. \n",
    "\n",
    "In a 2010 project the City of San Diego discussed reducing water consumption on its \"44,000-acre service area\" (2). An area that large is undisputedly using a large amount of water. For example, the department that uses the most water in Los Angeles is its parks and recreation department (4). Yet with no studies on individual park water consumption’s relation to park ratings we don't know if some individual parks are wasting or misusing their water. Take an example from the National Parks and Recreation department who found that some of their water conservation policies, although good on paper, ended up killing a significant amount of the park's trees (3). We could have similar problems in San Diego parks where a park with bad ratings is using a large amount of water compared to a park with good ratings. Since the job of a park is to serve the public if it has bad ratings there is no reason it can't adopt the good park's water conservation strategies or look into using better water policies because clearly its current water use is not paying off.  \n",
    "References (include links):\n",
    "- 1) http://watereconomics.ucsd.edu/cali_SD.html\n",
    "- 2) https://www.calsense.com/portfolio/san-diego-county-parks-achieve-conservation-goals/\n",
    "- 3) https://www.nrpa.org/contentassets/f768428a39aa4035ae55b2aaff372617/data-analysis-park-and-recreation.pdf\n",
    "- 4) https://www.nrpa.org/parks-recreation-magazine/2016/april/doubling-down-on-water-and-energy-conservation/\n",
    "\n"
   ]
  },
  {
   "cell_type": "markdown",
   "metadata": {},
   "source": [
    "# Hypothesis\n"
   ]
  },
  {
   "cell_type": "markdown",
   "metadata": {},
   "source": [
    "I hypothesize that there will be no correlation between individual park water consumption and each parks rating. The majority of San Diego parks are just following the city guidelines, but my research shows that water conservation needs to be designed on a case by case basis to develop a real working solution. Many rating systems show San Diego parks with no fountains rated just as high with San Diego parks whose main feature is fountains. This means some parks may be using more water than others yet not necessarily serving the public any better than a park that uses less water. We can take this information to have parks learn from each other water usage. "
   ]
  },
  {
   "cell_type": "markdown",
   "metadata": {},
   "source": [
    "# Data"
   ]
  },
  {
   "cell_type": "markdown",
   "metadata": {},
   "source": [
    "Ideal data set #1: Water consumption of each park in San Diego\n",
    "- Variables: Each San Diego park has corresponding: Water consumption per acre for each park, number of fountains, bathroom facilities, water fountains, and sprinkler systems for each park. \n",
    "- Storage: Preferably is a csv file where each row corresponds to each San Diego park and each column contains the above variables for that specific park (water consumption per acre, number of each amenity) \n",
    "- How many observations: Hopefully there would be at least 1 observation for every San Diego park: water consumption per acre, then as many other observations about the number of water using amenities as possible.\n",
    "\n",
    "\n",
    "Ideal data set #2: San Diego park ratings \n",
    "- Variables: Each San Diego park has corresponding: Park goer ratings of each park on a scale of 1-10, number of ratings\n",
    "- Storage: Preferably is a csv file where each row corresponds to each San Diego park and each column contains the parks ratings and the number of people who rated it\n",
    "- How many observations: Hopefully there would be 2 observations for every San Diego park, the park's ratings and how many people rated it.\n"
   ]
  },
  {
   "cell_type": "markdown",
   "metadata": {},
   "source": [
    "# Ethics & Privacy"
   ]
  },
  {
   "cell_type": "markdown",
   "metadata": {},
   "source": [
    "My data should not violate any privacy concerns amongst the general public. The ratings data is from public ratings as in this is data the users had put out into the public realm for others to see anyway. The analysis of the data will remove the park ratings from any reviewer’s info and just focus on the park ratings. The data about individual park's water consumption is data regarding a public government entity which arguably should always be public, but never-the-less does not infringe on anyone’s privacy considering it is just in reference to the parks water use not any specific user.\n",
    "\n",
    "The data could reflect a bias in reference to the question. It is possible some parks have higher water consumption because they are in higher income areas and funded more thus allowing for more luxury items like fountains. If they are well funded, they are likely to have other luxury items thus influencing their rating to be better. \n",
    "\n",
    "Another possible bias is the general bias that comes with ratings of anything. It’s possible the park goer ratings could be biased as many people could enjoy the park everyday but never write a review, but the few people who have a bad experience are very likely to write a review and voice their frustration.\n",
    "\n",
    "To handle the first possible bias the final conclusion and discussion of the project must present this information along with the results. If this bias exist we would expect a positive correlation between water consumption per acre and park ratings in which case it would be my responsibility to then do extra analysis on the locations of these higher rated parks and see if the majority are in fact in higher income areas to which I could then bring up this extra data in my conclusion as a possible (and likely) bias. \n",
    "\n",
    "The second bias will be harder to handle and the most I can do is mention its existence in the final conclusion.\n"
   ]
  },
  {
   "cell_type": "code",
   "execution_count": null,
   "metadata": {},
   "outputs": [],
   "source": []
  },
  {
   "cell_type": "code",
   "execution_count": null,
   "metadata": {},
   "outputs": [],
   "source": []
  }
 ],
 "metadata": {
  "kernelspec": {
   "display_name": "Python 3",
   "language": "python",
   "name": "python3"
  },
  "language_info": {
   "codemirror_mode": {
    "name": "ipython",
    "version": 3
   },
   "file_extension": ".py",
   "mimetype": "text/x-python",
   "name": "python",
   "nbconvert_exporter": "python",
   "pygments_lexer": "ipython3",
   "version": "3.7.6"
  }
 },
 "nbformat": 4,
 "nbformat_minor": 2
}
