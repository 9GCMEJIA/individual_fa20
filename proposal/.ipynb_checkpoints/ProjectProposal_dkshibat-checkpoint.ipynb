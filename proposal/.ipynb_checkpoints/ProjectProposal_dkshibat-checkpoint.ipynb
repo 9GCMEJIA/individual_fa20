{
 "cells": [
  {
   "cell_type": "markdown",
   "metadata": {},
   "source": [
    "# COGS 108 - Project Proposal"
   ]
  },
  {
   "cell_type": "markdown",
   "metadata": {},
   "source": [
    "# Names & GitHub ID\n",
    "\n",
    "- Name: Derek Shibata\n",
    "- GitHub Username: dkshibat"
   ]
  },
  {
   "cell_type": "markdown",
   "metadata": {},
   "source": [
    "# Research Question"
   ]
  },
  {
   "cell_type": "markdown",
   "metadata": {},
   "source": [
    "How do people view dog parks/beaches as compared to those not specifically designated as dog parks/beaches? Are dog parks/beaches necessary in addition to regular parks? Why or why not?"
   ]
  },
  {
   "cell_type": "markdown",
   "metadata": {},
   "source": [
    "## Background and Prior Work"
   ]
  },
  {
   "cell_type": "markdown",
   "metadata": {},
   "source": [
    "In San Diego, there are 17 leash-free dog parks where dogs are free to roam around without being on-leash when they are within the boundaries of those areas. In addition, dogs are allowed on all beaches in the early morning and later evening (ref 1). Dog parks originated in 1979 in Berkeley, CA with Ohlone Dog Park being the first one (ref 2). They have quickly risen in popularity since, but how helpful are they, and how does the public view them?\n",
    "\n",
    "An article from Hyung-sook Lee, Mardelle Shepley, and Chang-Shan Huang attempts to answer this question and related questions regarding dog parks, specifically those in Texas and Florida. They ultimately came to the conclusion that dog parks are important to a wide variety of people and dogs for a multitude of reasons, and should thus be included when planning communities and parks.\n",
    "\n",
    "\n",
    "References (include links):\n",
    "- 1)https://www.sandiego.gov/park-and-recreation/parks/dogs\n",
    "- 2)https://www.nytimes.com/2020/02/06/smarter-living/the-dog-park-is-bad-actually.html\n",
    "- 3)https://www.sciencedirect.com/science/article/pii/S0169204609001030?casa_token=1d2eac0m25UAAAAA:3mJ9bhIIBAAgXwe48ju90Q7GiCgbosaPNo4a12k9mFjsgiTx5nrYC8k_JviElz81yq6HHAGfNeXM"
   ]
  },
  {
   "cell_type": "markdown",
   "metadata": {},
   "source": [
    "# Hypothesis\n"
   ]
  },
  {
   "cell_type": "markdown",
   "metadata": {},
   "source": [
    "I believe that dog parks are essential to the park system and to the growing number of households that own dogs. They give great benefits to both dogs and their owners as well as strengthen the communities they reside in."
   ]
  },
  {
   "cell_type": "markdown",
   "metadata": {},
   "source": [
    "# Data"
   ]
  },
  {
   "cell_type": "markdown",
   "metadata": {},
   "source": [
    "The dataset I would ideally use would contain data about attendance of dog parks such as a yearly average of how many dogs visit any given dog park, a daily average of how many visit any given dog park, how often a dog-owning household visits a dog park, etc. This data could be stored in a csv or a database, which would likely be controlled by the government."
   ]
  },
  {
   "cell_type": "markdown",
   "metadata": {},
   "source": [
    "# Ethics & Privacy"
   ]
  },
  {
   "cell_type": "markdown",
   "metadata": {},
   "source": [
    "The main ethical concern for such a question is getting the approval of those who answered questions to fill in the dataset. If any of those subjects were to rescind their permission to use the data in my research, I would have to remove all their data from the dataset and also make sure that all models were remade without that datapoint in the set. I would also need to have permission from wherever I am getting the data, which is likely a researcher that has already done research on a similar topic or from the government, which might have already done inquiries on related subjects.\n",
    "\n",
    "Some potential biases could be from the fact that I am only getting data from dog-owners. In order to combat this bias, I would likely need to find a way to incorporate non-dog owners into my data. If I did not do this, the biases that come from dog-owners and the answers they have might affect my data. For instance, households that own dogs might go on more walks than those without dogs."
   ]
  },
  {
   "cell_type": "code",
   "execution_count": null,
   "metadata": {},
   "outputs": [],
   "source": []
  }
 ],
 "metadata": {
  "kernelspec": {
   "display_name": "Python 3",
   "language": "python",
   "name": "python3"
  },
  "language_info": {
   "codemirror_mode": {
    "name": "ipython",
    "version": 3
   },
   "file_extension": ".py",
   "mimetype": "text/x-python",
   "name": "python",
   "nbconvert_exporter": "python",
   "pygments_lexer": "ipython3",
   "version": "3.7.3"
  }
 },
 "nbformat": 4,
 "nbformat_minor": 2
}
