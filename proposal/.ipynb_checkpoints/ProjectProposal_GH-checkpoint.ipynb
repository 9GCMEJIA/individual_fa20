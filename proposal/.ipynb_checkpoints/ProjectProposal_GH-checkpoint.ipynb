{
 "cells": [
  {
   "cell_type": "markdown",
   "metadata": {},
   "source": [
    "# COGS 108 - Project Proposal"
   ]
  },
  {
   "cell_type": "markdown",
   "metadata": {},
   "source": [
    "# Names & GitHub ID\n",
    "\n",
    "- Name: Emily Wu\n",
    "- GitHub Username: emilyywu"
   ]
  },
  {
   "cell_type": "markdown",
   "metadata": {},
   "source": [
    "# Research Question"
   ]
  },
  {
   "cell_type": "markdown",
   "metadata": {},
   "source": [
    "How can we study the current placement of parks in San Diego to  choose new park locations over the next 5 years that will improve the physical and mental health of San Diegans? Which communities in San Diego would benefit most from the establishment of new parks?\n"
   ]
  },
  {
   "cell_type": "markdown",
   "metadata": {},
   "source": [
    "## Background and Prior Work"
   ]
  },
  {
   "cell_type": "markdown",
   "metadata": {},
   "source": [
    "Due to stressful lives and the way many U.S. cities are planned with cars in mind, many people may not even realize the extent of the benefits that can come with spending time in parks and in green space. Many studies have been conducted that demonstrate how access to green space can greatly improve one’s health. A report from the World Health Organization Regional Office for Europe found that participants’ physical health improved by reducing morbidity and preventing early mortality as green spaces alleviate stress, encourage physical activity and social interaction, and provide an escape from the air pollution and noise of urban living (1). Another study published in The British Journal of Psychiatry found that green space and parks can also improve eating and sleeping habits and that people reported feeling less mental distress, anxiety, and depression and simply healthier overall (2). \n",
    " \n",
    "Despite the demonstrated relationship between green space and health, a 2020 report from the San Diego Foundation states that although there is an abundance of green space within the county, many areas that are lower income or that have higher racial or ethnic diversity do not have a park that is easily accessible to them (3). If the San Diego park system could be designed with the myriad of physical and mental health benefits in mind, parks could be utilized as a tool in enhancing public health for all San Diego residents.\n",
    "\n",
    "References (include links):\n",
    "- 1) https://www.euro.who.int/en/health-topics/environment-and-health/urban-health/publications/2016/urban-green-spaces-and-health-a-review-of-evidence-2016#:~:text=Urban%20green%20spaces%2C%20such%20as,and%20reducing%20exposure%20to%20air \n",
    "- 2) https://www.ncbi.nlm.nih.gov/pmc/articles/PMC5663018/ \n",
    "- 3) https://www.sdfoundation.org/wp-content/uploads/2020/09/TSDF-Parks-for-Everyone-2-Report.pdf "
   ]
  },
  {
   "cell_type": "markdown",
   "metadata": {},
   "source": [
    "# Hypothesis\n"
   ]
  },
  {
   "cell_type": "markdown",
   "metadata": {},
   "source": [
    "I hypothesize that communities with a higher median income will have more parks than lower income communities currently. Lower income communities with greater racial diversity are likely to have the least number of parks in comparison to other areas throughout San Diego and could benefit most from the various physical and mental benefits associated with the establishment of new parks."
   ]
  },
  {
   "cell_type": "markdown",
   "metadata": {},
   "source": [
    "# Data"
   ]
  },
  {
   "cell_type": "markdown",
   "metadata": {},
   "source": [
    "The ideal dataset would be a csv file with as many observations as the number of parks in San Diego so as to include all parks in the county. Ideal variables in the dataset would be the name of park, zip code, median household income, and columns indicating the percentage of individuals of each race category (White, Black/African American, American Indian/Alaska Native, Asian, Hispanic/Latino and Native Hawaiian/Other Pacific Islander) by zip code . The data about the parks and their locations could be collected by the San Diego Parks and Recreation department. Data for median household income and race would be collected from the U.S. Census Bureau. \n"
   ]
  },
  {
   "cell_type": "markdown",
   "metadata": {},
   "source": [
    "# Ethics & Privacy"
   ]
  },
  {
   "cell_type": "markdown",
   "metadata": {},
   "source": [
    "The data about park names and zip codes are public information. Similarly, the data I would use regarding median household income and race percentages by zip code are also publicly available and do not contain any personally identifiable information about individuals or individual households. A potential bias would be that the median household income and race percentage data would be collected through the U.S. Census Bureau and it is possible that not all households responded and the data may not be completely accurate. I would include a statement in my project to be transparent about this potential discrepancy. "
   ]
  }
 ],
 "metadata": {
  "kernelspec": {
   "display_name": "Python 3",
   "language": "python",
   "name": "python3"
  },
  "language_info": {
   "codemirror_mode": {
    "name": "ipython",
    "version": 3
   },
   "file_extension": ".py",
   "mimetype": "text/x-python",
   "name": "python",
   "nbconvert_exporter": "python",
   "pygments_lexer": "ipython3",
   "version": "3.8.3"
  }
 },
 "nbformat": 4,
 "nbformat_minor": 2
}
