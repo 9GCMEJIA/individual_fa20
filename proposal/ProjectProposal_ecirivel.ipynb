{
 "cells": [
  {
   "cell_type": "markdown",
   "metadata": {},
   "source": [
    "# COGS 108 - Project Proposal"
   ]
  },
  {
   "cell_type": "markdown",
   "metadata": {},
   "source": [
    "# Names & GitHub ID\n",
    "\n",
    "- Name: Elizabeth Cirivello\n",
    "- GitHub Username: ecirivel"
   ]
  },
  {
   "cell_type": "markdown",
   "metadata": {},
   "source": [
    "# Research Question"
   ]
  },
  {
   "cell_type": "markdown",
   "metadata": {},
   "source": [
    "How do features/attractions relate to user engagement with San Diego parks?"
   ]
  },
  {
   "cell_type": "markdown",
   "metadata": {},
   "source": [
    "## Background and Prior Work"
   ]
  },
  {
   "cell_type": "markdown",
   "metadata": {},
   "source": [
    "The San Diego Parks and Recreation Department maintains over 40,000 acres of land including 400 parks. The parks within the department are all different sizes and offer different attractions. Some of the potential attractions are: pools, golf courses, hiking trails, scenic views, beaches, gardens, playgrounds, and open areas. The number of people who uses these parks is incredibly high. For example Balboa Park, one of the largest parks in the city, estimates 28 million total unique visits a year. In an effort to better understand what draws the public to the parks, research has been conducted by the department and through audits of the department. \n",
    "In 2016, the County of San Diego released the Parks Master Plan. It used various trends and analysis to determine the growth and direction of the park service in the future similar to the analysis we plan to complete. They looked at the demographics and found that there was a higher number of old people and should design parks with them in mind. They also looked at density trends to find where to increase park offerings and activities. Our research will continue to expand on findings such as these. in 2017, the San Diego Parks and Recreation system was audited to try to improve their maintenance department. They took satisfaction surveys from guests to determine what needed to be improved in the parks by maintenance. This analysis will hopefully contribute to our understanding of user satisfaction with the parks.\n",
    "References (include links):\n",
    "- 1) County of San Diego Parks Master Plan - 2016 (https://www.sandiegocounty.gov/content/dam/sdc/parks/CAPRA/2.0%20EXHIBITS/2.4A%20Master%20Plan.pdf)\n",
    "- 2) Performance Audit of the Parks and Recreation Department's Maintenence Operations - 2017 (https://www.sandiego.gov/sites/default/files/18-009_park_and_rec_maintenance.pdf)"
   ]
  },
  {
   "cell_type": "markdown",
   "metadata": {},
   "source": [
    "# Hypothesis\n"
   ]
  },
  {
   "cell_type": "markdown",
   "metadata": {},
   "source": [
    "The more features/attractions the park has the more popular and trafficked the park will be. If there is more for someone to do at a location, they would be more inclined to go there."
   ]
  },
  {
   "cell_type": "markdown",
   "metadata": {},
   "source": [
    "# Data"
   ]
  },
  {
   "cell_type": "markdown",
   "metadata": {},
   "source": [
    "The ideal dataset would contain feedback from each park user from the past 5 years through a satisfaction survey taken at the conclusion of trip to the park. The survey would ask what drew the user to use the park, what feature/activity they used/completed in the park, satisfaction with feature/activity. The survey could also contain a free response section asking if they wish the park offered something else, what they were dissastified with in the park, and why they chose this park. The categorical questions could be coded for easy use, maybe a 1-5 system, while the free responses would be combined through common themes and then coded accordingly. A secod helpful data set would be from the general San Diego population. An anonymous survey could be sent to residents where there are asked about they're satisfaction with the current parks and what they have to offer. Similar in format to the previous survey, asking questions that will get at their current level of park engagment and why they do or don't interact with the parks. Utlimately this data could be combined and stored together to have a full view of how San Diego inhabitants feel about their park system. "
    ]
  },
  {
   "cell_type": "markdown",
   "metadata": {},
   "source": [
    "# Ethics & Privacy"
   ]
  },
  {
   "cell_type": "markdown",
   "metadata": {},
   "source": [
    "I will have permission to use this data for my purpose since it is a big reason why satsifaction data would be collected. San Diego Parks and Recreation may need to approve my use since it may not be publicly available and I will have to look for it. In terms of privacy it will be important to anonymize the data if any personal information has been included for any reason. Each observation can be a given and ranomized id to protect privacy of participants. My ideal data set may provide bias since it is more common for people who are dissastified with a service to leave a review or comment. However, I believe this is combatted by the fact that all citizens have responded regardless of park use. "
   ]
  }
 ],
 "metadata": {
  "kernelspec": {
   "display_name": "Python 3",
   "language": "python",
   "name": "python3"
  },
  "language_info": {
   "codemirror_mode": {
    "name": "ipython",
    "version": 3
   },
   "file_extension": ".py",
   "mimetype": "text/x-python",
   "name": "python",
   "nbconvert_exporter": "python",
   "pygments_lexer": "ipython3",
   "version": "3.7.9"
  }
 },
 "nbformat": 4,
 "nbformat_minor": 2
}
