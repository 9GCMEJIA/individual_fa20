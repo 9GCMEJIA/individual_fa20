{
 "cells": [
  {
   "cell_type": "markdown",
   "metadata": {},
   "source": [
    "# COGS 108 - Project Proposal"
   ]
  },
  {
   "cell_type": "markdown",
   "metadata": {},
   "source": [
    "# Names & GitHub ID\n",
    "\n",
    "- Name: Nathan James Basa\n",
    "- GitHub Username: jamesbasa"
   ]
  },
  {
   "cell_type": "markdown",
   "metadata": {},
   "source": [
    "# Research Question"
   ]
  },
  {
   "source": [
    "Is there a relation between the existence of a certain amenity or combination of amenities (e.g. basketball courts, soccer fields, playgrounds, etc.) and the amount of people who visit each park in San Diego? Is there a relation between the existence of a certain amenity or combination of amenities (e.g. either basketball courts, soccer fields, playgrounds, etc.) and the review ratings of each park in San Diego? If so, which are strongly related to more/less visitors or higher/lower review ratings?"
   ],
   "cell_type": "markdown",
   "metadata": {}
  },
  {
   "cell_type": "markdown",
   "metadata": {},
   "source": [
    "## Background and Prior Work"
   ]
  },
  {
   "cell_type": "markdown",
   "metadata": {},
   "source": [
    "My research question revolves around the relationship between usage and favorability of public parks and park amenities. In order to become familiar with this corresponding topic, I researched articles that touch on the impact of amenities on public park perception and popularity. RAND Corporation's study of public parks found that \"parks with walking loops had 80 percent more users compared to those without loops\" (1). This stemmed from seniors using the parks more often and resulted in visitors engaging in more physical activity.\n",
    "\n",
    "The benefits of certain facilities are detailed in another article on Community Tool Box's website. Good facilities \"contribute to the general quality of life in the community...instill a sense of ownership and community pride in residents...[and] can help prevent crime and other antisocial behavior\" (2). These benefits motivate my question of whether certain facilities indeed contribute to public park usage and popularity.\n",
    "\n",
    "\n",
    "References (include links):\n",
    "- 1) Cohen, Deborah A. and Kristin Leuschner. \"How Can Neighborhood Parks Attract More Users?\" https://www.nrpa.org/parks-recreation-magazine/2017/july/how-can-neighborhood-parks-attract-more-users/\n",
    "- 2) Rabinowitz, Phil. Community Tool Box. https://ctb.ku.edu/en/table-of-contents/implement/physical-social-environment/parks-community-facilities/main"
   ]
  },
  {
   "cell_type": "markdown",
   "metadata": {},
   "source": [
    "# Hypothesis\n"
   ]
  },
  {
   "source": [
    "I hypothesize that the existence of certain amenities indeed correlate to increased visitor count and higher review ratings, while other amenities correlate to decreased visitor count and lower review ratings. Reference 1's example of a walking loop increasing visitor turnout motivates my hypothesis due to it being a concrete example of a specific amenity being correlated to increased visitor turnout. The list of benefits that are provided by reference 2 for facilities contributing to positive social impact also motivate my hypothesis of certain amenities increasing park popularity."
   ],
   "cell_type": "markdown",
   "metadata": {}
  },
  {
   "cell_type": "markdown",
   "metadata": {},
   "source": [
    "# Data"
   ]
  },
  {
   "cell_type": "markdown",
   "metadata": {},
   "source": [
    "The ideal dataset I would want to answer this question is a complete list of San Diego park names (Strings) and corresponding data for each park, including its amenities (Booleans for each amenity), visitor count (int), and visitor reviews (int; out of 5 or 10 stars). There should be a full list of San Diego parks, and a reasonable number of numerical observations per park. The visitor counts and reviews should be collected through public survey or a check-in and review system like Yelp. The data should be stored in a file such as csv or json."
   ]
  },
  {
   "cell_type": "markdown",
   "metadata": {},
   "source": [
    "# Ethics & Privacy"
   ]
  },
  {
   "cell_type": "markdown",
   "metadata": {},
   "source": [
    "The datasets are provided for use on the final project, so I have permission to use them for it. If the datasets provided contain them, the names of people who contributed to the visitor counts or visitor reviews should be removed from the corresponding dataset completely for privacy reasons. If the datasets do not contain public or harmful information, the datasets may be left untouched since such information is not necessary for completion of the analyses.\n",
    "\n",
    "A potential bias that I foresee is within the park review ratings. Since they only represent a fraction of the population that uses the parks, they are not representive of the whole. Additionally, some visitors who have an extreme experience may be more likely to express their opinion through a review. These biases are unavoidable, but they should be noted to exist."
   ]
  }
 ],
 "metadata": {
  "kernelspec": {
   "display_name": "Python 3",
   "language": "python",
   "name": "python3"
  },
  "language_info": {
   "codemirror_mode": {
    "name": "ipython",
    "version": 3
   },
   "file_extension": ".py",
   "mimetype": "text/x-python",
   "name": "python",
   "nbconvert_exporter": "python",
   "pygments_lexer": "ipython3",
   "version": "3.7.9"
  }
 },
 "nbformat": 4,
 "nbformat_minor": 2
}