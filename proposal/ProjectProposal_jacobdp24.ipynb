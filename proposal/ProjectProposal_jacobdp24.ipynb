{
 "cells": [
  {
   "cell_type": "markdown",
   "metadata": {},
   "source": [
    "# COGS 108 - Project Proposal"
   ]
  },
  {
   "cell_type": "markdown",
   "metadata": {},
   "source": [
    "# Names & GitHub ID\n",
    "\n",
    "- Name: Jacob Doering-Powell\n",
    "- GitHub Username: jacobdp24"
   ]
  },
  {
   "cell_type": "markdown",
   "metadata": {},
   "source": [
    "# Research Question"
   ]
  },
  {
   "cell_type": "markdown",
   "metadata": {},
   "source": [
    "I'm interested in seeing if there is a relationship between number, size, or features of parks (feature being a skateboarding section, basketball court, soccer field, number of street lamps, etc.) to poverty, food security, or living standards.Answering these questions would could help the City of San Diego decide which parks to put more resources into, or which areas new parks should be made."
   ]
  },
  {
   "cell_type": "markdown",
   "metadata": {},
   "source": [
    "## Background and Prior Work"
   ]
  },
  {
   "cell_type": "markdown",
   "metadata": {},
   "source": [
    "In San Diego, there is a food program known as Community Through Hope, which recently received 19 million dollars to aid residents in the South Bay experiencing food insecurity (1). They use parks and green spaces to hand out meals (1). Residents in San Diego do not have equal access to parks and green spaces, and it has been shown that parks can improve health and quality of life (2).\n",
    "\n",
    "References (include links):\n",
    "- 1) https://www.sandiegouniontribune.com/news/health/story/2020-08-04/county-funnels-nearly-19-million-into-food-programs-as-hunger-skyrockets\n",
    "- 2) https://www.sdfoundation.org/wp-content/uploads/2015/10/2010-parkforeveryone_finalsm.pdf"
   ]
  },
  {
   "cell_type": "markdown",
   "metadata": {},
   "source": [
    "# Hypothesis\n"
   ]
  },
  {
   "cell_type": "markdown",
   "metadata": {},
   "source": [
    "My hypothesis is that the more parks there are with more green space per resident or more features in a given park in a given zip code, the more likely that zip code experiences a higher standard of living, less food insecurity, and less poverty. I have noticed that parks and green spaces are often accompanied by famers markets, street fairs, restaurants, and grocery stores, all of which contribute to food insecurity. I have also personally experienced that being able to walk around a park or play sports in a park increases my happiness and I can definitively say it affects my standard of life. "
   ]
  },
  {
   "cell_type": "markdown",
   "metadata": {},
   "source": [
    "# Data"
   ]
  },
  {
   "cell_type": "markdown",
   "metadata": {},
   "source": [
    "*Explain what the ideal dataset you would want to answer this question. (This should include: What variables? How many observations? Who/what/how would these data be collected? How would these data be stored/organized?)*\n",
    "\n",
    "To fully answer some of my questions I would need on a zip code basis (in San Diego County) the number of parks, number of residents, number of schools, median or average income, some metric of quality of life (a happiness survey) of residents, number of grocery stores within a walkable radius (and prices of the grocery stores), number of restaurants withing a walkable radius (and prices of the restaurants). For every park, I would want a table that describes size of the park, events that happen at the park (farmers markets, food handouts, street fairs, sports games, voting poll stations, etc.), lights in the park, and if the park has miscellanous acitivity areas (hiking trails, basketball/soccer/tennis/volleyball/baseball areas, skateboarding ramps, art or mural sections). One could probably scrape google maps for the size and number of parks on a zip code basis. Also this could most likely be used to get grocery stores or restaurants between some number of block radius around the parks. To get features of a park I would go to San Diego Open Data Portal and hopefully they have some information about the parks"
   ]
  },
  {
   "cell_type": "markdown",
   "metadata": {},
   "source": [
    "# Ethics & Privacy"
   ]
  },
  {
   "cell_type": "markdown",
   "metadata": {},
   "source": [
    "On a privacy level, I would worry that the income, happiness, or happiness/quality of life metrics could be tracable. Any data would have to be anonimized to protect the identities of the residents. I would also worry that if this was an actual City of San Diego development, the analysis may say upgrade a certain park to improve this aspect of life. However, the park could be a historic monument, and upgrading that park to say include a skatepark could ruin it, and actually decrease the quality of life for residents. "
   ]
  }
 ],
 "metadata": {
  "kernelspec": {
   "display_name": "Python 3",
   "language": "python",
   "name": "python3"
  },
  "language_info": {
   "codemirror_mode": {
    "name": "ipython",
    "version": 3
   },
   "file_extension": ".py",
   "mimetype": "text/x-python",
   "name": "python",
   "nbconvert_exporter": "python",
   "pygments_lexer": "ipython3",
   "version": "3.7.7"
  }
 },
 "nbformat": 4,
 "nbformat_minor": 2
}
