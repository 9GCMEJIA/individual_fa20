{
 "cells": [
  {
   "cell_type": "markdown",
   "metadata": {},
   "source": [
    "# COGS 108 - Project Proposal"
   ]
  },
  {
   "cell_type": "markdown",
   "metadata": {},
   "source": [
    "# Names & GitHub ID\n",
    "\n",
    "- Name: Kevin Ly\n",
    "- GitHub Username: KevinUSVN"
   ]
  },
  {
   "cell_type": "markdown",
   "metadata": {},
   "source": [
    "# Research Question"
   ]
  },
  {
   "cell_type": "markdown",
   "metadata": {},
   "source": [
    "Does the increase of funding to homelessness housing services decrease the overall homeless population in San Diego Balboa park in the past decade (2010-2020)?"
   ]
  },
  {
   "cell_type": "markdown",
   "metadata": {},
   "source": [
    "## Background and Prior Work"
   ]
  },
  {
   "cell_type": "markdown",
   "metadata": {},
   "source": [
    "In 2017, there was crackdown among the homeless population around the city of San Diego. Homeless people was forced to live in San Diego's newer parks, such as Balboa park. This crackdown was issued to prevent additional infections of hepatitus A that killed 17 people and hospitalized more than 300 people. This article helps to determine why homeless people move into parks, how many of them, and what causes them to force to live there. The article also states the lack of homelessness services provided in San Diego parks. [1]\n",
    "\n",
    "As of 2020, a total of 4,887 homeless people in San Diego were counted, a 4 percent reduction compared to 5,082 homeless people in 2019. The article suggests there is an increase in homelessness service support that cause the reduction of homeless people living in the streets. The article notes a downward trend in the homeless population, which may suggest a decrease in homeless population in San Diego's parks. [2]\n",
    "\n",
    "References (include links):\n",
    "- 1) https://www.sandiegouniontribune.com/news/hepatitis-crisis/sd-me-homeless-camp-20170928-story.html\n",
    "- 2) https://www.sandiego.gov/mayor/news/releases/homelessness-city-san-diego-streets-drops-12-percent-annual-count"
   ]
  },
  {
   "cell_type": "markdown",
   "metadata": {},
   "source": [
    "# Hypothesis\n"
   ]
  },
  {
   "cell_type": "markdown",
   "metadata": {},
   "source": [
    "Additional funding towards homelessness housing services would slightly decrease the amount of homeless people living in San Diego Balboa park by an estimated 5% after 1 year. These fundings would help homeless people occupy a homeless housing center which they will receive basic necessities that would encourage them to stay."
   ]
  },
  {
   "cell_type": "markdown",
   "metadata": {},
   "source": [
    "# Data"
   ]
  },
  {
   "cell_type": "markdown",
   "metadata": {},
   "source": [
    "### Ideal variables:\n",
    "* Homeless population in San Diego from 2010 to 2020 (estimated population per year)\n",
    "* Homeless population in San Diego Balboa park from 2010 to 2020 (estimated population per year)\n",
    "* Daily regular visitors (on average) in Balboa park (estimated visitors per year), this is to compare the trend between homelessness and regular visitors in Balboa park.\n",
    "* Amount of funding receive for homelessness housing services from 2010 to 2020\n",
    "\n",
    "### Observations:\n",
    "* There will be 10 observations to be made. Each observation will be counted as a year.\n",
    "\n",
    "### Data collection:\n",
    "* Surveys to individual homeless people that questions where they live in the past and currently.\n",
    "* San Diego government homeless population tracking data collected through their government website.\n",
    "* San Diego Balboa Park visitor data and their estimate of how many visitors per day.\n",
    "* Estimation of San Diego Balboa park homeless people through estimated sightings and reports.\n",
    "* San Diego government fundings to homelessness services collected through their websites, or an estimation of that funding through news articles.\n",
    "\n",
    "### Data Structure:\n",
    "* All of the data should be stored by yearly.\n",
    "* Each row is the year, each column is our ideal variables.\n",
    "* Each new entry to the table will correspond to a new year. In total, I expect 10 entries in the table. \n",
    "* The variables will be best visualize by a line plot to determine a trend over the last decade (2010 - 2020)."
   ]
  },
  {
   "cell_type": "markdown",
   "metadata": {},
   "source": [
    "# Ethics & Privacy"
   ]
  },
  {
   "cell_type": "markdown",
   "metadata": {},
   "source": [
    "Data from public San Diego government websites are okay to use, however surveys among the homelessness population can be challenging. The fear among the homelessness I believe is that they will be identified by local authorities of their whereabouts and activities which will cause them to feel standoffish when answering survey questions. I believe it is in their effort to make themselves and their activities anonymous as possible for fear of being kicked out of their favorite area. To solve this issue, we should notify the homeless that the data being collected should remain anonymous and can opt out at anytime when contacted. The data collection process should anonymonize their individual data through id's."
   ]
  },
  {
   "cell_type": "code",
   "execution_count": null,
   "metadata": {},
   "outputs": [],
   "source": []
  }
 ],
 "metadata": {
  "kernelspec": {
   "display_name": "Python 3",
   "language": "python",
   "name": "python3"
  },
  "language_info": {
   "codemirror_mode": {
    "name": "ipython",
    "version": 3
   },
   "file_extension": ".py",
   "mimetype": "text/x-python",
   "name": "python",
   "nbconvert_exporter": "python",
   "pygments_lexer": "ipython3",
   "version": "3.8.5"
  }
 },
 "nbformat": 4,
 "nbformat_minor": 2
}
