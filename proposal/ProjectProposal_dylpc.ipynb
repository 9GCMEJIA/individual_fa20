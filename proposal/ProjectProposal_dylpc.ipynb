{
 "cells": [
  {
   "cell_type": "markdown",
   "metadata": {},
   "source": [
    "# COGS 108 - Project Proposal"
   ]
  },
  {
   "cell_type": "markdown",
   "metadata": {},
   "source": [
    "# Names & GitHub ID\n",
    "\n",
    "- Name: Dylan Cokic\n",
    "- GitHub Username: dylpc"
   ]
  },
  {
   "cell_type": "markdown",
   "metadata": {},
   "source": [
    "# Research Question"
   ]
  },
  {
   "cell_type": "code",
   "execution_count": null,
   "metadata": {},
   "outputs": [],
   "source": []
  },
  {
   "cell_type": "markdown",
   "metadata": {},
   "source": [
    "Does increasing the number of parks in San Diego help improve public health and decrease rates of disease?"
   ]
  },
  {
   "cell_type": "markdown",
   "metadata": {},
   "source": [
    "## Background and Prior Work"
   ]
  },
  {
   "cell_type": "markdown",
   "metadata": {},
   "source": [
    "     As it is known that physical exercise and time spent outdoors is beneficial to people's health, this study will consider whether parks play a significant role in promoting these activities and consequently boosting citizens' wellbeing [5]. The aforementioned benefits of outdoor activity include reducing the risk of various diseases, strengthening the body, prolonging one's lifespan, and improving mental health [5]. Noting the relation between these factors and parks will help determine whether having more parks in San Diego corresponds to healthier living. \n",
    "\n",
    "     Finding the answer to this research question will involve analyzing the communities around multiple parks in San Diego, as well as the parks themselves. The size of each park and its natural features will be taken into account, as these features play a role in how many people they impact and the degree to which they impact them. For example, it is important to note the amount of trees in a given area, as trees increase air quality through their oxygen production and are likely to attract more visitors due to their aesthetic benefits [3]. Another thing to consider is the trails or walkways present in a given park, as these may bring in more runners, skaters, and bikers, which could increase the rate of physical activity in the associated area [2].\n",
    "\n",
    "    To see whether parks have an effect on people's wellbeing, the citizens living in the areas closely surrounding the parks (such as neighborhoods, schools, etc.) will be considered. Information pertaining to their health, such as the prevalence of diseases and mental health issues, average lifespan, and use of medical resources will be relevant. This will be compared to the data of people living areas further from (or lacking) parks to determine how parks make a difference in health factors. Other things that will be considered include relative socioeconomic status, age, and job types, as all of these variables have a large impact on people's health.\n",
    "\n",
    "References (include links):\n",
    "- 1) https://www.ncbi.nlm.nih.gov/pmc/articles/PMC3091337/\n",
    "- 2) https://www.americantrails.org/resources/improving-public-health-through-public-parks-and-trails\n",
    "- 3) https://data.sandiegocounty.gov/Environment/A-2-2-Increase-County-Tree-Planting/4yft-ep46\n",
    "- 4) https://www.sandiegocounty.gov/hhsa/programs/phs/community_health_statistics/\n",
    "- 5) https://www.cdc.gov/healthyplaces/healthtopics/parks.htm#:~:text=The%20physical%20activity%20you%20get,control%20your%20weight"
   ]
  },
  {
   "cell_type": "markdown",
   "metadata": {},
   "source": [
    "# Hypothesis\n"
   ]
  },
  {
   "cell_type": "markdown",
   "metadata": {},
   "source": [
    "Parks do improve the overall health of people living in their surrounding areas, as their availability promotes physical exercise and time spent outdoors which leads to a reduction in disease prevalence."
   ]
  },
  {
   "cell_type": "markdown",
   "metadata": {},
   "source": [
    "# Data"
   ]
  },
  {
   "cell_type": "markdown",
   "metadata": {},
   "source": [
    "As stated in the background section, the ideal data for this study should pertain to parks in San Diego, people living near the parks, and those without a nearby park. Park data should include size and contents (such as the prevalence of trees or trails). The health-related data for citizens should include the rates of health issues and the average lifespan corresponding to each area. Information on other factors that impact people's health -- such as job types, age, and socioeconomic status (median property value or income) -- may be necessary to reduce confounds."
   ]
  },
  {
   "cell_type": "markdown",
   "metadata": {},
   "source": [
    "# Ethics & Privacy"
   ]
  },
  {
   "cell_type": "markdown",
   "metadata": {},
   "source": [
    "    As stated above, people's health may be impacted not only by the prevalence of parks in their area, but also other life factors such as income and age. As it is likely possible to obtain information on the averages for these variables in each area, they will be reviewed and considered alongside the results to determine whether parks actually correlate with improved local health and to account for possible biases (especially since areas with more parks may have a wealthier and/or younger population). There will be no testing on individual subjects and much of this information is generalized or public, which ensures anonymity and security for individual citizens."
   ]
  }
 ],
 "metadata": {
  "kernelspec": {
   "display_name": "Python 3",
   "language": "python",
   "name": "python3"
  },
  "language_info": {
   "codemirror_mode": {
    "name": "ipython",
    "version": 3
   },
   "file_extension": ".py",
   "mimetype": "text/x-python",
   "name": "python",
   "nbconvert_exporter": "python",
   "pygments_lexer": "ipython3",
   "version": "3.7.9"
  }
 },
 "nbformat": 4,
 "nbformat_minor": 2
}