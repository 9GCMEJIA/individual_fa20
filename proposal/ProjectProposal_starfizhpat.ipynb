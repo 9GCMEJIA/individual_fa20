{
 "cells": [
  {
   "cell_type": "markdown",
   "metadata": {},
   "source": [
    "# COGS 108 - Project Proposal"
   ]
  },
  {
   "cell_type": "markdown",
   "metadata": {},
   "source": [
    "# Names & GitHub ID\n",
    "\n",
    "- Name: Patrick Liu\n",
    "- GitHub Username: starfizhpat"
   ]
  },
  {
   "cell_type": "markdown",
   "metadata": {},
   "source": [
    "# Research Question"
   ]
  },
  {
   "cell_type": "markdown",
   "metadata": {},
   "source": [
    "How do the parks and recreation areas of San Diego affect the growth of safe and productive communities "
   ]
  },
  {
   "cell_type": "markdown",
   "metadata": {},
   "source": [
    "## Background and Prior Work"
   ]
  },
  {
   "cell_type": "markdown",
   "metadata": {},
   "source": [
    "    \n",
    "   There is no doubt that parks and recreational places can add more job opportunities helping communities become more productive. In 2016, the city of San Diego made a Master plan that would help promote safer and healthier communities. In this plan they talk about how the aiding of parks and recreational places could help from promoting more diversity in communities to producing a more productive tourist industry. \n",
    "   \n",
    "   However according to a map of San Diego crime rates, parks and recreational places don't seem to affect crime rates across San Diego. For example, some areas where well-known parks are like Mission Bay Park and Balboa Park have some of the higher crime rates in San Diego. Others areas located in LaJolla and sunset have some of the lowest crime rates in San Diego. I appears to seem that the county's determinations that more parks/recreational areas can help lower crime rates don't seem to be true   \n",
    "\n",
    "References (include links):\n",
    "- 1) Parks Master Plan https://www.sdparks.org/content/dam/sdparks/en/pdf/Development/Parks%20Master%20Plan.pdf\n",
    "- 2) Crime rates of San Diego neighborhoods https://www.areavibes.com/san+diego-ca/crime/#:~:text=Year%20Over%20Year%20Crime%20In%20San%20Diego%20(per%20100%2C000%20people)&text=Year%20over%20year%20violent%20crime,by%203%25%20year%20to%20year."
   ]
  },
  {
   "cell_type": "markdown",
   "metadata": {},
   "source": [
    "# Hypothesis\n"
   ]
  },
  {
   "cell_type": "markdown",
   "metadata": {},
   "source": [
    "The more parks/recreational areas that are built, the same crime rates and higher productivity we'll see in those areas. "
   ]
  },
  {
   "cell_type": "markdown",
   "metadata": {},
   "source": [
    "# Data"
   ]
  },
  {
   "cell_type": "markdown",
   "metadata": {},
   "source": [
    "*Explain what the ideal dataset you would want to answer this question. (This should include: What variables? How many observations? Who/what/how would these data be collected? How would these data be stored/organized?)*\n",
    "\n",
    "The dataset that is ideal to represent this question would be a something like a line plot where the the x axis could be time and the y axis could be revenue or crime rates depending on the what im trying to depict. Each line on the data set would represent communitites or small businesses that are situated around a park and/or recreational area. To collect this data, I would have to go search online for these neighborhoods and small businesses that are affected by the parks and recreation; search how income/crime rates are affect over a period of time. To store these data, I would utilize a table in excel containing neighborhood names and crime rates each month/year and small businesses and income each month/year."
   ]
  },
  {
   "cell_type": "markdown",
   "metadata": {},
   "source": [
    "# Ethics & Privacy"
   ]
  },
  {
   "cell_type": "markdown",
   "metadata": {},
   "source": [
    "Revenue data and crime rates I can find online so I can use them.\n",
    "There are no privacy concerns as long as I cite sources accordingly.\n",
    "There might be some potential biases in my dataset but as of now, I can think of none. \n",
    "If there are some biases in my data, I will try my best to either replace the data with something more acceptable or get more data to help resolve said bias in the data. "
   ]
  }
 ],
 "metadata": {
  "kernelspec": {
   "display_name": "Python 3",
   "language": "python",
   "name": "python3"
  },
  "language_info": {
   "codemirror_mode": {
    "name": "ipython",
    "version": 3
   },
   "file_extension": ".py",
   "mimetype": "text/x-python",
   "name": "python",
   "nbconvert_exporter": "python",
   "pygments_lexer": "ipython3",
   "version": "3.7.6"
  }
 },
 "nbformat": 4,
 "nbformat_minor": 2
}
