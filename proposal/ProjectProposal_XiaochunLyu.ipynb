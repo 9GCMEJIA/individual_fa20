{
 "cells": [
  {
   "cell_type": "markdown",
   "metadata": {},
   "source": [
    "# COGS 108 - Project Proposal"
   ]
  },
  {
   "source": [
    "# Names & GitHub ID\n",
    "\n",
    "- Name: Xiaochun Lyu\n",
    "- GitHub Username: XiaochunLyu"
   ],
   "cell_type": "markdown",
   "metadata": {}
  },
  {
   "source": [
    "# Research Question\n"
   ],
   "cell_type": "markdown",
   "metadata": {}
  },
  {
   "source": [
    "Does the number of corona virus cases in the surrounding communities(by zipcide) of a public park affect its attendance number?"
   ],
   "cell_type": "markdown",
   "metadata": {}
  },
  {
   "source": [
    "## Background and Prior Work"
   ],
   "cell_type": "markdown",
   "metadata": {}
  },
  {
   "source": [
    "Amidst the coronavirus outpreak in the US, many public facilties, including parks in San Diego, started to reopen with safety protocols in place to protect attendants and reduce the risk of virus spread. \n",
    "\n",
    "These safety protocols include: 1) Passive use only, such as walking, jogging or hiking. 2) No congregating or participating in sports activities. 3) Do not shake hands or engage in any unnecessary physical contact. 4) Maintain social distancing of a minimum of 6-feet (1.8 meters) at all times. 5) wear face covering when in parks and on the trails. 6) Do not enter the parks or trails if you have a cough or fever$.^{1}$\n",
    "\n",
    "However, as the virus outbreak is still far from over, parks and recreation facilities are still likely to suffer from uncertainty in public sentiments. During May 5–12, 2020, a survey among adults in New York City and Los Angeles and broadly across the United States found widespread support of stay-at-home orders and nonessential business closures and high degree of adherence to COVID-19 mitigation guidelines. Most respondents reported that they would feel unsafe if restrictions were lifted at the time of the survey$.^{2}$\n",
    "\n",
    "With two of the biggest parks in San Diego, Mission Bay Park and Balboa park reopened with the limitation of \"passive use only$\"^{3}$ , I am interested to see how the attendance number of these two parks are affected by public sentiments. Specifically, I want to find out if there is a relationship between the number of coronavirus cases in the surrounding communities of these two parks and the number of attendants of these two parks.\n",
    "\n",
    "\n",
    "References (include links):\n",
    "- 1)San Diego Park Safety Protocols https://www.sandiego.gov/sites/default/files/parks-passive-use-notice.pdf\n",
    "- 2)Public Attitudes, Behaviors, and Beliefs Related to COVID-19, Stay-at-Home Orders, Nonessential Business Closures, and Public Health             Guidance — United States, New York City, and Los Angeles, May 5–12, 2020 https://www.cdc.gov/mmwr/volumes/69/wr/mm6924e1.htm\n",
    "- 3)San Diego Park and Recreation Website: Covid-19 updates https://www.sandiego.gov/parks-and-recreation\n",
    "\n"
   ],
   "cell_type": "markdown",
   "metadata": {}
  },
  {
   "cell_type": "markdown",
   "metadata": {},
   "source": [
    "# Hypothesis\n"
   ]
  },
  {
   "source": [
    "I believe there is a relationship between the attendance numbers of the two parks and the number of coronavirus cases in the surrounding area. Since there are many possible reasons for people to refrain from going to a park if the surrounding communities are suffering heavily from coronavirus. Possible reasons include: 1) people from the surrounding communities would feel unsafe to enter the parks. 2) people from elsewhere would also feel unsafe to enter a high-risk area. 3) infected/symptomatic people from the surrounding communities will no longer enter the parks because the safety protocol prohobits them to do so."
   ],
   "cell_type": "markdown",
   "metadata": {}
  },
  {
   "cell_type": "markdown",
   "metadata": {},
   "source": [
    "# Data"
   ]
  },
  {
   "source": [
    "The ideal dataset for my question would contain:\n",
    "1) the daily attendance number of Mission Bay Park and Balboa Park, starting from the date of reopening until now (October).\n",
    "2) the daily number of coronavirus cases in the surrounding area (by zipcode) of these two parks, starting from the date of reopening until now (October). For Mission Bay Park, this would be the daily number of coronavirus cases in 92109, 92037, 92122, 92117, 92110, 92107. For Balboa Park, this would be the daily number of coronavirus cases in 92101, 92102, 92103, 92104, 92134.\n",
    "The number of attendance of both parks could be from available datasets provided by San Diego Park and Rec authorities, while the number of coronavirus cases by zipcode could be from available data published by San Diego County.\n",
    "The data should be stored in a .csv file using tables."
   ],
   "cell_type": "markdown",
   "metadata": {}
  },
  {
   "cell_type": "markdown",
   "metadata": {},
   "source": [
    "# Ethics & Privacy"
   ]
  },
  {
   "source": [
    "Permission: The number of coronavirus cases by zipcode are updated and released to the public everyday by San Diego County, therefore, I should have permission to use this data. However, I do not know if I am permitted to access and use the park attendance numbers data of Mission Bay Park and Balboa Park. \n",
    "\n",
    "Privacy: The number of coronavirus cases by zipcode is already an anonymized dataset. The only peronally identifiable information in this dataset is the zipcode of identified patients, which is not enough to identify individuals involved. The data is collected and handled by San Diego County, so I can only assume that in the process of collecting data informed consent has been obtained from each individual involved. The data of attendance numbers of the two parks is inherently anonymized, since it is highly unlikely San Diego Parks & Rec will record personally identifiable information of individual park attendents when gathing the data. In the case when the data does contain any PII, they will be deleted from the dataset since I am only concerned with the attendance number as a whole. Again, since the data is collected and provided by San Diego Parks & Rec, I can only assume that in the process of collecting data informed consent, if needed, has been obtained from each individual involved.\n",
    "\n",
    "Biases: There are a few potential biases the dataset could introduce:\n",
    "1) As the coronavirus cases data is by zipcode, the \"surrounding area\" of each park cannot be clearly defined since the amount of area and population covered by each zipcode is different. By using the sorrounding zipcodes, I may potentially introduce bias by covering an unequal amount of population between two parks, covering population that is too far away from the park, or underrepresentating certain communities/areas because their zipcode area is not next to the park.\n",
    "2) As mentioned in the hypothesis, there are many potentional reasons that park attendance can be affected by coronavirus cases in an area. Therefore, it is unlikely that I will be forming any meaningful conclusion on whether public sentiment plays a role in affecting the attendance numbers. This is because I am not able to know the number of people in the following four situations: a) Poeple who does not live near the parks choose to go/not go to the parks because the sorrounding communities does/does not have a high number of cases. b) People who lives in the sorrounding communities choose to go/not go to the parks because the sorrounding communities does/does not have a high number of cases. c) People who are infected/symptomatic choose to not go to the parks. d) People start/stop going to the parks because of life changes introduced by the virus outbreak. Therefore, I will refrain from describing public sentiment since the uncontrolled factors above do not allow me to form a logical conclusion about public opinions and sentiments.\n",
    "\n",
    "Other issues: There are also a few other issues that will arise with my research:\n",
    "1) The scope of my research is limited to only Mission Bay Park and Balboa Park. Therefore, any results/conclusions generated from my research cannnot be used to represent other parks in San Diego or parks elsewhere in the US. Clear labeling and explanation needs to be used in order to prevent the data and the result from being misrepresented and misused.\n",
    "2) The dataset involves the number of coronavirus cases in communities surrounding the two parks. Although the data is not personally identifiable, It is still important to make it clear that the data indicates nothing about the residents in these communities as a whole. again,clear labeling and explanation needs to be used in order to prevent the data and the result from being used against these communnities in any way.\n"
   ],
   "cell_type": "markdown",
   "metadata": {}
  }
 ],
 "metadata": {
  "kernelspec": {
   "display_name": "Python 3",
   "language": "python",
   "name": "python3"
  },
  "language_info": {
   "codemirror_mode": {
    "name": "ipython",
    "version": 3
   },
   "file_extension": ".py",
   "mimetype": "text/x-python",
   "name": "python",
   "nbconvert_exporter": "python",
   "pygments_lexer": "ipython3",
   "version": "3.8.3-final"
  }
 },
 "nbformat": 4,
 "nbformat_minor": 2
}