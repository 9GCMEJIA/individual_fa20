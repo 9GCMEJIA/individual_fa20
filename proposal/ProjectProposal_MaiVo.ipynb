{
 "cells": [
  {
   "cell_type": "markdown",
   "metadata": {},
   "source": [
    "# COGS 108 - Project Proposal"
   ]
  },
  {
   "cell_type": "markdown",
   "metadata": {},
   "source": [
    "# Names & GitHub ID\n",
    "\n",
    "- Name: Mai Vo",
    "- GitHub Username: maivo0605"
   ]
  },
  {
   "cell_type": "markdown",
   "metadata": {},
   "source": [
    "# Research Question"
   ]
  },
  {
   "cell_type": "markdown",
   "metadata": {},
   "source": [
    "Does having access to nearby parks increase the physical activity level of those who live in minority communities in San Diego?"
   ]
  },
  {
   "cell_type": "markdown",
   "metadata": {},
   "source": [
    "## Background and Prior Work"
   ]
  },
  {
   "cell_type": "markdown",
   "metadata": {},
   "source": [
    "Public parks are critical resources for physical activity especially among minority communities. According to the American Journal of Preventive Medicine, regular physical activity helps reduce morbidity and mortality by decreasing heart disease, diabetes, high blood pressure, colon cancer, feelings of depression/ anxiety, and weight, while building and maintaining healthy bones, muscles, and joints. They also revealed that studies have shown that older adults, racial/ethnic minorities, females, and lower-income families are less likely to use parks. This might be due to lack of time, money, personal health, information, transportation and access, etc. ",
    "The US National Library of Medicine National Institutes of Health also agreed that males were twice as likely to be vigorously active than females. Parks-goers with different gender, race/ethnicity, age group, and their activity level were observed in 8 public parks, 4 times per day, 7 days per week. Additionally, they interviewed 713 park users and 605 area residents living within 2 miles of each park. They concluded in their findings that with the increasing population in minority communities, the number of available parks is insufficient to serve everyone in those areas.",
    "References (include links):\n",
    "- 1)Public parks are critical resources for physical activity in minority communities.[Contribution of Public Parks to Physical Activity](https://www.ncbi.nlm.nih.gov/pmc/articles/PMC1805017/)",
    "- 2)Regular physical activity helps reduce morbidity and mortality by decreasing heart disease, diabetes, high blood pressure, colon cancer, feelings of depression/ anxiety, and weight, while building and maintaining healthy bones, muscles, and joints. [The Significance of Parks to Physical Activity and Public Health](https://www.ajpmonline.org/article/S0749-3797(04)00304-6/fulltext)"
   ]
  },
  {
   "cell_type": "markdown",
   "metadata": {},
   "source": [
    "# Hypothesis\n"
   ]
  },
  {
   "cell_type": "markdown",
   "metadata": {},
   "source": [
    "Having access to nearby parks increases the physical activity level of those who live in minority communities in San Diego. It has been shown that people in those areas are less likely to use parks due to lack of time and transportation and access. Therefore, building more parks close to the proximity of minority communities would increase their overall physical activity level and health."
   ]
  },
  {
   "cell_type": "markdown",
   "metadata": {},
   "source": [
    "# Data"
   ]
  },
  {
   "cell_type": "markdown",
   "metadata": {},
   "source": [
    "The ideal dataset that I would want to answer this question would be the number of people to goes to the existing parks in minority communities as well as their time spent at the park. An interview with these park-goers would also be helpful to see if having access to a nearby park contributed to their physical activity level. This would be organized in a bar plot with the number of people who said yes or no. These data would be collected by observing park-goers and documenting their gender, ethnicity, age, etc. in the morning, afternoon, and night for a week."
   ]
  },
  {
   "cell_type": "markdown",
   "metadata": {},
   "source": [
    "# Ethics & Privacy"
   ]
  },
  {
   "cell_type": "markdown",
   "metadata": {},
   "source": [
    "Since these data would be collected on real people, it is important to exclude their name or any information that would identity them for privacy reasons. However, there would be potential biases in my dataset since it would only be collected for a week and on certain times. One way to reduce this bias is to randomize the time and day in which the data would be collected in order to avoid collecting data on days where the weather is too cold or too hot to go outside, etc."
   ]
  }
 ],
 "metadata": {
  "kernelspec": {
   "display_name": "Python 3",
   "language": "python",
   "name": "python3"
  },
  "language_info": {
   "codemirror_mode": {
    "name": "ipython",
    "version": 3
   },
   "file_extension": ".py",
   "mimetype": "text/x-python",
   "name": "python",
   "nbconvert_exporter": "python",
   "pygments_lexer": "ipython3",
   "version": "3.7.9"
  }
 },
 "nbformat": 4,
 "nbformat_minor": 2
}
